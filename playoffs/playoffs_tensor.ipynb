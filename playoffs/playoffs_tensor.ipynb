{
 "cells": [
  {
   "cell_type": "code",
   "execution_count": 1,
   "metadata": {
    "collapsed": true
   },
   "outputs": [],
   "source": [
    "import numpy as np\n",
    "import pandas as pd\n",
    "from matplotlib import pyplot as plt\n",
    "import seaborn as sns\n",
    "import time\n",
    "%matplotlib inline"
   ]
  },
  {
   "cell_type": "code",
   "execution_count": 2,
   "metadata": {
    "collapsed": true
   },
   "outputs": [],
   "source": [
    "import nba_py as nba"
   ]
  },
  {
   "cell_type": "code",
   "execution_count": 3,
   "metadata": {
    "collapsed": false
   },
   "outputs": [],
   "source": [
    "from nba_py.team import *"
   ]
  },
  {
   "cell_type": "code",
   "execution_count": 4,
   "metadata": {
    "collapsed": false
   },
   "outputs": [
    {
     "data": {
      "text/html": [
       "<div>\n",
       "<style>\n",
       "    .dataframe thead tr:only-child th {\n",
       "        text-align: right;\n",
       "    }\n",
       "\n",
       "    .dataframe thead th {\n",
       "        text-align: left;\n",
       "    }\n",
       "\n",
       "    .dataframe tbody tr th {\n",
       "        vertical-align: top;\n",
       "    }\n",
       "</style>\n",
       "<table border=\"1\" class=\"dataframe\">\n",
       "  <thead>\n",
       "    <tr style=\"text-align: right;\">\n",
       "      <th></th>\n",
       "      <th>GROUP_SET</th>\n",
       "      <th>GROUP_VALUE</th>\n",
       "      <th>GP</th>\n",
       "      <th>W</th>\n",
       "      <th>L</th>\n",
       "      <th>W_PCT</th>\n",
       "      <th>MIN</th>\n",
       "      <th>FGM</th>\n",
       "      <th>FGA</th>\n",
       "      <th>FG_PCT</th>\n",
       "      <th>...</th>\n",
       "      <th>TOV_RANK</th>\n",
       "      <th>STL_RANK</th>\n",
       "      <th>BLK_RANK</th>\n",
       "      <th>BLKA_RANK</th>\n",
       "      <th>PF_RANK</th>\n",
       "      <th>PFD_RANK</th>\n",
       "      <th>PTS_RANK</th>\n",
       "      <th>PLUS_MINUS_RANK</th>\n",
       "      <th>CFID</th>\n",
       "      <th>CFPARAMS</th>\n",
       "    </tr>\n",
       "  </thead>\n",
       "  <tbody>\n",
       "    <tr>\n",
       "      <th>0</th>\n",
       "      <td>By Year</td>\n",
       "      <td>2017-18</td>\n",
       "      <td>74</td>\n",
       "      <td>60</td>\n",
       "      <td>14</td>\n",
       "      <td>0.811</td>\n",
       "      <td>48.2</td>\n",
       "      <td>39.1</td>\n",
       "      <td>84.5</td>\n",
       "      <td>0.462</td>\n",
       "      <td>...</td>\n",
       "      <td>4</td>\n",
       "      <td>3</td>\n",
       "      <td>11</td>\n",
       "      <td>6</td>\n",
       "      <td>7</td>\n",
       "      <td>8</td>\n",
       "      <td>2</td>\n",
       "      <td>1</td>\n",
       "      <td>210</td>\n",
       "      <td>2017-18</td>\n",
       "    </tr>\n",
       "  </tbody>\n",
       "</table>\n",
       "<p>1 rows × 56 columns</p>\n",
       "</div>"
      ],
      "text/plain": [
       "  GROUP_SET GROUP_VALUE  GP   W   L  W_PCT   MIN   FGM   FGA  FG_PCT  \\\n",
       "0   By Year     2017-18  74  60  14  0.811  48.2  39.1  84.5   0.462   \n",
       "\n",
       "     ...     TOV_RANK  STL_RANK  BLK_RANK  BLKA_RANK  PF_RANK  PFD_RANK  \\\n",
       "0    ...            4         3        11          6        7         8   \n",
       "\n",
       "   PTS_RANK  PLUS_MINUS_RANK  CFID  CFPARAMS  \n",
       "0         2                1   210   2017-18  \n",
       "\n",
       "[1 rows x 56 columns]"
      ]
     },
     "execution_count": 4,
     "metadata": {},
     "output_type": "execute_result"
    }
   ],
   "source": [
    "rockets = nba.team.TeamYearOverYearSplits(1610612745).by_year()\n",
    "rockets.head(1)"
   ]
  },
  {
   "cell_type": "code",
   "execution_count": 4,
   "metadata": {
    "collapsed": true
   },
   "outputs": [],
   "source": [
    "season_team = {}\n",
    "for team in team_list['TEAM_ID']:\n",
    "    df = TeamYearOverYearSplits(team,season_type='Playoffs').by_year()\n",
    "    for index, row in df.iterrows():\n",
    "        season_data =  season_team.get(row['GROUP_VALUE'])\n",
    "        if season_data:\n",
    "            if team not in season_team[row['GROUP_VALUE']]:\n",
    "                season_team[row['GROUP_VALUE']].append(team)\n",
    "        else:\n",
    "            season_team[row['GROUP_VALUE']] = [team]\n",
    "    time.sleep(2)"
   ]
  },
  {
   "cell_type": "code",
   "execution_count": 5,
   "metadata": {
    "collapsed": true
   },
   "outputs": [],
   "source": [
    "def playoff_team(team_id, season):\n",
    "    if team_id in season_team[season]:\n",
    "        return 1\n",
    "    return 0"
   ]
  },
  {
   "cell_type": "code",
   "execution_count": 6,
   "metadata": {
    "collapsed": false
   },
   "outputs": [
    {
     "ename": "KeyError",
     "evalue": "('2017-18', 'occurred at index 0')",
     "output_type": "error",
     "traceback": [
      "\u001b[0;31m---------------------------------------------------------------------------\u001b[0m",
      "\u001b[0;31mKeyError\u001b[0m                                  Traceback (most recent call last)",
      "\u001b[0;32m<ipython-input-6-4cc138cb2e3d>\u001b[0m in \u001b[0;36m<module>\u001b[0;34m()\u001b[0m\n\u001b[1;32m      2\u001b[0m \u001b[1;32mfor\u001b[0m \u001b[0mteam\u001b[0m \u001b[1;32min\u001b[0m \u001b[0mteam_list\u001b[0m\u001b[1;33m[\u001b[0m\u001b[1;34m'TEAM_ID'\u001b[0m\u001b[1;33m]\u001b[0m\u001b[1;33m:\u001b[0m\u001b[1;33m\u001b[0m\u001b[0m\n\u001b[1;32m      3\u001b[0m     \u001b[0mteam_data\u001b[0m \u001b[1;33m=\u001b[0m \u001b[0mTeamYearOverYearSplits\u001b[0m\u001b[1;33m(\u001b[0m\u001b[0mteam\u001b[0m\u001b[1;33m,\u001b[0m\u001b[0mmeasure_type\u001b[0m \u001b[1;33m=\u001b[0m \u001b[1;34m'Advanced'\u001b[0m\u001b[1;33m)\u001b[0m\u001b[1;33m.\u001b[0m\u001b[0mby_year\u001b[0m\u001b[1;33m(\u001b[0m\u001b[1;33m)\u001b[0m\u001b[1;33m\u001b[0m\u001b[0m\n\u001b[0;32m----> 4\u001b[0;31m     \u001b[0mteam_data\u001b[0m\u001b[1;33m[\u001b[0m\u001b[1;34m'PLAYOFFS'\u001b[0m\u001b[1;33m]\u001b[0m \u001b[1;33m=\u001b[0m \u001b[0mteam_data\u001b[0m\u001b[1;33m.\u001b[0m\u001b[0mapply\u001b[0m\u001b[1;33m(\u001b[0m\u001b[1;32mlambda\u001b[0m \u001b[0mrow\u001b[0m\u001b[1;33m:\u001b[0m \u001b[0mplayoff_team\u001b[0m\u001b[1;33m(\u001b[0m\u001b[0mteam\u001b[0m\u001b[1;33m,\u001b[0m\u001b[0mrow\u001b[0m\u001b[1;33m[\u001b[0m\u001b[1;34m'GROUP_VALUE'\u001b[0m\u001b[1;33m]\u001b[0m\u001b[1;33m)\u001b[0m\u001b[1;33m,\u001b[0m\u001b[0maxis\u001b[0m\u001b[1;33m=\u001b[0m\u001b[1;36m1\u001b[0m\u001b[1;33m)\u001b[0m\u001b[1;33m\u001b[0m\u001b[0m\n\u001b[0m\u001b[1;32m      5\u001b[0m     \u001b[0mall_team_data\u001b[0m \u001b[1;33m=\u001b[0m \u001b[0mpd\u001b[0m\u001b[1;33m.\u001b[0m\u001b[0mconcat\u001b[0m\u001b[1;33m(\u001b[0m\u001b[1;33m[\u001b[0m\u001b[0mall_team_data\u001b[0m\u001b[1;33m,\u001b[0m\u001b[0mteam_data\u001b[0m\u001b[1;33m]\u001b[0m\u001b[1;33m)\u001b[0m\u001b[1;33m\u001b[0m\u001b[0m\n\u001b[1;32m      6\u001b[0m     \u001b[0mtime\u001b[0m\u001b[1;33m.\u001b[0m\u001b[0msleep\u001b[0m\u001b[1;33m(\u001b[0m\u001b[1;36m2\u001b[0m\u001b[1;33m)\u001b[0m\u001b[1;33m\u001b[0m\u001b[0m\n",
      "\u001b[0;32mC:\\Users\\tkauk\\Anaconda3\\lib\\site-packages\\pandas\\core\\frame.py\u001b[0m in \u001b[0;36mapply\u001b[0;34m(self, func, axis, broadcast, raw, reduce, args, **kwds)\u001b[0m\n\u001b[1;32m   4150\u001b[0m                     \u001b[1;32mif\u001b[0m \u001b[0mreduce\u001b[0m \u001b[1;32mis\u001b[0m \u001b[1;32mNone\u001b[0m\u001b[1;33m:\u001b[0m\u001b[1;33m\u001b[0m\u001b[0m\n\u001b[1;32m   4151\u001b[0m                         \u001b[0mreduce\u001b[0m \u001b[1;33m=\u001b[0m \u001b[1;32mTrue\u001b[0m\u001b[1;33m\u001b[0m\u001b[0m\n\u001b[0;32m-> 4152\u001b[0;31m                     \u001b[1;32mreturn\u001b[0m \u001b[0mself\u001b[0m\u001b[1;33m.\u001b[0m\u001b[0m_apply_standard\u001b[0m\u001b[1;33m(\u001b[0m\u001b[0mf\u001b[0m\u001b[1;33m,\u001b[0m \u001b[0maxis\u001b[0m\u001b[1;33m,\u001b[0m \u001b[0mreduce\u001b[0m\u001b[1;33m=\u001b[0m\u001b[0mreduce\u001b[0m\u001b[1;33m)\u001b[0m\u001b[1;33m\u001b[0m\u001b[0m\n\u001b[0m\u001b[1;32m   4153\u001b[0m             \u001b[1;32melse\u001b[0m\u001b[1;33m:\u001b[0m\u001b[1;33m\u001b[0m\u001b[0m\n\u001b[1;32m   4154\u001b[0m                 \u001b[1;32mreturn\u001b[0m \u001b[0mself\u001b[0m\u001b[1;33m.\u001b[0m\u001b[0m_apply_broadcast\u001b[0m\u001b[1;33m(\u001b[0m\u001b[0mf\u001b[0m\u001b[1;33m,\u001b[0m \u001b[0maxis\u001b[0m\u001b[1;33m)\u001b[0m\u001b[1;33m\u001b[0m\u001b[0m\n",
      "\u001b[0;32mC:\\Users\\tkauk\\Anaconda3\\lib\\site-packages\\pandas\\core\\frame.py\u001b[0m in \u001b[0;36m_apply_standard\u001b[0;34m(self, func, axis, ignore_failures, reduce)\u001b[0m\n\u001b[1;32m   4246\u001b[0m             \u001b[1;32mtry\u001b[0m\u001b[1;33m:\u001b[0m\u001b[1;33m\u001b[0m\u001b[0m\n\u001b[1;32m   4247\u001b[0m                 \u001b[1;32mfor\u001b[0m \u001b[0mi\u001b[0m\u001b[1;33m,\u001b[0m \u001b[0mv\u001b[0m \u001b[1;32min\u001b[0m \u001b[0menumerate\u001b[0m\u001b[1;33m(\u001b[0m\u001b[0mseries_gen\u001b[0m\u001b[1;33m)\u001b[0m\u001b[1;33m:\u001b[0m\u001b[1;33m\u001b[0m\u001b[0m\n\u001b[0;32m-> 4248\u001b[0;31m                     \u001b[0mresults\u001b[0m\u001b[1;33m[\u001b[0m\u001b[0mi\u001b[0m\u001b[1;33m]\u001b[0m \u001b[1;33m=\u001b[0m \u001b[0mfunc\u001b[0m\u001b[1;33m(\u001b[0m\u001b[0mv\u001b[0m\u001b[1;33m)\u001b[0m\u001b[1;33m\u001b[0m\u001b[0m\n\u001b[0m\u001b[1;32m   4249\u001b[0m                     \u001b[0mkeys\u001b[0m\u001b[1;33m.\u001b[0m\u001b[0mappend\u001b[0m\u001b[1;33m(\u001b[0m\u001b[0mv\u001b[0m\u001b[1;33m.\u001b[0m\u001b[0mname\u001b[0m\u001b[1;33m)\u001b[0m\u001b[1;33m\u001b[0m\u001b[0m\n\u001b[1;32m   4250\u001b[0m             \u001b[1;32mexcept\u001b[0m \u001b[0mException\u001b[0m \u001b[1;32mas\u001b[0m \u001b[0me\u001b[0m\u001b[1;33m:\u001b[0m\u001b[1;33m\u001b[0m\u001b[0m\n",
      "\u001b[0;32m<ipython-input-6-4cc138cb2e3d>\u001b[0m in \u001b[0;36m<lambda>\u001b[0;34m(row)\u001b[0m\n\u001b[1;32m      2\u001b[0m \u001b[1;32mfor\u001b[0m \u001b[0mteam\u001b[0m \u001b[1;32min\u001b[0m \u001b[0mteam_list\u001b[0m\u001b[1;33m[\u001b[0m\u001b[1;34m'TEAM_ID'\u001b[0m\u001b[1;33m]\u001b[0m\u001b[1;33m:\u001b[0m\u001b[1;33m\u001b[0m\u001b[0m\n\u001b[1;32m      3\u001b[0m     \u001b[0mteam_data\u001b[0m \u001b[1;33m=\u001b[0m \u001b[0mTeamYearOverYearSplits\u001b[0m\u001b[1;33m(\u001b[0m\u001b[0mteam\u001b[0m\u001b[1;33m,\u001b[0m\u001b[0mmeasure_type\u001b[0m \u001b[1;33m=\u001b[0m \u001b[1;34m'Advanced'\u001b[0m\u001b[1;33m)\u001b[0m\u001b[1;33m.\u001b[0m\u001b[0mby_year\u001b[0m\u001b[1;33m(\u001b[0m\u001b[1;33m)\u001b[0m\u001b[1;33m\u001b[0m\u001b[0m\n\u001b[0;32m----> 4\u001b[0;31m     \u001b[0mteam_data\u001b[0m\u001b[1;33m[\u001b[0m\u001b[1;34m'PLAYOFFS'\u001b[0m\u001b[1;33m]\u001b[0m \u001b[1;33m=\u001b[0m \u001b[0mteam_data\u001b[0m\u001b[1;33m.\u001b[0m\u001b[0mapply\u001b[0m\u001b[1;33m(\u001b[0m\u001b[1;32mlambda\u001b[0m \u001b[0mrow\u001b[0m\u001b[1;33m:\u001b[0m \u001b[0mplayoff_team\u001b[0m\u001b[1;33m(\u001b[0m\u001b[0mteam\u001b[0m\u001b[1;33m,\u001b[0m\u001b[0mrow\u001b[0m\u001b[1;33m[\u001b[0m\u001b[1;34m'GROUP_VALUE'\u001b[0m\u001b[1;33m]\u001b[0m\u001b[1;33m)\u001b[0m\u001b[1;33m,\u001b[0m\u001b[0maxis\u001b[0m\u001b[1;33m=\u001b[0m\u001b[1;36m1\u001b[0m\u001b[1;33m)\u001b[0m\u001b[1;33m\u001b[0m\u001b[0m\n\u001b[0m\u001b[1;32m      5\u001b[0m     \u001b[0mall_team_data\u001b[0m \u001b[1;33m=\u001b[0m \u001b[0mpd\u001b[0m\u001b[1;33m.\u001b[0m\u001b[0mconcat\u001b[0m\u001b[1;33m(\u001b[0m\u001b[1;33m[\u001b[0m\u001b[0mall_team_data\u001b[0m\u001b[1;33m,\u001b[0m\u001b[0mteam_data\u001b[0m\u001b[1;33m]\u001b[0m\u001b[1;33m)\u001b[0m\u001b[1;33m\u001b[0m\u001b[0m\n\u001b[1;32m      6\u001b[0m     \u001b[0mtime\u001b[0m\u001b[1;33m.\u001b[0m\u001b[0msleep\u001b[0m\u001b[1;33m(\u001b[0m\u001b[1;36m2\u001b[0m\u001b[1;33m)\u001b[0m\u001b[1;33m\u001b[0m\u001b[0m\n",
      "\u001b[0;32m<ipython-input-5-20dd6b144e14>\u001b[0m in \u001b[0;36mplayoff_team\u001b[0;34m(team_id, season)\u001b[0m\n\u001b[1;32m      1\u001b[0m \u001b[1;32mdef\u001b[0m \u001b[0mplayoff_team\u001b[0m\u001b[1;33m(\u001b[0m\u001b[0mteam_id\u001b[0m\u001b[1;33m,\u001b[0m \u001b[0mseason\u001b[0m\u001b[1;33m)\u001b[0m\u001b[1;33m:\u001b[0m\u001b[1;33m\u001b[0m\u001b[0m\n\u001b[0;32m----> 2\u001b[0;31m     \u001b[1;32mif\u001b[0m \u001b[0mteam_id\u001b[0m \u001b[1;32min\u001b[0m \u001b[0mseason_team\u001b[0m\u001b[1;33m[\u001b[0m\u001b[0mseason\u001b[0m\u001b[1;33m]\u001b[0m\u001b[1;33m:\u001b[0m\u001b[1;33m\u001b[0m\u001b[0m\n\u001b[0m\u001b[1;32m      3\u001b[0m         \u001b[1;32mreturn\u001b[0m \u001b[1;36m1\u001b[0m\u001b[1;33m\u001b[0m\u001b[0m\n\u001b[1;32m      4\u001b[0m     \u001b[1;32mreturn\u001b[0m \u001b[1;36m0\u001b[0m\u001b[1;33m\u001b[0m\u001b[0m\n",
      "\u001b[0;31mKeyError\u001b[0m: ('2017-18', 'occurred at index 0')"
     ]
    }
   ],
   "source": [
    "all_team_data = pd.DataFrame()\n",
    "for team in team_list['TEAM_ID']:\n",
    "    team_data = TeamYearOverYearSplits(team,measure_type = 'Advanced').by_year()\n",
    "    team_data['PLAYOFFS'] = team_data.apply(lambda row: playoff_team(team,row['GROUP_VALUE']),axis=1)\n",
    "    all_team_data = pd.concat([all_team_data,team_data])\n",
    "    time.sleep(2)"
   ]
  },
  {
   "cell_type": "code",
   "execution_count": 14,
   "metadata": {
    "collapsed": true
   },
   "outputs": [],
   "source": [
    "all_team_data = pd.DataFrame()\n",
    "for team in team_list['TEAM_ID']:\n",
    "    team_data = TeamYearOverYearSplits(team).by_year()\n",
    "    team_data['PLAYOFFS'] = team_data.apply(lambda row: playoff_team(team,row['GROUP_VALUE']),axis=1)\n",
    "    all_team_data = pd.concat([all_team_data,team_data])\n",
    "    time.sleep(2)"
   ]
  },
  {
   "cell_type": "code",
   "execution_count": 5,
   "metadata": {
    "collapsed": true
   },
   "outputs": [],
   "source": [
    "regular_stats = pd.read_csv('all_team_playoffs.csv')\n",
    "advs_stats = pd.read_csv('all_team_playoffs_adv.csv')"
   ]
  },
  {
   "cell_type": "code",
   "execution_count": 6,
   "metadata": {
    "collapsed": true
   },
   "outputs": [],
   "source": [
    "regular_features = regular_stats[['FGM', 'FGA', 'FG_PCT', 'FG3M', 'FG3A', 'FG3_PCT', 'FTM', 'FTA',\n",
    "       'FT_PCT', 'OREB', 'DREB', 'REB', 'AST', 'TOV', 'STL', 'BLK', 'BLKA',\n",
    "       'PF', 'PFD', 'PTS', 'PLUS_MINUS']]"
   ]
  },
  {
   "cell_type": "code",
   "execution_count": 7,
   "metadata": {
    "collapsed": true
   },
   "outputs": [],
   "source": [
    "advs_features = advs_stats[['NET_RATING', 'AST_PCT', 'AST_TO',\n",
    "       'AST_RATIO', 'OREB_PCT', 'DREB_PCT', 'REB_PCT', 'TM_TOV_PCT', 'EFG_PCT',\n",
    "       'TS_PCT', 'PACE', 'PIE']]"
   ]
  },
  {
   "cell_type": "code",
   "execution_count": 17,
   "metadata": {
    "collapsed": true
   },
   "outputs": [],
   "source": [
    "reg_adv = pd.concat([regular_features,advs_features],axis = 1)"
   ]
  },
  {
   "cell_type": "code",
   "execution_count": 18,
   "metadata": {
    "collapsed": false
   },
   "outputs": [
    {
     "name": "stdout",
     "output_type": "stream",
     "text": [
      "<class 'pandas.core.frame.DataFrame'>\n",
      "RangeIndex: 652 entries, 0 to 651\n",
      "Data columns (total 33 columns):\n",
      "FGM           652 non-null float64\n",
      "FGA           652 non-null float64\n",
      "FG_PCT        652 non-null float64\n",
      "FG3M          652 non-null float64\n",
      "FG3A          652 non-null float64\n",
      "FG3_PCT       652 non-null float64\n",
      "FTM           652 non-null float64\n",
      "FTA           652 non-null float64\n",
      "FT_PCT        652 non-null float64\n",
      "OREB          652 non-null float64\n",
      "DREB          652 non-null float64\n",
      "REB           652 non-null float64\n",
      "AST           652 non-null float64\n",
      "TOV           652 non-null float64\n",
      "STL           652 non-null float64\n",
      "BLK           652 non-null float64\n",
      "BLKA          652 non-null float64\n",
      "PF            652 non-null float64\n",
      "PFD           652 non-null float64\n",
      "PTS           652 non-null float64\n",
      "PLUS_MINUS    652 non-null float64\n",
      "NET_RATING    652 non-null float64\n",
      "AST_PCT       652 non-null float64\n",
      "AST_TO        652 non-null float64\n",
      "AST_RATIO     652 non-null float64\n",
      "OREB_PCT      652 non-null float64\n",
      "DREB_PCT      652 non-null float64\n",
      "REB_PCT       652 non-null float64\n",
      "TM_TOV_PCT    652 non-null float64\n",
      "EFG_PCT       652 non-null float64\n",
      "TS_PCT        652 non-null float64\n",
      "PACE          652 non-null float64\n",
      "PIE           652 non-null float64\n",
      "dtypes: float64(33)\n",
      "memory usage: 168.2 KB\n"
     ]
    }
   ],
   "source": [
    "reg_adv.info()"
   ]
  },
  {
   "cell_type": "code",
   "execution_count": 69,
   "metadata": {
    "collapsed": false
   },
   "outputs": [],
   "source": [
    "from sklearn.model_selection import train_test_split\n",
    "X_train, X_test, y_train, y_test = train_test_split(advs_features, advs_stats['PLAYOFFS'], test_size=0.30, random_state=69)"
   ]
  },
  {
   "cell_type": "code",
   "execution_count": 8,
   "metadata": {
    "collapsed": true
   },
   "outputs": [],
   "source": [
    "from sklearn.preprocessing import StandardScaler"
   ]
  },
  {
   "cell_type": "code",
   "execution_count": 9,
   "metadata": {
    "collapsed": true
   },
   "outputs": [],
   "source": [
    "scaler = StandardScaler()"
   ]
  },
  {
   "cell_type": "code",
   "execution_count": 19,
   "metadata": {
    "collapsed": false
   },
   "outputs": [
    {
     "data": {
      "text/plain": [
       "StandardScaler(copy=True, with_mean=True, with_std=True)"
      ]
     },
     "execution_count": 19,
     "metadata": {},
     "output_type": "execute_result"
    }
   ],
   "source": [
    "scaler.fit(reg_adv)"
   ]
  },
  {
   "cell_type": "code",
   "execution_count": 20,
   "metadata": {
    "collapsed": true
   },
   "outputs": [],
   "source": [
    "scaled_features = scaler.fit_transform(reg_adv)"
   ]
  },
  {
   "cell_type": "code",
   "execution_count": 21,
   "metadata": {
    "collapsed": false
   },
   "outputs": [
    {
     "data": {
      "text/html": [
       "<div>\n",
       "<style>\n",
       "    .dataframe thead tr:only-child th {\n",
       "        text-align: right;\n",
       "    }\n",
       "\n",
       "    .dataframe thead th {\n",
       "        text-align: left;\n",
       "    }\n",
       "\n",
       "    .dataframe tbody tr th {\n",
       "        vertical-align: top;\n",
       "    }\n",
       "</style>\n",
       "<table border=\"1\" class=\"dataframe\">\n",
       "  <thead>\n",
       "    <tr style=\"text-align: right;\">\n",
       "      <th></th>\n",
       "      <th>FGM</th>\n",
       "      <th>FGA</th>\n",
       "      <th>FG_PCT</th>\n",
       "      <th>FG3M</th>\n",
       "      <th>FG3A</th>\n",
       "      <th>FG3_PCT</th>\n",
       "      <th>FTM</th>\n",
       "      <th>FTA</th>\n",
       "      <th>FT_PCT</th>\n",
       "      <th>OREB</th>\n",
       "      <th>...</th>\n",
       "      <th>AST_TO</th>\n",
       "      <th>AST_RATIO</th>\n",
       "      <th>OREB_PCT</th>\n",
       "      <th>DREB_PCT</th>\n",
       "      <th>REB_PCT</th>\n",
       "      <th>TM_TOV_PCT</th>\n",
       "      <th>EFG_PCT</th>\n",
       "      <th>TS_PCT</th>\n",
       "      <th>PACE</th>\n",
       "      <th>PIE</th>\n",
       "    </tr>\n",
       "  </thead>\n",
       "  <tbody>\n",
       "    <tr>\n",
       "      <th>0</th>\n",
       "      <td>0.722660</td>\n",
       "      <td>1.142183</td>\n",
       "      <td>-0.213395</td>\n",
       "      <td>2.198562</td>\n",
       "      <td>2.225214</td>\n",
       "      <td>0.589990</td>\n",
       "      <td>-0.958248</td>\n",
       "      <td>-1.406183</td>\n",
       "      <td>1.411584</td>\n",
       "      <td>-1.467248</td>\n",
       "      <td>...</td>\n",
       "      <td>0.159141</td>\n",
       "      <td>0.787408</td>\n",
       "      <td>-1.676275</td>\n",
       "      <td>0.976510</td>\n",
       "      <td>-0.997667</td>\n",
       "      <td>0.166296</td>\n",
       "      <td>1.006109</td>\n",
       "      <td>0.875533</td>\n",
       "      <td>1.846938</td>\n",
       "      <td>-0.816897</td>\n",
       "    </tr>\n",
       "    <tr>\n",
       "      <th>1</th>\n",
       "      <td>0.671860</td>\n",
       "      <td>0.897386</td>\n",
       "      <td>-0.029031</td>\n",
       "      <td>1.159376</td>\n",
       "      <td>1.433958</td>\n",
       "      <td>-0.588111</td>\n",
       "      <td>-0.134139</td>\n",
       "      <td>0.199275</td>\n",
       "      <td>-0.868260</td>\n",
       "      <td>-0.784417</td>\n",
       "      <td>...</td>\n",
       "      <td>0.051506</td>\n",
       "      <td>0.534963</td>\n",
       "      <td>-1.092083</td>\n",
       "      <td>1.152907</td>\n",
       "      <td>0.195143</td>\n",
       "      <td>0.243303</td>\n",
       "      <td>0.571482</td>\n",
       "      <td>0.358077</td>\n",
       "      <td>1.646540</td>\n",
       "      <td>0.167763</td>\n",
       "    </tr>\n",
       "    <tr>\n",
       "      <th>2</th>\n",
       "      <td>0.925862</td>\n",
       "      <td>0.897386</td>\n",
       "      <td>0.401152</td>\n",
       "      <td>1.631733</td>\n",
       "      <td>1.847570</td>\n",
       "      <td>-0.163994</td>\n",
       "      <td>-1.421809</td>\n",
       "      <td>-1.673759</td>\n",
       "      <td>0.975732</td>\n",
       "      <td>-2.150078</td>\n",
       "      <td>...</td>\n",
       "      <td>1.181674</td>\n",
       "      <td>1.881339</td>\n",
       "      <td>-2.475697</td>\n",
       "      <td>0.623718</td>\n",
       "      <td>-1.660339</td>\n",
       "      <td>-0.295743</td>\n",
       "      <td>1.093034</td>\n",
       "      <td>0.875533</td>\n",
       "      <td>1.511898</td>\n",
       "      <td>0.786693</td>\n",
       "    </tr>\n",
       "    <tr>\n",
       "      <th>3</th>\n",
       "      <td>0.671860</td>\n",
       "      <td>0.071196</td>\n",
       "      <td>0.892789</td>\n",
       "      <td>1.678969</td>\n",
       "      <td>1.451942</td>\n",
       "      <td>1.249726</td>\n",
       "      <td>-0.958248</td>\n",
       "      <td>-1.215057</td>\n",
       "      <td>0.808096</td>\n",
       "      <td>-1.876946</td>\n",
       "      <td>...</td>\n",
       "      <td>1.719850</td>\n",
       "      <td>2.386230</td>\n",
       "      <td>-1.768516</td>\n",
       "      <td>0.200367</td>\n",
       "      <td>-1.196468</td>\n",
       "      <td>-0.526762</td>\n",
       "      <td>1.571124</td>\n",
       "      <td>1.392988</td>\n",
       "      <td>0.525568</td>\n",
       "      <td>1.124291</td>\n",
       "    </tr>\n",
       "    <tr>\n",
       "      <th>4</th>\n",
       "      <td>0.265456</td>\n",
       "      <td>0.040596</td>\n",
       "      <td>0.401152</td>\n",
       "      <td>1.395555</td>\n",
       "      <td>1.380009</td>\n",
       "      <td>0.448618</td>\n",
       "      <td>-0.700714</td>\n",
       "      <td>-1.023931</td>\n",
       "      <td>0.908678</td>\n",
       "      <td>-1.876946</td>\n",
       "      <td>...</td>\n",
       "      <td>0.751134</td>\n",
       "      <td>1.797190</td>\n",
       "      <td>-1.891504</td>\n",
       "      <td>0.553159</td>\n",
       "      <td>-1.395270</td>\n",
       "      <td>0.166296</td>\n",
       "      <td>1.049572</td>\n",
       "      <td>0.969616</td>\n",
       "      <td>0.719703</td>\n",
       "      <td>0.055231</td>\n",
       "    </tr>\n",
       "  </tbody>\n",
       "</table>\n",
       "<p>5 rows × 33 columns</p>\n",
       "</div>"
      ],
      "text/plain": [
       "        FGM       FGA    FG_PCT      FG3M      FG3A   FG3_PCT       FTM  \\\n",
       "0  0.722660  1.142183 -0.213395  2.198562  2.225214  0.589990 -0.958248   \n",
       "1  0.671860  0.897386 -0.029031  1.159376  1.433958 -0.588111 -0.134139   \n",
       "2  0.925862  0.897386  0.401152  1.631733  1.847570 -0.163994 -1.421809   \n",
       "3  0.671860  0.071196  0.892789  1.678969  1.451942  1.249726 -0.958248   \n",
       "4  0.265456  0.040596  0.401152  1.395555  1.380009  0.448618 -0.700714   \n",
       "\n",
       "        FTA    FT_PCT      OREB    ...       AST_TO  AST_RATIO  OREB_PCT  \\\n",
       "0 -1.406183  1.411584 -1.467248    ...     0.159141   0.787408 -1.676275   \n",
       "1  0.199275 -0.868260 -0.784417    ...     0.051506   0.534963 -1.092083   \n",
       "2 -1.673759  0.975732 -2.150078    ...     1.181674   1.881339 -2.475697   \n",
       "3 -1.215057  0.808096 -1.876946    ...     1.719850   2.386230 -1.768516   \n",
       "4 -1.023931  0.908678 -1.876946    ...     0.751134   1.797190 -1.891504   \n",
       "\n",
       "   DREB_PCT   REB_PCT  TM_TOV_PCT   EFG_PCT    TS_PCT      PACE       PIE  \n",
       "0  0.976510 -0.997667    0.166296  1.006109  0.875533  1.846938 -0.816897  \n",
       "1  1.152907  0.195143    0.243303  0.571482  0.358077  1.646540  0.167763  \n",
       "2  0.623718 -1.660339   -0.295743  1.093034  0.875533  1.511898  0.786693  \n",
       "3  0.200367 -1.196468   -0.526762  1.571124  1.392988  0.525568  1.124291  \n",
       "4  0.553159 -1.395270    0.166296  1.049572  0.969616  0.719703  0.055231  \n",
       "\n",
       "[5 rows x 33 columns]"
      ]
     },
     "execution_count": 21,
     "metadata": {},
     "output_type": "execute_result"
    }
   ],
   "source": [
    "df_advs_feat = pd.DataFrame(scaled_features,columns = reg_adv.columns)\n",
    "df_advs_feat.head()"
   ]
  },
  {
   "cell_type": "code",
   "execution_count": 22,
   "metadata": {
    "collapsed": true
   },
   "outputs": [],
   "source": [
    "X = df_advs_feat"
   ]
  },
  {
   "cell_type": "code",
   "execution_count": 23,
   "metadata": {
    "collapsed": true
   },
   "outputs": [],
   "source": [
    "y = advs_stats['PLAYOFFS']"
   ]
  },
  {
   "cell_type": "code",
   "execution_count": 24,
   "metadata": {
    "collapsed": true
   },
   "outputs": [],
   "source": [
    "X = X.as_matrix()\n",
    "y = y.as_matrix()"
   ]
  },
  {
   "cell_type": "code",
   "execution_count": 34,
   "metadata": {
    "collapsed": true
   },
   "outputs": [],
   "source": [
    "import tensorflow as tf\n"
   ]
  },
  {
   "cell_type": "code",
   "execution_count": 25,
   "metadata": {
    "collapsed": false
   },
   "outputs": [
    {
     "name": "stderr",
     "output_type": "stream",
     "text": [
      "/home/thomas/anaconda3/lib/python3.5/site-packages/sklearn/cross_validation.py:41: DeprecationWarning: This module was deprecated in version 0.18 in favor of the model_selection module into which all the refactored classes and functions are moved. Also note that the interface of the new CV iterators are different from that of this module. This module will be removed in 0.20.\n",
      "  \"This module will be removed in 0.20.\", DeprecationWarning)\n"
     ]
    }
   ],
   "source": [
    "from sklearn.cross_validation import train_test_split"
   ]
  },
  {
   "cell_type": "code",
   "execution_count": 26,
   "metadata": {
    "collapsed": true
   },
   "outputs": [],
   "source": [
    "X_train, X_test, y_train, y_test = train_test_split(X, y, test_size=0.3)"
   ]
  },
  {
   "cell_type": "code",
   "execution_count": 29,
   "metadata": {
    "collapsed": false
   },
   "outputs": [],
   "source": [
    "import tensorflow.contrib.learn as learn"
   ]
  },
  {
   "cell_type": "code",
   "execution_count": 35,
   "metadata": {
    "collapsed": false
   },
   "outputs": [
    {
     "name": "stdout",
     "output_type": "stream",
     "text": [
      "WARNING:tensorflow:float64 is not supported by many models, consider casting to float32.\n"
     ]
    }
   ],
   "source": [
    "feature_columns = tf.contrib.learn.infer_real_valued_columns_from_input(X_train)"
   ]
  },
  {
   "cell_type": "code",
   "execution_count": 36,
   "metadata": {
    "collapsed": false
   },
   "outputs": [
    {
     "name": "stdout",
     "output_type": "stream",
     "text": [
      "INFO:tensorflow:Using default config.\n",
      "WARNING:tensorflow:Using temporary folder as model directory: /tmp/tmprrfllij_\n",
      "INFO:tensorflow:Using config: {'_keep_checkpoint_every_n_hours': 10000, '_num_worker_replicas': 0, '_keep_checkpoint_max': 5, '_model_dir': '/tmp/tmprrfllij_', '_save_checkpoints_secs': 600, '_evaluation_master': '', '_task_type': None, '_tf_config': gpu_options {\n",
      "  per_process_gpu_memory_fraction: 1\n",
      "}\n",
      ", '_save_summary_steps': 100, '_is_chief': True, '_num_ps_replicas': 0, '_session_config': None, '_task_id': 0, '_master': '', '_tf_random_seed': None, '_environment': 'local', '_cluster_spec': <tensorflow.python.training.server_lib.ClusterSpec object at 0x7f9f89f530f0>, '_save_checkpoints_steps': None}\n",
      "WARNING:tensorflow:From <ipython-input-36-3a93bd33c362>:2: calling BaseEstimator.fit (from tensorflow.contrib.learn.python.learn.estimators.estimator) with x is deprecated and will be removed after 2016-12-01.\n",
      "Instructions for updating:\n",
      "Estimator is decoupled from Scikit Learn interface by moving into\n",
      "separate class SKCompat. Arguments x, y and batch_size are only\n",
      "available in the SKCompat class, Estimator will only accept input_fn.\n",
      "Example conversion:\n",
      "  est = Estimator(...) -> est = SKCompat(Estimator(...))\n",
      "WARNING:tensorflow:From <ipython-input-36-3a93bd33c362>:2: calling BaseEstimator.fit (from tensorflow.contrib.learn.python.learn.estimators.estimator) with y is deprecated and will be removed after 2016-12-01.\n",
      "Instructions for updating:\n",
      "Estimator is decoupled from Scikit Learn interface by moving into\n",
      "separate class SKCompat. Arguments x, y and batch_size are only\n",
      "available in the SKCompat class, Estimator will only accept input_fn.\n",
      "Example conversion:\n",
      "  est = Estimator(...) -> est = SKCompat(Estimator(...))\n",
      "WARNING:tensorflow:From <ipython-input-36-3a93bd33c362>:2: calling BaseEstimator.fit (from tensorflow.contrib.learn.python.learn.estimators.estimator) with batch_size is deprecated and will be removed after 2016-12-01.\n",
      "Instructions for updating:\n",
      "Estimator is decoupled from Scikit Learn interface by moving into\n",
      "separate class SKCompat. Arguments x, y and batch_size are only\n",
      "available in the SKCompat class, Estimator will only accept input_fn.\n",
      "Example conversion:\n",
      "  est = Estimator(...) -> est = SKCompat(Estimator(...))\n",
      "WARNING:tensorflow:float64 is not supported by many models, consider casting to float32.\n",
      "WARNING:tensorflow:From /home/thomas/anaconda3/lib/python3.5/site-packages/tensorflow/contrib/learn/python/learn/estimators/head.py:625: scalar_summary (from tensorflow.python.ops.logging_ops) is deprecated and will be removed after 2016-11-30.\n",
      "Instructions for updating:\n",
      "Please switch to tf.summary.scalar. Note that tf.summary.scalar uses the node name instead of the tag. This means that TensorFlow will automatically de-duplicate summary names based on the scope they are created in. Also, passing a tensor or list of tags to a scalar summary op is no longer supported.\n",
      "WARNING:tensorflow:Casting <dtype: 'int64'> labels to bool.\n",
      "WARNING:tensorflow:Casting <dtype: 'int64'> labels to bool.\n",
      "INFO:tensorflow:Create CheckpointSaverHook.\n",
      "INFO:tensorflow:Saving checkpoints for 1 into /tmp/tmprrfllij_/model.ckpt.\n",
      "INFO:tensorflow:step = 1, loss = 0.680214\n",
      "INFO:tensorflow:global_step/sec: 866.971\n",
      "INFO:tensorflow:step = 101, loss = 0.215894 (0.117 sec)\n",
      "INFO:tensorflow:Saving checkpoints for 200 into /tmp/tmprrfllij_/model.ckpt.\n",
      "INFO:tensorflow:Loss for final step: 0.169311.\n"
     ]
    },
    {
     "data": {
      "text/plain": [
       "DNNClassifier(params={'head': <tensorflow.contrib.learn.python.learn.estimators.head._BinaryLogisticHead object at 0x7f9f89f8a470>, 'feature_columns': (_RealValuedColumn(column_name='', dimension=33, default_value=None, dtype=tf.float64, normalizer=None),), 'gradient_clip_norm': None, 'optimizer': None, 'activation_fn': <function relu at 0x7f9f917ee158>, 'input_layer_min_slice_size': None, 'embedding_lr_multipliers': None, 'hidden_units': [10, 20, 10], 'dropout': None})"
      ]
     },
     "execution_count": 36,
     "metadata": {},
     "output_type": "execute_result"
    }
   ],
   "source": [
    "classifier = learn.DNNClassifier(hidden_units=[10, 20, 10], n_classes = 2,feature_columns= feature_columns)#,feature_columns=feature_columns)\n",
    "classifier.fit(X_train, y_train, steps=200, batch_size=32)"
   ]
  },
  {
   "cell_type": "code",
   "execution_count": 40,
   "metadata": {
    "collapsed": false
   },
   "outputs": [
    {
     "name": "stdout",
     "output_type": "stream",
     "text": [
      "WARNING:tensorflow:From <ipython-input-40-48428a073707>:1: calling DNNClassifier.predict (from tensorflow.contrib.learn.python.learn.estimators.dnn) with as_iterable=False is deprecated and will be removed after 2016-09-15.\n",
      "Instructions for updating:\n",
      "The default behavior of predict() is changing. The default value for\n",
      "as_iterable will change to True, and then the flag will be removed\n",
      "altogether. The behavior of this flag is described below.\n",
      "WARNING:tensorflow:From /home/thomas/anaconda3/lib/python3.5/site-packages/tensorflow/python/util/deprecation.py:347: calling DNNClassifier.predict (from tensorflow.contrib.learn.python.learn.estimators.dnn) with outputs=None is deprecated and will be removed after 2017-03-01.\n",
      "Instructions for updating:\n",
      "Please switch to predict_classes, or set `outputs` argument.\n",
      "WARNING:tensorflow:From /home/thomas/anaconda3/lib/python3.5/site-packages/tensorflow/contrib/learn/python/learn/estimators/dnn.py:397: calling DNNClassifier.predict_classes (from tensorflow.contrib.learn.python.learn.estimators.dnn) with as_iterable=False is deprecated and will be removed after 2016-09-15.\n",
      "Instructions for updating:\n",
      "The default behavior of predict() is changing. The default value for\n",
      "as_iterable will change to True, and then the flag will be removed\n",
      "altogether. The behavior of this flag is described below.\n",
      "WARNING:tensorflow:From /home/thomas/anaconda3/lib/python3.5/site-packages/tensorflow/contrib/learn/python/learn/estimators/dnn.py:433: calling BaseEstimator.predict (from tensorflow.contrib.learn.python.learn.estimators.estimator) with x is deprecated and will be removed after 2016-12-01.\n",
      "Instructions for updating:\n",
      "Estimator is decoupled from Scikit Learn interface by moving into\n",
      "separate class SKCompat. Arguments x, y and batch_size are only\n",
      "available in the SKCompat class, Estimator will only accept input_fn.\n",
      "Example conversion:\n",
      "  est = Estimator(...) -> est = SKCompat(Estimator(...))\n",
      "WARNING:tensorflow:From /home/thomas/anaconda3/lib/python3.5/site-packages/tensorflow/contrib/learn/python/learn/estimators/dnn.py:433: calling BaseEstimator.predict (from tensorflow.contrib.learn.python.learn.estimators.estimator) with as_iterable is deprecated and will be removed after 2016-12-01.\n",
      "Instructions for updating:\n",
      "Estimator is decoupled from Scikit Learn interface by moving into\n",
      "separate class SKCompat. Arguments x, y and batch_size are only\n",
      "available in the SKCompat class, Estimator will only accept input_fn.\n",
      "Example conversion:\n",
      "  est = Estimator(...) -> est = SKCompat(Estimator(...))\n",
      "WARNING:tensorflow:float64 is not supported by many models, consider casting to float32.\n",
      "INFO:tensorflow:Restoring parameters from /tmp/tmprrfllij_/model.ckpt-200\n"
     ]
    }
   ],
   "source": [
    "pred = classifier.predict(X_test,as_iterable=False)"
   ]
  },
  {
   "cell_type": "code",
   "execution_count": 38,
   "metadata": {
    "collapsed": true
   },
   "outputs": [],
   "source": [
    "from sklearn.metrics import classification_report,confusion_matrix"
   ]
  },
  {
   "cell_type": "code",
   "execution_count": 41,
   "metadata": {
    "collapsed": false
   },
   "outputs": [
    {
     "name": "stdout",
     "output_type": "stream",
     "text": [
      "             precision    recall  f1-score   support\n",
      "\n",
      "          0       0.87      0.90      0.89        94\n",
      "          1       0.91      0.87      0.89       102\n",
      "\n",
      "avg / total       0.89      0.89      0.89       196\n",
      "\n"
     ]
    }
   ],
   "source": [
    "print(classification_report(y_test,pred))"
   ]
  },
  {
   "cell_type": "code",
   "execution_count": null,
   "metadata": {
    "collapsed": true
   },
   "outputs": [],
   "source": []
  },
  {
   "cell_type": "code",
   "execution_count": null,
   "metadata": {
    "collapsed": true
   },
   "outputs": [],
   "source": []
  },
  {
   "cell_type": "code",
   "execution_count": null,
   "metadata": {
    "collapsed": true
   },
   "outputs": [],
   "source": []
  },
  {
   "cell_type": "code",
   "execution_count": 63,
   "metadata": {
    "collapsed": true
   },
   "outputs": [],
   "source": [
    "from sklearn.ensemble import RandomForestClassifier"
   ]
  },
  {
   "cell_type": "code",
   "execution_count": 64,
   "metadata": {
    "collapsed": true
   },
   "outputs": [],
   "source": [
    "rfc = RandomForestClassifier(n_estimators = 600)"
   ]
  },
  {
   "cell_type": "code",
   "execution_count": 70,
   "metadata": {
    "collapsed": false
   },
   "outputs": [
    {
     "data": {
      "text/plain": [
       "RandomForestClassifier(bootstrap=True, class_weight=None, criterion='gini',\n",
       "            max_depth=None, max_features='auto', max_leaf_nodes=None,\n",
       "            min_impurity_split=1e-07, min_samples_leaf=1,\n",
       "            min_samples_split=2, min_weight_fraction_leaf=0.0,\n",
       "            n_estimators=600, n_jobs=1, oob_score=False, random_state=None,\n",
       "            verbose=0, warm_start=False)"
      ]
     },
     "execution_count": 70,
     "metadata": {},
     "output_type": "execute_result"
    }
   ],
   "source": [
    "rfc.fit(X_train,y_train)"
   ]
  },
  {
   "cell_type": "code",
   "execution_count": 71,
   "metadata": {
    "collapsed": false
   },
   "outputs": [],
   "source": [
    "rfc_pred = rfc.predict(X_test)"
   ]
  },
  {
   "cell_type": "code",
   "execution_count": 72,
   "metadata": {
    "collapsed": false
   },
   "outputs": [
    {
     "name": "stdout",
     "output_type": "stream",
     "text": [
      "             precision    recall  f1-score   support\n",
      "\n",
      "          0       0.87      0.89      0.88        87\n",
      "          1       0.91      0.89      0.90       109\n",
      "\n",
      "avg / total       0.89      0.89      0.89       196\n",
      "\n"
     ]
    }
   ],
   "source": [
    "#rfc with advanced stats\n",
    "print(classification_report(y_test,rfc_pred))"
   ]
  },
  {
   "cell_type": "code",
   "execution_count": 68,
   "metadata": {
    "collapsed": false
   },
   "outputs": [
    {
     "name": "stdout",
     "output_type": "stream",
     "text": [
      "             precision    recall  f1-score   support\n",
      "\n",
      "          0       0.85      0.89      0.87        87\n",
      "          1       0.90      0.87      0.89       109\n",
      "\n",
      "avg / total       0.88      0.88      0.88       196\n",
      "\n"
     ]
    }
   ],
   "source": [
    "#rfc with regular stats\n",
    "print(classification_report(y_test,rfc_pred))"
   ]
  },
  {
   "cell_type": "code",
   "execution_count": null,
   "metadata": {
    "collapsed": true
   },
   "outputs": [],
   "source": []
  },
  {
   "cell_type": "code",
   "execution_count": 53,
   "metadata": {
    "collapsed": false
   },
   "outputs": [],
   "source": [
    "from sklearn.tree import DecisionTreeClassifier"
   ]
  },
  {
   "cell_type": "code",
   "execution_count": 59,
   "metadata": {
    "collapsed": true
   },
   "outputs": [],
   "source": [
    "dtree = DecisionTreeClassifier()"
   ]
  },
  {
   "cell_type": "code",
   "execution_count": 60,
   "metadata": {
    "collapsed": false
   },
   "outputs": [
    {
     "data": {
      "text/plain": [
       "DecisionTreeClassifier(class_weight=None, criterion='gini', max_depth=None,\n",
       "            max_features=None, max_leaf_nodes=None,\n",
       "            min_impurity_split=1e-07, min_samples_leaf=1,\n",
       "            min_samples_split=2, min_weight_fraction_leaf=0.0,\n",
       "            presort=False, random_state=None, splitter='best')"
      ]
     },
     "execution_count": 60,
     "metadata": {},
     "output_type": "execute_result"
    }
   ],
   "source": [
    "dtree.fit(X_train,y_train)\n"
   ]
  },
  {
   "cell_type": "code",
   "execution_count": 61,
   "metadata": {
    "collapsed": true
   },
   "outputs": [],
   "source": [
    "dtree_pred = dtree.predict(X_test)"
   ]
  },
  {
   "cell_type": "code",
   "execution_count": 57,
   "metadata": {
    "collapsed": false
   },
   "outputs": [
    {
     "name": "stdout",
     "output_type": "stream",
     "text": [
      "             precision    recall  f1-score   support\n",
      "\n",
      "          0       0.82      0.89      0.85        87\n",
      "          1       0.90      0.84      0.87       109\n",
      "\n",
      "avg / total       0.87      0.86      0.86       196\n",
      "\n"
     ]
    }
   ],
   "source": [
    "#dtree with advanced stats\n",
    "print(classification_report(y_test,dtree_pred))"
   ]
  },
  {
   "cell_type": "code",
   "execution_count": 62,
   "metadata": {
    "collapsed": false
   },
   "outputs": [
    {
     "name": "stdout",
     "output_type": "stream",
     "text": [
      "             precision    recall  f1-score   support\n",
      "\n",
      "          0       0.84      0.90      0.87        87\n",
      "          1       0.91      0.86      0.89       109\n",
      "\n",
      "avg / total       0.88      0.88      0.88       196\n",
      "\n"
     ]
    }
   ],
   "source": [
    "#dtree with reuglar stats\n",
    "print(classification_report(y_test,predictions))"
   ]
  },
  {
   "cell_type": "code",
   "execution_count": 40,
   "metadata": {
    "collapsed": true
   },
   "outputs": [],
   "source": [
    "from sklearn.svm import SVC"
   ]
  },
  {
   "cell_type": "code",
   "execution_count": 47,
   "metadata": {
    "collapsed": true
   },
   "outputs": [],
   "source": [
    "svc_model = SVC()"
   ]
  },
  {
   "cell_type": "code",
   "execution_count": 48,
   "metadata": {
    "collapsed": false
   },
   "outputs": [
    {
     "data": {
      "text/plain": [
       "SVC(C=1.0, cache_size=200, class_weight=None, coef0=0.0,\n",
       "  decision_function_shape=None, degree=3, gamma='auto', kernel='rbf',\n",
       "  max_iter=-1, probability=False, random_state=None, shrinking=True,\n",
       "  tol=0.001, verbose=False)"
      ]
     },
     "execution_count": 48,
     "metadata": {},
     "output_type": "execute_result"
    }
   ],
   "source": [
    "svc_model.fit(X_train,y_train)"
   ]
  },
  {
   "cell_type": "code",
   "execution_count": 49,
   "metadata": {
    "collapsed": true
   },
   "outputs": [],
   "source": [
    "predictions = svc_model.predict(X_test)"
   ]
  },
  {
   "cell_type": "code",
   "execution_count": 51,
   "metadata": {
    "collapsed": true
   },
   "outputs": [],
   "source": [
    "#classification report for support vector machine"
   ]
  },
  {
   "cell_type": "code",
   "execution_count": 50,
   "metadata": {
    "collapsed": false
   },
   "outputs": [
    {
     "name": "stdout",
     "output_type": "stream",
     "text": [
      "             precision    recall  f1-score   support\n",
      "\n",
      "          0       0.84      0.90      0.87        87\n",
      "          1       0.91      0.86      0.89       109\n",
      "\n",
      "avg / total       0.88      0.88      0.88       196\n",
      "\n"
     ]
    }
   ],
   "source": [
    "print(classification_report(y_test,predictions))"
   ]
  },
  {
   "cell_type": "code",
   "execution_count": null,
   "metadata": {
    "collapsed": true
   },
   "outputs": [],
   "source": []
  },
  {
   "cell_type": "code",
   "execution_count": null,
   "metadata": {
    "collapsed": true
   },
   "outputs": [],
   "source": []
  },
  {
   "cell_type": "code",
   "execution_count": null,
   "metadata": {
    "collapsed": true
   },
   "outputs": [],
   "source": []
  },
  {
   "cell_type": "code",
   "execution_count": null,
   "metadata": {
    "collapsed": true
   },
   "outputs": [],
   "source": []
  },
  {
   "cell_type": "code",
   "execution_count": null,
   "metadata": {
    "collapsed": true
   },
   "outputs": [],
   "source": []
  },
  {
   "cell_type": "code",
   "execution_count": 11,
   "metadata": {
    "collapsed": false
   },
   "outputs": [
    {
     "name": "stdout",
     "output_type": "stream",
     "text": [
      "             precision    recall  f1-score   support\n",
      "\n",
      "          0       0.86      0.90      0.88        87\n",
      "          1       0.91      0.88      0.90       109\n",
      "\n",
      "avg / total       0.89      0.89      0.89       196\n",
      "\n"
     ]
    }
   ],
   "source": [
    "from sklearn.linear_model import LogisticRegression\n",
    "regular_model = LogisticRegression()\n",
    "regular_model.fit(X_train, y_train)\n",
    "predictions = regular_model.predict(X_test)\n",
    "from sklearn.metrics import classification_report\n",
    "print(classification_report(y_test,predictions))"
   ]
  },
  {
   "cell_type": "code",
   "execution_count": 12,
   "metadata": {
    "collapsed": true
   },
   "outputs": [],
   "source": [
    "from sklearn.model_selection import train_test_split\n",
    "X_train, X_test, y_train, y_test = train_test_split(advs_features, advs_stats['PLAYOFFS'], test_size=0.30, random_state=300)"
   ]
  },
  {
   "cell_type": "code",
   "execution_count": 13,
   "metadata": {
    "collapsed": false
   },
   "outputs": [
    {
     "name": "stdout",
     "output_type": "stream",
     "text": [
      "             precision    recall  f1-score   support\n",
      "\n",
      "          0       0.87      0.95      0.91        96\n",
      "          1       0.95      0.86      0.90       100\n",
      "\n",
      "avg / total       0.91      0.90      0.90       196\n",
      "\n"
     ]
    }
   ],
   "source": [
    "adv_model = LogisticRegression()\n",
    "adv_model.fit(X_train, y_train)\n",
    "predictions = adv_model.predict(X_test)\n",
    "from sklearn.metrics import classification_report\n",
    "print(classification_report(y_test,predictions))"
   ]
  },
  {
   "cell_type": "code",
   "execution_count": 14,
   "metadata": {
    "collapsed": false
   },
   "outputs": [
    {
     "ename": "NameError",
     "evalue": "name 'logmodel' is not defined",
     "output_type": "error",
     "traceback": [
      "\u001b[0;31m---------------------------------------------------------------------------\u001b[0m",
      "\u001b[0;31mNameError\u001b[0m                                 Traceback (most recent call last)",
      "\u001b[0;32m<ipython-input-14-724b029c7aba>\u001b[0m in \u001b[0;36m<module>\u001b[0;34m()\u001b[0m\n\u001b[1;32m      2\u001b[0m        \u001b[1;34m'FT_PCT'\u001b[0m\u001b[1;33m,\u001b[0m \u001b[1;34m'OREB'\u001b[0m\u001b[1;33m,\u001b[0m \u001b[1;34m'DREB'\u001b[0m\u001b[1;33m,\u001b[0m \u001b[1;34m'REB'\u001b[0m\u001b[1;33m,\u001b[0m \u001b[1;34m'AST'\u001b[0m\u001b[1;33m,\u001b[0m \u001b[1;34m'TOV'\u001b[0m\u001b[1;33m,\u001b[0m \u001b[1;34m'STL'\u001b[0m\u001b[1;33m,\u001b[0m \u001b[1;34m'BLK'\u001b[0m\u001b[1;33m,\u001b[0m \u001b[1;34m'BLKA'\u001b[0m\u001b[1;33m,\u001b[0m\u001b[1;33m\u001b[0m\u001b[0m\n\u001b[1;32m      3\u001b[0m        'PF', 'PFD', 'PTS', 'PLUS_MINUS']]\n\u001b[0;32m----> 4\u001b[0;31m \u001b[0mlogmodel\u001b[0m\u001b[1;33m.\u001b[0m\u001b[0mpredict\u001b[0m\u001b[1;33m(\u001b[0m\u001b[0mtest_team\u001b[0m\u001b[1;33m.\u001b[0m\u001b[0mhead\u001b[0m\u001b[1;33m(\u001b[0m\u001b[1;36m1\u001b[0m\u001b[1;33m)\u001b[0m\u001b[1;33m)\u001b[0m\u001b[1;33m\u001b[0m\u001b[0m\n\u001b[0m",
      "\u001b[0;31mNameError\u001b[0m: name 'logmodel' is not defined"
     ]
    }
   ],
   "source": [
    "test_team =  TeamYearOverYearSplits(1610612740).by_year()[['FGM', 'FGA', 'FG_PCT', 'FG3M', 'FG3A', 'FG3_PCT', 'FTM', 'FTA',\n",
    "       'FT_PCT', 'OREB', 'DREB', 'REB', 'AST', 'TOV', 'STL', 'BLK', 'BLKA',\n",
    "       'PF', 'PFD', 'PTS', 'PLUS_MINUS']]\n",
    "logmodel.predict(test_team.head(1))"
   ]
  },
  {
   "cell_type": "code",
   "execution_count": 15,
   "metadata": {
    "collapsed": true
   },
   "outputs": [],
   "source": [
    "current_predictions_norm = {}\n",
    "current_predictions_adv = {}\n",
    "for index, row in team_list.iterrows():\n",
    "    current = TeamYearOverYearSplits(row['TEAM_ID']).by_year()[['FGM', 'FGA', 'FG_PCT', 'FG3M', 'FG3A', 'FG3_PCT', 'FTM', 'FTA',\n",
    "       'FT_PCT', 'OREB', 'DREB', 'REB', 'AST', 'TOV', 'STL', 'BLK', 'BLKA',\n",
    "       'PF', 'PFD', 'PTS', 'PLUS_MINUS']]\n",
    "    current_adv = TeamYearOverYearSplits(row['TEAM_ID'],measure_type = 'Advanced').by_year()[['NET_RATING', 'AST_PCT', 'AST_TO',\n",
    "       'AST_RATIO', 'OREB_PCT', 'DREB_PCT', 'REB_PCT', 'TM_TOV_PCT', 'EFG_PCT',\n",
    "       'TS_PCT', 'PACE', 'PIE']]\n",
    "    current_predictions_norm[row['ABBREVIATION']] = regular_model.predict(current.head(1))\n",
    "    current_predictions_adv[row['ABBREVIATION']] = adv_model.predict(current_adv.head(1))"
   ]
  },
  {
   "cell_type": "code",
   "execution_count": 16,
   "metadata": {
    "collapsed": false
   },
   "outputs": [
    {
     "name": "stdout",
     "output_type": "stream",
     "text": [
      "Normal Prediciton: ATL [0]\n",
      "Advanced Prediciton: ATL [0]\n",
      "------------------------------\n",
      "Normal Prediciton: BOS [1]\n",
      "Advanced Prediciton: BOS [1]\n",
      "------------------------------\n",
      "Normal Prediciton: CLE [0]\n",
      "Advanced Prediciton: CLE [1]\n",
      "------------------------------\n",
      "Normal Prediciton: NOP [0]\n",
      "Advanced Prediciton: NOP [1]\n",
      "------------------------------\n",
      "Normal Prediciton: CHI [0]\n",
      "Advanced Prediciton: CHI [0]\n",
      "------------------------------\n",
      "Normal Prediciton: DAL [0]\n",
      "Advanced Prediciton: DAL [0]\n",
      "------------------------------\n",
      "Normal Prediciton: DEN [0]\n",
      "Advanced Prediciton: DEN [1]\n",
      "------------------------------\n",
      "Normal Prediciton: GSW [1]\n",
      "Advanced Prediciton: GSW [1]\n",
      "------------------------------\n",
      "Normal Prediciton: HOU [1]\n",
      "Advanced Prediciton: HOU [1]\n",
      "------------------------------\n",
      "Normal Prediciton: LAC [0]\n",
      "Advanced Prediciton: LAC [1]\n",
      "------------------------------\n",
      "Normal Prediciton: LAL [0]\n",
      "Advanced Prediciton: LAL [0]\n",
      "------------------------------\n",
      "Normal Prediciton: MIA [0]\n",
      "Advanced Prediciton: MIA [0]\n",
      "------------------------------\n",
      "Normal Prediciton: MIL [0]\n",
      "Advanced Prediciton: MIL [1]\n",
      "------------------------------\n",
      "Normal Prediciton: MIN [1]\n",
      "Advanced Prediciton: MIN [1]\n",
      "------------------------------\n",
      "Normal Prediciton: BKN [0]\n",
      "Advanced Prediciton: BKN [0]\n",
      "------------------------------\n",
      "Normal Prediciton: NYK [0]\n",
      "Advanced Prediciton: NYK [0]\n",
      "------------------------------\n",
      "Normal Prediciton: ORL [0]\n",
      "Advanced Prediciton: ORL [0]\n",
      "------------------------------\n",
      "Normal Prediciton: IND [0]\n",
      "Advanced Prediciton: IND [1]\n",
      "------------------------------\n",
      "Normal Prediciton: PHI [1]\n",
      "Advanced Prediciton: PHI [1]\n",
      "------------------------------\n",
      "Normal Prediciton: PHX [0]\n",
      "Advanced Prediciton: PHX [0]\n",
      "------------------------------\n",
      "Normal Prediciton: POR [1]\n",
      "Advanced Prediciton: POR [1]\n",
      "------------------------------\n",
      "Normal Prediciton: SAC [0]\n",
      "Advanced Prediciton: SAC [0]\n",
      "------------------------------\n",
      "Normal Prediciton: SAS [1]\n",
      "Advanced Prediciton: SAS [1]\n",
      "------------------------------\n",
      "Normal Prediciton: OKC [1]\n",
      "Advanced Prediciton: OKC [1]\n",
      "------------------------------\n",
      "Normal Prediciton: TOR [1]\n",
      "Advanced Prediciton: TOR [1]\n",
      "------------------------------\n",
      "Normal Prediciton: UTA [1]\n",
      "Advanced Prediciton: UTA [1]\n",
      "------------------------------\n",
      "Normal Prediciton: MEM [0]\n",
      "Advanced Prediciton: MEM [0]\n",
      "------------------------------\n",
      "Normal Prediciton: WAS [0]\n",
      "Advanced Prediciton: WAS [1]\n",
      "------------------------------\n",
      "Normal Prediciton: DET [0]\n",
      "Advanced Prediciton: DET [0]\n",
      "------------------------------\n",
      "Normal Prediciton: CHA [0]\n",
      "Advanced Prediciton: CHA [0]\n",
      "------------------------------\n"
     ]
    }
   ],
   "source": [
    "for norm, adv in zip(current_predictions_norm.keys(),current_predictions_adv.keys()):\n",
    "    print(\"Normal Prediciton: \"+norm+\" \"+str(current_predictions_norm[norm]))\n",
    "    print(\"Advanced Prediciton: \"+adv+\" \"+str(current_predictions_adv[adv]))\n",
    "    print(\"------------------------------\")"
   ]
  },
  {
   "cell_type": "code",
   "execution_count": null,
   "metadata": {
    "collapsed": true
   },
   "outputs": [],
   "source": []
  }
 ],
 "metadata": {
  "anaconda-cloud": {},
  "kernelspec": {
   "display_name": "Python [default]",
   "language": "python",
   "name": "python3"
  },
  "language_info": {
   "codemirror_mode": {
    "name": "ipython",
    "version": 3
   },
   "file_extension": ".py",
   "mimetype": "text/x-python",
   "name": "python",
   "nbconvert_exporter": "python",
   "pygments_lexer": "ipython3",
   "version": "3.5.2"
  }
 },
 "nbformat": 4,
 "nbformat_minor": 2
}
