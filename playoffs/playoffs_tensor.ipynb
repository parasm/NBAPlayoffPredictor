{
 "cells": [
  {
   "cell_type": "code",
   "execution_count": 1,
   "metadata": {
    "collapsed": true
   },
   "outputs": [],
   "source": [
    "import numpy as np\n",
    "import pandas as pd\n",
    "from matplotlib import pyplot as plt\n",
    "import seaborn as sns\n",
    "import time\n",
    "%matplotlib inline"
   ]
  },
  {
   "cell_type": "code",
   "execution_count": 2,
   "metadata": {
    "collapsed": true
   },
   "outputs": [],
   "source": [
    "from nba_py.team import TeamYearOverYearSplits, TeamList\n",
    "team_list = TeamList().info().head(30)"
   ]
  },
  {
   "cell_type": "code",
   "execution_count": 3,
   "metadata": {
    "collapsed": false
   },
   "outputs": [
    {
     "data": {
      "text/html": [
       "<div>\n",
       "<table border=\"1\" class=\"dataframe\">\n",
       "  <thead>\n",
       "    <tr style=\"text-align: right;\">\n",
       "      <th></th>\n",
       "      <th>GROUP_SET</th>\n",
       "      <th>GROUP_VALUE</th>\n",
       "      <th>GP</th>\n",
       "      <th>W</th>\n",
       "      <th>L</th>\n",
       "      <th>W_PCT</th>\n",
       "      <th>MIN</th>\n",
       "      <th>FGM</th>\n",
       "      <th>FGA</th>\n",
       "      <th>FG_PCT</th>\n",
       "      <th>...</th>\n",
       "      <th>TOV_RANK</th>\n",
       "      <th>STL_RANK</th>\n",
       "      <th>BLK_RANK</th>\n",
       "      <th>BLKA_RANK</th>\n",
       "      <th>PF_RANK</th>\n",
       "      <th>PFD_RANK</th>\n",
       "      <th>PTS_RANK</th>\n",
       "      <th>PLUS_MINUS_RANK</th>\n",
       "      <th>CFID</th>\n",
       "      <th>CFPARAMS</th>\n",
       "    </tr>\n",
       "  </thead>\n",
       "  <tbody>\n",
       "    <tr>\n",
       "      <th>0</th>\n",
       "      <td>By Year</td>\n",
       "      <td>2017-18</td>\n",
       "      <td>72</td>\n",
       "      <td>58</td>\n",
       "      <td>14</td>\n",
       "      <td>0.806</td>\n",
       "      <td>48.2</td>\n",
       "      <td>38.9</td>\n",
       "      <td>84.3</td>\n",
       "      <td>0.462</td>\n",
       "      <td>...</td>\n",
       "      <td>3</td>\n",
       "      <td>3</td>\n",
       "      <td>11</td>\n",
       "      <td>6</td>\n",
       "      <td>7</td>\n",
       "      <td>7</td>\n",
       "      <td>2</td>\n",
       "      <td>1</td>\n",
       "      <td>210</td>\n",
       "      <td>2017-18</td>\n",
       "    </tr>\n",
       "  </tbody>\n",
       "</table>\n",
       "<p>1 rows × 56 columns</p>\n",
       "</div>"
      ],
      "text/plain": [
       "  GROUP_SET GROUP_VALUE  GP   W   L  W_PCT   MIN   FGM   FGA  FG_PCT  \\\n",
       "0   By Year     2017-18  72  58  14  0.806  48.2  38.9  84.3   0.462   \n",
       "\n",
       "     ...     TOV_RANK  STL_RANK  BLK_RANK  BLKA_RANK  PF_RANK  PFD_RANK  \\\n",
       "0    ...            3         3        11          6        7         7   \n",
       "\n",
       "   PTS_RANK  PLUS_MINUS_RANK  CFID  CFPARAMS  \n",
       "0         2                1   210   2017-18  \n",
       "\n",
       "[1 rows x 56 columns]"
      ]
     },
     "execution_count": 3,
     "metadata": {},
     "output_type": "execute_result"
    }
   ],
   "source": [
    "rockets = TeamYearOverYearSplits(1610612745).by_year()\n",
    "rockets.head(1)"
   ]
  },
  {
   "cell_type": "code",
   "execution_count": 4,
   "metadata": {
    "collapsed": true
   },
   "outputs": [],
   "source": [
    "season_team = {}\n",
    "for team in team_list['TEAM_ID']:\n",
    "    df = TeamYearOverYearSplits(team,season_type='Playoffs').by_year()\n",
    "    for index, row in df.iterrows():\n",
    "        season_data =  season_team.get(row['GROUP_VALUE'])\n",
    "        if season_data:\n",
    "            if team not in season_team[row['GROUP_VALUE']]:\n",
    "                season_team[row['GROUP_VALUE']].append(team)\n",
    "        else:\n",
    "            season_team[row['GROUP_VALUE']] = [team]\n",
    "    time.sleep(2)"
   ]
  },
  {
   "cell_type": "code",
   "execution_count": 5,
   "metadata": {
    "collapsed": true
   },
   "outputs": [],
   "source": [
    "def playoff_team(team_id, season):\n",
    "    if team_id in season_team[season]:\n",
    "        return 1\n",
    "    return 0"
   ]
  },
  {
   "cell_type": "code",
   "execution_count": 6,
   "metadata": {
    "collapsed": false
   },
   "outputs": [
    {
     "ename": "KeyError",
     "evalue": "('2017-18', 'occurred at index 0')",
     "output_type": "error",
     "traceback": [
      "\u001b[0;31m---------------------------------------------------------------------------\u001b[0m",
      "\u001b[0;31mKeyError\u001b[0m                                  Traceback (most recent call last)",
      "\u001b[0;32m<ipython-input-6-4cc138cb2e3d>\u001b[0m in \u001b[0;36m<module>\u001b[0;34m()\u001b[0m\n\u001b[1;32m      2\u001b[0m \u001b[1;32mfor\u001b[0m \u001b[0mteam\u001b[0m \u001b[1;32min\u001b[0m \u001b[0mteam_list\u001b[0m\u001b[1;33m[\u001b[0m\u001b[1;34m'TEAM_ID'\u001b[0m\u001b[1;33m]\u001b[0m\u001b[1;33m:\u001b[0m\u001b[1;33m\u001b[0m\u001b[0m\n\u001b[1;32m      3\u001b[0m     \u001b[0mteam_data\u001b[0m \u001b[1;33m=\u001b[0m \u001b[0mTeamYearOverYearSplits\u001b[0m\u001b[1;33m(\u001b[0m\u001b[0mteam\u001b[0m\u001b[1;33m,\u001b[0m\u001b[0mmeasure_type\u001b[0m \u001b[1;33m=\u001b[0m \u001b[1;34m'Advanced'\u001b[0m\u001b[1;33m)\u001b[0m\u001b[1;33m.\u001b[0m\u001b[0mby_year\u001b[0m\u001b[1;33m(\u001b[0m\u001b[1;33m)\u001b[0m\u001b[1;33m\u001b[0m\u001b[0m\n\u001b[0;32m----> 4\u001b[0;31m     \u001b[0mteam_data\u001b[0m\u001b[1;33m[\u001b[0m\u001b[1;34m'PLAYOFFS'\u001b[0m\u001b[1;33m]\u001b[0m \u001b[1;33m=\u001b[0m \u001b[0mteam_data\u001b[0m\u001b[1;33m.\u001b[0m\u001b[0mapply\u001b[0m\u001b[1;33m(\u001b[0m\u001b[1;32mlambda\u001b[0m \u001b[0mrow\u001b[0m\u001b[1;33m:\u001b[0m \u001b[0mplayoff_team\u001b[0m\u001b[1;33m(\u001b[0m\u001b[0mteam\u001b[0m\u001b[1;33m,\u001b[0m\u001b[0mrow\u001b[0m\u001b[1;33m[\u001b[0m\u001b[1;34m'GROUP_VALUE'\u001b[0m\u001b[1;33m]\u001b[0m\u001b[1;33m)\u001b[0m\u001b[1;33m,\u001b[0m\u001b[0maxis\u001b[0m\u001b[1;33m=\u001b[0m\u001b[1;36m1\u001b[0m\u001b[1;33m)\u001b[0m\u001b[1;33m\u001b[0m\u001b[0m\n\u001b[0m\u001b[1;32m      5\u001b[0m     \u001b[0mall_team_data\u001b[0m \u001b[1;33m=\u001b[0m \u001b[0mpd\u001b[0m\u001b[1;33m.\u001b[0m\u001b[0mconcat\u001b[0m\u001b[1;33m(\u001b[0m\u001b[1;33m[\u001b[0m\u001b[0mall_team_data\u001b[0m\u001b[1;33m,\u001b[0m\u001b[0mteam_data\u001b[0m\u001b[1;33m]\u001b[0m\u001b[1;33m)\u001b[0m\u001b[1;33m\u001b[0m\u001b[0m\n\u001b[1;32m      6\u001b[0m     \u001b[0mtime\u001b[0m\u001b[1;33m.\u001b[0m\u001b[0msleep\u001b[0m\u001b[1;33m(\u001b[0m\u001b[1;36m2\u001b[0m\u001b[1;33m)\u001b[0m\u001b[1;33m\u001b[0m\u001b[0m\n",
      "\u001b[0;32mC:\\Users\\tkauk\\Anaconda3\\lib\\site-packages\\pandas\\core\\frame.py\u001b[0m in \u001b[0;36mapply\u001b[0;34m(self, func, axis, broadcast, raw, reduce, args, **kwds)\u001b[0m\n\u001b[1;32m   4150\u001b[0m                     \u001b[1;32mif\u001b[0m \u001b[0mreduce\u001b[0m \u001b[1;32mis\u001b[0m \u001b[1;32mNone\u001b[0m\u001b[1;33m:\u001b[0m\u001b[1;33m\u001b[0m\u001b[0m\n\u001b[1;32m   4151\u001b[0m                         \u001b[0mreduce\u001b[0m \u001b[1;33m=\u001b[0m \u001b[1;32mTrue\u001b[0m\u001b[1;33m\u001b[0m\u001b[0m\n\u001b[0;32m-> 4152\u001b[0;31m                     \u001b[1;32mreturn\u001b[0m \u001b[0mself\u001b[0m\u001b[1;33m.\u001b[0m\u001b[0m_apply_standard\u001b[0m\u001b[1;33m(\u001b[0m\u001b[0mf\u001b[0m\u001b[1;33m,\u001b[0m \u001b[0maxis\u001b[0m\u001b[1;33m,\u001b[0m \u001b[0mreduce\u001b[0m\u001b[1;33m=\u001b[0m\u001b[0mreduce\u001b[0m\u001b[1;33m)\u001b[0m\u001b[1;33m\u001b[0m\u001b[0m\n\u001b[0m\u001b[1;32m   4153\u001b[0m             \u001b[1;32melse\u001b[0m\u001b[1;33m:\u001b[0m\u001b[1;33m\u001b[0m\u001b[0m\n\u001b[1;32m   4154\u001b[0m                 \u001b[1;32mreturn\u001b[0m \u001b[0mself\u001b[0m\u001b[1;33m.\u001b[0m\u001b[0m_apply_broadcast\u001b[0m\u001b[1;33m(\u001b[0m\u001b[0mf\u001b[0m\u001b[1;33m,\u001b[0m \u001b[0maxis\u001b[0m\u001b[1;33m)\u001b[0m\u001b[1;33m\u001b[0m\u001b[0m\n",
      "\u001b[0;32mC:\\Users\\tkauk\\Anaconda3\\lib\\site-packages\\pandas\\core\\frame.py\u001b[0m in \u001b[0;36m_apply_standard\u001b[0;34m(self, func, axis, ignore_failures, reduce)\u001b[0m\n\u001b[1;32m   4246\u001b[0m             \u001b[1;32mtry\u001b[0m\u001b[1;33m:\u001b[0m\u001b[1;33m\u001b[0m\u001b[0m\n\u001b[1;32m   4247\u001b[0m                 \u001b[1;32mfor\u001b[0m \u001b[0mi\u001b[0m\u001b[1;33m,\u001b[0m \u001b[0mv\u001b[0m \u001b[1;32min\u001b[0m \u001b[0menumerate\u001b[0m\u001b[1;33m(\u001b[0m\u001b[0mseries_gen\u001b[0m\u001b[1;33m)\u001b[0m\u001b[1;33m:\u001b[0m\u001b[1;33m\u001b[0m\u001b[0m\n\u001b[0;32m-> 4248\u001b[0;31m                     \u001b[0mresults\u001b[0m\u001b[1;33m[\u001b[0m\u001b[0mi\u001b[0m\u001b[1;33m]\u001b[0m \u001b[1;33m=\u001b[0m \u001b[0mfunc\u001b[0m\u001b[1;33m(\u001b[0m\u001b[0mv\u001b[0m\u001b[1;33m)\u001b[0m\u001b[1;33m\u001b[0m\u001b[0m\n\u001b[0m\u001b[1;32m   4249\u001b[0m                     \u001b[0mkeys\u001b[0m\u001b[1;33m.\u001b[0m\u001b[0mappend\u001b[0m\u001b[1;33m(\u001b[0m\u001b[0mv\u001b[0m\u001b[1;33m.\u001b[0m\u001b[0mname\u001b[0m\u001b[1;33m)\u001b[0m\u001b[1;33m\u001b[0m\u001b[0m\n\u001b[1;32m   4250\u001b[0m             \u001b[1;32mexcept\u001b[0m \u001b[0mException\u001b[0m \u001b[1;32mas\u001b[0m \u001b[0me\u001b[0m\u001b[1;33m:\u001b[0m\u001b[1;33m\u001b[0m\u001b[0m\n",
      "\u001b[0;32m<ipython-input-6-4cc138cb2e3d>\u001b[0m in \u001b[0;36m<lambda>\u001b[0;34m(row)\u001b[0m\n\u001b[1;32m      2\u001b[0m \u001b[1;32mfor\u001b[0m \u001b[0mteam\u001b[0m \u001b[1;32min\u001b[0m \u001b[0mteam_list\u001b[0m\u001b[1;33m[\u001b[0m\u001b[1;34m'TEAM_ID'\u001b[0m\u001b[1;33m]\u001b[0m\u001b[1;33m:\u001b[0m\u001b[1;33m\u001b[0m\u001b[0m\n\u001b[1;32m      3\u001b[0m     \u001b[0mteam_data\u001b[0m \u001b[1;33m=\u001b[0m \u001b[0mTeamYearOverYearSplits\u001b[0m\u001b[1;33m(\u001b[0m\u001b[0mteam\u001b[0m\u001b[1;33m,\u001b[0m\u001b[0mmeasure_type\u001b[0m \u001b[1;33m=\u001b[0m \u001b[1;34m'Advanced'\u001b[0m\u001b[1;33m)\u001b[0m\u001b[1;33m.\u001b[0m\u001b[0mby_year\u001b[0m\u001b[1;33m(\u001b[0m\u001b[1;33m)\u001b[0m\u001b[1;33m\u001b[0m\u001b[0m\n\u001b[0;32m----> 4\u001b[0;31m     \u001b[0mteam_data\u001b[0m\u001b[1;33m[\u001b[0m\u001b[1;34m'PLAYOFFS'\u001b[0m\u001b[1;33m]\u001b[0m \u001b[1;33m=\u001b[0m \u001b[0mteam_data\u001b[0m\u001b[1;33m.\u001b[0m\u001b[0mapply\u001b[0m\u001b[1;33m(\u001b[0m\u001b[1;32mlambda\u001b[0m \u001b[0mrow\u001b[0m\u001b[1;33m:\u001b[0m \u001b[0mplayoff_team\u001b[0m\u001b[1;33m(\u001b[0m\u001b[0mteam\u001b[0m\u001b[1;33m,\u001b[0m\u001b[0mrow\u001b[0m\u001b[1;33m[\u001b[0m\u001b[1;34m'GROUP_VALUE'\u001b[0m\u001b[1;33m]\u001b[0m\u001b[1;33m)\u001b[0m\u001b[1;33m,\u001b[0m\u001b[0maxis\u001b[0m\u001b[1;33m=\u001b[0m\u001b[1;36m1\u001b[0m\u001b[1;33m)\u001b[0m\u001b[1;33m\u001b[0m\u001b[0m\n\u001b[0m\u001b[1;32m      5\u001b[0m     \u001b[0mall_team_data\u001b[0m \u001b[1;33m=\u001b[0m \u001b[0mpd\u001b[0m\u001b[1;33m.\u001b[0m\u001b[0mconcat\u001b[0m\u001b[1;33m(\u001b[0m\u001b[1;33m[\u001b[0m\u001b[0mall_team_data\u001b[0m\u001b[1;33m,\u001b[0m\u001b[0mteam_data\u001b[0m\u001b[1;33m]\u001b[0m\u001b[1;33m)\u001b[0m\u001b[1;33m\u001b[0m\u001b[0m\n\u001b[1;32m      6\u001b[0m     \u001b[0mtime\u001b[0m\u001b[1;33m.\u001b[0m\u001b[0msleep\u001b[0m\u001b[1;33m(\u001b[0m\u001b[1;36m2\u001b[0m\u001b[1;33m)\u001b[0m\u001b[1;33m\u001b[0m\u001b[0m\n",
      "\u001b[0;32m<ipython-input-5-20dd6b144e14>\u001b[0m in \u001b[0;36mplayoff_team\u001b[0;34m(team_id, season)\u001b[0m\n\u001b[1;32m      1\u001b[0m \u001b[1;32mdef\u001b[0m \u001b[0mplayoff_team\u001b[0m\u001b[1;33m(\u001b[0m\u001b[0mteam_id\u001b[0m\u001b[1;33m,\u001b[0m \u001b[0mseason\u001b[0m\u001b[1;33m)\u001b[0m\u001b[1;33m:\u001b[0m\u001b[1;33m\u001b[0m\u001b[0m\n\u001b[0;32m----> 2\u001b[0;31m     \u001b[1;32mif\u001b[0m \u001b[0mteam_id\u001b[0m \u001b[1;32min\u001b[0m \u001b[0mseason_team\u001b[0m\u001b[1;33m[\u001b[0m\u001b[0mseason\u001b[0m\u001b[1;33m]\u001b[0m\u001b[1;33m:\u001b[0m\u001b[1;33m\u001b[0m\u001b[0m\n\u001b[0m\u001b[1;32m      3\u001b[0m         \u001b[1;32mreturn\u001b[0m \u001b[1;36m1\u001b[0m\u001b[1;33m\u001b[0m\u001b[0m\n\u001b[1;32m      4\u001b[0m     \u001b[1;32mreturn\u001b[0m \u001b[1;36m0\u001b[0m\u001b[1;33m\u001b[0m\u001b[0m\n",
      "\u001b[0;31mKeyError\u001b[0m: ('2017-18', 'occurred at index 0')"
     ]
    }
   ],
   "source": [
    "all_team_data = pd.DataFrame()\n",
    "for team in team_list['TEAM_ID']:\n",
    "    team_data = TeamYearOverYearSplits(team,measure_type = 'Advanced').by_year()\n",
    "    team_data['PLAYOFFS'] = team_data.apply(lambda row: playoff_team(team,row['GROUP_VALUE']),axis=1)\n",
    "    all_team_data = pd.concat([all_team_data,team_data])\n",
    "    time.sleep(2)"
   ]
  },
  {
   "cell_type": "code",
   "execution_count": 14,
   "metadata": {
    "collapsed": true
   },
   "outputs": [],
   "source": [
    "all_team_data = pd.DataFrame()\n",
    "for team in team_list['TEAM_ID']:\n",
    "    team_data = TeamYearOverYearSplits(team).by_year()\n",
    "    team_data['PLAYOFFS'] = team_data.apply(lambda row: playoff_team(team,row['GROUP_VALUE']),axis=1)\n",
    "    all_team_data = pd.concat([all_team_data,team_data])\n",
    "    time.sleep(2)"
   ]
  },
  {
   "cell_type": "code",
   "execution_count": 7,
   "metadata": {
    "collapsed": true
   },
   "outputs": [],
   "source": [
    "regular_stats = pd.read_csv('all_team_playoffs.csv')\n",
    "advs_stats = pd.read_csv('all_team_playoffs_adv.csv')"
   ]
  },
  {
   "cell_type": "code",
   "execution_count": 8,
   "metadata": {
    "collapsed": true
   },
   "outputs": [],
   "source": [
    "regular_features = regular_stats[['FGM', 'FGA', 'FG_PCT', 'FG3M', 'FG3A', 'FG3_PCT', 'FTM', 'FTA',\n",
    "       'FT_PCT', 'OREB', 'DREB', 'REB', 'AST', 'TOV', 'STL', 'BLK', 'BLKA',\n",
    "       'PF', 'PFD', 'PTS', 'PLUS_MINUS']]"
   ]
  },
  {
   "cell_type": "code",
   "execution_count": 9,
   "metadata": {
    "collapsed": true
   },
   "outputs": [],
   "source": [
    "advs_features = advs_stats[['NET_RATING', 'AST_PCT', 'AST_TO',\n",
    "       'AST_RATIO', 'OREB_PCT', 'DREB_PCT', 'REB_PCT', 'TM_TOV_PCT', 'EFG_PCT',\n",
    "       'TS_PCT', 'PACE', 'PIE']]"
   ]
  },
  {
   "cell_type": "code",
   "execution_count": 69,
   "metadata": {
    "collapsed": false
   },
   "outputs": [],
   "source": [
    "from sklearn.model_selection import train_test_split\n",
    "X_train, X_test, y_train, y_test = train_test_split(advs_features, advs_stats['PLAYOFFS'], test_size=0.30, random_state=69)"
   ]
  },
  {
   "cell_type": "code",
   "execution_count": 73,
   "metadata": {
    "collapsed": true
   },
   "outputs": [],
   "source": [
    "from sklearn.preprocessing import StandardScaler"
   ]
  },
  {
   "cell_type": "code",
   "execution_count": 74,
   "metadata": {
    "collapsed": true
   },
   "outputs": [],
   "source": [
    "scaler = StandardScaler()"
   ]
  },
  {
   "cell_type": "code",
   "execution_count": 75,
   "metadata": {
    "collapsed": false
   },
   "outputs": [
    {
     "data": {
      "text/plain": [
       "StandardScaler(copy=True, with_mean=True, with_std=True)"
      ]
     },
     "execution_count": 75,
     "metadata": {},
     "output_type": "execute_result"
    }
   ],
   "source": [
    "scaler.fit(advs_features)"
   ]
  },
  {
   "cell_type": "code",
   "execution_count": 76,
   "metadata": {
    "collapsed": true
   },
   "outputs": [],
   "source": [
    "scaled_features = scaler.fit_transform(advs_features)"
   ]
  },
  {
   "cell_type": "code",
   "execution_count": 78,
   "metadata": {
    "collapsed": false
   },
   "outputs": [
    {
     "data": {
      "text/html": [
       "<div>\n",
       "<table border=\"1\" class=\"dataframe\">\n",
       "  <thead>\n",
       "    <tr style=\"text-align: right;\">\n",
       "      <th></th>\n",
       "      <th>NET_RATING</th>\n",
       "      <th>AST_PCT</th>\n",
       "      <th>AST_TO</th>\n",
       "      <th>AST_RATIO</th>\n",
       "      <th>OREB_PCT</th>\n",
       "      <th>DREB_PCT</th>\n",
       "      <th>REB_PCT</th>\n",
       "      <th>TM_TOV_PCT</th>\n",
       "      <th>EFG_PCT</th>\n",
       "      <th>TS_PCT</th>\n",
       "      <th>PACE</th>\n",
       "      <th>PIE</th>\n",
       "    </tr>\n",
       "  </thead>\n",
       "  <tbody>\n",
       "    <tr>\n",
       "      <th>0</th>\n",
       "      <td>-1.049373</td>\n",
       "      <td>0.756361</td>\n",
       "      <td>0.159141</td>\n",
       "      <td>0.787408</td>\n",
       "      <td>-1.676275</td>\n",
       "      <td>0.976510</td>\n",
       "      <td>-0.997667</td>\n",
       "      <td>0.166296</td>\n",
       "      <td>1.006109</td>\n",
       "      <td>0.875533</td>\n",
       "      <td>1.846938</td>\n",
       "      <td>-0.816897</td>\n",
       "    </tr>\n",
       "    <tr>\n",
       "      <th>1</th>\n",
       "      <td>-0.160531</td>\n",
       "      <td>0.732619</td>\n",
       "      <td>0.051506</td>\n",
       "      <td>0.534963</td>\n",
       "      <td>-1.092083</td>\n",
       "      <td>1.152907</td>\n",
       "      <td>0.195143</td>\n",
       "      <td>0.243303</td>\n",
       "      <td>0.571482</td>\n",
       "      <td>0.358077</td>\n",
       "      <td>1.646540</td>\n",
       "      <td>0.167763</td>\n",
       "    </tr>\n",
       "    <tr>\n",
       "      <th>2</th>\n",
       "      <td>0.807320</td>\n",
       "      <td>1.729787</td>\n",
       "      <td>1.181674</td>\n",
       "      <td>1.881339</td>\n",
       "      <td>-2.475697</td>\n",
       "      <td>0.623718</td>\n",
       "      <td>-1.660339</td>\n",
       "      <td>-0.295743</td>\n",
       "      <td>1.093034</td>\n",
       "      <td>0.875533</td>\n",
       "      <td>1.511898</td>\n",
       "      <td>0.786693</td>\n",
       "    </tr>\n",
       "    <tr>\n",
       "      <th>3</th>\n",
       "      <td>1.103600</td>\n",
       "      <td>2.038434</td>\n",
       "      <td>1.719850</td>\n",
       "      <td>2.386230</td>\n",
       "      <td>-1.768516</td>\n",
       "      <td>0.200367</td>\n",
       "      <td>-1.196468</td>\n",
       "      <td>-0.526762</td>\n",
       "      <td>1.571124</td>\n",
       "      <td>1.392988</td>\n",
       "      <td>0.525568</td>\n",
       "      <td>1.124291</td>\n",
       "    </tr>\n",
       "    <tr>\n",
       "      <th>4</th>\n",
       "      <td>-0.140779</td>\n",
       "      <td>1.824755</td>\n",
       "      <td>0.751134</td>\n",
       "      <td>1.797190</td>\n",
       "      <td>-1.891504</td>\n",
       "      <td>0.553159</td>\n",
       "      <td>-1.395270</td>\n",
       "      <td>0.166296</td>\n",
       "      <td>1.049572</td>\n",
       "      <td>0.969616</td>\n",
       "      <td>0.719703</td>\n",
       "      <td>0.055231</td>\n",
       "    </tr>\n",
       "  </tbody>\n",
       "</table>\n",
       "</div>"
      ],
      "text/plain": [
       "   NET_RATING   AST_PCT    AST_TO  AST_RATIO  OREB_PCT  DREB_PCT   REB_PCT  \\\n",
       "0   -1.049373  0.756361  0.159141   0.787408 -1.676275  0.976510 -0.997667   \n",
       "1   -0.160531  0.732619  0.051506   0.534963 -1.092083  1.152907  0.195143   \n",
       "2    0.807320  1.729787  1.181674   1.881339 -2.475697  0.623718 -1.660339   \n",
       "3    1.103600  2.038434  1.719850   2.386230 -1.768516  0.200367 -1.196468   \n",
       "4   -0.140779  1.824755  0.751134   1.797190 -1.891504  0.553159 -1.395270   \n",
       "\n",
       "   TM_TOV_PCT   EFG_PCT    TS_PCT      PACE       PIE  \n",
       "0    0.166296  1.006109  0.875533  1.846938 -0.816897  \n",
       "1    0.243303  0.571482  0.358077  1.646540  0.167763  \n",
       "2   -0.295743  1.093034  0.875533  1.511898  0.786693  \n",
       "3   -0.526762  1.571124  1.392988  0.525568  1.124291  \n",
       "4    0.166296  1.049572  0.969616  0.719703  0.055231  "
      ]
     },
     "execution_count": 78,
     "metadata": {},
     "output_type": "execute_result"
    }
   ],
   "source": [
    "df_advs_feat = pd.DataFrame(scaled_features,columns = advs_features.columns)\n",
    "df_advs_feat.head()"
   ]
  },
  {
   "cell_type": "code",
   "execution_count": 79,
   "metadata": {
    "collapsed": true
   },
   "outputs": [],
   "source": [
    "X = df_advs_feat"
   ]
  },
  {
   "cell_type": "code",
   "execution_count": 80,
   "metadata": {
    "collapsed": true
   },
   "outputs": [],
   "source": [
    "y = advs_stats['PLAYOFFS']"
   ]
  },
  {
   "cell_type": "code",
   "execution_count": 81,
   "metadata": {
    "collapsed": true
   },
   "outputs": [],
   "source": [
    "X = X.as_matrix()\n",
    "y = y.as_matrix()"
   ]
  },
  {
   "cell_type": "code",
   "execution_count": 82,
   "metadata": {
    "collapsed": true
   },
   "outputs": [],
   "source": [
    "from sklearn.cross_validation import train_test_split"
   ]
  },
  {
   "cell_type": "code",
   "execution_count": 83,
   "metadata": {
    "collapsed": true
   },
   "outputs": [],
   "source": [
    "X_train, X_test, y_train, y_test = train_test_split(X, y, test_size=0.3)"
   ]
  },
  {
   "cell_type": "code",
   "execution_count": 84,
   "metadata": {
    "collapsed": false
   },
   "outputs": [
    {
     "ename": "ModuleNotFoundError",
     "evalue": "No module named 'tensorflow'",
     "output_type": "error",
     "traceback": [
      "\u001b[0;31m---------------------------------------------------------------------------\u001b[0m",
      "\u001b[0;31mModuleNotFoundError\u001b[0m                       Traceback (most recent call last)",
      "\u001b[0;32m<ipython-input-84-aad28acffaa8>\u001b[0m in \u001b[0;36m<module>\u001b[0;34m()\u001b[0m\n\u001b[0;32m----> 1\u001b[0;31m \u001b[1;32mimport\u001b[0m \u001b[0mtensorflow\u001b[0m\u001b[1;33m.\u001b[0m\u001b[0mcontrib\u001b[0m\u001b[1;33m.\u001b[0m\u001b[0mlearn\u001b[0m\u001b[1;33m.\u001b[0m\u001b[0mpython\u001b[0m\u001b[1;33m.\u001b[0m\u001b[0mlearn\u001b[0m \u001b[1;32mas\u001b[0m \u001b[0mlearn\u001b[0m\u001b[1;33m\u001b[0m\u001b[0m\n\u001b[0m",
      "\u001b[0;31mModuleNotFoundError\u001b[0m: No module named 'tensorflow'"
     ]
    }
   ],
   "source": [
    "import tensorflow.contrib.learn.python.learn as learn"
   ]
  },
  {
   "cell_type": "code",
   "execution_count": null,
   "metadata": {
    "collapsed": true
   },
   "outputs": [],
   "source": []
  },
  {
   "cell_type": "code",
   "execution_count": null,
   "metadata": {
    "collapsed": true
   },
   "outputs": [],
   "source": []
  },
  {
   "cell_type": "code",
   "execution_count": 63,
   "metadata": {
    "collapsed": true
   },
   "outputs": [],
   "source": [
    "from sklearn.ensemble import RandomForestClassifier"
   ]
  },
  {
   "cell_type": "code",
   "execution_count": 64,
   "metadata": {
    "collapsed": true
   },
   "outputs": [],
   "source": [
    "rfc = RandomForestClassifier(n_estimators = 600)"
   ]
  },
  {
   "cell_type": "code",
   "execution_count": 70,
   "metadata": {
    "collapsed": false
   },
   "outputs": [
    {
     "data": {
      "text/plain": [
       "RandomForestClassifier(bootstrap=True, class_weight=None, criterion='gini',\n",
       "            max_depth=None, max_features='auto', max_leaf_nodes=None,\n",
       "            min_impurity_split=1e-07, min_samples_leaf=1,\n",
       "            min_samples_split=2, min_weight_fraction_leaf=0.0,\n",
       "            n_estimators=600, n_jobs=1, oob_score=False, random_state=None,\n",
       "            verbose=0, warm_start=False)"
      ]
     },
     "execution_count": 70,
     "metadata": {},
     "output_type": "execute_result"
    }
   ],
   "source": [
    "rfc.fit(X_train,y_train)"
   ]
  },
  {
   "cell_type": "code",
   "execution_count": 71,
   "metadata": {
    "collapsed": false
   },
   "outputs": [],
   "source": [
    "rfc_pred = rfc.predict(X_test)"
   ]
  },
  {
   "cell_type": "code",
   "execution_count": 72,
   "metadata": {
    "collapsed": false
   },
   "outputs": [
    {
     "name": "stdout",
     "output_type": "stream",
     "text": [
      "             precision    recall  f1-score   support\n",
      "\n",
      "          0       0.87      0.89      0.88        87\n",
      "          1       0.91      0.89      0.90       109\n",
      "\n",
      "avg / total       0.89      0.89      0.89       196\n",
      "\n"
     ]
    }
   ],
   "source": [
    "#rfc with advanced stats\n",
    "print(classification_report(y_test,rfc_pred))"
   ]
  },
  {
   "cell_type": "code",
   "execution_count": 68,
   "metadata": {
    "collapsed": false
   },
   "outputs": [
    {
     "name": "stdout",
     "output_type": "stream",
     "text": [
      "             precision    recall  f1-score   support\n",
      "\n",
      "          0       0.85      0.89      0.87        87\n",
      "          1       0.90      0.87      0.89       109\n",
      "\n",
      "avg / total       0.88      0.88      0.88       196\n",
      "\n"
     ]
    }
   ],
   "source": [
    "#rfc with regular stats\n",
    "print(classification_report(y_test,rfc_pred))"
   ]
  },
  {
   "cell_type": "code",
   "execution_count": null,
   "metadata": {
    "collapsed": true
   },
   "outputs": [],
   "source": []
  },
  {
   "cell_type": "code",
   "execution_count": 53,
   "metadata": {
    "collapsed": false
   },
   "outputs": [],
   "source": [
    "from sklearn.tree import DecisionTreeClassifier"
   ]
  },
  {
   "cell_type": "code",
   "execution_count": 59,
   "metadata": {
    "collapsed": true
   },
   "outputs": [],
   "source": [
    "dtree = DecisionTreeClassifier()"
   ]
  },
  {
   "cell_type": "code",
   "execution_count": 60,
   "metadata": {
    "collapsed": false
   },
   "outputs": [
    {
     "data": {
      "text/plain": [
       "DecisionTreeClassifier(class_weight=None, criterion='gini', max_depth=None,\n",
       "            max_features=None, max_leaf_nodes=None,\n",
       "            min_impurity_split=1e-07, min_samples_leaf=1,\n",
       "            min_samples_split=2, min_weight_fraction_leaf=0.0,\n",
       "            presort=False, random_state=None, splitter='best')"
      ]
     },
     "execution_count": 60,
     "metadata": {},
     "output_type": "execute_result"
    }
   ],
   "source": [
    "dtree.fit(X_train,y_train)\n"
   ]
  },
  {
   "cell_type": "code",
   "execution_count": 61,
   "metadata": {
    "collapsed": true
   },
   "outputs": [],
   "source": [
    "dtree_pred = dtree.predict(X_test)"
   ]
  },
  {
   "cell_type": "code",
   "execution_count": 57,
   "metadata": {
    "collapsed": false
   },
   "outputs": [
    {
     "name": "stdout",
     "output_type": "stream",
     "text": [
      "             precision    recall  f1-score   support\n",
      "\n",
      "          0       0.82      0.89      0.85        87\n",
      "          1       0.90      0.84      0.87       109\n",
      "\n",
      "avg / total       0.87      0.86      0.86       196\n",
      "\n"
     ]
    }
   ],
   "source": [
    "#dtree with advanced stats\n",
    "print(classification_report(y_test,dtree_pred))"
   ]
  },
  {
   "cell_type": "code",
   "execution_count": 62,
   "metadata": {
    "collapsed": false
   },
   "outputs": [
    {
     "name": "stdout",
     "output_type": "stream",
     "text": [
      "             precision    recall  f1-score   support\n",
      "\n",
      "          0       0.84      0.90      0.87        87\n",
      "          1       0.91      0.86      0.89       109\n",
      "\n",
      "avg / total       0.88      0.88      0.88       196\n",
      "\n"
     ]
    }
   ],
   "source": [
    "#dtree with reuglar stats\n",
    "print(classification_report(y_test,predictions))"
   ]
  },
  {
   "cell_type": "code",
   "execution_count": 40,
   "metadata": {
    "collapsed": true
   },
   "outputs": [],
   "source": [
    "from sklearn.svm import SVC"
   ]
  },
  {
   "cell_type": "code",
   "execution_count": 47,
   "metadata": {
    "collapsed": true
   },
   "outputs": [],
   "source": [
    "svc_model = SVC()"
   ]
  },
  {
   "cell_type": "code",
   "execution_count": 48,
   "metadata": {
    "collapsed": false
   },
   "outputs": [
    {
     "data": {
      "text/plain": [
       "SVC(C=1.0, cache_size=200, class_weight=None, coef0=0.0,\n",
       "  decision_function_shape=None, degree=3, gamma='auto', kernel='rbf',\n",
       "  max_iter=-1, probability=False, random_state=None, shrinking=True,\n",
       "  tol=0.001, verbose=False)"
      ]
     },
     "execution_count": 48,
     "metadata": {},
     "output_type": "execute_result"
    }
   ],
   "source": [
    "svc_model.fit(X_train,y_train)"
   ]
  },
  {
   "cell_type": "code",
   "execution_count": 49,
   "metadata": {
    "collapsed": true
   },
   "outputs": [],
   "source": [
    "predictions = svc_model.predict(X_test)"
   ]
  },
  {
   "cell_type": "code",
   "execution_count": 51,
   "metadata": {
    "collapsed": true
   },
   "outputs": [],
   "source": [
    "#classification report for support vector machine"
   ]
  },
  {
   "cell_type": "code",
   "execution_count": 50,
   "metadata": {
    "collapsed": false
   },
   "outputs": [
    {
     "name": "stdout",
     "output_type": "stream",
     "text": [
      "             precision    recall  f1-score   support\n",
      "\n",
      "          0       0.84      0.90      0.87        87\n",
      "          1       0.91      0.86      0.89       109\n",
      "\n",
      "avg / total       0.88      0.88      0.88       196\n",
      "\n"
     ]
    }
   ],
   "source": [
    "print(classification_report(y_test,predictions))"
   ]
  },
  {
   "cell_type": "code",
   "execution_count": null,
   "metadata": {
    "collapsed": true
   },
   "outputs": [],
   "source": []
  },
  {
   "cell_type": "code",
   "execution_count": null,
   "metadata": {
    "collapsed": true
   },
   "outputs": [],
   "source": []
  },
  {
   "cell_type": "code",
   "execution_count": null,
   "metadata": {
    "collapsed": true
   },
   "outputs": [],
   "source": []
  },
  {
   "cell_type": "code",
   "execution_count": null,
   "metadata": {
    "collapsed": true
   },
   "outputs": [],
   "source": []
  },
  {
   "cell_type": "code",
   "execution_count": null,
   "metadata": {
    "collapsed": true
   },
   "outputs": [],
   "source": []
  },
  {
   "cell_type": "code",
   "execution_count": 11,
   "metadata": {
    "collapsed": false
   },
   "outputs": [
    {
     "name": "stdout",
     "output_type": "stream",
     "text": [
      "             precision    recall  f1-score   support\n",
      "\n",
      "          0       0.86      0.90      0.88        87\n",
      "          1       0.91      0.88      0.90       109\n",
      "\n",
      "avg / total       0.89      0.89      0.89       196\n",
      "\n"
     ]
    }
   ],
   "source": [
    "from sklearn.linear_model import LogisticRegression\n",
    "regular_model = LogisticRegression()\n",
    "regular_model.fit(X_train, y_train)\n",
    "predictions = regular_model.predict(X_test)\n",
    "from sklearn.metrics import classification_report\n",
    "print(classification_report(y_test,predictions))"
   ]
  },
  {
   "cell_type": "code",
   "execution_count": 12,
   "metadata": {
    "collapsed": true
   },
   "outputs": [],
   "source": [
    "from sklearn.model_selection import train_test_split\n",
    "X_train, X_test, y_train, y_test = train_test_split(advs_features, advs_stats['PLAYOFFS'], test_size=0.30, random_state=300)"
   ]
  },
  {
   "cell_type": "code",
   "execution_count": 13,
   "metadata": {
    "collapsed": false
   },
   "outputs": [
    {
     "name": "stdout",
     "output_type": "stream",
     "text": [
      "             precision    recall  f1-score   support\n",
      "\n",
      "          0       0.87      0.95      0.91        96\n",
      "          1       0.95      0.86      0.90       100\n",
      "\n",
      "avg / total       0.91      0.90      0.90       196\n",
      "\n"
     ]
    }
   ],
   "source": [
    "adv_model = LogisticRegression()\n",
    "adv_model.fit(X_train, y_train)\n",
    "predictions = adv_model.predict(X_test)\n",
    "from sklearn.metrics import classification_report\n",
    "print(classification_report(y_test,predictions))"
   ]
  },
  {
   "cell_type": "code",
   "execution_count": 14,
   "metadata": {
    "collapsed": false
   },
   "outputs": [
    {
     "ename": "NameError",
     "evalue": "name 'logmodel' is not defined",
     "output_type": "error",
     "traceback": [
      "\u001b[0;31m---------------------------------------------------------------------------\u001b[0m",
      "\u001b[0;31mNameError\u001b[0m                                 Traceback (most recent call last)",
      "\u001b[0;32m<ipython-input-14-724b029c7aba>\u001b[0m in \u001b[0;36m<module>\u001b[0;34m()\u001b[0m\n\u001b[1;32m      2\u001b[0m        \u001b[1;34m'FT_PCT'\u001b[0m\u001b[1;33m,\u001b[0m \u001b[1;34m'OREB'\u001b[0m\u001b[1;33m,\u001b[0m \u001b[1;34m'DREB'\u001b[0m\u001b[1;33m,\u001b[0m \u001b[1;34m'REB'\u001b[0m\u001b[1;33m,\u001b[0m \u001b[1;34m'AST'\u001b[0m\u001b[1;33m,\u001b[0m \u001b[1;34m'TOV'\u001b[0m\u001b[1;33m,\u001b[0m \u001b[1;34m'STL'\u001b[0m\u001b[1;33m,\u001b[0m \u001b[1;34m'BLK'\u001b[0m\u001b[1;33m,\u001b[0m \u001b[1;34m'BLKA'\u001b[0m\u001b[1;33m,\u001b[0m\u001b[1;33m\u001b[0m\u001b[0m\n\u001b[1;32m      3\u001b[0m        'PF', 'PFD', 'PTS', 'PLUS_MINUS']]\n\u001b[0;32m----> 4\u001b[0;31m \u001b[0mlogmodel\u001b[0m\u001b[1;33m.\u001b[0m\u001b[0mpredict\u001b[0m\u001b[1;33m(\u001b[0m\u001b[0mtest_team\u001b[0m\u001b[1;33m.\u001b[0m\u001b[0mhead\u001b[0m\u001b[1;33m(\u001b[0m\u001b[1;36m1\u001b[0m\u001b[1;33m)\u001b[0m\u001b[1;33m)\u001b[0m\u001b[1;33m\u001b[0m\u001b[0m\n\u001b[0m",
      "\u001b[0;31mNameError\u001b[0m: name 'logmodel' is not defined"
     ]
    }
   ],
   "source": [
    "test_team =  TeamYearOverYearSplits(1610612740).by_year()[['FGM', 'FGA', 'FG_PCT', 'FG3M', 'FG3A', 'FG3_PCT', 'FTM', 'FTA',\n",
    "       'FT_PCT', 'OREB', 'DREB', 'REB', 'AST', 'TOV', 'STL', 'BLK', 'BLKA',\n",
    "       'PF', 'PFD', 'PTS', 'PLUS_MINUS']]\n",
    "logmodel.predict(test_team.head(1))"
   ]
  },
  {
   "cell_type": "code",
   "execution_count": 15,
   "metadata": {
    "collapsed": true
   },
   "outputs": [],
   "source": [
    "current_predictions_norm = {}\n",
    "current_predictions_adv = {}\n",
    "for index, row in team_list.iterrows():\n",
    "    current = TeamYearOverYearSplits(row['TEAM_ID']).by_year()[['FGM', 'FGA', 'FG_PCT', 'FG3M', 'FG3A', 'FG3_PCT', 'FTM', 'FTA',\n",
    "       'FT_PCT', 'OREB', 'DREB', 'REB', 'AST', 'TOV', 'STL', 'BLK', 'BLKA',\n",
    "       'PF', 'PFD', 'PTS', 'PLUS_MINUS']]\n",
    "    current_adv = TeamYearOverYearSplits(row['TEAM_ID'],measure_type = 'Advanced').by_year()[['NET_RATING', 'AST_PCT', 'AST_TO',\n",
    "       'AST_RATIO', 'OREB_PCT', 'DREB_PCT', 'REB_PCT', 'TM_TOV_PCT', 'EFG_PCT',\n",
    "       'TS_PCT', 'PACE', 'PIE']]\n",
    "    current_predictions_norm[row['ABBREVIATION']] = regular_model.predict(current.head(1))\n",
    "    current_predictions_adv[row['ABBREVIATION']] = adv_model.predict(current_adv.head(1))"
   ]
  },
  {
   "cell_type": "code",
   "execution_count": 16,
   "metadata": {
    "collapsed": false
   },
   "outputs": [
    {
     "name": "stdout",
     "output_type": "stream",
     "text": [
      "Normal Prediciton: ATL [0]\n",
      "Advanced Prediciton: ATL [0]\n",
      "------------------------------\n",
      "Normal Prediciton: BOS [1]\n",
      "Advanced Prediciton: BOS [1]\n",
      "------------------------------\n",
      "Normal Prediciton: CLE [0]\n",
      "Advanced Prediciton: CLE [1]\n",
      "------------------------------\n",
      "Normal Prediciton: NOP [0]\n",
      "Advanced Prediciton: NOP [1]\n",
      "------------------------------\n",
      "Normal Prediciton: CHI [0]\n",
      "Advanced Prediciton: CHI [0]\n",
      "------------------------------\n",
      "Normal Prediciton: DAL [0]\n",
      "Advanced Prediciton: DAL [0]\n",
      "------------------------------\n",
      "Normal Prediciton: DEN [0]\n",
      "Advanced Prediciton: DEN [1]\n",
      "------------------------------\n",
      "Normal Prediciton: GSW [1]\n",
      "Advanced Prediciton: GSW [1]\n",
      "------------------------------\n",
      "Normal Prediciton: HOU [1]\n",
      "Advanced Prediciton: HOU [1]\n",
      "------------------------------\n",
      "Normal Prediciton: LAC [0]\n",
      "Advanced Prediciton: LAC [1]\n",
      "------------------------------\n",
      "Normal Prediciton: LAL [0]\n",
      "Advanced Prediciton: LAL [0]\n",
      "------------------------------\n",
      "Normal Prediciton: MIA [0]\n",
      "Advanced Prediciton: MIA [0]\n",
      "------------------------------\n",
      "Normal Prediciton: MIL [0]\n",
      "Advanced Prediciton: MIL [1]\n",
      "------------------------------\n",
      "Normal Prediciton: MIN [1]\n",
      "Advanced Prediciton: MIN [1]\n",
      "------------------------------\n",
      "Normal Prediciton: BKN [0]\n",
      "Advanced Prediciton: BKN [0]\n",
      "------------------------------\n",
      "Normal Prediciton: NYK [0]\n",
      "Advanced Prediciton: NYK [0]\n",
      "------------------------------\n",
      "Normal Prediciton: ORL [0]\n",
      "Advanced Prediciton: ORL [0]\n",
      "------------------------------\n",
      "Normal Prediciton: IND [0]\n",
      "Advanced Prediciton: IND [1]\n",
      "------------------------------\n",
      "Normal Prediciton: PHI [1]\n",
      "Advanced Prediciton: PHI [1]\n",
      "------------------------------\n",
      "Normal Prediciton: PHX [0]\n",
      "Advanced Prediciton: PHX [0]\n",
      "------------------------------\n",
      "Normal Prediciton: POR [1]\n",
      "Advanced Prediciton: POR [1]\n",
      "------------------------------\n",
      "Normal Prediciton: SAC [0]\n",
      "Advanced Prediciton: SAC [0]\n",
      "------------------------------\n",
      "Normal Prediciton: SAS [1]\n",
      "Advanced Prediciton: SAS [1]\n",
      "------------------------------\n",
      "Normal Prediciton: OKC [1]\n",
      "Advanced Prediciton: OKC [1]\n",
      "------------------------------\n",
      "Normal Prediciton: TOR [1]\n",
      "Advanced Prediciton: TOR [1]\n",
      "------------------------------\n",
      "Normal Prediciton: UTA [1]\n",
      "Advanced Prediciton: UTA [1]\n",
      "------------------------------\n",
      "Normal Prediciton: MEM [0]\n",
      "Advanced Prediciton: MEM [0]\n",
      "------------------------------\n",
      "Normal Prediciton: WAS [0]\n",
      "Advanced Prediciton: WAS [1]\n",
      "------------------------------\n",
      "Normal Prediciton: DET [0]\n",
      "Advanced Prediciton: DET [0]\n",
      "------------------------------\n",
      "Normal Prediciton: CHA [0]\n",
      "Advanced Prediciton: CHA [0]\n",
      "------------------------------\n"
     ]
    }
   ],
   "source": [
    "for norm, adv in zip(current_predictions_norm.keys(),current_predictions_adv.keys()):\n",
    "    print(\"Normal Prediciton: \"+norm+\" \"+str(current_predictions_norm[norm]))\n",
    "    print(\"Advanced Prediciton: \"+adv+\" \"+str(current_predictions_adv[adv]))\n",
    "    print(\"------------------------------\")"
   ]
  },
  {
   "cell_type": "code",
   "execution_count": null,
   "metadata": {
    "collapsed": true
   },
   "outputs": [],
   "source": []
  }
 ],
 "metadata": {
  "kernelspec": {
   "display_name": "Python 3",
   "language": "python",
   "name": "python3"
  },
  "language_info": {
   "codemirror_mode": {
    "name": "ipython",
    "version": 3
   },
   "file_extension": ".py",
   "mimetype": "text/x-python",
   "name": "python",
   "nbconvert_exporter": "python",
   "pygments_lexer": "ipython3",
   "version": "3.6.0"
  }
 },
 "nbformat": 4,
 "nbformat_minor": 2
}
