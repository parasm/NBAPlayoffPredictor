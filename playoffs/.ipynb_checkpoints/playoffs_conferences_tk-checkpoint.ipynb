{
 "cells": [
  {
   "cell_type": "code",
   "execution_count": 1,
   "metadata": {
    "collapsed": true
   },
   "outputs": [],
   "source": [
    "import numpy as np\n",
    "import pandas as pd\n",
    "from matplotlib import pyplot as plt\n",
    "import seaborn as sns\n",
    "import time\n",
    "%matplotlib inline"
   ]
  },
  {
   "cell_type": "code",
   "execution_count": 2,
   "metadata": {
    "collapsed": true
   },
   "outputs": [],
   "source": [
    "from nba_py.team import TeamYearOverYearSplits, TeamList\n",
    "team_list = TeamList().info().head(30)"
   ]
  },
  {
   "cell_type": "code",
   "execution_count": 3,
   "metadata": {},
   "outputs": [
    {
     "data": {
      "text/html": [
       "<div>\n",
       "<style scoped>\n",
       "    .dataframe tbody tr th:only-of-type {\n",
       "        vertical-align: middle;\n",
       "    }\n",
       "\n",
       "    .dataframe tbody tr th {\n",
       "        vertical-align: top;\n",
       "    }\n",
       "\n",
       "    .dataframe thead th {\n",
       "        text-align: right;\n",
       "    }\n",
       "</style>\n",
       "<table border=\"1\" class=\"dataframe\">\n",
       "  <thead>\n",
       "    <tr style=\"text-align: right;\">\n",
       "      <th></th>\n",
       "      <th>GROUP_SET</th>\n",
       "      <th>GROUP_VALUE</th>\n",
       "      <th>GP</th>\n",
       "      <th>W</th>\n",
       "      <th>L</th>\n",
       "      <th>W_PCT</th>\n",
       "      <th>MIN</th>\n",
       "      <th>FGM</th>\n",
       "      <th>FGA</th>\n",
       "      <th>FG_PCT</th>\n",
       "      <th>...</th>\n",
       "      <th>TOV_RANK</th>\n",
       "      <th>STL_RANK</th>\n",
       "      <th>BLK_RANK</th>\n",
       "      <th>BLKA_RANK</th>\n",
       "      <th>PF_RANK</th>\n",
       "      <th>PFD_RANK</th>\n",
       "      <th>PTS_RANK</th>\n",
       "      <th>PLUS_MINUS_RANK</th>\n",
       "      <th>CFID</th>\n",
       "      <th>CFPARAMS</th>\n",
       "    </tr>\n",
       "  </thead>\n",
       "  <tbody>\n",
       "    <tr>\n",
       "      <th>0</th>\n",
       "      <td>By Year</td>\n",
       "      <td>2017-18</td>\n",
       "      <td>82</td>\n",
       "      <td>65</td>\n",
       "      <td>17</td>\n",
       "      <td>0.793</td>\n",
       "      <td>48.2</td>\n",
       "      <td>38.7</td>\n",
       "      <td>84.2</td>\n",
       "      <td>0.46</td>\n",
       "      <td>...</td>\n",
       "      <td>3</td>\n",
       "      <td>3</td>\n",
       "      <td>11</td>\n",
       "      <td>4</td>\n",
       "      <td>5</td>\n",
       "      <td>10</td>\n",
       "      <td>2</td>\n",
       "      <td>1</td>\n",
       "      <td>210</td>\n",
       "      <td>2017-18</td>\n",
       "    </tr>\n",
       "  </tbody>\n",
       "</table>\n",
       "<p>1 rows × 56 columns</p>\n",
       "</div>"
      ],
      "text/plain": [
       "  GROUP_SET GROUP_VALUE  GP   W   L  W_PCT   MIN   FGM   FGA  FG_PCT  \\\n",
       "0   By Year     2017-18  82  65  17  0.793  48.2  38.7  84.2    0.46   \n",
       "\n",
       "     ...     TOV_RANK  STL_RANK  BLK_RANK  BLKA_RANK  PF_RANK  PFD_RANK  \\\n",
       "0    ...            3         3        11          4        5        10   \n",
       "\n",
       "   PTS_RANK  PLUS_MINUS_RANK  CFID  CFPARAMS  \n",
       "0         2                1   210   2017-18  \n",
       "\n",
       "[1 rows x 56 columns]"
      ]
     },
     "execution_count": 3,
     "metadata": {},
     "output_type": "execute_result"
    }
   ],
   "source": [
    "rockets = TeamYearOverYearSplits(1610612745).by_year()\n",
    "rockets.head(1)"
   ]
  },
  {
   "cell_type": "code",
   "execution_count": null,
   "metadata": {
    "collapsed": true
   },
   "outputs": [],
   "source": []
  },
  {
   "cell_type": "code",
   "execution_count": 6,
   "metadata": {
    "collapsed": true
   },
   "outputs": [],
   "source": [
    "season_team = {}\n",
    "for team in team_list['TEAM_ID']:\n",
    "    df = TeamYearOverYearSplits(team,season_type='Playoffs').by_year()\n",
    "    for index, row in df.iterrows():\n",
    "        season_data =  season_team.get(row['GROUP_VALUE'])\n",
    "        if season_data:\n",
    "            if team not in season_team[row['GROUP_VALUE']]:\n",
    "                season_team[row['GROUP_VALUE']].append(team)\n",
    "        else:\n",
    "            season_team[row['GROUP_VALUE']] = [team]\n",
    "    time.sleep(2)"
   ]
  },
  {
   "cell_type": "code",
   "execution_count": 4,
   "metadata": {
    "collapsed": true
   },
   "outputs": [],
   "source": [
    "def playoff_team(team_id, season):\n",
    "    if team_id in season_team[season]:\n",
    "        return 1\n",
    "    return 0"
   ]
  },
  {
   "cell_type": "code",
   "execution_count": 7,
   "metadata": {
    "collapsed": true
   },
   "outputs": [],
   "source": [
    "all_team_data = pd.DataFrame()\n",
    "for team in team_list['TEAM_ID']:\n",
    "    team_data = TeamYearOverYearSplits(team,measure_type = 'Advanced').by_year()\n",
    "    team_data['PLAYOFFS'] = team_data.apply(lambda row: playoff_team(team,row['GROUP_VALUE']),axis=1)\n",
    "    team_data['TEAM_ID'] = team\n",
    "    all_team_data = pd.concat([all_team_data,team_data])\n",
    "    time.sleep(2)"
   ]
  },
  {
   "cell_type": "code",
   "execution_count": 11,
   "metadata": {},
   "outputs": [
    {
     "data": {
      "text/plain": [
       "1610612751    22\n",
       "1610612765    22\n",
       "1610612738    22\n",
       "1610612739    22\n",
       "1610612741    22\n",
       "1610612742    22\n",
       "1610612743    22\n",
       "1610612744    22\n",
       "1610612745    22\n",
       "1610612746    22\n",
       "1610612747    22\n",
       "1610612748    22\n",
       "1610612749    22\n",
       "1610612750    22\n",
       "1610612737    22\n",
       "1610612752    22\n",
       "1610612753    22\n",
       "1610612754    22\n",
       "1610612755    22\n",
       "1610612756    22\n",
       "1610612757    22\n",
       "1610612758    22\n",
       "1610612759    22\n",
       "1610612760    22\n",
       "1610612761    22\n",
       "1610612762    22\n",
       "1610612763    22\n",
       "1610612764    22\n",
       "1610612766    20\n",
       "1610612740    16\n",
       "Name: TEAM_ID, dtype: int64"
      ]
     },
     "execution_count": 11,
     "metadata": {},
     "output_type": "execute_result"
    }
   ],
   "source": [
    "all_team_data['TEAM_ID'].value_counts()"
   ]
  },
  {
   "cell_type": "code",
   "execution_count": 16,
   "metadata": {
    "collapsed": true
   },
   "outputs": [],
   "source": [
    "teams = TeamList().info().head(30)"
   ]
  },
  {
   "cell_type": "code",
   "execution_count": 16,
   "metadata": {
    "collapsed": true
   },
   "outputs": [],
   "source": [
    "all_team_data.to_csv('playoff_adv_with_ids.csv')"
   ]
  },
  {
   "cell_type": "code",
   "execution_count": 5,
   "metadata": {
    "collapsed": true
   },
   "outputs": [],
   "source": [
    "playoff_adv = pd.read_csv('playoff_adv_with_ids.csv')"
   ]
  },
  {
   "cell_type": "code",
   "execution_count": 34,
   "metadata": {
    "collapsed": true
   },
   "outputs": [],
   "source": [
    "playoff_reg = pd.read_csv('playoff_with_ids.csv')"
   ]
  },
  {
   "cell_type": "code",
   "execution_count": 17,
   "metadata": {},
   "outputs": [
    {
     "name": "stdout",
     "output_type": "stream",
     "text": [
      "<class 'pandas.core.frame.DataFrame'>\n",
      "RangeIndex: 30 entries, 0 to 29\n",
      "Data columns (total 5 columns):\n",
      "LEAGUE_ID       30 non-null object\n",
      "TEAM_ID         30 non-null int64\n",
      "MIN_YEAR        30 non-null object\n",
      "MAX_YEAR        30 non-null object\n",
      "ABBREVIATION    30 non-null object\n",
      "dtypes: int64(1), object(4)\n",
      "memory usage: 1.2+ KB\n"
     ]
    }
   ],
   "source": [
    "teams.info()"
   ]
  },
  {
   "cell_type": "code",
   "execution_count": 7,
   "metadata": {},
   "outputs": [
    {
     "data": {
      "text/html": [
       "<div>\n",
       "<style scoped>\n",
       "    .dataframe tbody tr th:only-of-type {\n",
       "        vertical-align: middle;\n",
       "    }\n",
       "\n",
       "    .dataframe tbody tr th {\n",
       "        vertical-align: top;\n",
       "    }\n",
       "\n",
       "    .dataframe thead th {\n",
       "        text-align: right;\n",
       "    }\n",
       "</style>\n",
       "<table border=\"1\" class=\"dataframe\">\n",
       "  <thead>\n",
       "    <tr style=\"text-align: right;\">\n",
       "      <th></th>\n",
       "      <th>Unnamed: 0</th>\n",
       "      <th>GROUP_SET</th>\n",
       "      <th>GROUP_VALUE</th>\n",
       "      <th>GP</th>\n",
       "      <th>W</th>\n",
       "      <th>L</th>\n",
       "      <th>W_PCT</th>\n",
       "      <th>MIN</th>\n",
       "      <th>OFF_RATING</th>\n",
       "      <th>DEF_RATING</th>\n",
       "      <th>...</th>\n",
       "      <th>REB_PCT_RANK</th>\n",
       "      <th>TM_TOV_PCT_RANK</th>\n",
       "      <th>EFG_PCT_RANK</th>\n",
       "      <th>TS_PCT_RANK</th>\n",
       "      <th>PACE_RANK</th>\n",
       "      <th>PIE_RANK</th>\n",
       "      <th>CFID</th>\n",
       "      <th>CFPARAMS</th>\n",
       "      <th>PLAYOFFS</th>\n",
       "      <th>TEAM_ID</th>\n",
       "    </tr>\n",
       "  </thead>\n",
       "  <tbody>\n",
       "    <tr>\n",
       "      <th>0</th>\n",
       "      <td>0</td>\n",
       "      <td>By Year</td>\n",
       "      <td>2017-18</td>\n",
       "      <td>82</td>\n",
       "      <td>24</td>\n",
       "      <td>58</td>\n",
       "      <td>0.293</td>\n",
       "      <td>3941.0</td>\n",
       "      <td>102.4</td>\n",
       "      <td>108.2</td>\n",
       "      <td>...</td>\n",
       "      <td>18</td>\n",
       "      <td>7</td>\n",
       "      <td>5</td>\n",
       "      <td>4</td>\n",
       "      <td>1</td>\n",
       "      <td>15</td>\n",
       "      <td>210</td>\n",
       "      <td>2017-18</td>\n",
       "      <td>0</td>\n",
       "      <td>1610612737</td>\n",
       "    </tr>\n",
       "    <tr>\n",
       "      <th>1</th>\n",
       "      <td>1</td>\n",
       "      <td>By Year</td>\n",
       "      <td>2016-17</td>\n",
       "      <td>82</td>\n",
       "      <td>43</td>\n",
       "      <td>39</td>\n",
       "      <td>0.524</td>\n",
       "      <td>3976.0</td>\n",
       "      <td>102.3</td>\n",
       "      <td>103.1</td>\n",
       "      <td>...</td>\n",
       "      <td>7</td>\n",
       "      <td>10</td>\n",
       "      <td>8</td>\n",
       "      <td>10</td>\n",
       "      <td>2</td>\n",
       "      <td>10</td>\n",
       "      <td>210</td>\n",
       "      <td>2016-17</td>\n",
       "      <td>1</td>\n",
       "      <td>1610612737</td>\n",
       "    </tr>\n",
       "    <tr>\n",
       "      <th>2</th>\n",
       "      <td>2</td>\n",
       "      <td>By Year</td>\n",
       "      <td>2015-16</td>\n",
       "      <td>82</td>\n",
       "      <td>48</td>\n",
       "      <td>34</td>\n",
       "      <td>0.585</td>\n",
       "      <td>3966.0</td>\n",
       "      <td>103.0</td>\n",
       "      <td>98.8</td>\n",
       "      <td>...</td>\n",
       "      <td>22</td>\n",
       "      <td>6</td>\n",
       "      <td>3</td>\n",
       "      <td>3</td>\n",
       "      <td>3</td>\n",
       "      <td>4</td>\n",
       "      <td>210</td>\n",
       "      <td>2015-16</td>\n",
       "      <td>1</td>\n",
       "      <td>1610612737</td>\n",
       "    </tr>\n",
       "    <tr>\n",
       "      <th>3</th>\n",
       "      <td>3</td>\n",
       "      <td>By Year</td>\n",
       "      <td>2014-15</td>\n",
       "      <td>82</td>\n",
       "      <td>60</td>\n",
       "      <td>22</td>\n",
       "      <td>0.732</td>\n",
       "      <td>3946.0</td>\n",
       "      <td>106.2</td>\n",
       "      <td>100.7</td>\n",
       "      <td>...</td>\n",
       "      <td>20</td>\n",
       "      <td>3</td>\n",
       "      <td>1</td>\n",
       "      <td>1</td>\n",
       "      <td>5</td>\n",
       "      <td>1</td>\n",
       "      <td>210</td>\n",
       "      <td>2014-15</td>\n",
       "      <td>1</td>\n",
       "      <td>1610612737</td>\n",
       "    </tr>\n",
       "    <tr>\n",
       "      <th>4</th>\n",
       "      <td>4</td>\n",
       "      <td>By Year</td>\n",
       "      <td>2013-14</td>\n",
       "      <td>82</td>\n",
       "      <td>38</td>\n",
       "      <td>44</td>\n",
       "      <td>0.463</td>\n",
       "      <td>3966.0</td>\n",
       "      <td>103.4</td>\n",
       "      <td>104.1</td>\n",
       "      <td>...</td>\n",
       "      <td>21</td>\n",
       "      <td>9</td>\n",
       "      <td>4</td>\n",
       "      <td>2</td>\n",
       "      <td>4</td>\n",
       "      <td>11</td>\n",
       "      <td>210</td>\n",
       "      <td>2013-14</td>\n",
       "      <td>1</td>\n",
       "      <td>1610612737</td>\n",
       "    </tr>\n",
       "  </tbody>\n",
       "</table>\n",
       "<p>5 rows × 45 columns</p>\n",
       "</div>"
      ],
      "text/plain": [
       "   Unnamed: 0 GROUP_SET GROUP_VALUE  GP   W   L  W_PCT     MIN  OFF_RATING  \\\n",
       "0           0   By Year     2017-18  82  24  58  0.293  3941.0       102.4   \n",
       "1           1   By Year     2016-17  82  43  39  0.524  3976.0       102.3   \n",
       "2           2   By Year     2015-16  82  48  34  0.585  3966.0       103.0   \n",
       "3           3   By Year     2014-15  82  60  22  0.732  3946.0       106.2   \n",
       "4           4   By Year     2013-14  82  38  44  0.463  3966.0       103.4   \n",
       "\n",
       "   DEF_RATING     ...      REB_PCT_RANK  TM_TOV_PCT_RANK  EFG_PCT_RANK  \\\n",
       "0       108.2     ...                18                7             5   \n",
       "1       103.1     ...                 7               10             8   \n",
       "2        98.8     ...                22                6             3   \n",
       "3       100.7     ...                20                3             1   \n",
       "4       104.1     ...                21                9             4   \n",
       "\n",
       "   TS_PCT_RANK  PACE_RANK  PIE_RANK  CFID  CFPARAMS  PLAYOFFS     TEAM_ID  \n",
       "0            4          1        15   210   2017-18         0  1610612737  \n",
       "1           10          2        10   210   2016-17         1  1610612737  \n",
       "2            3          3         4   210   2015-16         1  1610612737  \n",
       "3            1          5         1   210   2014-15         1  1610612737  \n",
       "4            2          4        11   210   2013-14         1  1610612737  \n",
       "\n",
       "[5 rows x 45 columns]"
      ]
     },
     "execution_count": 7,
     "metadata": {},
     "output_type": "execute_result"
    }
   ],
   "source": [
    "playoff_adv.head()"
   ]
  },
  {
   "cell_type": "code",
   "execution_count": 35,
   "metadata": {
    "collapsed": true
   },
   "outputs": [],
   "source": [
    "idx = np.searchsorted(teams.TEAM_ID.values,playoff_reg.TEAM_ID.values)"
   ]
  },
  {
   "cell_type": "code",
   "execution_count": 36,
   "metadata": {
    "collapsed": true
   },
   "outputs": [],
   "source": [
    "playoff_reg['TEAM_NAME'] = teams.ABBREVIATION.values[idx]"
   ]
  },
  {
   "cell_type": "code",
   "execution_count": 37,
   "metadata": {},
   "outputs": [
    {
     "data": {
      "text/plain": [
       "DAL    22\n",
       "PHX    22\n",
       "HOU    22\n",
       "CHI    22\n",
       "BKN    22\n",
       "MIA    22\n",
       "LAC    22\n",
       "MEM    22\n",
       "DET    22\n",
       "SAS    22\n",
       "NYK    22\n",
       "UTA    22\n",
       "SAC    22\n",
       "GSW    22\n",
       "WAS    22\n",
       "DEN    22\n",
       "IND    22\n",
       "POR    22\n",
       "BOS    22\n",
       "CLE    22\n",
       "PHI    22\n",
       "MIN    22\n",
       "ORL    22\n",
       "MIL    22\n",
       "TOR    22\n",
       "ATL    22\n",
       "LAL    22\n",
       "OKC    22\n",
       "CHA    20\n",
       "NOP    16\n",
       "Name: TEAM_NAME, dtype: int64"
      ]
     },
     "execution_count": 37,
     "metadata": {},
     "output_type": "execute_result"
    }
   ],
   "source": [
    "playoff_reg['TEAM_NAME'].value_counts()"
   ]
  },
  {
   "cell_type": "code",
   "execution_count": 20,
   "metadata": {
    "collapsed": true
   },
   "outputs": [],
   "source": [
    "playoff_adv['TEAM_NAME'] = teams.ABBREVIATION.values[idx]"
   ]
  },
  {
   "cell_type": "code",
   "execution_count": 21,
   "metadata": {},
   "outputs": [
    {
     "data": {
      "text/plain": [
       "DAL    22\n",
       "PHX    22\n",
       "HOU    22\n",
       "CHI    22\n",
       "BKN    22\n",
       "MIA    22\n",
       "LAC    22\n",
       "MEM    22\n",
       "DET    22\n",
       "SAS    22\n",
       "NYK    22\n",
       "UTA    22\n",
       "SAC    22\n",
       "GSW    22\n",
       "WAS    22\n",
       "DEN    22\n",
       "IND    22\n",
       "POR    22\n",
       "BOS    22\n",
       "CLE    22\n",
       "PHI    22\n",
       "MIN    22\n",
       "ORL    22\n",
       "MIL    22\n",
       "TOR    22\n",
       "ATL    22\n",
       "LAL    22\n",
       "OKC    22\n",
       "CHA    20\n",
       "NOP    16\n",
       "Name: TEAM_NAME, dtype: int64"
      ]
     },
     "execution_count": 21,
     "metadata": {},
     "output_type": "execute_result"
    }
   ],
   "source": [
    "playoff_adv['TEAM_NAME'].value_counts()"
   ]
  },
  {
   "cell_type": "code",
   "execution_count": 22,
   "metadata": {
    "collapsed": true
   },
   "outputs": [],
   "source": [
    "east_teams = ['CHI','BKN','MIA','DET','NYK','WAS','IND','BOS','CLE','PHI','ORL','MIL','TOR','ATL','CHA']"
   ]
  },
  {
   "cell_type": "code",
   "execution_count": 38,
   "metadata": {
    "collapsed": true
   },
   "outputs": [],
   "source": [
    "playoff_reg['EASTERN'] = playoff_reg.apply(lambda x: True if x.TEAM_NAME in east_teams else False, axis = 1)"
   ]
  },
  {
   "cell_type": "code",
   "execution_count": 27,
   "metadata": {
    "collapsed": true
   },
   "outputs": [],
   "source": [
    "playoff_adv['EASTERN'] = playoff_adv.apply(lambda x: True if x.TEAM_NAME in east_teams else False, axis = 1)"
   ]
  },
  {
   "cell_type": "code",
   "execution_count": 39,
   "metadata": {},
   "outputs": [
    {
     "data": {
      "text/plain": [
       "True     328\n",
       "False    324\n",
       "Name: EASTERN, dtype: int64"
      ]
     },
     "execution_count": 39,
     "metadata": {},
     "output_type": "execute_result"
    }
   ],
   "source": [
    "playoff_reg['EASTERN'].value_counts()"
   ]
  },
  {
   "cell_type": "code",
   "execution_count": 40,
   "metadata": {
    "collapsed": true
   },
   "outputs": [],
   "source": [
    "playoff_reg_east = playoff_reg[playoff_reg['EASTERN'] == True]"
   ]
  },
  {
   "cell_type": "code",
   "execution_count": 41,
   "metadata": {
    "collapsed": true
   },
   "outputs": [],
   "source": [
    "playoff_reg_west = playoff_reg[playoff_reg['EASTERN'] == False]"
   ]
  },
  {
   "cell_type": "code",
   "execution_count": 42,
   "metadata": {
    "collapsed": true
   },
   "outputs": [],
   "source": [
    "playoff_reg_east.to_csv('playoff_reg_east.csv')"
   ]
  },
  {
   "cell_type": "code",
   "execution_count": 43,
   "metadata": {
    "collapsed": true
   },
   "outputs": [],
   "source": [
    "playoff_reg_west.to_csv('playoff_reg_west.csv')"
   ]
  },
  {
   "cell_type": "code",
   "execution_count": 29,
   "metadata": {
    "collapsed": true
   },
   "outputs": [],
   "source": [
    "playoff_adv_east = playoff_adv[playoff_adv['EASTERN'] == True]"
   ]
  },
  {
   "cell_type": "code",
   "execution_count": 30,
   "metadata": {
    "collapsed": true
   },
   "outputs": [],
   "source": [
    "playoff_adv_west = playoff_adv[playoff_adv['EASTERN'] == False]"
   ]
  },
  {
   "cell_type": "code",
   "execution_count": 32,
   "metadata": {
    "collapsed": true
   },
   "outputs": [],
   "source": [
    "playoff_adv_east.to_csv('playoff_adv_east.csv')"
   ]
  },
  {
   "cell_type": "code",
   "execution_count": 33,
   "metadata": {
    "collapsed": true
   },
   "outputs": [],
   "source": [
    "playoff_adv_west.to_csv('playoff_adv_west.csv')"
   ]
  },
  {
   "cell_type": "code",
   "execution_count": 3,
   "metadata": {
    "collapsed": true
   },
   "outputs": [],
   "source": [
    "playoff_adv_west = pd.read_csv('playoff_adv_west.csv')"
   ]
  },
  {
   "cell_type": "code",
   "execution_count": 4,
   "metadata": {
    "collapsed": true
   },
   "outputs": [],
   "source": [
    "playoff_adv_east = pd.read_csv('playoff_adv_east.csv')"
   ]
  },
  {
   "cell_type": "code",
   "execution_count": 5,
   "metadata": {
    "collapsed": true
   },
   "outputs": [],
   "source": [
    "playoff_reg_west = pd.read_csv('playoff_reg_west.csv')"
   ]
  },
  {
   "cell_type": "code",
   "execution_count": 6,
   "metadata": {
    "collapsed": true
   },
   "outputs": [],
   "source": [
    "playoff_reg_east = pd.read_csv('playoff_reg_east.csv')"
   ]
  },
  {
   "cell_type": "code",
   "execution_count": 7,
   "metadata": {},
   "outputs": [
    {
     "name": "stdout",
     "output_type": "stream",
     "text": [
      "<class 'pandas.core.frame.DataFrame'>\n",
      "RangeIndex: 328 entries, 0 to 327\n",
      "Data columns (total 48 columns):\n",
      "Unnamed: 0         328 non-null int64\n",
      "Unnamed: 0.1       328 non-null int64\n",
      "GROUP_SET          328 non-null object\n",
      "GROUP_VALUE        328 non-null object\n",
      "GP                 328 non-null int64\n",
      "W                  328 non-null int64\n",
      "L                  328 non-null int64\n",
      "W_PCT              328 non-null float64\n",
      "MIN                328 non-null float64\n",
      "OFF_RATING         328 non-null float64\n",
      "DEF_RATING         328 non-null float64\n",
      "NET_RATING         328 non-null float64\n",
      "AST_PCT            328 non-null float64\n",
      "AST_TO             328 non-null float64\n",
      "AST_RATIO          328 non-null float64\n",
      "OREB_PCT           328 non-null float64\n",
      "DREB_PCT           328 non-null float64\n",
      "REB_PCT            328 non-null float64\n",
      "TM_TOV_PCT         328 non-null float64\n",
      "EFG_PCT            328 non-null float64\n",
      "TS_PCT             328 non-null float64\n",
      "PACE               328 non-null float64\n",
      "PIE                328 non-null float64\n",
      "GP_RANK            328 non-null int64\n",
      "W_RANK             328 non-null int64\n",
      "L_RANK             328 non-null int64\n",
      "W_PCT_RANK         328 non-null int64\n",
      "MIN_RANK           328 non-null int64\n",
      "OFF_RATING_RANK    328 non-null int64\n",
      "DEF_RATING_RANK    328 non-null int64\n",
      "NET_RATING_RANK    328 non-null int64\n",
      "AST_PCT_RANK       328 non-null int64\n",
      "AST_TO_RANK        328 non-null int64\n",
      "AST_RATIO_RANK     328 non-null int64\n",
      "OREB_PCT_RANK      328 non-null int64\n",
      "DREB_PCT_RANK      328 non-null int64\n",
      "REB_PCT_RANK       328 non-null int64\n",
      "TM_TOV_PCT_RANK    328 non-null int64\n",
      "EFG_PCT_RANK       328 non-null int64\n",
      "TS_PCT_RANK        328 non-null int64\n",
      "PACE_RANK          328 non-null int64\n",
      "PIE_RANK           328 non-null int64\n",
      "CFID               328 non-null int64\n",
      "CFPARAMS           328 non-null object\n",
      "PLAYOFFS           328 non-null int64\n",
      "TEAM_ID            328 non-null int64\n",
      "TEAM_NAME          328 non-null object\n",
      "EASTERN            328 non-null bool\n",
      "dtypes: bool(1), float64(16), int64(27), object(4)\n",
      "memory usage: 120.8+ KB\n"
     ]
    }
   ],
   "source": [
    "playoff_adv_east.info()"
   ]
  },
  {
   "cell_type": "code",
   "execution_count": 14,
   "metadata": {},
   "outputs": [
    {
     "data": {
      "text/plain": [
       "0     1610612737\n",
       "1     1610612738\n",
       "2     1610612739\n",
       "3     1610612740\n",
       "4     1610612741\n",
       "5     1610612742\n",
       "6     1610612743\n",
       "7     1610612744\n",
       "8     1610612745\n",
       "9     1610612746\n",
       "10    1610612747\n",
       "11    1610612748\n",
       "12    1610612749\n",
       "13    1610612750\n",
       "14    1610612751\n",
       "15    1610612752\n",
       "16    1610612753\n",
       "17    1610612754\n",
       "18    1610612755\n",
       "19    1610612756\n",
       "20    1610612757\n",
       "21    1610612758\n",
       "22    1610612759\n",
       "23    1610612760\n",
       "24    1610612761\n",
       "25    1610612762\n",
       "26    1610612763\n",
       "27    1610612764\n",
       "28    1610612765\n",
       "29    1610612766\n",
       "Name: TEAM_ID, dtype: int64"
      ]
     },
     "execution_count": 14,
     "metadata": {},
     "output_type": "execute_result"
    }
   ],
   "source": [
    "teams['TEAM_ID']"
   ]
  },
  {
   "cell_type": "code",
   "execution_count": null,
   "metadata": {
    "collapsed": true
   },
   "outputs": [],
   "source": [
    "all_team_data = pd.DataFrame()\n",
    "for team in team_list['TEAM_ID']:\n",
    "    team_data = TeamYearOverYearSplits(team).by_year()\n",
    "    team_data['PLAYOFFS'] = team_data.apply(lambda row: playoff_team(team,row['GROUP_VALUE']),axis=1)\n",
    "    team_data['TEAM_ID'] = team\n",
    "    all_team_data = pd.concat([all_team_data,team_data])\n",
    "    time.sleep(2)"
   ]
  },
  {
   "cell_type": "code",
   "execution_count": 25,
   "metadata": {},
   "outputs": [
    {
     "data": {
      "text/html": [
       "<div>\n",
       "<style scoped>\n",
       "    .dataframe tbody tr th:only-of-type {\n",
       "        vertical-align: middle;\n",
       "    }\n",
       "\n",
       "    .dataframe tbody tr th {\n",
       "        vertical-align: top;\n",
       "    }\n",
       "\n",
       "    .dataframe thead th {\n",
       "        text-align: right;\n",
       "    }\n",
       "</style>\n",
       "<table border=\"1\" class=\"dataframe\">\n",
       "  <thead>\n",
       "    <tr style=\"text-align: right;\">\n",
       "      <th></th>\n",
       "      <th>Unnamed: 0</th>\n",
       "      <th>Unnamed: 0.1</th>\n",
       "      <th>GROUP_SET</th>\n",
       "      <th>GROUP_VALUE</th>\n",
       "      <th>GP</th>\n",
       "      <th>W</th>\n",
       "      <th>L</th>\n",
       "      <th>W_PCT</th>\n",
       "      <th>MIN</th>\n",
       "      <th>OFF_RATING</th>\n",
       "      <th>...</th>\n",
       "      <th>EFG_PCT_RANK</th>\n",
       "      <th>TS_PCT_RANK</th>\n",
       "      <th>PACE_RANK</th>\n",
       "      <th>PIE_RANK</th>\n",
       "      <th>CFID</th>\n",
       "      <th>CFPARAMS</th>\n",
       "      <th>PLAYOFFS</th>\n",
       "      <th>TEAM_ID</th>\n",
       "      <th>TEAM_NAME</th>\n",
       "      <th>EASTERN</th>\n",
       "    </tr>\n",
       "  </thead>\n",
       "  <tbody>\n",
       "    <tr>\n",
       "      <th>0</th>\n",
       "      <td>66</td>\n",
       "      <td>0</td>\n",
       "      <td>By Year</td>\n",
       "      <td>2017-18</td>\n",
       "      <td>82</td>\n",
       "      <td>48</td>\n",
       "      <td>34</td>\n",
       "      <td>0.585</td>\n",
       "      <td>3991.0</td>\n",
       "      <td>107.7</td>\n",
       "      <td>...</td>\n",
       "      <td>1</td>\n",
       "      <td>1</td>\n",
       "      <td>1</td>\n",
       "      <td>2</td>\n",
       "      <td>210</td>\n",
       "      <td>2017-18</td>\n",
       "      <td>1</td>\n",
       "      <td>1610612740</td>\n",
       "      <td>NOP</td>\n",
       "      <td>False</td>\n",
       "    </tr>\n",
       "    <tr>\n",
       "      <th>1</th>\n",
       "      <td>67</td>\n",
       "      <td>1</td>\n",
       "      <td>By Year</td>\n",
       "      <td>2016-17</td>\n",
       "      <td>82</td>\n",
       "      <td>34</td>\n",
       "      <td>48</td>\n",
       "      <td>0.415</td>\n",
       "      <td>3981.0</td>\n",
       "      <td>103.3</td>\n",
       "      <td>...</td>\n",
       "      <td>4</td>\n",
       "      <td>5</td>\n",
       "      <td>2</td>\n",
       "      <td>7</td>\n",
       "      <td>210</td>\n",
       "      <td>2016-17</td>\n",
       "      <td>0</td>\n",
       "      <td>1610612740</td>\n",
       "      <td>NOP</td>\n",
       "      <td>False</td>\n",
       "    </tr>\n",
       "    <tr>\n",
       "      <th>2</th>\n",
       "      <td>68</td>\n",
       "      <td>2</td>\n",
       "      <td>By Year</td>\n",
       "      <td>2015-16</td>\n",
       "      <td>82</td>\n",
       "      <td>30</td>\n",
       "      <td>52</td>\n",
       "      <td>0.366</td>\n",
       "      <td>3956.0</td>\n",
       "      <td>103.2</td>\n",
       "      <td>...</td>\n",
       "      <td>7</td>\n",
       "      <td>8</td>\n",
       "      <td>3</td>\n",
       "      <td>14</td>\n",
       "      <td>210</td>\n",
       "      <td>2015-16</td>\n",
       "      <td>0</td>\n",
       "      <td>1610612740</td>\n",
       "      <td>NOP</td>\n",
       "      <td>False</td>\n",
       "    </tr>\n",
       "    <tr>\n",
       "      <th>3</th>\n",
       "      <td>69</td>\n",
       "      <td>3</td>\n",
       "      <td>By Year</td>\n",
       "      <td>2014-15</td>\n",
       "      <td>82</td>\n",
       "      <td>45</td>\n",
       "      <td>37</td>\n",
       "      <td>0.549</td>\n",
       "      <td>3956.0</td>\n",
       "      <td>105.4</td>\n",
       "      <td>...</td>\n",
       "      <td>6</td>\n",
       "      <td>6</td>\n",
       "      <td>6</td>\n",
       "      <td>5</td>\n",
       "      <td>210</td>\n",
       "      <td>2014-15</td>\n",
       "      <td>1</td>\n",
       "      <td>1610612740</td>\n",
       "      <td>NOP</td>\n",
       "      <td>False</td>\n",
       "    </tr>\n",
       "    <tr>\n",
       "      <th>4</th>\n",
       "      <td>70</td>\n",
       "      <td>4</td>\n",
       "      <td>By Year</td>\n",
       "      <td>2013-14</td>\n",
       "      <td>82</td>\n",
       "      <td>34</td>\n",
       "      <td>48</td>\n",
       "      <td>0.415</td>\n",
       "      <td>3971.0</td>\n",
       "      <td>104.7</td>\n",
       "      <td>...</td>\n",
       "      <td>8</td>\n",
       "      <td>7</td>\n",
       "      <td>5</td>\n",
       "      <td>12</td>\n",
       "      <td>210</td>\n",
       "      <td>2013-14</td>\n",
       "      <td>0</td>\n",
       "      <td>1610612740</td>\n",
       "      <td>NOP</td>\n",
       "      <td>False</td>\n",
       "    </tr>\n",
       "  </tbody>\n",
       "</table>\n",
       "<p>5 rows × 48 columns</p>\n",
       "</div>"
      ],
      "text/plain": [
       "   Unnamed: 0  Unnamed: 0.1 GROUP_SET GROUP_VALUE  GP   W   L  W_PCT     MIN  \\\n",
       "0          66             0   By Year     2017-18  82  48  34  0.585  3991.0   \n",
       "1          67             1   By Year     2016-17  82  34  48  0.415  3981.0   \n",
       "2          68             2   By Year     2015-16  82  30  52  0.366  3956.0   \n",
       "3          69             3   By Year     2014-15  82  45  37  0.549  3956.0   \n",
       "4          70             4   By Year     2013-14  82  34  48  0.415  3971.0   \n",
       "\n",
       "   OFF_RATING   ...     EFG_PCT_RANK  TS_PCT_RANK  PACE_RANK  PIE_RANK  CFID  \\\n",
       "0       107.7   ...                1            1          1         2   210   \n",
       "1       103.3   ...                4            5          2         7   210   \n",
       "2       103.2   ...                7            8          3        14   210   \n",
       "3       105.4   ...                6            6          6         5   210   \n",
       "4       104.7   ...                8            7          5        12   210   \n",
       "\n",
       "   CFPARAMS  PLAYOFFS     TEAM_ID  TEAM_NAME  EASTERN  \n",
       "0   2017-18         1  1610612740        NOP    False  \n",
       "1   2016-17         0  1610612740        NOP    False  \n",
       "2   2015-16         0  1610612740        NOP    False  \n",
       "3   2014-15         1  1610612740        NOP    False  \n",
       "4   2013-14         0  1610612740        NOP    False  \n",
       "\n",
       "[5 rows x 48 columns]"
      ]
     },
     "execution_count": 25,
     "metadata": {},
     "output_type": "execute_result"
    }
   ],
   "source": [
    "playoff_adv_west.head()"
   ]
  },
  {
   "cell_type": "code",
   "execution_count": 3,
   "metadata": {
    "collapsed": true
   },
   "outputs": [],
   "source": [
    "regular_stats = pd.read_csv('all_team_playoffs.csv')\n",
    "advs_stats = pd.read_csv('all_team_playoffs_adv.csv')"
   ]
  },
  {
   "cell_type": "code",
   "execution_count": 7,
   "metadata": {
    "collapsed": true
   },
   "outputs": [],
   "source": [
    "all_stats_west = pd.concat([playoff_adv_west,playoff_reg_west],axis = 1)"
   ]
  },
  {
   "cell_type": "code",
   "execution_count": 8,
   "metadata": {
    "collapsed": true
   },
   "outputs": [],
   "source": [
    "all_stats_west.to_csv('all_stats_playoffs_west.csv')"
   ]
  },
  {
   "cell_type": "code",
   "execution_count": 8,
   "metadata": {
    "collapsed": true
   },
   "outputs": [],
   "source": [
    "all_stats_east = pd.concat([playoff_adv_east,playoff_reg_east],axis = 1)"
   ]
  },
  {
   "cell_type": "code",
   "execution_count": 13,
   "metadata": {
    "collapsed": true
   },
   "outputs": [],
   "source": [
    "all_stats_east.to_csv('all_stats_playoffs_east.csv')"
   ]
  },
  {
   "cell_type": "code",
   "execution_count": 60,
   "metadata": {
    "collapsed": true
   },
   "outputs": [],
   "source": [
    "all_stats = pd.read_csv('all_stats_playoffs.csv')\n"
   ]
  },
  {
   "cell_type": "code",
   "execution_count": 9,
   "metadata": {
    "collapsed": true
   },
   "outputs": [],
   "source": [
    "regular_features = playoff_reg_west[['FGM', 'FGA', 'FG_PCT', 'FG3M', 'FG3A', 'FG3_PCT', 'FTM', 'FTA',\n",
    "       'FT_PCT', 'OREB', 'DREB', 'REB', 'AST', 'TOV', 'STL', 'BLK', 'BLKA',\n",
    "       'PF', 'PFD', 'PTS', 'PLUS_MINUS']]"
   ]
  },
  {
   "cell_type": "code",
   "execution_count": 10,
   "metadata": {
    "collapsed": true
   },
   "outputs": [],
   "source": [
    "advs_features = playoff_adv_west[['NET_RATING', 'AST_PCT', 'AST_TO',\n",
    "       'AST_RATIO', 'OREB_PCT', 'DREB_PCT', 'REB_PCT', 'TM_TOV_PCT', 'EFG_PCT',\n",
    "       'TS_PCT', 'PACE', 'PIE']]"
   ]
  },
  {
   "cell_type": "code",
   "execution_count": 12,
   "metadata": {
    "collapsed": true
   },
   "outputs": [],
   "source": [
    "all_features = all_stats_west[['FGM', 'FGA', 'FG_PCT', 'FG3M', 'FG3A', 'FG3_PCT', 'FTM', 'FTA',\n",
    "       'FT_PCT', 'OREB', 'DREB', 'REB', 'AST', 'TOV', 'STL', 'BLK', 'BLKA',\n",
    "       'PF', 'PFD', 'PTS','AST_PCT', 'AST_TO',\n",
    "       'AST_RATIO', 'OREB_PCT', 'DREB_PCT', 'REB_PCT', 'TM_TOV_PCT', 'EFG_PCT',\n",
    "       'TS_PCT', 'PACE', 'PIE']]"
   ]
  },
  {
   "cell_type": "code",
   "execution_count": 13,
   "metadata": {
    "collapsed": true
   },
   "outputs": [],
   "source": [
    "feature_names = ['FGM', 'FGA', 'FG_PCT', 'FG3M', 'FG3A', 'FG3_PCT', 'FTM', 'FTA',\n",
    "       'FT_PCT', 'OREB', 'DREB', 'REB', 'AST', 'TOV', 'STL', 'BLK', 'BLKA',\n",
    "       'PF', 'PFD', 'PTS','AST_PCT', 'AST_TO',\n",
    "       'AST_RATIO', 'OREB_PCT', 'DREB_PCT', 'REB_PCT', 'TM_TOV_PCT', 'EFG_PCT',\n",
    "       'TS_PCT', 'PACE', 'PIE']"
   ]
  },
  {
   "cell_type": "markdown",
   "metadata": {},
   "source": [
    "Train test split for adv stats"
   ]
  },
  {
   "cell_type": "code",
   "execution_count": 14,
   "metadata": {
    "collapsed": true
   },
   "outputs": [],
   "source": [
    "from sklearn.model_selection import train_test_split\n",
    "X_train, X_test, y_train, y_test = train_test_split(advs_features, playoff_adv_west['PLAYOFFS'], test_size=0.30, random_state=69)"
   ]
  },
  {
   "cell_type": "markdown",
   "metadata": {},
   "source": [
    "Train test split for boxscore stats"
   ]
  },
  {
   "cell_type": "code",
   "execution_count": 16,
   "metadata": {
    "collapsed": true
   },
   "outputs": [],
   "source": [
    "X_train_all, X_test_all, y_train_all, y_test_all = train_test_split(all_features, all_stats_west['PLAYOFFS'], test_size=0.30, random_state=69)"
   ]
  },
  {
   "cell_type": "code",
   "execution_count": 17,
   "metadata": {
    "collapsed": true
   },
   "outputs": [],
   "source": [
    "X_train_reg, X_test_reg, y_train_reg, y_test_reg = train_test_split(regular_features, playoff_reg_west['PLAYOFFS'], test_size=0.30, random_state=69)"
   ]
  },
  {
   "cell_type": "code",
   "execution_count": 18,
   "metadata": {
    "collapsed": true
   },
   "outputs": [],
   "source": [
    "from sklearn.preprocessing import StandardScaler"
   ]
  },
  {
   "cell_type": "code",
   "execution_count": 12,
   "metadata": {
    "collapsed": true
   },
   "outputs": [],
   "source": [
    "scaler = StandardScaler()"
   ]
  },
  {
   "cell_type": "code",
   "execution_count": 13,
   "metadata": {},
   "outputs": [
    {
     "data": {
      "text/plain": [
       "StandardScaler(copy=True, with_mean=True, with_std=True)"
      ]
     },
     "execution_count": 13,
     "metadata": {},
     "output_type": "execute_result"
    }
   ],
   "source": [
    "scaler.fit(regular_features)"
   ]
  },
  {
   "cell_type": "code",
   "execution_count": 14,
   "metadata": {},
   "outputs": [
    {
     "data": {
      "text/plain": [
       "StandardScaler(copy=True, with_mean=True, with_std=True)"
      ]
     },
     "execution_count": 14,
     "metadata": {},
     "output_type": "execute_result"
    }
   ],
   "source": [
    "scaler.fit(advs_features)"
   ]
  },
  {
   "cell_type": "code",
   "execution_count": 15,
   "metadata": {
    "collapsed": true
   },
   "outputs": [],
   "source": [
    "scaled_reg_features = scaler.fit_transform(regular_features)"
   ]
  },
  {
   "cell_type": "code",
   "execution_count": 16,
   "metadata": {
    "collapsed": true
   },
   "outputs": [],
   "source": [
    "scaled_features = scaler.fit_transform(advs_features)"
   ]
  },
  {
   "cell_type": "code",
   "execution_count": 17,
   "metadata": {},
   "outputs": [
    {
     "data": {
      "text/html": [
       "<div>\n",
       "<style scoped>\n",
       "    .dataframe tbody tr th:only-of-type {\n",
       "        vertical-align: middle;\n",
       "    }\n",
       "\n",
       "    .dataframe tbody tr th {\n",
       "        vertical-align: top;\n",
       "    }\n",
       "\n",
       "    .dataframe thead th {\n",
       "        text-align: right;\n",
       "    }\n",
       "</style>\n",
       "<table border=\"1\" class=\"dataframe\">\n",
       "  <thead>\n",
       "    <tr style=\"text-align: right;\">\n",
       "      <th></th>\n",
       "      <th>NET_RATING</th>\n",
       "      <th>AST_PCT</th>\n",
       "      <th>AST_TO</th>\n",
       "      <th>AST_RATIO</th>\n",
       "      <th>OREB_PCT</th>\n",
       "      <th>DREB_PCT</th>\n",
       "      <th>REB_PCT</th>\n",
       "      <th>TM_TOV_PCT</th>\n",
       "      <th>EFG_PCT</th>\n",
       "      <th>TS_PCT</th>\n",
       "      <th>PACE</th>\n",
       "      <th>PIE</th>\n",
       "    </tr>\n",
       "  </thead>\n",
       "  <tbody>\n",
       "    <tr>\n",
       "      <th>0</th>\n",
       "      <td>0.288789</td>\n",
       "      <td>0.787895</td>\n",
       "      <td>1.491675</td>\n",
       "      <td>1.694466</td>\n",
       "      <td>-2.367891</td>\n",
       "      <td>1.356987</td>\n",
       "      <td>-0.483617</td>\n",
       "      <td>-0.738536</td>\n",
       "      <td>1.993218</td>\n",
       "      <td>1.647408</td>\n",
       "      <td>2.379210</td>\n",
       "      <td>0.541826</td>\n",
       "    </tr>\n",
       "    <tr>\n",
       "      <th>1</th>\n",
       "      <td>-0.403058</td>\n",
       "      <td>-0.215469</td>\n",
       "      <td>1.335452</td>\n",
       "      <td>0.137441</td>\n",
       "      <td>-2.847748</td>\n",
       "      <td>1.390944</td>\n",
       "      <td>-1.692364</td>\n",
       "      <td>-2.093133</td>\n",
       "      <td>0.389762</td>\n",
       "      <td>0.078882</td>\n",
       "      <td>1.563726</td>\n",
       "      <td>-0.310496</td>\n",
       "    </tr>\n",
       "    <tr>\n",
       "      <th>2</th>\n",
       "      <td>-0.870523</td>\n",
       "      <td>-0.326953</td>\n",
       "      <td>0.710559</td>\n",
       "      <td>-0.096113</td>\n",
       "      <td>-1.984004</td>\n",
       "      <td>2.070066</td>\n",
       "      <td>-0.738090</td>\n",
       "      <td>-1.455676</td>\n",
       "      <td>0.129742</td>\n",
       "      <td>-0.013384</td>\n",
       "      <td>1.199229</td>\n",
       "      <td>-0.869832</td>\n",
       "    </tr>\n",
       "    <tr>\n",
       "      <th>3</th>\n",
       "      <td>0.027009</td>\n",
       "      <td>-0.237766</td>\n",
       "      <td>0.762633</td>\n",
       "      <td>0.137441</td>\n",
       "      <td>-0.096564</td>\n",
       "      <td>0.813689</td>\n",
       "      <td>0.597894</td>\n",
       "      <td>-0.977582</td>\n",
       "      <td>0.259752</td>\n",
       "      <td>-0.013384</td>\n",
       "      <td>-0.410116</td>\n",
       "      <td>0.089030</td>\n",
       "    </tr>\n",
       "    <tr>\n",
       "      <th>4</th>\n",
       "      <td>-0.590044</td>\n",
       "      <td>-0.639111</td>\n",
       "      <td>0.189815</td>\n",
       "      <td>-0.329666</td>\n",
       "      <td>-0.160545</td>\n",
       "      <td>0.372260</td>\n",
       "      <td>-0.101907</td>\n",
       "      <td>-0.658854</td>\n",
       "      <td>-0.000268</td>\n",
       "      <td>-0.013384</td>\n",
       "      <td>-0.159911</td>\n",
       "      <td>-0.576846</td>\n",
       "    </tr>\n",
       "  </tbody>\n",
       "</table>\n",
       "</div>"
      ],
      "text/plain": [
       "   NET_RATING   AST_PCT    AST_TO  AST_RATIO  OREB_PCT  DREB_PCT   REB_PCT  \\\n",
       "0    0.288789  0.787895  1.491675   1.694466 -2.367891  1.356987 -0.483617   \n",
       "1   -0.403058 -0.215469  1.335452   0.137441 -2.847748  1.390944 -1.692364   \n",
       "2   -0.870523 -0.326953  0.710559  -0.096113 -1.984004  2.070066 -0.738090   \n",
       "3    0.027009 -0.237766  0.762633   0.137441 -0.096564  0.813689  0.597894   \n",
       "4   -0.590044 -0.639111  0.189815  -0.329666 -0.160545  0.372260 -0.101907   \n",
       "\n",
       "   TM_TOV_PCT   EFG_PCT    TS_PCT      PACE       PIE  \n",
       "0   -0.738536  1.993218  1.647408  2.379210  0.541826  \n",
       "1   -2.093133  0.389762  0.078882  1.563726 -0.310496  \n",
       "2   -1.455676  0.129742 -0.013384  1.199229 -0.869832  \n",
       "3   -0.977582  0.259752 -0.013384 -0.410116  0.089030  \n",
       "4   -0.658854 -0.000268 -0.013384 -0.159911 -0.576846  "
      ]
     },
     "execution_count": 17,
     "metadata": {},
     "output_type": "execute_result"
    }
   ],
   "source": [
    "df_advs_feat = pd.DataFrame(scaled_features,columns = advs_features.columns)\n",
    "df_advs_feat.head()"
   ]
  },
  {
   "cell_type": "code",
   "execution_count": 18,
   "metadata": {},
   "outputs": [
    {
     "data": {
      "text/html": [
       "<div>\n",
       "<style scoped>\n",
       "    .dataframe tbody tr th:only-of-type {\n",
       "        vertical-align: middle;\n",
       "    }\n",
       "\n",
       "    .dataframe tbody tr th {\n",
       "        vertical-align: top;\n",
       "    }\n",
       "\n",
       "    .dataframe thead th {\n",
       "        text-align: right;\n",
       "    }\n",
       "</style>\n",
       "<table border=\"1\" class=\"dataframe\">\n",
       "  <thead>\n",
       "    <tr style=\"text-align: right;\">\n",
       "      <th></th>\n",
       "      <th>FGM</th>\n",
       "      <th>FGA</th>\n",
       "      <th>FG_PCT</th>\n",
       "      <th>FG3M</th>\n",
       "      <th>FG3A</th>\n",
       "      <th>FG3_PCT</th>\n",
       "      <th>FTM</th>\n",
       "      <th>FTA</th>\n",
       "      <th>FT_PCT</th>\n",
       "      <th>OREB</th>\n",
       "      <th>...</th>\n",
       "      <th>REB</th>\n",
       "      <th>AST</th>\n",
       "      <th>TOV</th>\n",
       "      <th>STL</th>\n",
       "      <th>BLK</th>\n",
       "      <th>BLKA</th>\n",
       "      <th>PF</th>\n",
       "      <th>PFD</th>\n",
       "      <th>PTS</th>\n",
       "      <th>PLUS_MINUS</th>\n",
       "    </tr>\n",
       "  </thead>\n",
       "  <tbody>\n",
       "    <tr>\n",
       "      <th>0</th>\n",
       "      <td>2.763072</td>\n",
       "      <td>2.007603</td>\n",
       "      <td>1.722705</td>\n",
       "      <td>1.691085</td>\n",
       "      <td>1.747216</td>\n",
       "      <td>0.343119</td>\n",
       "      <td>-1.207623</td>\n",
       "      <td>-1.342131</td>\n",
       "      <td>0.518628</td>\n",
       "      <td>-2.036338</td>\n",
       "      <td>...</td>\n",
       "      <td>0.990829</td>\n",
       "      <td>2.279555</td>\n",
       "      <td>0.185458</td>\n",
       "      <td>0.318598</td>\n",
       "      <td>0.985521</td>\n",
       "      <td>-1.013783</td>\n",
       "      <td>-1.201409</td>\n",
       "      <td>0.757450</td>\n",
       "      <td>2.167411</td>\n",
       "      <td>0.155131</td>\n",
       "    </tr>\n",
       "    <tr>\n",
       "      <th>1</th>\n",
       "      <td>0.925645</td>\n",
       "      <td>1.598269</td>\n",
       "      <td>-0.320463</td>\n",
       "      <td>1.319840</td>\n",
       "      <td>1.497990</td>\n",
       "      <td>-0.202280</td>\n",
       "      <td>-0.909285</td>\n",
       "      <td>-0.827732</td>\n",
       "      <td>-0.177695</td>\n",
       "      <td>-2.107966</td>\n",
       "      <td>...</td>\n",
       "      <td>0.667646</td>\n",
       "      <td>0.353673</td>\n",
       "      <td>-1.521598</td>\n",
       "      <td>0.093950</td>\n",
       "      <td>0.512471</td>\n",
       "      <td>-1.013783</td>\n",
       "      <td>-1.737493</td>\n",
       "      <td>0.649091</td>\n",
       "      <td>0.834953</td>\n",
       "      <td>-0.548131</td>\n",
       "    </tr>\n",
       "    <tr>\n",
       "      <th>2</th>\n",
       "      <td>0.619407</td>\n",
       "      <td>1.251910</td>\n",
       "      <td>-0.444292</td>\n",
       "      <td>0.948594</td>\n",
       "      <td>0.963936</td>\n",
       "      <td>0.252219</td>\n",
       "      <td>-0.610948</td>\n",
       "      <td>-0.864475</td>\n",
       "      <td>0.645233</td>\n",
       "      <td>-1.463307</td>\n",
       "      <td>...</td>\n",
       "      <td>0.075143</td>\n",
       "      <td>0.064790</td>\n",
       "      <td>-1.094834</td>\n",
       "      <td>-0.018374</td>\n",
       "      <td>-1.024941</td>\n",
       "      <td>0.349711</td>\n",
       "      <td>-0.129241</td>\n",
       "      <td>0.708196</td>\n",
       "      <td>0.546854</td>\n",
       "      <td>-0.899762</td>\n",
       "    </tr>\n",
       "    <tr>\n",
       "      <th>3</th>\n",
       "      <td>0.313169</td>\n",
       "      <td>0.307292</td>\n",
       "      <td>0.112936</td>\n",
       "      <td>0.252510</td>\n",
       "      <td>0.162854</td>\n",
       "      <td>0.706718</td>\n",
       "      <td>-1.058454</td>\n",
       "      <td>-1.011446</td>\n",
       "      <td>-0.146044</td>\n",
       "      <td>-0.030730</td>\n",
       "      <td>...</td>\n",
       "      <td>0.559918</td>\n",
       "      <td>-0.031504</td>\n",
       "      <td>-1.180187</td>\n",
       "      <td>-1.141613</td>\n",
       "      <td>1.340308</td>\n",
       "      <td>1.167807</td>\n",
       "      <td>-1.439669</td>\n",
       "      <td>0.589986</td>\n",
       "      <td>-0.047350</td>\n",
       "      <td>0.051710</td>\n",
       "    </tr>\n",
       "    <tr>\n",
       "      <th>4</th>\n",
       "      <td>0.262130</td>\n",
       "      <td>0.181343</td>\n",
       "      <td>0.236764</td>\n",
       "      <td>-0.304358</td>\n",
       "      <td>-0.442408</td>\n",
       "      <td>0.843067</td>\n",
       "      <td>-0.163441</td>\n",
       "      <td>-0.350077</td>\n",
       "      <td>0.423675</td>\n",
       "      <td>-0.102359</td>\n",
       "      <td>...</td>\n",
       "      <td>-0.409631</td>\n",
       "      <td>-0.368533</td>\n",
       "      <td>-0.753423</td>\n",
       "      <td>0.206274</td>\n",
       "      <td>1.576833</td>\n",
       "      <td>1.576856</td>\n",
       "      <td>0.883362</td>\n",
       "      <td>0.747599</td>\n",
       "      <td>0.006669</td>\n",
       "      <td>-0.672236</td>\n",
       "    </tr>\n",
       "  </tbody>\n",
       "</table>\n",
       "<p>5 rows × 21 columns</p>\n",
       "</div>"
      ],
      "text/plain": [
       "        FGM       FGA    FG_PCT      FG3M      FG3A   FG3_PCT       FTM  \\\n",
       "0  2.763072  2.007603  1.722705  1.691085  1.747216  0.343119 -1.207623   \n",
       "1  0.925645  1.598269 -0.320463  1.319840  1.497990 -0.202280 -0.909285   \n",
       "2  0.619407  1.251910 -0.444292  0.948594  0.963936  0.252219 -0.610948   \n",
       "3  0.313169  0.307292  0.112936  0.252510  0.162854  0.706718 -1.058454   \n",
       "4  0.262130  0.181343  0.236764 -0.304358 -0.442408  0.843067 -0.163441   \n",
       "\n",
       "        FTA    FT_PCT      OREB     ...           REB       AST       TOV  \\\n",
       "0 -1.342131  0.518628 -2.036338     ...      0.990829  2.279555  0.185458   \n",
       "1 -0.827732 -0.177695 -2.107966     ...      0.667646  0.353673 -1.521598   \n",
       "2 -0.864475  0.645233 -1.463307     ...      0.075143  0.064790 -1.094834   \n",
       "3 -1.011446 -0.146044 -0.030730     ...      0.559918 -0.031504 -1.180187   \n",
       "4 -0.350077  0.423675 -0.102359     ...     -0.409631 -0.368533 -0.753423   \n",
       "\n",
       "        STL       BLK      BLKA        PF       PFD       PTS  PLUS_MINUS  \n",
       "0  0.318598  0.985521 -1.013783 -1.201409  0.757450  2.167411    0.155131  \n",
       "1  0.093950  0.512471 -1.013783 -1.737493  0.649091  0.834953   -0.548131  \n",
       "2 -0.018374 -1.024941  0.349711 -0.129241  0.708196  0.546854   -0.899762  \n",
       "3 -1.141613  1.340308  1.167807 -1.439669  0.589986 -0.047350    0.051710  \n",
       "4  0.206274  1.576833  1.576856  0.883362  0.747599  0.006669   -0.672236  \n",
       "\n",
       "[5 rows x 21 columns]"
      ]
     },
     "execution_count": 18,
     "metadata": {},
     "output_type": "execute_result"
    }
   ],
   "source": [
    "df_reg_feat = pd.DataFrame(scaled_reg_features,columns = regular_features.columns)\n",
    "df_reg_feat.head()"
   ]
  },
  {
   "cell_type": "code",
   "execution_count": 85,
   "metadata": {
    "collapsed": true
   },
   "outputs": [],
   "source": [
    "X_adv = df_advs_feat"
   ]
  },
  {
   "cell_type": "code",
   "execution_count": 86,
   "metadata": {
    "collapsed": true
   },
   "outputs": [],
   "source": [
    "X_reg = df_reg_feat"
   ]
  },
  {
   "cell_type": "code",
   "execution_count": 87,
   "metadata": {
    "collapsed": true
   },
   "outputs": [],
   "source": [
    "y_adv = playoff_adv_east['PLAYOFFS']"
   ]
  },
  {
   "cell_type": "code",
   "execution_count": 88,
   "metadata": {
    "collapsed": true
   },
   "outputs": [],
   "source": [
    "y_reg = playoff_reg_east['PLAYOFFS']"
   ]
  },
  {
   "cell_type": "code",
   "execution_count": 89,
   "metadata": {
    "collapsed": true
   },
   "outputs": [],
   "source": [
    "X_adv = X_adv.as_matrix()\n",
    "y_adv = y_adv.as_matrix()"
   ]
  },
  {
   "cell_type": "code",
   "execution_count": null,
   "metadata": {
    "collapsed": true
   },
   "outputs": [],
   "source": []
  },
  {
   "cell_type": "code",
   "execution_count": null,
   "metadata": {
    "collapsed": true
   },
   "outputs": [],
   "source": []
  },
  {
   "cell_type": "code",
   "execution_count": 25,
   "metadata": {
    "collapsed": true
   },
   "outputs": [],
   "source": [
    "#import tensorflow.contrib.learn.python as learn"
   ]
  },
  {
   "cell_type": "code",
   "execution_count": null,
   "metadata": {
    "collapsed": true
   },
   "outputs": [],
   "source": []
  },
  {
   "cell_type": "code",
   "execution_count": 18,
   "metadata": {
    "collapsed": true
   },
   "outputs": [],
   "source": [
    "from sklearn.metrics import classification_report"
   ]
  },
  {
   "cell_type": "code",
   "execution_count": 19,
   "metadata": {
    "collapsed": true
   },
   "outputs": [],
   "source": [
    "from sklearn.ensemble import RandomForestClassifier"
   ]
  },
  {
   "cell_type": "code",
   "execution_count": 20,
   "metadata": {
    "collapsed": true
   },
   "outputs": [],
   "source": [
    "rfc = RandomForestClassifier(n_estimators = 75)"
   ]
  },
  {
   "cell_type": "code",
   "execution_count": 21,
   "metadata": {
    "collapsed": true
   },
   "outputs": [],
   "source": [
    "rfc_reg = RandomForestClassifier(n_estimators=75)"
   ]
  },
  {
   "cell_type": "code",
   "execution_count": 22,
   "metadata": {},
   "outputs": [
    {
     "data": {
      "text/plain": [
       "RandomForestClassifier(bootstrap=True, class_weight=None, criterion='gini',\n",
       "            max_depth=None, max_features='auto', max_leaf_nodes=None,\n",
       "            min_impurity_decrease=0.0, min_impurity_split=None,\n",
       "            min_samples_leaf=1, min_samples_split=2,\n",
       "            min_weight_fraction_leaf=0.0, n_estimators=75, n_jobs=1,\n",
       "            oob_score=False, random_state=None, verbose=0,\n",
       "            warm_start=False)"
      ]
     },
     "execution_count": 22,
     "metadata": {},
     "output_type": "execute_result"
    }
   ],
   "source": [
    "rfc.fit(X_train_all,y_train_all)"
   ]
  },
  {
   "cell_type": "code",
   "execution_count": 23,
   "metadata": {},
   "outputs": [
    {
     "data": {
      "text/plain": [
       "RandomForestClassifier(bootstrap=True, class_weight=None, criterion='gini',\n",
       "            max_depth=None, max_features='auto', max_leaf_nodes=None,\n",
       "            min_impurity_decrease=0.0, min_impurity_split=None,\n",
       "            min_samples_leaf=1, min_samples_split=2,\n",
       "            min_weight_fraction_leaf=0.0, n_estimators=75, n_jobs=1,\n",
       "            oob_score=False, random_state=None, verbose=0,\n",
       "            warm_start=False)"
      ]
     },
     "execution_count": 23,
     "metadata": {},
     "output_type": "execute_result"
    }
   ],
   "source": [
    "rfc_reg.fit(X_train_reg,y_train_reg)"
   ]
  },
  {
   "cell_type": "code",
   "execution_count": 24,
   "metadata": {
    "collapsed": true
   },
   "outputs": [],
   "source": [
    "rfc_pred_reg = rfc_reg.predict(X_test_reg)"
   ]
  },
  {
   "cell_type": "code",
   "execution_count": 25,
   "metadata": {
    "collapsed": true
   },
   "outputs": [],
   "source": [
    "rfc_pred = rfc.predict(X_test_all)"
   ]
  },
  {
   "cell_type": "code",
   "execution_count": 26,
   "metadata": {
    "collapsed": true
   },
   "outputs": [],
   "source": [
    "importances = rfc.feature_importances_"
   ]
  },
  {
   "cell_type": "code",
   "execution_count": 27,
   "metadata": {},
   "outputs": [
    {
     "data": {
      "text/plain": [
       "array([0.01419667, 0.01660842, 0.08733524, 0.01363501, 0.01752271,\n",
       "       0.02124341, 0.0130184 , 0.01152973, 0.01676331, 0.0133985 ,\n",
       "       0.01476988, 0.01506027, 0.02841407, 0.02983615, 0.04836608,\n",
       "       0.02043337, 0.02221032, 0.0101104 , 0.00842054, 0.0148117 ,\n",
       "       0.01814206, 0.0522356 , 0.03775021, 0.012816  , 0.01070785,\n",
       "       0.03377444, 0.00965721, 0.07309017, 0.05203006, 0.01540433,\n",
       "       0.24670787])"
      ]
     },
     "execution_count": 27,
     "metadata": {},
     "output_type": "execute_result"
    }
   ],
   "source": [
    "importances"
   ]
  },
  {
   "cell_type": "code",
   "execution_count": 33,
   "metadata": {},
   "outputs": [
    {
     "name": "stdout",
     "output_type": "stream",
     "text": [
      "Feature ranking:\n",
      "1. PIE (0.246708)\n",
      "2. FG_PCT (0.087335)\n",
      "3. EFG_PCT (0.073090)\n",
      "4. AST_TO (0.052236)\n",
      "5. TS_PCT (0.052030)\n",
      "6. STL (0.048366)\n",
      "7. AST_RATIO (0.037750)\n",
      "8. REB_PCT (0.033774)\n",
      "9. TOV (0.029836)\n",
      "10. AST (0.028414)\n",
      "11. BLKA (0.022210)\n",
      "12. FG3_PCT (0.021243)\n",
      "13. BLK (0.020433)\n",
      "14. AST_PCT (0.018142)\n",
      "15. FG3A (0.017523)\n",
      "16. FT_PCT (0.016763)\n",
      "17. FGA (0.016608)\n",
      "18. PACE (0.015404)\n",
      "19. REB (0.015060)\n",
      "20. PTS (0.014812)\n",
      "21. DREB (0.014770)\n",
      "22. FGM (0.014197)\n",
      "23. FG3M (0.013635)\n",
      "24. OREB (0.013398)\n",
      "25. FTM (0.013018)\n",
      "26. OREB_PCT (0.012816)\n",
      "27. FTA (0.011530)\n",
      "28. DREB_PCT (0.010708)\n",
      "29. PF (0.010110)\n",
      "30. TM_TOV_PCT (0.009657)\n",
      "31. PFD (0.008421)\n"
     ]
    },
    {
     "data": {
      "text/plain": [
       "(-1, 31)"
      ]
     },
     "execution_count": 33,
     "metadata": {},
     "output_type": "execute_result"
    },
    {
     "data": {
      "image/png": "[encoded data removed]",
      "text/plain": [
       "<Figure size 432x288 with 1 Axes>"
      ]
     },
     "metadata": {},
     "output_type": "display_data"
    }
   ],
   "source": [
    "std = np.std([tree.feature_importances_ for tree in rfc.estimators_],\n",
    "             axis=0)\n",
    "indices = np.argsort(importances)[::-1]\n",
    "\n",
    "# Print the feature ranking\n",
    "print(\"Feature ranking:\")\n",
    "\n",
    "for f in range(X_train_all.shape[1]):\n",
    "    print(\"%d. %s (%f)\" % (f + 1, feature_names[indices[f]], importances[indices[f]]))\n",
    "\n",
    "# Plot the feature importances of the forest\n",
    "plt.figure()\n",
    "plt.title(\"Feature importances\")\n",
    "plt.bar(range(X_train_all.shape[1]), importances[indices],\n",
    "       color=\"r\", yerr=std[indices], align=\"center\")\n",
    "plt.xticks(range(X_train_all.shape[1]), indices)\n",
    "plt.xlim([-1, X_train_all.shape[1]])\n"
   ]
  },
  {
   "cell_type": "code",
   "execution_count": null,
   "metadata": {
    "collapsed": true
   },
   "outputs": [],
   "source": []
  },
  {
   "cell_type": "markdown",
   "metadata": {},
   "source": [
    "**Predictions of Western conference playoff teams merged stats with random forest classifier **"
   ]
  },
  {
   "cell_type": "code",
   "execution_count": 29,
   "metadata": {},
   "outputs": [
    {
     "name": "stdout",
     "output_type": "stream",
     "text": [
      "             precision    recall  f1-score   support\n",
      "\n",
      "          0       0.90      0.88      0.89        59\n",
      "          1       0.90      0.88      0.89        59\n",
      "\n",
      "avg / total       0.90      0.88      0.89       118\n",
      "\n"
     ]
    }
   ],
   "source": [
    "print(classification_report(y_test_all,rfc_pred))"
   ]
  },
  {
   "cell_type": "markdown",
   "metadata": {},
   "source": [
    "**Predictions of Western conference playoff teams (advanced stats) with random forest classifier **"
   ]
  },
  {
   "cell_type": "code",
   "execution_count": 26,
   "metadata": {},
   "outputs": [
    {
     "name": "stdout",
     "output_type": "stream",
     "text": [
      "             precision    recall  f1-score   support\n",
      "\n",
      "          0       0.92      0.92      0.92        39\n",
      "          1       0.95      0.95      0.95        59\n",
      "\n",
      "avg / total       0.94      0.94      0.94        98\n",
      "\n"
     ]
    }
   ],
   "source": [
    "print(classification_report(y_test,rfc_pred))"
   ]
  },
  {
   "cell_type": "markdown",
   "metadata": {},
   "source": [
    "**Predictions of Western conference playoff teams (boxscorestats) with random forest classifier **"
   ]
  },
  {
   "cell_type": "code",
   "execution_count": 27,
   "metadata": {},
   "outputs": [
    {
     "name": "stdout",
     "output_type": "stream",
     "text": [
      "             precision    recall  f1-score   support\n",
      "\n",
      "          0       0.89      0.87      0.88        39\n",
      "          1       0.92      0.93      0.92        59\n",
      "\n",
      "avg / total       0.91      0.91      0.91        98\n",
      "\n"
     ]
    }
   ],
   "source": [
    "print(classification_report(y_test,rfc_pred_reg))"
   ]
  },
  {
   "cell_type": "markdown",
   "metadata": {},
   "source": [
    "**Predictions of Eastern conference playoff teams (boxscore stats) with random forest classifier **"
   ]
  },
  {
   "cell_type": "code",
   "execution_count": 70,
   "metadata": {},
   "outputs": [
    {
     "name": "stdout",
     "output_type": "stream",
     "text": [
      "             precision    recall  f1-score   support\n",
      "\n",
      "          0       0.95      0.89      0.92        45\n",
      "          1       0.91      0.96      0.94        54\n",
      "\n",
      "avg / total       0.93      0.93      0.93        99\n",
      "\n"
     ]
    }
   ],
   "source": [
    "print(classification_report(y_test,rfc_pred))"
   ]
  },
  {
   "cell_type": "markdown",
   "metadata": {},
   "source": [
    "**Predictions of Eastern conference playoff teams (advanced stats) with random forest classifier **"
   ]
  },
  {
   "cell_type": "code",
   "execution_count": 33,
   "metadata": {},
   "outputs": [
    {
     "name": "stdout",
     "output_type": "stream",
     "text": [
      "             precision    recall  f1-score   support\n",
      "\n",
      "          0       0.91      0.89      0.90        45\n",
      "          1       0.91      0.93      0.92        54\n",
      "\n",
      "avg / total       0.91      0.91      0.91        99\n",
      "\n"
     ]
    }
   ],
   "source": [
    "print(classification_report(y_test,rfc_pred))"
   ]
  },
  {
   "cell_type": "markdown",
   "metadata": {},
   "source": [
    "**Predictions of western conference playoff teams (advanced stats) with random forest classifier **"
   ]
  },
  {
   "cell_type": "code",
   "execution_count": 28,
   "metadata": {},
   "outputs": [
    {
     "name": "stdout",
     "output_type": "stream",
     "text": [
      "             precision    recall  f1-score   support\n",
      "\n",
      "          0       0.96      0.92      0.94        53\n",
      "          1       0.91      0.96      0.93        45\n",
      "\n",
      "avg / total       0.94      0.94      0.94        98\n",
      "\n"
     ]
    }
   ],
   "source": [
    "#rfc with advanced stats  fo\n",
    "print(classification_report(y_test,rfc_pred))"
   ]
  },
  {
   "cell_type": "markdown",
   "metadata": {},
   "source": [
    "** Predictions of Eastern conference playoff teams (advanced stats) with random forest classifier**"
   ]
  },
  {
   "cell_type": "code",
   "execution_count": 44,
   "metadata": {},
   "outputs": [
    {
     "name": "stdout",
     "output_type": "stream",
     "text": [
      "             precision    recall  f1-score   support\n",
      "\n",
      "          0       0.95      0.86      0.90        49\n",
      "          1       0.87      0.96      0.91        50\n",
      "\n",
      "avg / total       0.91      0.91      0.91        99\n",
      "\n"
     ]
    }
   ],
   "source": [
    "#rfc with regular stats\n",
    "print(classification_report(y_test,rfc_pred))"
   ]
  },
  {
   "cell_type": "code",
   "execution_count": null,
   "metadata": {
    "collapsed": true
   },
   "outputs": [],
   "source": []
  },
  {
   "cell_type": "code",
   "execution_count": 42,
   "metadata": {
    "collapsed": true
   },
   "outputs": [],
   "source": [
    "from sklearn.tree import DecisionTreeClassifier"
   ]
  },
  {
   "cell_type": "code",
   "execution_count": 43,
   "metadata": {
    "collapsed": true
   },
   "outputs": [],
   "source": [
    "dtree = DecisionTreeClassifier()"
   ]
  },
  {
   "cell_type": "code",
   "execution_count": 41,
   "metadata": {
    "collapsed": true
   },
   "outputs": [],
   "source": [
    "dtree_adv = DecisionTreeClassifier()"
   ]
  },
  {
   "cell_type": "code",
   "execution_count": 45,
   "metadata": {},
   "outputs": [
    {
     "data": {
      "text/plain": [
       "DecisionTreeClassifier(class_weight=None, criterion='gini', max_depth=None,\n",
       "            max_features=None, max_leaf_nodes=None,\n",
       "            min_impurity_decrease=0.0, min_impurity_split=None,\n",
       "            min_samples_leaf=1, min_samples_split=2,\n",
       "            min_weight_fraction_leaf=0.0, presort=False, random_state=None,\n",
       "            splitter='best')"
      ]
     },
     "execution_count": 45,
     "metadata": {},
     "output_type": "execute_result"
    }
   ],
   "source": [
    "dtree.fit(X_train_all,y_train_all)"
   ]
  },
  {
   "cell_type": "code",
   "execution_count": 43,
   "metadata": {
    "collapsed": true
   },
   "outputs": [],
   "source": [
    "dtree_pred = dtree.predict(X_test_reg)"
   ]
  },
  {
   "cell_type": "code",
   "execution_count": 44,
   "metadata": {},
   "outputs": [
    {
     "data": {
      "text/plain": [
       "DecisionTreeClassifier(class_weight=None, criterion='gini', max_depth=None,\n",
       "            max_features=None, max_leaf_nodes=None,\n",
       "            min_impurity_decrease=0.0, min_impurity_split=None,\n",
       "            min_samples_leaf=1, min_samples_split=2,\n",
       "            min_weight_fraction_leaf=0.0, presort=False, random_state=None,\n",
       "            splitter='best')"
      ]
     },
     "execution_count": 44,
     "metadata": {},
     "output_type": "execute_result"
    }
   ],
   "source": [
    "dtree_adv.fit(X_train,y_train)\n"
   ]
  },
  {
   "cell_type": "code",
   "execution_count": 45,
   "metadata": {
    "collapsed": true
   },
   "outputs": [],
   "source": [
    "dtree_pred_adv = dtree_adv.predict(X_test)"
   ]
  },
  {
   "cell_type": "code",
   "execution_count": 46,
   "metadata": {
    "collapsed": true
   },
   "outputs": [],
   "source": [
    "dtree_pred = dtree.predict(X_test_all)"
   ]
  },
  {
   "cell_type": "markdown",
   "metadata": {},
   "source": [
    "** Decision Tree Classifier with merged stats **"
   ]
  },
  {
   "cell_type": "code",
   "execution_count": 47,
   "metadata": {},
   "outputs": [
    {
     "name": "stdout",
     "output_type": "stream",
     "text": [
      "             precision    recall  f1-score   support\n",
      "\n",
      "          0       0.89      0.81      0.85        59\n",
      "          1       0.89      0.81      0.85        59\n",
      "\n",
      "avg / total       0.89      0.81      0.85       118\n",
      "\n"
     ]
    }
   ],
   "source": [
    "print(classification_report(y_test_all,dtree_pred))"
   ]
  },
  {
   "cell_type": "markdown",
   "metadata": {},
   "source": [
    "** Decision Tree Classifier with advanced stats **"
   ]
  },
  {
   "cell_type": "code",
   "execution_count": 47,
   "metadata": {},
   "outputs": [
    {
     "name": "stdout",
     "output_type": "stream",
     "text": [
      "             precision    recall  f1-score   support\n",
      "\n",
      "          0       0.85      0.85      0.85        39\n",
      "          1       0.90      0.90      0.90        59\n",
      "\n",
      "avg / total       0.88      0.88      0.88        98\n",
      "\n"
     ]
    }
   ],
   "source": [
    "print(classification_report(y_test,dtree_pred_adv))"
   ]
  },
  {
   "cell_type": "markdown",
   "metadata": {},
   "source": [
    "** Decsion tree on Western conference teams with box score stats **"
   ]
  },
  {
   "cell_type": "code",
   "execution_count": 48,
   "metadata": {},
   "outputs": [
    {
     "name": "stdout",
     "output_type": "stream",
     "text": [
      "             precision    recall  f1-score   support\n",
      "\n",
      "          0       0.87      0.87      0.87        39\n",
      "          1       0.92      0.92      0.92        59\n",
      "\n",
      "avg / total       0.90      0.90      0.90        98\n",
      "\n"
     ]
    }
   ],
   "source": [
    "print(classification_report(y_test,dtree_pred))"
   ]
  },
  {
   "cell_type": "markdown",
   "metadata": {},
   "source": [
    "** Decision tree advanced stats predictions for eastern conference with advanced stats**"
   ]
  },
  {
   "cell_type": "code",
   "execution_count": 44,
   "metadata": {},
   "outputs": [
    {
     "name": "stdout",
     "output_type": "stream",
     "text": [
      "             precision    recall  f1-score   support\n",
      "\n",
      "          0       0.80      0.80      0.80        45\n",
      "          1       0.83      0.83      0.83        54\n",
      "\n",
      "avg / total       0.82      0.82      0.82        99\n",
      "\n"
     ]
    }
   ],
   "source": [
    "#dtree with advanced stats\n",
    "print(classification_report(y_test,dtree_pred))"
   ]
  },
  {
   "cell_type": "markdown",
   "metadata": {},
   "source": [
    "** decision tree boxscore stats predictions for eastern conference with box score stats**"
   ]
  },
  {
   "cell_type": "code",
   "execution_count": 57,
   "metadata": {},
   "outputs": [
    {
     "name": "stdout",
     "output_type": "stream",
     "text": [
      "             precision    recall  f1-score   support\n",
      "\n",
      "          0       0.80      0.82      0.81        45\n",
      "          1       0.85      0.83      0.84        54\n",
      "\n",
      "avg / total       0.83      0.83      0.83        99\n",
      "\n"
     ]
    }
   ],
   "source": [
    "#dtree with reuglar stats\n",
    "print(classification_report(y_test_reg,dtree_pred))"
   ]
  },
  {
   "cell_type": "code",
   "execution_count": 48,
   "metadata": {
    "collapsed": true
   },
   "outputs": [],
   "source": [
    "from sklearn.svm import SVC"
   ]
  },
  {
   "cell_type": "code",
   "execution_count": 64,
   "metadata": {
    "collapsed": true
   },
   "outputs": [],
   "source": [
    "svc_model = SVC()"
   ]
  },
  {
   "cell_type": "code",
   "execution_count": 72,
   "metadata": {
    "collapsed": true
   },
   "outputs": [],
   "source": [
    "svc_model_reg = SVC()"
   ]
  },
  {
   "cell_type": "code",
   "execution_count": 55,
   "metadata": {
    "collapsed": true
   },
   "outputs": [],
   "source": [
    "X_train = np.asarray(X_train_all)"
   ]
  },
  {
   "cell_type": "code",
   "execution_count": 56,
   "metadata": {
    "collapsed": true
   },
   "outputs": [],
   "source": [
    "y_train = np.asarray(y_train_all)"
   ]
  },
  {
   "cell_type": "code",
   "execution_count": 65,
   "metadata": {},
   "outputs": [
    {
     "data": {
      "text/plain": [
       "SVC(C=1.0, cache_size=200, class_weight=None, coef0=0.0,\n",
       "  decision_function_shape='ovr', degree=3, gamma='auto', kernel='rbf',\n",
       "  max_iter=-1, probability=False, random_state=None, shrinking=True,\n",
       "  tol=0.001, verbose=False)"
      ]
     },
     "execution_count": 65,
     "metadata": {},
     "output_type": "execute_result"
    }
   ],
   "source": [
    "svc_model.fit(X_train_all,y_train_all)"
   ]
  },
  {
   "cell_type": "code",
   "execution_count": 54,
   "metadata": {
    "collapsed": true
   },
   "outputs": [],
   "source": [
    "pred_reg = svc_model_reg.predict(X_test_reg)"
   ]
  },
  {
   "cell_type": "code",
   "execution_count": 66,
   "metadata": {
    "collapsed": true
   },
   "outputs": [],
   "source": [
    "predictions = svc_model.predict(X_test_all)"
   ]
  },
  {
   "cell_type": "markdown",
   "metadata": {},
   "source": [
    "** SVM predictions for playoff west with box score **"
   ]
  },
  {
   "cell_type": "code",
   "execution_count": 57,
   "metadata": {},
   "outputs": [
    {
     "name": "stdout",
     "output_type": "stream",
     "text": [
      "             precision    recall  f1-score   support\n",
      "\n",
      "          0       0.89      0.82      0.85        39\n",
      "          1       0.89      0.93      0.91        59\n",
      "\n",
      "avg / total       0.89      0.89      0.89        98\n",
      "\n"
     ]
    }
   ],
   "source": [
    "print(classification_report(y_test,pred_reg))"
   ]
  },
  {
   "cell_type": "markdown",
   "metadata": {},
   "source": [
    "** SVM predictions for western conference with adv stats **"
   ]
  },
  {
   "cell_type": "code",
   "execution_count": 56,
   "metadata": {},
   "outputs": [
    {
     "name": "stdout",
     "output_type": "stream",
     "text": [
      "             precision    recall  f1-score   support\n",
      "\n",
      "          0       0.95      0.90      0.92        39\n",
      "          1       0.93      0.97      0.95        59\n",
      "\n",
      "avg / total       0.94      0.94      0.94        98\n",
      "\n"
     ]
    }
   ],
   "source": [
    "print(classification_report(y_test,predictions))"
   ]
  },
  {
   "cell_type": "markdown",
   "metadata": {},
   "source": [
    "** SVM predictions for playoff east with adv stats **"
   ]
  },
  {
   "cell_type": "code",
   "execution_count": 56,
   "metadata": {},
   "outputs": [
    {
     "name": "stdout",
     "output_type": "stream",
     "text": [
      "             precision    recall  f1-score   support\n",
      "\n",
      "          0       0.91      0.89      0.90        45\n",
      "          1       0.91      0.93      0.92        54\n",
      "\n",
      "avg / total       0.91      0.91      0.91        99\n",
      "\n"
     ]
    }
   ],
   "source": [
    "print(classification_report(y_test,predictions))"
   ]
  },
  {
   "cell_type": "markdown",
   "metadata": {
    "collapsed": true
   },
   "source": [
    "** SVM predictions for playoff east with box score **"
   ]
  },
  {
   "cell_type": "code",
   "execution_count": 58,
   "metadata": {},
   "outputs": [
    {
     "name": "stdout",
     "output_type": "stream",
     "text": [
      "             precision    recall  f1-score   support\n",
      "\n",
      "          0       0.86      0.80      0.83        45\n",
      "          1       0.84      0.89      0.86        54\n",
      "\n",
      "avg / total       0.85      0.85      0.85        99\n",
      "\n"
     ]
    }
   ],
   "source": [
    "print(classification_report(y_test,pred_reg))"
   ]
  },
  {
   "cell_type": "markdown",
   "metadata": {},
   "source": [
    "**Predictions for playoffs with merged stats **"
   ]
  },
  {
   "cell_type": "code",
   "execution_count": 68,
   "metadata": {},
   "outputs": [
    {
     "name": "stdout",
     "output_type": "stream",
     "text": [
      "             precision    recall  f1-score   support\n",
      "\n",
      "          0       0.73      0.77      0.75        87\n",
      "          1       0.81      0.77      0.79       109\n",
      "\n",
      "avg / total       0.77      0.77      0.77       196\n",
      "\n"
     ]
    }
   ],
   "source": [
    "print(classification_report(y_test_all,predictions))"
   ]
  },
  {
   "cell_type": "code",
   "execution_count": 58,
   "metadata": {
    "collapsed": true
   },
   "outputs": [],
   "source": [
    "from sklearn.linear_model import LogisticRegression"
   ]
  },
  {
   "cell_type": "markdown",
   "metadata": {},
   "source": [
    "** playoff predictions for Western conference with boxscore stats using logistic regression **"
   ]
  },
  {
   "cell_type": "code",
   "execution_count": 71,
   "metadata": {},
   "outputs": [
    {
     "name": "stdout",
     "output_type": "stream",
     "text": [
      "             precision    recall  f1-score   support\n",
      "\n",
      "          0       0.90      0.95      0.92        39\n",
      "          1       0.96      0.93      0.95        59\n",
      "\n",
      "avg / total       0.94      0.94      0.94        98\n",
      "\n"
     ]
    }
   ],
   "source": [
    "\n",
    "regular_model = LogisticRegression()\n",
    "regular_model.fit(X_train_reg, y_train_reg)\n",
    "predictions = regular_model.predict(X_test_reg)\n",
    "\n",
    "print(classification_report(y_test,predictions))"
   ]
  },
  {
   "cell_type": "markdown",
   "metadata": {},
   "source": [
    "** playoff predictions for Western conference with advanced stats using logistic regression **"
   ]
  },
  {
   "cell_type": "code",
   "execution_count": 73,
   "metadata": {},
   "outputs": [
    {
     "name": "stdout",
     "output_type": "stream",
     "text": [
      "             precision    recall  f1-score   support\n",
      "\n",
      "          0       0.95      0.95      0.95        39\n",
      "          1       0.97      0.97      0.97        59\n",
      "\n",
      "avg / total       0.96      0.96      0.96        98\n",
      "\n"
     ]
    }
   ],
   "source": [
    "adv_model = LogisticRegression()\n",
    "adv_model.fit(X_train, y_train)\n",
    "predictions = adv_model.predict(X_test)\n",
    "\n",
    "print(classification_report(y_test,predictions))"
   ]
  },
  {
   "cell_type": "markdown",
   "metadata": {
    "collapsed": true
   },
   "source": [
    "** playoff predictions for Eastern conference with boxscore stats using logistic regression **"
   ]
  },
  {
   "cell_type": "code",
   "execution_count": 78,
   "metadata": {},
   "outputs": [
    {
     "name": "stdout",
     "output_type": "stream",
     "text": [
      "             precision    recall  f1-score   support\n",
      "\n",
      "          0       0.90      0.95      0.92        39\n",
      "          1       0.96      0.93      0.95        59\n",
      "\n",
      "avg / total       0.94      0.94      0.94        98\n",
      "\n"
     ]
    }
   ],
   "source": [
    "\n",
    "regular_model = LogisticRegression()\n",
    "regular_model.fit(X_train_reg, y_train_reg)\n",
    "predictions = regular_model.predict(X_test_reg)\n",
    "\n",
    "print(classification_report(y_test,predictions))"
   ]
  },
  {
   "cell_type": "markdown",
   "metadata": {},
   "source": [
    "** playoff predictions for Eastern conference with advanced stats using logistic regression **"
   ]
  },
  {
   "cell_type": "code",
   "execution_count": 79,
   "metadata": {},
   "outputs": [
    {
     "name": "stdout",
     "output_type": "stream",
     "text": [
      "             precision    recall  f1-score   support\n",
      "\n",
      "          0       0.95      0.95      0.95        39\n",
      "          1       0.97      0.97      0.97        59\n",
      "\n",
      "avg / total       0.96      0.96      0.96        98\n",
      "\n"
     ]
    }
   ],
   "source": [
    "adv_model = LogisticRegression()\n",
    "adv_model.fit(X_train, y_train)\n",
    "predictions = adv_model.predict(X_test)\n",
    "\n",
    "print(classification_report(y_test,predictions))"
   ]
  },
  {
   "cell_type": "markdown",
   "metadata": {},
   "source": [
    "**Prdictions for playoffs based on merged stats **"
   ]
  },
  {
   "cell_type": "code",
   "execution_count": 69,
   "metadata": {},
   "outputs": [
    {
     "name": "stdout",
     "output_type": "stream",
     "text": [
      "             precision    recall  f1-score   support\n",
      "\n",
      "          0       0.76      0.86      0.81        87\n",
      "          1       0.88      0.78      0.83       109\n",
      "\n",
      "avg / total       0.82      0.82      0.82       196\n",
      "\n"
     ]
    }
   ],
   "source": [
    "adv_model = LogisticRegression()\n",
    "adv_model.fit(X_train_all, y_train_all)\n",
    "predictions = adv_model.predict(X_test_all)\n",
    "\n",
    "print(classification_report(y_test_all,predictions))"
   ]
  },
  {
   "cell_type": "code",
   "execution_count": 77,
   "metadata": {},
   "outputs": [
    {
     "data": {
      "text/plain": [
       "array([1], dtype=int64)"
      ]
     },
     "execution_count": 77,
     "metadata": {},
     "output_type": "execute_result"
    }
   ],
   "source": [
    "test_team =  TeamYearOverYearSplits(1610612740).by_year()[['FGM', 'FGA', 'FG_PCT', 'FG3M', 'FG3A', 'FG3_PCT', 'FTM', 'FTA',\n",
    "       'FT_PCT', 'OREB', 'DREB', 'REB', 'AST', 'TOV', 'STL', 'BLK', 'BLKA',\n",
    "       'PF', 'PFD', 'PTS', 'PLUS_MINUS']]\n",
    "regular_model.predict(test_team.head(1))"
   ]
  },
  {
   "cell_type": "code",
   "execution_count": 35,
   "metadata": {
    "collapsed": true
   },
   "outputs": [],
   "source": [
    "current_predictions_norm = {}\n",
    "current_predictions_adv = {}\n",
    "for index, row in team_list.iterrows():\n",
    "    current = TeamYearOverYearSplits(row['TEAM_ID']).by_year()[['FGM', 'FGA', 'FG_PCT', 'FG3M', 'FG3A', 'FG3_PCT', 'FTM', 'FTA',\n",
    "       'FT_PCT', 'OREB', 'DREB', 'REB', 'AST', 'TOV', 'STL', 'BLK', 'BLKA',\n",
    "       'PF', 'PFD', 'PTS']]\n",
    "    current_adv = TeamYearOverYearSplits(row['TEAM_ID'],measure_type = 'Advanced').by_year()[['AST_PCT', 'AST_TO',\n",
    "       'AST_RATIO', 'OREB_PCT', 'DREB_PCT', 'REB_PCT', 'TM_TOV_PCT', 'EFG_PCT',\n",
    "       'TS_PCT', 'PACE', 'PIE']]\n",
    "    current = pd.concat([current,current_adv],axis = 1)\n",
    "    current_predictions_norm[row['ABBREVIATION']] = rfc.predict_proba(current.head(1))\n",
    "   "
   ]
  },
  {
   "cell_type": "code",
   "execution_count": 49,
   "metadata": {},
   "outputs": [
    {
     "name": "stdout",
     "output_type": "stream",
     "text": [
      "ATL\n",
      "Probability of missing playoffs::  65.33333333333333%\n",
      "Probability of making playoffs::  34.66666666666667%\n",
      "------------------------------\n",
      "BOS\n",
      "Probability of missing playoffs::  20.0%\n",
      "Probability of making playoffs::  80.0%\n",
      "------------------------------\n",
      "CLE\n",
      "Probability of missing playoffs::  52.0%\n",
      "Probability of making playoffs::  48.0%\n",
      "------------------------------\n",
      "NOP\n",
      "Probability of missing playoffs::  16.0%\n",
      "Probability of making playoffs::  84.0%\n",
      "------------------------------\n",
      "CHI\n",
      "Probability of missing playoffs::  76.0%\n",
      "Probability of making playoffs::  24.0%\n",
      "------------------------------\n",
      "DAL\n",
      "Probability of missing playoffs::  88.0%\n",
      "Probability of making playoffs::  12.0%\n",
      "------------------------------\n",
      "DEN\n",
      "Probability of missing playoffs::  74.66666666666667%\n",
      "Probability of making playoffs::  25.333333333333336%\n",
      "------------------------------\n",
      "GSW\n",
      "Probability of missing playoffs::  4.0%\n",
      "Probability of making playoffs::  96.0%\n",
      "------------------------------\n",
      "HOU\n",
      "Probability of missing playoffs::  6.666666666666667%\n",
      "Probability of making playoffs::  93.33333333333333%\n",
      "------------------------------\n",
      "LAC\n",
      "Probability of missing playoffs::  36.0%\n",
      "Probability of making playoffs::  64.0%\n",
      "------------------------------\n",
      "LAL\n",
      "Probability of missing playoffs::  54.666666666666664%\n",
      "Probability of making playoffs::  45.33333333333333%\n",
      "------------------------------\n",
      "MIA\n",
      "Probability of missing playoffs::  34.66666666666667%\n",
      "Probability of making playoffs::  65.33333333333333%\n",
      "------------------------------\n",
      "MIL\n",
      "Probability of missing playoffs::  37.333333333333336%\n",
      "Probability of making playoffs::  62.66666666666667%\n",
      "------------------------------\n",
      "MIN\n",
      "Probability of missing playoffs::  21.333333333333336%\n",
      "Probability of making playoffs::  78.66666666666666%\n",
      "------------------------------\n",
      "BKN\n",
      "Probability of missing playoffs::  64.0%\n",
      "Probability of making playoffs::  36.0%\n",
      "------------------------------\n",
      "NYK\n",
      "Probability of missing playoffs::  70.66666666666667%\n",
      "Probability of making playoffs::  29.333333333333332%\n",
      "------------------------------\n",
      "ORL\n",
      "Probability of missing playoffs::  68.0%\n",
      "Probability of making playoffs::  32.0%\n",
      "------------------------------\n",
      "IND\n",
      "Probability of missing playoffs::  29.333333333333332%\n",
      "Probability of making playoffs::  70.66666666666667%\n",
      "------------------------------\n",
      "PHI\n",
      "Probability of missing playoffs::  30.666666666666664%\n",
      "Probability of making playoffs::  69.33333333333334%\n",
      "------------------------------\n",
      "PHX\n",
      "Probability of missing playoffs::  94.66666666666667%\n",
      "Probability of making playoffs::  5.333333333333334%\n",
      "------------------------------\n",
      "POR\n",
      "Probability of missing playoffs::  17.333333333333336%\n",
      "Probability of making playoffs::  82.66666666666667%\n",
      "------------------------------\n",
      "SAC\n",
      "Probability of missing playoffs::  93.33333333333333%\n",
      "Probability of making playoffs::  6.666666666666667%\n",
      "------------------------------\n",
      "SAS\n",
      "Probability of missing playoffs::  6.666666666666667%\n",
      "Probability of making playoffs::  93.33333333333333%\n",
      "------------------------------\n",
      "OKC\n",
      "Probability of missing playoffs::  16.0%\n",
      "Probability of making playoffs::  84.0%\n",
      "------------------------------\n",
      "TOR\n",
      "Probability of missing playoffs::  18.666666666666668%\n",
      "Probability of making playoffs::  81.33333333333333%\n",
      "------------------------------\n",
      "UTA\n",
      "Probability of missing playoffs::  5.333333333333334%\n",
      "Probability of making playoffs::  94.66666666666667%\n",
      "------------------------------\n",
      "MEM\n",
      "Probability of missing playoffs::  98.66666666666667%\n",
      "Probability of making playoffs::  1.3333333333333335%\n",
      "------------------------------\n",
      "WAS\n",
      "Probability of missing playoffs::  25.333333333333336%\n",
      "Probability of making playoffs::  74.66666666666667%\n",
      "------------------------------\n",
      "DET\n",
      "Probability of missing playoffs::  65.33333333333333%\n",
      "Probability of making playoffs::  34.66666666666667%\n",
      "------------------------------\n",
      "CHA\n",
      "Probability of missing playoffs::  20.0%\n",
      "Probability of making playoffs::  80.0%\n",
      "------------------------------\n"
     ]
    }
   ],
   "source": [
    "for norm in (current_predictions_norm.keys()):\n",
    "    print(norm)\n",
    "    print(\"Probability of missing playoffs::  \"+ str(current_predictions_norm[norm][0][0][0]*100) +\"%\")\n",
    "    print(\"Probability of making playoffs::  \"+ str(current_predictions_norm[norm][0][0][1]*100) +\"%\")\n",
    "    print(\"------------------------------\")"
   ]
  },
  {
   "cell_type": "code",
   "execution_count": 72,
   "metadata": {},
   "outputs": [
    {
     "ename": "KeyError",
     "evalue": "\"['FGM' 'FGA' 'FG_PCT' 'FG3M' 'FG3A' 'FG3_PCT' 'FTM' 'FTA' 'FT_PCT' 'OREB'\\n 'DREB' 'REB' 'AST' 'TOV' 'STL' 'BLK' 'BLKA' 'PF' 'PFD' 'PTS'] not in index\"",
     "output_type": "error",
     "traceback": [
      "\u001b[1;31m---------------------------------------------------------------------------\u001b[0m",
      "\u001b[1;31mKeyError\u001b[0m                                  Traceback (most recent call last)",
      "\u001b[1;32m<ipython-input-72-2bf5b27a8148>\u001b[0m in \u001b[0;36m<module>\u001b[1;34m()\u001b[0m\n\u001b[0;32m      9\u001b[0m        \u001b[1;34m'PF'\u001b[0m\u001b[1;33m,\u001b[0m \u001b[1;34m'PFD'\u001b[0m\u001b[1;33m,\u001b[0m \u001b[1;34m'PTS'\u001b[0m\u001b[1;33m,\u001b[0m\u001b[1;34m'AST_PCT'\u001b[0m\u001b[1;33m,\u001b[0m \u001b[1;34m'AST_TO'\u001b[0m\u001b[1;33m,\u001b[0m\u001b[1;33m\u001b[0m\u001b[0m\n\u001b[0;32m     10\u001b[0m        \u001b[1;34m'AST_RATIO'\u001b[0m\u001b[1;33m,\u001b[0m \u001b[1;34m'OREB_PCT'\u001b[0m\u001b[1;33m,\u001b[0m \u001b[1;34m'DREB_PCT'\u001b[0m\u001b[1;33m,\u001b[0m \u001b[1;34m'REB_PCT'\u001b[0m\u001b[1;33m,\u001b[0m \u001b[1;34m'TM_TOV_PCT'\u001b[0m\u001b[1;33m,\u001b[0m \u001b[1;34m'EFG_PCT'\u001b[0m\u001b[1;33m,\u001b[0m\u001b[1;33m\u001b[0m\u001b[0m\n\u001b[1;32m---> 11\u001b[1;33m        'TS_PCT', 'PACE', 'PIE']]\n\u001b[0m\u001b[0;32m     12\u001b[0m     \u001b[1;31m#urrent_predictions_norm[row['ABBREVIATION']] = regular_model.predict(current.head(1))\u001b[0m\u001b[1;33m\u001b[0m\u001b[1;33m\u001b[0m\u001b[0m\n\u001b[0;32m     13\u001b[0m     \u001b[0mcurrent_predictions_adv\u001b[0m\u001b[1;33m[\u001b[0m\u001b[0mrow\u001b[0m\u001b[1;33m[\u001b[0m\u001b[1;34m'ABBREVIATION'\u001b[0m\u001b[1;33m]\u001b[0m\u001b[1;33m]\u001b[0m \u001b[1;33m=\u001b[0m \u001b[0madv_model\u001b[0m\u001b[1;33m.\u001b[0m\u001b[0mpredict\u001b[0m\u001b[1;33m(\u001b[0m\u001b[0mcurrent_adv\u001b[0m\u001b[1;33m.\u001b[0m\u001b[0mhead\u001b[0m\u001b[1;33m(\u001b[0m\u001b[1;36m1\u001b[0m\u001b[1;33m)\u001b[0m\u001b[1;33m)\u001b[0m\u001b[1;33m\u001b[0m\u001b[0m\n",
      "\u001b[1;32mc:\\users\\tkauk\\appdata\\local\\programs\\python\\python36\\lib\\site-packages\\pandas\\core\\frame.py\u001b[0m in \u001b[0;36m__getitem__\u001b[1;34m(self, key)\u001b[0m\n\u001b[0;32m   2131\u001b[0m         \u001b[1;32mif\u001b[0m \u001b[0misinstance\u001b[0m\u001b[1;33m(\u001b[0m\u001b[0mkey\u001b[0m\u001b[1;33m,\u001b[0m \u001b[1;33m(\u001b[0m\u001b[0mSeries\u001b[0m\u001b[1;33m,\u001b[0m \u001b[0mnp\u001b[0m\u001b[1;33m.\u001b[0m\u001b[0mndarray\u001b[0m\u001b[1;33m,\u001b[0m \u001b[0mIndex\u001b[0m\u001b[1;33m,\u001b[0m \u001b[0mlist\u001b[0m\u001b[1;33m)\u001b[0m\u001b[1;33m)\u001b[0m\u001b[1;33m:\u001b[0m\u001b[1;33m\u001b[0m\u001b[0m\n\u001b[0;32m   2132\u001b[0m             \u001b[1;31m# either boolean or fancy integer index\u001b[0m\u001b[1;33m\u001b[0m\u001b[1;33m\u001b[0m\u001b[0m\n\u001b[1;32m-> 2133\u001b[1;33m             \u001b[1;32mreturn\u001b[0m \u001b[0mself\u001b[0m\u001b[1;33m.\u001b[0m\u001b[0m_getitem_array\u001b[0m\u001b[1;33m(\u001b[0m\u001b[0mkey\u001b[0m\u001b[1;33m)\u001b[0m\u001b[1;33m\u001b[0m\u001b[0m\n\u001b[0m\u001b[0;32m   2134\u001b[0m         \u001b[1;32melif\u001b[0m \u001b[0misinstance\u001b[0m\u001b[1;33m(\u001b[0m\u001b[0mkey\u001b[0m\u001b[1;33m,\u001b[0m \u001b[0mDataFrame\u001b[0m\u001b[1;33m)\u001b[0m\u001b[1;33m:\u001b[0m\u001b[1;33m\u001b[0m\u001b[0m\n\u001b[0;32m   2135\u001b[0m             \u001b[1;32mreturn\u001b[0m \u001b[0mself\u001b[0m\u001b[1;33m.\u001b[0m\u001b[0m_getitem_frame\u001b[0m\u001b[1;33m(\u001b[0m\u001b[0mkey\u001b[0m\u001b[1;33m)\u001b[0m\u001b[1;33m\u001b[0m\u001b[0m\n",
      "\u001b[1;32mc:\\users\\tkauk\\appdata\\local\\programs\\python\\python36\\lib\\site-packages\\pandas\\core\\frame.py\u001b[0m in \u001b[0;36m_getitem_array\u001b[1;34m(self, key)\u001b[0m\n\u001b[0;32m   2175\u001b[0m             \u001b[1;32mreturn\u001b[0m \u001b[0mself\u001b[0m\u001b[1;33m.\u001b[0m\u001b[0m_take\u001b[0m\u001b[1;33m(\u001b[0m\u001b[0mindexer\u001b[0m\u001b[1;33m,\u001b[0m \u001b[0maxis\u001b[0m\u001b[1;33m=\u001b[0m\u001b[1;36m0\u001b[0m\u001b[1;33m,\u001b[0m \u001b[0mconvert\u001b[0m\u001b[1;33m=\u001b[0m\u001b[1;32mFalse\u001b[0m\u001b[1;33m)\u001b[0m\u001b[1;33m\u001b[0m\u001b[0m\n\u001b[0;32m   2176\u001b[0m         \u001b[1;32melse\u001b[0m\u001b[1;33m:\u001b[0m\u001b[1;33m\u001b[0m\u001b[0m\n\u001b[1;32m-> 2177\u001b[1;33m             \u001b[0mindexer\u001b[0m \u001b[1;33m=\u001b[0m \u001b[0mself\u001b[0m\u001b[1;33m.\u001b[0m\u001b[0mloc\u001b[0m\u001b[1;33m.\u001b[0m\u001b[0m_convert_to_indexer\u001b[0m\u001b[1;33m(\u001b[0m\u001b[0mkey\u001b[0m\u001b[1;33m,\u001b[0m \u001b[0maxis\u001b[0m\u001b[1;33m=\u001b[0m\u001b[1;36m1\u001b[0m\u001b[1;33m)\u001b[0m\u001b[1;33m\u001b[0m\u001b[0m\n\u001b[0m\u001b[0;32m   2178\u001b[0m             \u001b[1;32mreturn\u001b[0m \u001b[0mself\u001b[0m\u001b[1;33m.\u001b[0m\u001b[0m_take\u001b[0m\u001b[1;33m(\u001b[0m\u001b[0mindexer\u001b[0m\u001b[1;33m,\u001b[0m \u001b[0maxis\u001b[0m\u001b[1;33m=\u001b[0m\u001b[1;36m1\u001b[0m\u001b[1;33m,\u001b[0m \u001b[0mconvert\u001b[0m\u001b[1;33m=\u001b[0m\u001b[1;32mTrue\u001b[0m\u001b[1;33m)\u001b[0m\u001b[1;33m\u001b[0m\u001b[0m\n\u001b[0;32m   2179\u001b[0m \u001b[1;33m\u001b[0m\u001b[0m\n",
      "\u001b[1;32mc:\\users\\tkauk\\appdata\\local\\programs\\python\\python36\\lib\\site-packages\\pandas\\core\\indexing.py\u001b[0m in \u001b[0;36m_convert_to_indexer\u001b[1;34m(self, obj, axis, is_setter)\u001b[0m\n\u001b[0;32m   1267\u001b[0m                 \u001b[1;32mif\u001b[0m \u001b[0mmask\u001b[0m\u001b[1;33m.\u001b[0m\u001b[0many\u001b[0m\u001b[1;33m(\u001b[0m\u001b[1;33m)\u001b[0m\u001b[1;33m:\u001b[0m\u001b[1;33m\u001b[0m\u001b[0m\n\u001b[0;32m   1268\u001b[0m                     raise KeyError('{mask} not in index'\n\u001b[1;32m-> 1269\u001b[1;33m                                    .format(mask=objarr[mask]))\n\u001b[0m\u001b[0;32m   1270\u001b[0m \u001b[1;33m\u001b[0m\u001b[0m\n\u001b[0;32m   1271\u001b[0m                 \u001b[1;32mreturn\u001b[0m \u001b[0m_values_from_object\u001b[0m\u001b[1;33m(\u001b[0m\u001b[0mindexer\u001b[0m\u001b[1;33m)\u001b[0m\u001b[1;33m\u001b[0m\u001b[0m\n",
      "\u001b[1;31mKeyError\u001b[0m: \"['FGM' 'FGA' 'FG_PCT' 'FG3M' 'FG3A' 'FG3_PCT' 'FTM' 'FTA' 'FT_PCT' 'OREB'\\n 'DREB' 'REB' 'AST' 'TOV' 'STL' 'BLK' 'BLKA' 'PF' 'PFD' 'PTS'] not in index\""
     ]
    }
   ],
   "source": [
    "current_predictions_norm = {}\n",
    "current_predictions_adv = {}\n",
    "for index, row in team_list.iterrows():\n",
    "    current = TeamYearOverYearSplits(row['TEAM_ID']).by_year()[['FGM', 'FGA', 'FG_PCT', 'FG3M', 'FG3A', 'FG3_PCT', 'FTM', 'FTA',\n",
    "       'FT_PCT', 'OREB', 'DREB', 'REB', 'AST', 'TOV', 'STL', 'BLK', 'BLKA',\n",
    "       'PF', 'PFD', 'PTS', 'PLUS_MINUS']]\n",
    "    current_adv = TeamYearOverYearSplits(row['TEAM_ID'],measure_type = 'Advanced').by_year()[['NET_RATING', 'AST_PCT', 'AST_TO',\n",
    "       'AST_RATIO', 'OREB_PCT', 'DREB_PCT', 'REB_PCT', 'TM_TOV_PCT', 'EFG_PCT',\n",
    "       'TS_PCT', 'PACE', 'PIE']]\n",
    "    \n",
    "    current_predictions_norm[row['ABBREVIATION']] = regular_model.predict(current.head(1))\n",
    "    current_predictions_adv[row['ABBREVIATION']] = adv_model.predict(current_adv.head(1))"
   ]
  },
  {
   "cell_type": "code",
   "execution_count": 80,
   "metadata": {},
   "outputs": [
    {
     "name": "stdout",
     "output_type": "stream",
     "text": [
      "Normal Prediciton: ATL [0]\n",
      "Advanced Prediciton: ATL [0]\n",
      "------------------------------\n",
      "Normal Prediciton: BOS [1]\n",
      "Advanced Prediciton: BOS [1]\n",
      "------------------------------\n",
      "Normal Prediciton: CLE [1]\n",
      "Advanced Prediciton: CLE [1]\n",
      "------------------------------\n",
      "Normal Prediciton: NOP [1]\n",
      "Advanced Prediciton: NOP [1]\n",
      "------------------------------\n",
      "Normal Prediciton: CHI [0]\n",
      "Advanced Prediciton: CHI [0]\n",
      "------------------------------\n",
      "Normal Prediciton: DAL [0]\n",
      "Advanced Prediciton: DAL [0]\n",
      "------------------------------\n",
      "Normal Prediciton: DEN [1]\n",
      "Advanced Prediciton: DEN [1]\n",
      "------------------------------\n",
      "Normal Prediciton: GSW [1]\n",
      "Advanced Prediciton: GSW [1]\n",
      "------------------------------\n",
      "Normal Prediciton: HOU [1]\n",
      "Advanced Prediciton: HOU [1]\n",
      "------------------------------\n",
      "Normal Prediciton: LAC [0]\n",
      "Advanced Prediciton: LAC [0]\n",
      "------------------------------\n",
      "Normal Prediciton: LAL [0]\n",
      "Advanced Prediciton: LAL [0]\n",
      "------------------------------\n",
      "Normal Prediciton: MIA [1]\n",
      "Advanced Prediciton: MIA [1]\n",
      "------------------------------\n",
      "Normal Prediciton: MIL [1]\n",
      "Advanced Prediciton: MIL [1]\n",
      "------------------------------\n",
      "Normal Prediciton: MIN [1]\n",
      "Advanced Prediciton: MIN [1]\n",
      "------------------------------\n",
      "Normal Prediciton: BKN [0]\n",
      "Advanced Prediciton: BKN [0]\n",
      "------------------------------\n",
      "Normal Prediciton: NYK [0]\n",
      "Advanced Prediciton: NYK [0]\n",
      "------------------------------\n",
      "Normal Prediciton: ORL [0]\n",
      "Advanced Prediciton: ORL [0]\n",
      "------------------------------\n",
      "Normal Prediciton: IND [1]\n",
      "Advanced Prediciton: IND [1]\n",
      "------------------------------\n",
      "Normal Prediciton: PHI [1]\n",
      "Advanced Prediciton: PHI [1]\n",
      "------------------------------\n",
      "Normal Prediciton: PHX [0]\n",
      "Advanced Prediciton: PHX [0]\n",
      "------------------------------\n",
      "Normal Prediciton: POR [1]\n",
      "Advanced Prediciton: POR [1]\n",
      "------------------------------\n",
      "Normal Prediciton: SAC [0]\n",
      "Advanced Prediciton: SAC [0]\n",
      "------------------------------\n",
      "Normal Prediciton: SAS [1]\n",
      "Advanced Prediciton: SAS [1]\n",
      "------------------------------\n",
      "Normal Prediciton: OKC [1]\n",
      "Advanced Prediciton: OKC [1]\n",
      "------------------------------\n",
      "Normal Prediciton: TOR [1]\n",
      "Advanced Prediciton: TOR [1]\n",
      "------------------------------\n",
      "Normal Prediciton: UTA [1]\n",
      "Advanced Prediciton: UTA [1]\n",
      "------------------------------\n",
      "Normal Prediciton: MEM [0]\n",
      "Advanced Prediciton: MEM [0]\n",
      "------------------------------\n",
      "Normal Prediciton: WAS [1]\n",
      "Advanced Prediciton: WAS [1]\n",
      "------------------------------\n",
      "Normal Prediciton: DET [0]\n",
      "Advanced Prediciton: DET [0]\n",
      "------------------------------\n",
      "Normal Prediciton: CHA [0]\n",
      "Advanced Prediciton: CHA [0]\n",
      "------------------------------\n"
     ]
    }
   ],
   "source": [
    "for norm, adv in zip(current_predictions_norm.keys(),current_predictions_adv.keys()):\n",
    "    print(\"Normal Prediciton: \"+norm+\" \"+str(current_predictions_norm[norm]))\n",
    "    print(\"Advanced Prediciton: \"+adv+\" \"+str(current_predictions_adv[adv]))\n",
    "    print(\"------------------------------\")"
   ]
  },
  {
   "cell_type": "code",
   "execution_count": null,
   "metadata": {
    "collapsed": true
   },
   "outputs": [],
   "source": []
  },
  {
   "cell_type": "markdown",
   "metadata": {},
   "source": [
    "** Predictions for this year's playoff teams based on eastern conference models for regular and advanced stats**"
   ]
  },
  {
   "cell_type": "code",
   "execution_count": 72,
   "metadata": {},
   "outputs": [
    {
     "name": "stdout",
     "output_type": "stream",
     "text": [
      "Normal Prediciton: ATL [0]\n",
      "Advanced Prediciton: ATL [0]\n",
      "------------------------------\n",
      "Normal Prediciton: BOS [1]\n",
      "Advanced Prediciton: BOS [1]\n",
      "------------------------------\n",
      "Normal Prediciton: CLE [1]\n",
      "Advanced Prediciton: CLE [1]\n",
      "------------------------------\n",
      "Normal Prediciton: NOP [1]\n",
      "Advanced Prediciton: NOP [1]\n",
      "------------------------------\n",
      "Normal Prediciton: CHI [0]\n",
      "Advanced Prediciton: CHI [0]\n",
      "------------------------------\n",
      "Normal Prediciton: DAL [0]\n",
      "Advanced Prediciton: DAL [0]\n",
      "------------------------------\n",
      "Normal Prediciton: DEN [1]\n",
      "Advanced Prediciton: DEN [1]\n",
      "------------------------------\n",
      "Normal Prediciton: GSW [1]\n",
      "Advanced Prediciton: GSW [1]\n",
      "------------------------------\n",
      "Normal Prediciton: HOU [1]\n",
      "Advanced Prediciton: HOU [1]\n",
      "------------------------------\n",
      "Normal Prediciton: LAC [1]\n",
      "Advanced Prediciton: LAC [1]\n",
      "------------------------------\n",
      "Normal Prediciton: LAL [0]\n",
      "Advanced Prediciton: LAL [0]\n",
      "------------------------------\n",
      "Normal Prediciton: MIA [1]\n",
      "Advanced Prediciton: MIA [1]\n",
      "------------------------------\n",
      "Normal Prediciton: MIL [1]\n",
      "Advanced Prediciton: MIL [1]\n",
      "------------------------------\n",
      "Normal Prediciton: MIN [1]\n",
      "Advanced Prediciton: MIN [1]\n",
      "------------------------------\n",
      "Normal Prediciton: BKN [0]\n",
      "Advanced Prediciton: BKN [0]\n",
      "------------------------------\n",
      "Normal Prediciton: NYK [0]\n",
      "Advanced Prediciton: NYK [0]\n",
      "------------------------------\n",
      "Normal Prediciton: ORL [0]\n",
      "Advanced Prediciton: ORL [0]\n",
      "------------------------------\n",
      "Normal Prediciton: IND [1]\n",
      "Advanced Prediciton: IND [1]\n",
      "------------------------------\n",
      "Normal Prediciton: PHI [1]\n",
      "Advanced Prediciton: PHI [1]\n",
      "------------------------------\n",
      "Normal Prediciton: PHX [0]\n",
      "Advanced Prediciton: PHX [0]\n",
      "------------------------------\n",
      "Normal Prediciton: POR [1]\n",
      "Advanced Prediciton: POR [1]\n",
      "------------------------------\n",
      "Normal Prediciton: SAC [0]\n",
      "Advanced Prediciton: SAC [0]\n",
      "------------------------------\n",
      "Normal Prediciton: SAS [1]\n",
      "Advanced Prediciton: SAS [1]\n",
      "------------------------------\n",
      "Normal Prediciton: OKC [1]\n",
      "Advanced Prediciton: OKC [1]\n",
      "------------------------------\n",
      "Normal Prediciton: TOR [1]\n",
      "Advanced Prediciton: TOR [1]\n",
      "------------------------------\n",
      "Normal Prediciton: UTA [1]\n",
      "Advanced Prediciton: UTA [1]\n",
      "------------------------------\n",
      "Normal Prediciton: MEM [0]\n",
      "Advanced Prediciton: MEM [0]\n",
      "------------------------------\n",
      "Normal Prediciton: WAS [1]\n",
      "Advanced Prediciton: WAS [1]\n",
      "------------------------------\n",
      "Normal Prediciton: DET [0]\n",
      "Advanced Prediciton: DET [0]\n",
      "------------------------------\n",
      "Normal Prediciton: CHA [1]\n",
      "Advanced Prediciton: CHA [0]\n",
      "------------------------------\n"
     ]
    }
   ],
   "source": [
    "for norm, adv in zip(current_predictions_norm.keys(),current_predictions_adv.keys()):\n",
    "    print(\"Normal Prediciton: \"+norm+\" \"+str(current_predictions_norm[norm]))\n",
    "    print(\"Advanced Prediciton: \"+adv+\" \"+str(current_predictions_adv[adv]))\n",
    "    print(\"------------------------------\")"
   ]
  },
  {
   "cell_type": "code",
   "execution_count": 15,
   "metadata": {
    "collapsed": true
   },
   "outputs": [],
   "source": [
    "from sklearn.linear_model import LinearRegression"
   ]
  },
  {
   "cell_type": "code",
   "execution_count": 16,
   "metadata": {
    "collapsed": true
   },
   "outputs": [],
   "source": [
    "lm_all = LinearRegression()"
   ]
  },
  {
   "cell_type": "code",
   "execution_count": 17,
   "metadata": {
    "collapsed": true
   },
   "outputs": [],
   "source": [
    "lm_reg = LinearRegression()"
   ]
  },
  {
   "cell_type": "code",
   "execution_count": 18,
   "metadata": {
    "collapsed": true
   },
   "outputs": [],
   "source": [
    "lm = LinearRegression()"
   ]
  },
  {
   "cell_type": "code",
   "execution_count": 19,
   "metadata": {},
   "outputs": [
    {
     "data": {
      "text/plain": [
       "LinearRegression(copy_X=True, fit_intercept=True, n_jobs=1, normalize=False)"
      ]
     },
     "execution_count": 19,
     "metadata": {},
     "output_type": "execute_result"
    }
   ],
   "source": [
    "lm_reg.fit(X_train_reg,y_train_reg)"
   ]
  },
  {
   "cell_type": "code",
   "execution_count": 20,
   "metadata": {},
   "outputs": [
    {
     "data": {
      "text/plain": [
       "LinearRegression(copy_X=True, fit_intercept=True, n_jobs=1, normalize=False)"
      ]
     },
     "execution_count": 20,
     "metadata": {},
     "output_type": "execute_result"
    }
   ],
   "source": [
    "lm_all.fit(X_train_all,y_train_all)"
   ]
  },
  {
   "cell_type": "code",
   "execution_count": 21,
   "metadata": {},
   "outputs": [
    {
     "data": {
      "text/plain": [
       "LinearRegression(copy_X=True, fit_intercept=True, n_jobs=1, normalize=False)"
      ]
     },
     "execution_count": 21,
     "metadata": {},
     "output_type": "execute_result"
    }
   ],
   "source": [
    "lm.fit(X_train,y_train)"
   ]
  },
  {
   "cell_type": "code",
   "execution_count": 17,
   "metadata": {},
   "outputs": [
    {
     "name": "stdout",
     "output_type": "stream",
     "text": [
      "Coefficients: \n",
      " [ 2.32480251e-02  5.77254111e-01 -1.45140801e-01 -8.94242769e-03\n",
      " -2.04116074e-01 -5.38752156e-01  1.25100309e+00 -2.29979850e+00\n",
      "  1.32022526e+00 -9.63187393e-01 -8.52798954e-04  7.34191404e-01]\n"
     ]
    }
   ],
   "source": [
    "print('Coefficients: \\n', lm.coef_)"
   ]
  },
  {
   "cell_type": "code",
   "execution_count": 22,
   "metadata": {
    "collapsed": true
   },
   "outputs": [],
   "source": [
    "pred_reg = lm_reg.predict(X_test_reg)"
   ]
  },
  {
   "cell_type": "code",
   "execution_count": 23,
   "metadata": {
    "collapsed": true
   },
   "outputs": [],
   "source": [
    "pred_all = lm_all.predict(X_test_all)"
   ]
  },
  {
   "cell_type": "code",
   "execution_count": 24,
   "metadata": {
    "collapsed": true
   },
   "outputs": [],
   "source": [
    "predictions = lm.predict( X_test)"
   ]
  },
  {
   "cell_type": "code",
   "execution_count": 25,
   "metadata": {
    "collapsed": true
   },
   "outputs": [],
   "source": [
    "sns.set_style('darkgrid')"
   ]
  },
  {
   "cell_type": "code",
   "execution_count": 24,
   "metadata": {},
   "outputs": [
    {
     "data": {
      "text/plain": [
       "<seaborn.axisgrid.FacetGrid at 0x19c52a07518>"
      ]
     },
     "execution_count": 24,
     "metadata": {},
     "output_type": "execute_result"
    },
    {
     "data": {
      "image/png": "[encoded data removed]",
      "text/plain": [
       "<Figure size 360x360 with 1 Axes>"
      ]
     },
     "metadata": {},
     "output_type": "display_data"
    }
   ],
   "source": [
    "sns.lmplot(x=\"W_PCT\", y=\"NET_RATING\", data=advs_stats)"
   ]
  },
  {
   "cell_type": "code",
   "execution_count": 25,
   "metadata": {},
   "outputs": [
    {
     "data": {
      "text/plain": [
       "<seaborn.axisgrid.FacetGrid at 0x19c52a2ad30>"
      ]
     },
     "execution_count": 25,
     "metadata": {},
     "output_type": "execute_result"
    },
    {
     "data": {
      "image/png": "[encoded data removed]",
      "text/plain": [
       "<Figure size 360x360 with 1 Axes>"
      ]
     },
     "metadata": {},
     "output_type": "display_data"
    }
   ],
   "source": [
    "sns.lmplot(x= \"W_PCT\", y=\"PLUS_MINUS\", data=regular_stats)"
   ]
  },
  {
   "cell_type": "code",
   "execution_count": 78,
   "metadata": {},
   "outputs": [
    {
     "data": {
      "text/plain": [
       "Text(0.5,1,'Expected Wins vs Actual wins with box score stats')"
      ]
     },
     "execution_count": 78,
     "metadata": {},
     "output_type": "execute_result"
    },
    {
     "data": {
      "image/png": "[encoded data removed]",
      "text/plain": [
       "<Figure size 432x288 with 1 Axes>"
      ]
     },
     "metadata": {},
     "output_type": "display_data"
    }
   ],
   "source": [
    "plt.scatter(y_test,pred_reg)\n",
    "plt.xlabel('Actual Wins')\n",
    "plt.ylabel('Predicted Wins')\n",
    "plt.title('Expected Wins vs Actual wins with box score stats')"
   ]
  },
  {
   "cell_type": "code",
   "execution_count": 79,
   "metadata": {},
   "outputs": [
    {
     "data": {
      "text/plain": [
       "Text(0.5,1,'Expected Win Pct vs Actual win pct with box score')"
      ]
     },
     "execution_count": 79,
     "metadata": {},
     "output_type": "execute_result"
    },
    {
     "data": {
      "image/png": "[encoded data removed]",
      "text/plain": [
       "<Figure size 432x288 with 1 Axes>"
      ]
     },
     "metadata": {},
     "output_type": "display_data"
    }
   ],
   "source": [
    "plt.scatter(y_test,pred_reg)\n",
    "plt.xlabel('Actual Win %')\n",
    "plt.ylabel('Predicted Win %')\n",
    "plt.title('Expected Win Pct vs Actual win pct with box score')"
   ]
  },
  {
   "cell_type": "code",
   "execution_count": 26,
   "metadata": {},
   "outputs": [
    {
     "data": {
      "text/plain": [
       "Text(0.5,1,'Expected Win Pct vs Actual win pct with box score stats')"
      ]
     },
     "execution_count": 26,
     "metadata": {},
     "output_type": "execute_result"
    },
    {
     "data": {
      "image/png": "[encoded data removed]",
      "text/plain": [
       "<Figure size 432x288 with 1 Axes>"
      ]
     },
     "metadata": {},
     "output_type": "display_data"
    }
   ],
   "source": [
    "plt.scatter(y_test,pred_reg)\n",
    "plt.xlabel('Actual Win %')\n",
    "plt.ylabel('Predicted Win %')\n",
    "plt.title('Expected Win Pct vs Actual win pct with box score stats')"
   ]
  },
  {
   "cell_type": "code",
   "execution_count": 33,
   "metadata": {},
   "outputs": [
    {
     "data": {
      "text/plain": [
       "Text(0.5,1,'Expected Win Pct vs Actual win pct with advanced stats')"
      ]
     },
     "execution_count": 33,
     "metadata": {},
     "output_type": "execute_result"
    },
    {
     "data": {
      "image/png": "[encoded data removed]",
      "text/plain": [
       "<Figure size 432x288 with 1 Axes>"
      ]
     },
     "metadata": {},
     "output_type": "display_data"
    }
   ],
   "source": [
    "plt.scatter(y_test,predictions)\n",
    "plt.xlabel('Actual Win %')\n",
    "plt.ylabel('Predicted Win %')\n",
    "plt.title('Expected Win Pct vs Actual win pct with advanced stats')"
   ]
  },
  {
   "cell_type": "code",
   "execution_count": 80,
   "metadata": {},
   "outputs": [
    {
     "data": {
      "text/plain": [
       "Text(0.5,1,'Expected Wins vs Actual wins with all stats')"
      ]
     },
     "execution_count": 80,
     "metadata": {},
     "output_type": "execute_result"
    },
    {
     "data": {
      "image/png": "[encoded data removed]",
      "text/plain": [
       "<Figure size 432x288 with 1 Axes>"
      ]
     },
     "metadata": {},
     "output_type": "display_data"
    }
   ],
   "source": [
    "plt.scatter(y_test_all,pred_all)\n",
    "plt.xlabel('Actual Wins')\n",
    "plt.ylabel('Predicted Wins')\n",
    "plt.title('Expected Wins vs Actual wins with all stats')"
   ]
  },
  {
   "cell_type": "code",
   "execution_count": 34,
   "metadata": {},
   "outputs": [
    {
     "data": {
      "text/plain": [
       "Text(0.5,1,'Expected Win Pct vs Actual win pct with all stats')"
      ]
     },
     "execution_count": 34,
     "metadata": {},
     "output_type": "execute_result"
    },
    {
     "data": {
      "image/png": "[encoded data removed]",
      "text/plain": [
       "<Figure size 432x288 with 1 Axes>"
      ]
     },
     "metadata": {},
     "output_type": "display_data"
    }
   ],
   "source": [
    "plt.scatter(y_test_all,pred_all)\n",
    "plt.xlabel('Actual Win %')\n",
    "plt.ylabel('Predicted Win %')\n",
    "plt.title('Expected Win Pct vs Actual win pct with all stats')"
   ]
  },
  {
   "cell_type": "markdown",
   "metadata": {},
   "source": [
    "** MSE for wins regression **"
   ]
  },
  {
   "cell_type": "markdown",
   "metadata": {},
   "source": [
    "** advs stats mse**"
   ]
  },
  {
   "cell_type": "code",
   "execution_count": 81,
   "metadata": {},
   "outputs": [
    {
     "name": "stdout",
     "output_type": "stream",
     "text": [
      "MAE: 3.7411290740333767\n",
      "MSE: 27.67795944216655\n",
      "RMSE: 5.260984645688158\n"
     ]
    }
   ],
   "source": [
    "print('MAE:', metrics.mean_absolute_error(y_test, predictions))\n",
    "print('MSE:', metrics.mean_squared_error(y_test, predictions))\n",
    "print('RMSE:', np.sqrt(metrics.mean_squared_error(y_test, predictions)))"
   ]
  },
  {
   "cell_type": "markdown",
   "metadata": {},
   "source": [
    "**box score mse**"
   ]
  },
  {
   "cell_type": "code",
   "execution_count": 82,
   "metadata": {},
   "outputs": [
    {
     "name": "stdout",
     "output_type": "stream",
     "text": [
      "MAE: 3.741133217914493\n",
      "MSE: 27.746762462532327\n",
      "RMSE: 5.267519574005618\n"
     ]
    }
   ],
   "source": [
    "print('MAE:', metrics.mean_absolute_error(y_test, pred_reg))\n",
    "print('MSE:', metrics.mean_squared_error(y_test, pred_reg))\n",
    "print('RMSE:', np.sqrt(metrics.mean_squared_error(y_test, pred_reg)))"
   ]
  },
  {
   "cell_type": "markdown",
   "metadata": {},
   "source": [
    "** all stats MSE **"
   ]
  },
  {
   "cell_type": "code",
   "execution_count": 83,
   "metadata": {},
   "outputs": [
    {
     "name": "stdout",
     "output_type": "stream",
     "text": [
      "MAE: 4.195726497460205\n",
      "MSE: 33.97683231065662\n",
      "RMSE: 5.828964943337421\n"
     ]
    }
   ],
   "source": [
    "print('MAE:', metrics.mean_absolute_error(y_test_all, pred_all))\n",
    "print('MSE:', metrics.mean_squared_error(y_test_all, pred_all))\n",
    "print('RMSE:', np.sqrt(metrics.mean_squared_error(y_test_all, pred_all)))"
   ]
  },
  {
   "cell_type": "markdown",
   "metadata": {},
   "source": [
    "** MSE for win percentage regression **"
   ]
  },
  {
   "cell_type": "code",
   "execution_count": 35,
   "metadata": {},
   "outputs": [
    {
     "name": "stdout",
     "output_type": "stream",
     "text": [
      "MAE: 0.03203795913740231\n",
      "MSE: 0.0015574397095453154\n",
      "RMSE: 0.03946441067018885\n"
     ]
    }
   ],
   "source": [
    "\n",
    "from sklearn import metrics\n",
    "\n",
    "print('MAE:', metrics.mean_absolute_error(y_test, predictions))\n",
    "print('MSE:', metrics.mean_squared_error(y_test, predictions))\n",
    "print('RMSE:', np.sqrt(metrics.mean_squared_error(y_test, predictions)))"
   ]
  },
  {
   "cell_type": "code",
   "execution_count": 36,
   "metadata": {},
   "outputs": [
    {
     "name": "stdout",
     "output_type": "stream",
     "text": [
      "MAE: 0.031722021453383945\n",
      "MSE: 0.001456724925432775\n",
      "RMSE: 0.03816706597883541\n"
     ]
    }
   ],
   "source": [
    "print('MAE:', metrics.mean_absolute_error(y_test, pred_reg))\n",
    "print('MSE:', metrics.mean_squared_error(y_test, pred_reg))\n",
    "print('RMSE:', np.sqrt(metrics.mean_squared_error(y_test, pred_reg)))"
   ]
  },
  {
   "cell_type": "code",
   "execution_count": 38,
   "metadata": {},
   "outputs": [
    {
     "name": "stdout",
     "output_type": "stream",
     "text": [
      "MAE: 0.03499071223680994\n",
      "MSE: 0.0018304025418126647\n",
      "RMSE: 0.04278320396852794\n"
     ]
    }
   ],
   "source": [
    "print('MAE:', metrics.mean_absolute_error(y_test_all, pred_all))\n",
    "print('MSE:', metrics.mean_squared_error(y_test_all, pred_all))\n",
    "print('RMSE:', np.sqrt(metrics.mean_squared_error(y_test_all, pred_all)))"
   ]
  },
  {
   "cell_type": "code",
   "execution_count": 64,
   "metadata": {},
   "outputs": [
    {
     "data": {
      "text/html": [
       "<div>\n",
       "<style scoped>\n",
       "    .dataframe tbody tr th:only-of-type {\n",
       "        vertical-align: middle;\n",
       "    }\n",
       "\n",
       "    .dataframe tbody tr th {\n",
       "        vertical-align: top;\n",
       "    }\n",
       "\n",
       "    .dataframe thead th {\n",
       "        text-align: right;\n",
       "    }\n",
       "</style>\n",
       "<table border=\"1\" class=\"dataframe\">\n",
       "  <thead>\n",
       "    <tr style=\"text-align: right;\">\n",
       "      <th></th>\n",
       "      <th>Coeffecient</th>\n",
       "    </tr>\n",
       "  </thead>\n",
       "  <tbody>\n",
       "    <tr>\n",
       "      <th>NET_RATING</th>\n",
       "      <td>0.023248</td>\n",
       "    </tr>\n",
       "    <tr>\n",
       "      <th>AST_PCT</th>\n",
       "      <td>0.577254</td>\n",
       "    </tr>\n",
       "    <tr>\n",
       "      <th>AST_TO</th>\n",
       "      <td>-0.145141</td>\n",
       "    </tr>\n",
       "    <tr>\n",
       "      <th>AST_RATIO</th>\n",
       "      <td>-0.008942</td>\n",
       "    </tr>\n",
       "    <tr>\n",
       "      <th>OREB_PCT</th>\n",
       "      <td>-0.204116</td>\n",
       "    </tr>\n",
       "    <tr>\n",
       "      <th>DREB_PCT</th>\n",
       "      <td>-0.538752</td>\n",
       "    </tr>\n",
       "    <tr>\n",
       "      <th>REB_PCT</th>\n",
       "      <td>1.251003</td>\n",
       "    </tr>\n",
       "    <tr>\n",
       "      <th>TM_TOV_PCT</th>\n",
       "      <td>-2.299798</td>\n",
       "    </tr>\n",
       "    <tr>\n",
       "      <th>EFG_PCT</th>\n",
       "      <td>1.320225</td>\n",
       "    </tr>\n",
       "    <tr>\n",
       "      <th>TS_PCT</th>\n",
       "      <td>-0.963187</td>\n",
       "    </tr>\n",
       "    <tr>\n",
       "      <th>PACE</th>\n",
       "      <td>-0.000853</td>\n",
       "    </tr>\n",
       "    <tr>\n",
       "      <th>PIE</th>\n",
       "      <td>0.734191</td>\n",
       "    </tr>\n",
       "  </tbody>\n",
       "</table>\n",
       "</div>"
      ],
      "text/plain": [
       "            Coeffecient\n",
       "NET_RATING     0.023248\n",
       "AST_PCT        0.577254\n",
       "AST_TO        -0.145141\n",
       "AST_RATIO     -0.008942\n",
       "OREB_PCT      -0.204116\n",
       "DREB_PCT      -0.538752\n",
       "REB_PCT        1.251003\n",
       "TM_TOV_PCT    -2.299798\n",
       "EFG_PCT        1.320225\n",
       "TS_PCT        -0.963187\n",
       "PACE          -0.000853\n",
       "PIE            0.734191"
      ]
     },
     "execution_count": 64,
     "metadata": {},
     "output_type": "execute_result"
    }
   ],
   "source": [
    "coeffecients = pd.DataFrame(lm.coef_,advs_features.columns)\n",
    "coeffecients.columns = ['Coeffecient']\n",
    "coeffecients"
   ]
  },
  {
   "cell_type": "code",
   "execution_count": 65,
   "metadata": {},
   "outputs": [
    {
     "data": {
      "text/html": [
       "<div>\n",
       "<style scoped>\n",
       "    .dataframe tbody tr th:only-of-type {\n",
       "        vertical-align: middle;\n",
       "    }\n",
       "\n",
       "    .dataframe tbody tr th {\n",
       "        vertical-align: top;\n",
       "    }\n",
       "\n",
       "    .dataframe thead th {\n",
       "        text-align: right;\n",
       "    }\n",
       "</style>\n",
       "<table border=\"1\" class=\"dataframe\">\n",
       "  <thead>\n",
       "    <tr style=\"text-align: right;\">\n",
       "      <th></th>\n",
       "      <th>Coeffecient</th>\n",
       "    </tr>\n",
       "  </thead>\n",
       "  <tbody>\n",
       "    <tr>\n",
       "      <th>FGM</th>\n",
       "      <td>-0.021721</td>\n",
       "    </tr>\n",
       "    <tr>\n",
       "      <th>FGA</th>\n",
       "      <td>-0.014718</td>\n",
       "    </tr>\n",
       "    <tr>\n",
       "      <th>FG_PCT</th>\n",
       "      <td>-1.715030</td>\n",
       "    </tr>\n",
       "    <tr>\n",
       "      <th>FG3M</th>\n",
       "      <td>-0.040687</td>\n",
       "    </tr>\n",
       "    <tr>\n",
       "      <th>FG3A</th>\n",
       "      <td>0.006924</td>\n",
       "    </tr>\n",
       "    <tr>\n",
       "      <th>FG3_PCT</th>\n",
       "      <td>0.222312</td>\n",
       "    </tr>\n",
       "    <tr>\n",
       "      <th>FTM</th>\n",
       "      <td>-0.038845</td>\n",
       "    </tr>\n",
       "    <tr>\n",
       "      <th>FTA</th>\n",
       "      <td>0.011833</td>\n",
       "    </tr>\n",
       "    <tr>\n",
       "      <th>FT_PCT</th>\n",
       "      <td>0.403679</td>\n",
       "    </tr>\n",
       "    <tr>\n",
       "      <th>OREB</th>\n",
       "      <td>-0.010031</td>\n",
       "    </tr>\n",
       "    <tr>\n",
       "      <th>DREB</th>\n",
       "      <td>-0.010700</td>\n",
       "    </tr>\n",
       "    <tr>\n",
       "      <th>REB</th>\n",
       "      <td>0.015196</td>\n",
       "    </tr>\n",
       "    <tr>\n",
       "      <th>AST</th>\n",
       "      <td>0.001641</td>\n",
       "    </tr>\n",
       "    <tr>\n",
       "      <th>TOV</th>\n",
       "      <td>-0.004372</td>\n",
       "    </tr>\n",
       "    <tr>\n",
       "      <th>STL</th>\n",
       "      <td>0.001471</td>\n",
       "    </tr>\n",
       "    <tr>\n",
       "      <th>BLK</th>\n",
       "      <td>0.003483</td>\n",
       "    </tr>\n",
       "    <tr>\n",
       "      <th>BLKA</th>\n",
       "      <td>-0.005350</td>\n",
       "    </tr>\n",
       "    <tr>\n",
       "      <th>PF</th>\n",
       "      <td>0.000035</td>\n",
       "    </tr>\n",
       "    <tr>\n",
       "      <th>PFD</th>\n",
       "      <td>-0.000163</td>\n",
       "    </tr>\n",
       "    <tr>\n",
       "      <th>PTS</th>\n",
       "      <td>0.022706</td>\n",
       "    </tr>\n",
       "    <tr>\n",
       "      <th>PLUS_MINUS</th>\n",
       "      <td>0.030324</td>\n",
       "    </tr>\n",
       "  </tbody>\n",
       "</table>\n",
       "</div>"
      ],
      "text/plain": [
       "            Coeffecient\n",
       "FGM           -0.021721\n",
       "FGA           -0.014718\n",
       "FG_PCT        -1.715030\n",
       "FG3M          -0.040687\n",
       "FG3A           0.006924\n",
       "FG3_PCT        0.222312\n",
       "FTM           -0.038845\n",
       "FTA            0.011833\n",
       "FT_PCT         0.403679\n",
       "OREB          -0.010031\n",
       "DREB          -0.010700\n",
       "REB            0.015196\n",
       "AST            0.001641\n",
       "TOV           -0.004372\n",
       "STL            0.001471\n",
       "BLK            0.003483\n",
       "BLKA          -0.005350\n",
       "PF             0.000035\n",
       "PFD           -0.000163\n",
       "PTS            0.022706\n",
       "PLUS_MINUS     0.030324"
      ]
     },
     "execution_count": 65,
     "metadata": {},
     "output_type": "execute_result"
    }
   ],
   "source": [
    "coeffecients = pd.DataFrame(lm_reg.coef_,regular_features.columns)\n",
    "coeffecients.columns = ['Coeffecient']\n",
    "coeffecients"
   ]
  },
  {
   "cell_type": "code",
   "execution_count": 66,
   "metadata": {},
   "outputs": [
    {
     "name": "stderr",
     "output_type": "stream",
     "text": [
      "c:\\users\\tkauk\\appdata\\local\\programs\\python\\python36\\lib\\site-packages\\matplotlib\\axes\\_axes.py:6462: UserWarning: The 'normed' kwarg is deprecated, and has been replaced by the 'density' kwarg.\n",
      "  warnings.warn(\"The 'normed' kwarg is deprecated, and has been \"\n"
     ]
    },
    {
     "data": {
      "image/png": "[encoded data removed]",
      "text/plain": [
       "<Figure size 432x288 with 1 Axes>"
      ]
     },
     "metadata": {},
     "output_type": "display_data"
    }
   ],
   "source": [
    "sns.distplot((y_test-predictions),bins=50);"
   ]
  },
  {
   "cell_type": "code",
   "execution_count": 67,
   "metadata": {},
   "outputs": [
    {
     "name": "stderr",
     "output_type": "stream",
     "text": [
      "c:\\users\\tkauk\\appdata\\local\\programs\\python\\python36\\lib\\site-packages\\matplotlib\\axes\\_axes.py:6462: UserWarning: The 'normed' kwarg is deprecated, and has been replaced by the 'density' kwarg.\n",
      "  warnings.warn(\"The 'normed' kwarg is deprecated, and has been \"\n"
     ]
    },
    {
     "data": {
      "image/png": "[encoded data removed]",
      "text/plain": [
       "<Figure size 432x288 with 1 Axes>"
      ]
     },
     "metadata": {},
     "output_type": "display_data"
    }
   ],
   "source": [
    "sns.distplot((y_test-pred_reg),bins=50);"
   ]
  },
  {
   "cell_type": "code",
   "execution_count": null,
   "metadata": {
    "collapsed": true
   },
   "outputs": [],
   "source": []
  }
 ],
 "metadata": {
  "kernelspec": {
   "display_name": "Python 3",
   "language": "python",
   "name": "python3"
  },
  "language_info": {
   "codemirror_mode": {
    "name": "ipython",
    "version": 3
   },
   "file_extension": ".py",
   "mimetype": "text/x-python",
   "name": "python",
   "nbconvert_exporter": "python",
   "pygments_lexer": "ipython3",
   "version": "3.6.2"
  }
 },
 "nbformat": 4,
 "nbformat_minor": 2
}
