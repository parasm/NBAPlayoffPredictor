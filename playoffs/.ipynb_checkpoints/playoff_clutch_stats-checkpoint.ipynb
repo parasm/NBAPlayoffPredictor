{
 "cells": [
  {
   "cell_type": "code",
   "execution_count": 6,
   "metadata": {
    "collapsed": true
   },
   "outputs": [],
   "source": [
    "import numpy as np\n",
    "import pandas as pd\n",
    "from matplotlib import pyplot as plt\n",
    "import seaborn as sns\n",
    "import time\n",
    "from nba_py.team import TeamClutchSplits\n",
    "from nba_py.team import TeamYearOverYearSplits, TeamList\n",
    "%matplotlib inline"
   ]
  },
  {
   "cell_type": "code",
   "execution_count": 2,
   "metadata": {
    "collapsed": true
   },
   "outputs": [],
   "source": [
    "team_list = TeamList().info().head(30)"
   ]
  },
  {
   "cell_type": "code",
   "execution_count": 3,
   "metadata": {
    "collapsed": true
   },
   "outputs": [],
   "source": [
    "season_team = {}\n",
    "for team in team_list['TEAM_ID']:\n",
    "    df = TeamYearOverYearSplits(team,season_type='Playoffs').by_year()\n",
    "    for index, row in df.iterrows():\n",
    "        season_data =  season_team.get(row['GROUP_VALUE'])\n",
    "        if season_data:\n",
    "            if team not in season_team[row['GROUP_VALUE']]:\n",
    "                season_team[row['GROUP_VALUE']].append(team)\n",
    "        else:\n",
    "            season_team[row['GROUP_VALUE']] = [team]\n",
    "    time.sleep(2)"
   ]
  },
  {
   "cell_type": "code",
   "execution_count": 9,
   "metadata": {},
   "outputs": [],
   "source": [
    "def playoff_team(team_id, season):\n",
    "    if team_id in season_team[season]:\n",
    "        return 1\n",
    "    return 0"
   ]
  },
  {
   "cell_type": "code",
   "execution_count": null,
   "metadata": {},
   "outputs": [],
   "source": [
    "all_team_data = pd.DataFrame()\n",
    "for season in season_team:\n",
    "    for team in team_list['TEAM_ID']:\n",
    "        team_data = TeamClutchSplits(team,season=season, measure_type = 'Base').last5min_plusminus_5point()\n",
    "        team_data['PLAYOFFS'] = team_data.apply(lambda row: playoff_team(team,season),axis=1)\n",
    "        all_team_data = pd.concat([all_team_data,team_data])\n",
    "        time.sleep(2)"
   ]
  },
  {
   "cell_type": "code",
   "execution_count": 13,
   "metadata": {},
   "outputs": [],
   "source": [
    "all_team_data.to_csv('clutch_stats_regular.csv')"
   ]
  },
  {
   "cell_type": "code",
   "execution_count": 14,
   "metadata": {
    "collapsed": true
   },
   "outputs": [],
   "source": [
    "all_team_data = pd.DataFrame()\n",
    "for season in season_team:\n",
    "    for team in team_list['TEAM_ID']:\n",
    "        team_data = TeamClutchSplits(team, season=season, measure_type = 'Advanced').last5min_plusminus_5point()\n",
    "        team_data['PLAYOFFS'] = team_data.apply(lambda row: playoff_team(team,season),axis=1)\n",
    "        all_team_data = pd.concat([all_team_data,team_data])\n",
    "        time.sleep(2)"
   ]
  },
  {
   "cell_type": "code",
   "execution_count": 17,
   "metadata": {},
   "outputs": [],
   "source": [
    "all_team_data.to_csv('clutch_stats_adv.csv')"
   ]
  },
  {
   "cell_type": "code",
   "execution_count": 18,
   "metadata": {
    "collapsed": true
   },
   "outputs": [],
   "source": [
    "regular_stats = pd.read_csv('clutch_stats_regular.csv')\n",
    "advs_stats = pd.read_csv('clutch_stats_adv.csv')"
   ]
  },
  {
   "cell_type": "code",
   "execution_count": 19,
   "metadata": {
    "collapsed": true
   },
   "outputs": [],
   "source": [
    "regular_features = regular_stats[['FGM', 'FGA', 'FG_PCT', 'FG3M', 'FG3A', 'FG3_PCT', 'FTM', 'FTA',\n",
    "       'FT_PCT', 'OREB', 'DREB', 'REB', 'AST', 'TOV', 'STL', 'BLK', 'BLKA',\n",
    "       'PF', 'PFD', 'PTS', 'PLUS_MINUS']]\n",
    "advs_features = advs_stats[['NET_RATING', 'AST_PCT', 'AST_TO',\n",
    "       'AST_RATIO', 'OREB_PCT', 'DREB_PCT', 'REB_PCT', 'TM_TOV_PCT', 'EFG_PCT',\n",
    "       'TS_PCT', 'PACE', 'PIE']]"
   ]
  },
  {
   "cell_type": "code",
   "execution_count": 20,
   "metadata": {
    "collapsed": true
   },
   "outputs": [],
   "source": [
    "from sklearn.model_selection import train_test_split\n",
    "X_train, X_test, y_train, y_test = train_test_split(regular_features, regular_stats['PLAYOFFS'], test_size=0.30, random_state=69)"
   ]
  },
  {
   "cell_type": "code",
   "execution_count": 21,
   "metadata": {},
   "outputs": [
    {
     "name": "stdout",
     "output_type": "stream",
     "text": [
      "             precision    recall  f1-score   support\n",
      "\n",
      "          0       0.46      0.24      0.32        99\n",
      "          1       0.49      0.72      0.58        99\n",
      "\n",
      "avg / total       0.47      0.48      0.45       198\n",
      "\n"
     ]
    }
   ],
   "source": [
    "from sklearn.linear_model import LogisticRegression\n",
    "regular_model = LogisticRegression()\n",
    "regular_model.fit(X_train, y_train)\n",
    "predictions = regular_model.predict(X_test)\n",
    "from sklearn.metrics import classification_report\n",
    "print(classification_report(y_test,predictions))"
   ]
  },
  {
   "cell_type": "code",
   "execution_count": 22,
   "metadata": {
    "collapsed": true
   },
   "outputs": [],
   "source": [
    "X_train, X_test, y_train, y_test = train_test_split(advs_features, advs_stats['PLAYOFFS'], test_size=0.30, random_state=300)"
   ]
  },
  {
   "cell_type": "code",
   "execution_count": 23,
   "metadata": {},
   "outputs": [
    {
     "name": "stdout",
     "output_type": "stream",
     "text": [
      "             precision    recall  f1-score   support\n",
      "\n",
      "          0       0.44      0.38      0.41        90\n",
      "          1       0.54      0.60      0.57       108\n",
      "\n",
      "avg / total       0.49      0.50      0.49       198\n",
      "\n"
     ]
    }
   ],
   "source": [
    "adv_model = LogisticRegression()\n",
    "adv_model.fit(X_train, y_train)\n",
    "predictions = adv_model.predict(X_test)\n",
    "print(classification_report(y_test,predictions))"
   ]
  },
  {
   "cell_type": "code",
   "execution_count": null,
   "metadata": {
    "collapsed": true
   },
   "outputs": [],
   "source": [
    "def add_clutch_stats(team_id, season, measure):\n",
    "    clutch_splits = TeamClutchSplits(team_id, season=season, measure_type=measure).last5min_plusminus_5point()\n",
    "    clutch_splits = clutch_splits[['FGM', 'FGA', 'FG_PCT', 'FG3M', 'FG3A', 'FG3_PCT', 'FTM', 'FTA',\n",
    "       'FT_PCT', 'OREB', 'DREB', 'REB', 'AST', 'TOV', 'STL', 'BLK', 'BLKA',\n",
    "       'PF', 'PFD', 'PTS', 'PLUS_MINUS']]\n",
    "    columns = clutch_splits.columns\n",
    "    new_columns = []\n",
    "    for column in columns:\n",
    "        new_columns.append(\"c_\"+column)\n",
    "    clutch_splits.columns = new_columns\n",
    "    return clutch_splits"
   ]
  }
 ],
 "metadata": {
  "kernelspec": {
   "display_name": "Python 3",
   "language": "python",
   "name": "python3"
  },
  "language_info": {
   "codemirror_mode": {
    "name": "ipython",
    "version": 3
   },
   "file_extension": ".py",
   "mimetype": "text/x-python",
   "name": "python",
   "nbconvert_exporter": "python",
   "pygments_lexer": "ipython3",
   "version": "3.6.2"
  }
 },
 "nbformat": 4,
 "nbformat_minor": 2
}
