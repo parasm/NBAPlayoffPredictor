{
 "cells": [
  {
   "cell_type": "code",
   "execution_count": 1,
   "metadata": {
    "collapsed": true
   },
   "outputs": [],
   "source": [
    "import numpy as np\n",
    "import pandas as pd\n",
    "from matplotlib import pyplot as plt\n",
    "import seaborn as sns\n",
    "import time\n",
    "%matplotlib inline"
   ]
  },
  {
   "cell_type": "code",
   "execution_count": 2,
   "metadata": {
    "collapsed": true
   },
   "outputs": [],
   "source": [
    "from nba_py.team import TeamYearOverYearSplits, TeamList\n",
    "team_list = TeamList().info().head(30)"
   ]
  },
  {
   "cell_type": "code",
   "execution_count": 51,
   "metadata": {},
   "outputs": [
    {
     "data": {
      "text/html": [
       "<div>\n",
       "<style>\n",
       "    .dataframe thead tr:only-child th {\n",
       "        text-align: right;\n",
       "    }\n",
       "\n",
       "    .dataframe thead th {\n",
       "        text-align: left;\n",
       "    }\n",
       "\n",
       "    .dataframe tbody tr th {\n",
       "        vertical-align: top;\n",
       "    }\n",
       "</style>\n",
       "<table border=\"1\" class=\"dataframe\">\n",
       "  <thead>\n",
       "    <tr style=\"text-align: right;\">\n",
       "      <th></th>\n",
       "      <th>GROUP_SET</th>\n",
       "      <th>GROUP_VALUE</th>\n",
       "      <th>GP</th>\n",
       "      <th>W</th>\n",
       "      <th>L</th>\n",
       "      <th>W_PCT</th>\n",
       "      <th>MIN</th>\n",
       "      <th>FGM</th>\n",
       "      <th>FGA</th>\n",
       "      <th>FG_PCT</th>\n",
       "      <th>...</th>\n",
       "      <th>TOV_RANK</th>\n",
       "      <th>STL_RANK</th>\n",
       "      <th>BLK_RANK</th>\n",
       "      <th>BLKA_RANK</th>\n",
       "      <th>PF_RANK</th>\n",
       "      <th>PFD_RANK</th>\n",
       "      <th>PTS_RANK</th>\n",
       "      <th>PLUS_MINUS_RANK</th>\n",
       "      <th>CFID</th>\n",
       "      <th>CFPARAMS</th>\n",
       "    </tr>\n",
       "  </thead>\n",
       "  <tbody>\n",
       "    <tr>\n",
       "      <th>0</th>\n",
       "      <td>By Year</td>\n",
       "      <td>2017-18</td>\n",
       "      <td>71</td>\n",
       "      <td>57</td>\n",
       "      <td>14</td>\n",
       "      <td>0.803</td>\n",
       "      <td>48.1</td>\n",
       "      <td>39.0</td>\n",
       "      <td>84.1</td>\n",
       "      <td>0.463</td>\n",
       "      <td>...</td>\n",
       "      <td>3</td>\n",
       "      <td>3</td>\n",
       "      <td>11</td>\n",
       "      <td>6</td>\n",
       "      <td>7</td>\n",
       "      <td>7</td>\n",
       "      <td>2</td>\n",
       "      <td>1</td>\n",
       "      <td>210</td>\n",
       "      <td>2017-18</td>\n",
       "    </tr>\n",
       "  </tbody>\n",
       "</table>\n",
       "<p>1 rows × 56 columns</p>\n",
       "</div>"
      ],
      "text/plain": [
       "  GROUP_SET GROUP_VALUE  GP   W   L  W_PCT   MIN   FGM   FGA  FG_PCT  \\\n",
       "0   By Year     2017-18  71  57  14  0.803  48.1  39.0  84.1   0.463   \n",
       "\n",
       "     ...     TOV_RANK  STL_RANK  BLK_RANK  BLKA_RANK  PF_RANK  PFD_RANK  \\\n",
       "0    ...            3         3        11          6        7         7   \n",
       "\n",
       "   PTS_RANK  PLUS_MINUS_RANK  CFID  CFPARAMS  \n",
       "0         2                1   210   2017-18  \n",
       "\n",
       "[1 rows x 56 columns]"
      ]
     },
     "execution_count": 51,
     "metadata": {},
     "output_type": "execute_result"
    }
   ],
   "source": [
    "rockets = TeamYearOverYearSplits(1610612745).by_year()\n",
    "rockets.head(1)"
   ]
  },
  {
   "cell_type": "code",
   "execution_count": 3,
   "metadata": {
    "collapsed": true
   },
   "outputs": [],
   "source": [
    "season_team = {}\n",
    "for team in team_list['TEAM_ID']:\n",
    "    df = TeamYearOverYearSplits(team,season_type='Playoffs').by_year()\n",
    "    for index, row in df.iterrows():\n",
    "        season_data =  season_team.get(row['GROUP_VALUE'])\n",
    "        if season_data:\n",
    "            if team not in season_team[row['GROUP_VALUE']]:\n",
    "                season_team[row['GROUP_VALUE']].append(team)\n",
    "        else:\n",
    "            season_team[row['GROUP_VALUE']] = [team]\n",
    "    time.sleep(2)"
   ]
  },
  {
   "cell_type": "code",
   "execution_count": 5,
   "metadata": {
    "collapsed": true
   },
   "outputs": [],
   "source": [
    "def playoff_team(team_id, season):\n",
    "    if team_id in season_team[season]:\n",
    "        return 1\n",
    "    return 0"
   ]
  },
  {
   "cell_type": "code",
   "execution_count": 24,
   "metadata": {
    "collapsed": true
   },
   "outputs": [],
   "source": [
    "all_team_data = pd.DataFrame()\n",
    "for team in team_list['TEAM_ID']:\n",
    "    team_data = TeamYearOverYearSplits(team,measure_type = 'Advanced').by_year()\n",
    "    team_data['PLAYOFFS'] = team_data.apply(lambda row: playoff_team(team,row['GROUP_VALUE']),axis=1)\n",
    "    all_team_data = pd.concat([all_team_data,team_data])\n",
    "    time.sleep(2)"
   ]
  },
  {
   "cell_type": "code",
   "execution_count": 14,
   "metadata": {
    "collapsed": true
   },
   "outputs": [],
   "source": [
    "all_team_data = pd.DataFrame()\n",
    "for team in team_list['TEAM_ID']:\n",
    "    team_data = TeamYearOverYearSplits(team).by_year()\n",
    "    team_data['PLAYOFFS'] = team_data.apply(lambda row: playoff_team(team,row['GROUP_VALUE']),axis=1)\n",
    "    all_team_data = pd.concat([all_team_data,team_data])\n",
    "    time.sleep(2)"
   ]
  },
  {
   "cell_type": "code",
   "execution_count": 3,
   "metadata": {
    "collapsed": true
   },
   "outputs": [],
   "source": [
    "regular_stats = pd.read_csv('all_team_playoffs.csv')\n",
    "advs_stats = pd.read_csv('all_team_playoffs_adv.csv')"
   ]
  },
  {
   "cell_type": "code",
   "execution_count": 4,
   "metadata": {
    "collapsed": true
   },
   "outputs": [],
   "source": [
    "regular_features = regular_stats[['FGM', 'FGA', 'FG_PCT', 'FG3M', 'FG3A', 'FG3_PCT', 'FTM', 'FTA',\n",
    "       'FT_PCT', 'OREB', 'DREB', 'REB', 'AST', 'TOV', 'STL', 'BLK', 'BLKA',\n",
    "       'PF', 'PFD', 'PTS', 'PLUS_MINUS']]"
   ]
  },
  {
   "cell_type": "code",
   "execution_count": 5,
   "metadata": {
    "collapsed": true
   },
   "outputs": [],
   "source": [
    "advs_features = advs_stats[['NET_RATING', 'AST_PCT', 'AST_TO',\n",
    "       'AST_RATIO', 'OREB_PCT', 'DREB_PCT', 'REB_PCT', 'TM_TOV_PCT', 'EFG_PCT',\n",
    "       'TS_PCT', 'PACE', 'PIE']]"
   ]
  },
  {
   "cell_type": "code",
   "execution_count": 18,
   "metadata": {
    "collapsed": true
   },
   "outputs": [],
   "source": [
    "from sklearn.model_selection import train_test_split\n",
    "X_train, X_test, y_train, y_test = train_test_split(regular_features, regular_stats['PLAYOFFS'], test_size=0.30, random_state=169)"
   ]
  },
  {
   "cell_type": "code",
   "execution_count": 7,
   "metadata": {
    "scrolled": true
   },
   "outputs": [
    {
     "name": "stdout",
     "output_type": "stream",
     "text": [
      "             precision    recall  f1-score   support\n",
      "\n",
      "          0       0.86      0.90      0.88        87\n",
      "          1       0.91      0.88      0.90       109\n",
      "\n",
      "avg / total       0.89      0.89      0.89       196\n",
      "\n"
     ]
    }
   ],
   "source": [
    "from sklearn.linear_model import LogisticRegression\n",
    "from sklearn.metrics import classification_report\n",
    "regular_model = LogisticRegression()\n",
    "regular_model.fit(X_train, y_train)\n",
    "predictions = regular_model.predict(X_test)\n",
    "print(classification_report(y_test,predictions))"
   ]
  },
  {
   "cell_type": "code",
   "execution_count": 8,
   "metadata": {},
   "outputs": [
    {
     "name": "stdout",
     "output_type": "stream",
     "text": [
      "             precision    recall  f1-score   support\n",
      "\n",
      "          0       0.62      0.98      0.76        87\n",
      "          1       0.97      0.53      0.69       109\n",
      "\n",
      "avg / total       0.82      0.73      0.72       196\n",
      "\n"
     ]
    }
   ],
   "source": [
    "from sklearn.svm import LinearSVC\n",
    "regular_svc_model = LinearSVC()\n",
    "regular_svc_model.fit(X_train, y_train)\n",
    "predictions = regular_svc_model.predict(X_test)\n",
    "print(classification_report(y_test,predictions))"
   ]
  },
  {
   "cell_type": "code",
   "execution_count": 19,
   "metadata": {},
   "outputs": [
    {
     "name": "stdout",
     "output_type": "stream",
     "text": [
      "             precision    recall  f1-score   support\n",
      "\n",
      "          0       0.89      0.82      0.86        91\n",
      "          1       0.86      0.91      0.88       105\n",
      "\n",
      "avg / total       0.87      0.87      0.87       196\n",
      "\n"
     ]
    }
   ],
   "source": [
    "from sklearn.ensemble import RandomForestClassifier\n",
    "regular_rf = RandomForestClassifier(n_estimators=100)\n",
    "regular_rf.fit(X_train,y_train)\n",
    "predictions = regular_rf.predict(X_test)\n",
    "print(classification_report(y_test,predictions))"
   ]
  },
  {
   "cell_type": "code",
   "execution_count": 21,
   "metadata": {},
   "outputs": [
    {
     "data": {
      "text/plain": [
       "array([[ 0.62,  0.38],\n",
       "       [ 0.98,  0.02],\n",
       "       [ 0.13,  0.87],\n",
       "       [ 0.73,  0.27],\n",
       "       [ 0.22,  0.78],\n",
       "       [ 0.22,  0.78],\n",
       "       [ 0.39,  0.61],\n",
       "       [ 0.85,  0.15],\n",
       "       [ 0.04,  0.96],\n",
       "       [ 0.39,  0.61],\n",
       "       [ 0.16,  0.84],\n",
       "       [ 0.41,  0.59],\n",
       "       [ 0.05,  0.95],\n",
       "       [ 0.79,  0.21],\n",
       "       [ 0.89,  0.11],\n",
       "       [ 0.35,  0.65],\n",
       "       [ 0.66,  0.34],\n",
       "       [ 0.35,  0.65],\n",
       "       [ 0.1 ,  0.9 ],\n",
       "       [ 0.95,  0.05],\n",
       "       [ 0.82,  0.18],\n",
       "       [ 0.04,  0.96],\n",
       "       [ 0.12,  0.88],\n",
       "       [ 0.93,  0.07],\n",
       "       [ 0.88,  0.12],\n",
       "       [ 0.16,  0.84],\n",
       "       [ 0.95,  0.05],\n",
       "       [ 0.65,  0.35],\n",
       "       [ 0.97,  0.03],\n",
       "       [ 0.18,  0.82],\n",
       "       [ 0.13,  0.87],\n",
       "       [ 0.16,  0.84],\n",
       "       [ 0.32,  0.68],\n",
       "       [ 0.08,  0.92],\n",
       "       [ 0.02,  0.98],\n",
       "       [ 0.33,  0.67],\n",
       "       [ 0.92,  0.08],\n",
       "       [ 0.51,  0.49],\n",
       "       [ 0.46,  0.54],\n",
       "       [ 0.98,  0.02],\n",
       "       [ 0.28,  0.72],\n",
       "       [ 0.91,  0.09],\n",
       "       [ 0.09,  0.91],\n",
       "       [ 0.77,  0.23],\n",
       "       [ 0.36,  0.64],\n",
       "       [ 0.04,  0.96],\n",
       "       [ 0.85,  0.15],\n",
       "       [ 0.2 ,  0.8 ],\n",
       "       [ 0.95,  0.05],\n",
       "       [ 0.25,  0.75],\n",
       "       [ 0.37,  0.63],\n",
       "       [ 0.15,  0.85],\n",
       "       [ 0.3 ,  0.7 ],\n",
       "       [ 0.76,  0.24],\n",
       "       [ 0.1 ,  0.9 ],\n",
       "       [ 0.21,  0.79],\n",
       "       [ 0.19,  0.81],\n",
       "       [ 0.18,  0.82],\n",
       "       [ 0.35,  0.65],\n",
       "       [ 0.86,  0.14],\n",
       "       [ 0.06,  0.94],\n",
       "       [ 0.84,  0.16],\n",
       "       [ 0.11,  0.89],\n",
       "       [ 0.75,  0.25],\n",
       "       [ 0.93,  0.07],\n",
       "       [ 0.95,  0.05],\n",
       "       [ 0.7 ,  0.3 ],\n",
       "       [ 0.12,  0.88],\n",
       "       [ 0.21,  0.79],\n",
       "       [ 0.96,  0.04],\n",
       "       [ 0.27,  0.73],\n",
       "       [ 0.67,  0.33],\n",
       "       [ 0.95,  0.05],\n",
       "       [ 0.76,  0.24],\n",
       "       [ 0.73,  0.27],\n",
       "       [ 0.94,  0.06],\n",
       "       [ 0.95,  0.05],\n",
       "       [ 0.49,  0.51],\n",
       "       [ 0.21,  0.79],\n",
       "       [ 0.08,  0.92],\n",
       "       [ 0.86,  0.14],\n",
       "       [ 0.96,  0.04],\n",
       "       [ 0.07,  0.93],\n",
       "       [ 0.07,  0.93],\n",
       "       [ 0.25,  0.75],\n",
       "       [ 0.26,  0.74],\n",
       "       [ 0.5 ,  0.5 ],\n",
       "       [ 0.16,  0.84],\n",
       "       [ 0.8 ,  0.2 ],\n",
       "       [ 0.63,  0.37],\n",
       "       [ 0.1 ,  0.9 ],\n",
       "       [ 0.91,  0.09],\n",
       "       [ 0.03,  0.97],\n",
       "       [ 0.72,  0.28],\n",
       "       [ 0.94,  0.06],\n",
       "       [ 0.94,  0.06],\n",
       "       [ 0.06,  0.94],\n",
       "       [ 0.2 ,  0.8 ],\n",
       "       [ 0.2 ,  0.8 ],\n",
       "       [ 0.27,  0.73],\n",
       "       [ 0.03,  0.97],\n",
       "       [ 0.04,  0.96],\n",
       "       [ 0.41,  0.59],\n",
       "       [ 0.95,  0.05],\n",
       "       [ 0.32,  0.68],\n",
       "       [ 0.59,  0.41],\n",
       "       [ 0.8 ,  0.2 ],\n",
       "       [ 0.18,  0.82],\n",
       "       [ 0.59,  0.41],\n",
       "       [ 0.24,  0.76],\n",
       "       [ 0.95,  0.05],\n",
       "       [ 0.94,  0.06],\n",
       "       [ 0.87,  0.13],\n",
       "       [ 0.85,  0.15],\n",
       "       [ 0.82,  0.18],\n",
       "       [ 0.36,  0.64],\n",
       "       [ 0.27,  0.73],\n",
       "       [ 0.06,  0.94],\n",
       "       [ 0.64,  0.36],\n",
       "       [ 0.36,  0.64],\n",
       "       [ 0.96,  0.04],\n",
       "       [ 0.02,  0.98],\n",
       "       [ 0.32,  0.68],\n",
       "       [ 0.28,  0.72],\n",
       "       [ 0.44,  0.56],\n",
       "       [ 0.09,  0.91],\n",
       "       [ 0.59,  0.41],\n",
       "       [ 0.82,  0.18],\n",
       "       [ 0.04,  0.96],\n",
       "       [ 0.82,  0.18],\n",
       "       [ 0.27,  0.73],\n",
       "       [ 0.57,  0.43],\n",
       "       [ 0.05,  0.95],\n",
       "       [ 0.17,  0.83],\n",
       "       [ 0.46,  0.54],\n",
       "       [ 0.67,  0.33],\n",
       "       [ 0.8 ,  0.2 ],\n",
       "       [ 0.86,  0.14],\n",
       "       [ 0.98,  0.02],\n",
       "       [ 0.76,  0.24],\n",
       "       [ 0.22,  0.78],\n",
       "       [ 0.3 ,  0.7 ],\n",
       "       [ 0.81,  0.19],\n",
       "       [ 0.2 ,  0.8 ],\n",
       "       [ 0.08,  0.92],\n",
       "       [ 0.17,  0.83],\n",
       "       [ 0.14,  0.86],\n",
       "       [ 0.29,  0.71],\n",
       "       [ 0.2 ,  0.8 ],\n",
       "       [ 0.07,  0.93],\n",
       "       [ 0.24,  0.76],\n",
       "       [ 0.07,  0.93],\n",
       "       [ 0.8 ,  0.2 ],\n",
       "       [ 0.12,  0.88],\n",
       "       [ 0.85,  0.15],\n",
       "       [ 0.78,  0.22],\n",
       "       [ 0.3 ,  0.7 ],\n",
       "       [ 0.87,  0.13],\n",
       "       [ 0.65,  0.35],\n",
       "       [ 0.31,  0.69],\n",
       "       [ 0.79,  0.21],\n",
       "       [ 0.2 ,  0.8 ],\n",
       "       [ 0.94,  0.06],\n",
       "       [ 0.88,  0.12],\n",
       "       [ 0.83,  0.17],\n",
       "       [ 0.75,  0.25],\n",
       "       [ 0.39,  0.61],\n",
       "       [ 0.95,  0.05],\n",
       "       [ 0.33,  0.67],\n",
       "       [ 0.82,  0.18],\n",
       "       [ 0.19,  0.81],\n",
       "       [ 0.4 ,  0.6 ],\n",
       "       [ 0.23,  0.77],\n",
       "       [ 0.01,  0.99],\n",
       "       [ 0.81,  0.19],\n",
       "       [ 0.98,  0.02],\n",
       "       [ 0.94,  0.06],\n",
       "       [ 0.14,  0.86],\n",
       "       [ 0.02,  0.98],\n",
       "       [ 0.11,  0.89],\n",
       "       [ 0.75,  0.25],\n",
       "       [ 0.43,  0.57],\n",
       "       [ 0.02,  0.98],\n",
       "       [ 0.31,  0.69],\n",
       "       [ 0.92,  0.08],\n",
       "       [ 0.86,  0.14],\n",
       "       [ 0.45,  0.55],\n",
       "       [ 0.14,  0.86],\n",
       "       [ 0.89,  0.11],\n",
       "       [ 0.19,  0.81],\n",
       "       [ 0.24,  0.76],\n",
       "       [ 0.07,  0.93],\n",
       "       [ 0.2 ,  0.8 ],\n",
       "       [ 0.03,  0.97],\n",
       "       [ 0.16,  0.84],\n",
       "       [ 0.11,  0.89]])"
      ]
     },
     "execution_count": 21,
     "metadata": {},
     "output_type": "execute_result"
    }
   ],
   "source": [
    "regular_rf.predict_proba(X_test)"
   ]
  },
  {
   "cell_type": "code",
   "execution_count": 20,
   "metadata": {},
   "outputs": [
    {
     "data": {
      "text/plain": [
       "array([ 0.02610344,  0.03909278,  0.06409123,  0.02525342,  0.02537872,\n",
       "        0.03521168,  0.02868007,  0.03343106,  0.01782621,  0.01773699,\n",
       "        0.031882  ,  0.02688703,  0.03044183,  0.0347543 ,  0.03396836,\n",
       "        0.02048325,  0.04116697,  0.01845484,  0.01581007,  0.02919107,\n",
       "        0.40415468])"
      ]
     },
     "execution_count": 20,
     "metadata": {},
     "output_type": "execute_result"
    }
   ],
   "source": [
    "predict_log_proba"
   ]
  },
  {
   "cell_type": "code",
   "execution_count": 14,
   "metadata": {
    "collapsed": true
   },
   "outputs": [],
   "source": [
    "X_train, X_test, y_train, y_test = train_test_split(advs_features, advs_stats['PLAYOFFS'], test_size=0.30, random_state=300)"
   ]
  },
  {
   "cell_type": "code",
   "execution_count": 10,
   "metadata": {},
   "outputs": [
    {
     "name": "stdout",
     "output_type": "stream",
     "text": [
      "             precision    recall  f1-score   support\n",
      "\n",
      "          0       0.87      0.95      0.91        96\n",
      "          1       0.95      0.86      0.90       100\n",
      "\n",
      "avg / total       0.91      0.90      0.90       196\n",
      "\n"
     ]
    }
   ],
   "source": [
    "adv_model = LogisticRegression()\n",
    "adv_model.fit(X_train, y_train)\n",
    "predictions = adv_model.predict(X_test)\n",
    "print(classification_report(y_test,predictions))"
   ]
  },
  {
   "cell_type": "code",
   "execution_count": 15,
   "metadata": {},
   "outputs": [
    {
     "name": "stdout",
     "output_type": "stream",
     "text": [
      "             precision    recall  f1-score   support\n",
      "\n",
      "          0       0.91      0.89      0.90        96\n",
      "          1       0.89      0.92      0.91       100\n",
      "\n",
      "avg / total       0.90      0.90      0.90       196\n",
      "\n"
     ]
    }
   ],
   "source": [
    "adv_rf = RandomForestClassifier(n_estimators=100)\n",
    "adv_rf.fit(X_train,y_train)\n",
    "predictions = adv_rf.predict(X_test)\n",
    "print(classification_report(y_test,predictions))"
   ]
  },
  {
   "cell_type": "code",
   "execution_count": 14,
   "metadata": {
    "collapsed": true
   },
   "outputs": [],
   "source": [
    "current_predictions_norm = {}\n",
    "current_predictions_adv = {}\n",
    "for index, row in team_list.iterrows():\n",
    "    current = TeamYearOverYearSplits(row['TEAM_ID']).by_year()[['FGM', 'FGA', 'FG_PCT', 'FG3M', 'FG3A', 'FG3_PCT', 'FTM', 'FTA',\n",
    "       'FT_PCT', 'OREB', 'DREB', 'REB', 'AST', 'TOV', 'STL', 'BLK', 'BLKA',\n",
    "       'PF', 'PFD', 'PTS', 'PLUS_MINUS']]\n",
    "    current_adv = TeamYearOverYearSplits(row['TEAM_ID'],measure_type = 'Advanced').by_year()[['NET_RATING', 'AST_PCT', 'AST_TO',\n",
    "       'AST_RATIO', 'OREB_PCT', 'DREB_PCT', 'REB_PCT', 'TM_TOV_PCT', 'EFG_PCT',\n",
    "       'TS_PCT', 'PACE', 'PIE']]\n",
    "    current_predictions_norm[row['ABBREVIATION']] = regular_model.predict(current.head(1))\n",
    "    current_predictions_adv[row['ABBREVIATION']] = adv_model.predict(current_adv.head(1))"
   ]
  },
  {
   "cell_type": "code",
   "execution_count": 52,
   "metadata": {
    "collapsed": true
   },
   "outputs": [],
   "source": [
    "r_features = ['FGM', 'FGA', 'FG_PCT', 'FG3M', 'FG3A', 'FG3_PCT', 'FTM', 'FTA',\n",
    "       'FT_PCT', 'OREB', 'DREB', 'REB', 'AST', 'TOV', 'STL', 'BLK', 'BLKA',\n",
    "       'PF', 'PFD', 'PTS', 'PLUS_MINUS']\n",
    "r_features_no_plusminus = ['FGM', 'FGA', 'FG_PCT', 'FG3M', 'FG3A', 'FG3_PCT', 'FTM', 'FTA',\n",
    "       'FT_PCT', 'OREB', 'DREB', 'REB', 'AST', 'TOV', 'STL', 'BLK', 'BLKA',\n",
    "       'PF', 'PFD', 'PTS']\n",
    "a_features = ['NET_RATING', 'AST_PCT', 'AST_TO',\n",
    "       'AST_RATIO', 'OREB_PCT', 'DREB_PCT', 'REB_PCT', 'TM_TOV_PCT', 'EFG_PCT',\n",
    "       'TS_PCT', 'PACE', 'PIE']"
   ]
  },
  {
   "cell_type": "code",
   "execution_count": 28,
   "metadata": {
    "collapsed": true
   },
   "outputs": [],
   "source": [
    "playoff_reg_east = pd.read_csv('playoff_reg_east.csv')\n",
    "playoff_reg_west = pd.read_csv('playoff_reg_west.csv')\n",
    "\n",
    "playoff_reg_east_features = playoff_reg_east[r_features]\n",
    "playoff_reg_west_features = playoff_reg_west[r_features]"
   ]
  },
  {
   "cell_type": "code",
   "execution_count": 29,
   "metadata": {},
   "outputs": [],
   "source": [
    "playoff_adv_east = pd.read_csv('playoff_adv_east.csv')\n",
    "playoff_adv_west = pd.read_csv('playoff_adv_west.csv')\n",
    "\n",
    "playoff_adv_east_features = playoff_adv_east[a_features]\n",
    "playoff_adv_west_features = playoff_adv_west[a_features]"
   ]
  },
  {
   "cell_type": "code",
   "execution_count": 32,
   "metadata": {},
   "outputs": [],
   "source": [
    "X_train, X_test, y_train, y_test = train_test_split(playoff_reg_east_features, playoff_reg_east['PLAYOFFS'], test_size=0.30, random_state=19)"
   ]
  },
  {
   "cell_type": "code",
   "execution_count": 48,
   "metadata": {},
   "outputs": [
    {
     "name": "stdout",
     "output_type": "stream",
     "text": [
      "Logistic Model East Regular Stats \n",
      "             precision    recall  f1-score   support\n",
      "\n",
      "          0       0.83      0.94      0.88        48\n",
      "          1       0.93      0.82      0.87        51\n",
      "\n",
      "avg / total       0.88      0.88      0.88        99\n",
      "\n",
      "Random Forest Model East Regular Stats \n",
      "             precision    recall  f1-score   support\n",
      "\n",
      "          0       0.85      0.94      0.89        48\n",
      "          1       0.93      0.84      0.89        51\n",
      "\n",
      "avg / total       0.89      0.89      0.89        99\n",
      "\n"
     ]
    },
    {
     "data": {
      "image/png": "[encoded data removed]",
      "text/plain": [
       "<matplotlib.figure.Figure at 0x116e568d0>"
      ]
     },
     "metadata": {},
     "output_type": "display_data"
    }
   ],
   "source": [
    "from sklearn.linear_model import LogisticRegression\n",
    "from sklearn.ensemble import RandomForestClassifier\n",
    "from sklearn.metrics import classification_report\n",
    "\n",
    "X_train, X_test, y_train, y_test = train_test_split(playoff_reg_east_features, playoff_reg_east['PLAYOFFS'], test_size=0.30, random_state=19)\n",
    "print(\"Logistic Model East Regular Stats \")\n",
    "logistic_model = LogisticRegression()\n",
    "logistic_model.fit(X_train, y_train)\n",
    "predictions = logistic_model.predict(X_test)\n",
    "print(classification_report(y_test,predictions))\n",
    "\n",
    "print(\"Random Forest Model East Regular Stats \")\n",
    "regular_rf = RandomForestClassifier(n_estimators=100)\n",
    "regular_rf.fit(X_train,y_train)\n",
    "predictions = regular_rf.predict(X_test)\n",
    "print(classification_report(y_test,predictions))\n",
    "feature_weights = regular_rf.feature_importances_\n",
    "bar_plot = sns.barplot(x=r_features,y=feature_weights)\n",
    "ticks = plt.xticks(rotation=60)"
   ]
  },
  {
   "cell_type": "code",
   "execution_count": 51,
   "metadata": {},
   "outputs": [
    {
     "name": "stdout",
     "output_type": "stream",
     "text": [
      "Logistic Model West Regular Stats \n",
      "             precision    recall  f1-score   support\n",
      "\n",
      "          0       0.90      0.84      0.87        44\n",
      "          1       0.88      0.93      0.90        54\n",
      "\n",
      "avg / total       0.89      0.89      0.89        98\n",
      "\n",
      "Random Forest West Regular Stats \n",
      "             precision    recall  f1-score   support\n",
      "\n",
      "          0       0.97      0.86      0.92        44\n",
      "          1       0.90      0.98      0.94        54\n",
      "\n",
      "avg / total       0.93      0.93      0.93        98\n",
      "\n"
     ]
    },
    {
     "data": {
      "image/png": "[encoded data removed]",
      "text/plain": [
       "<matplotlib.figure.Figure at 0x117774cf8>"
      ]
     },
     "metadata": {},
     "output_type": "display_data"
    }
   ],
   "source": [
    "X_train, X_test, y_train, y_test = train_test_split(playoff_reg_west_features, playoff_reg_west['PLAYOFFS'], test_size=0.30, random_state=19)\n",
    "print(\"Logistic Model West Regular Stats \")\n",
    "logistic_model = LogisticRegression()\n",
    "logistic_model.fit(X_train, y_train)\n",
    "predictions = logistic_model.predict(X_test)\n",
    "print(classification_report(y_test,predictions))\n",
    "\n",
    "print(\"Random Forest West Regular Stats \")\n",
    "regular_rf = RandomForestClassifier(n_estimators=100)\n",
    "regular_rf.fit(X_train,y_train)\n",
    "predictions = regular_rf.predict(X_test)\n",
    "print(classification_report(y_test,predictions))\n",
    "feature_weights = regular_rf.feature_importances_\n",
    "bar_plot = sns.barplot(x=r_features,y=feature_weights)\n",
    "ticks = plt.xticks(rotation=60)"
   ]
  },
  {
   "cell_type": "code",
   "execution_count": 50,
   "metadata": {},
   "outputs": [
    {
     "name": "stdout",
     "output_type": "stream",
     "text": [
      "Logistic Model East Adv Stats \n",
      "             precision    recall  f1-score   support\n",
      "\n",
      "          0       0.87      0.96      0.91        48\n",
      "          1       0.96      0.86      0.91        51\n",
      "\n",
      "avg / total       0.91      0.91      0.91        99\n",
      "\n",
      "Random Forest East Adv Stats \n",
      "             precision    recall  f1-score   support\n",
      "\n",
      "          0       0.90      0.96      0.93        48\n",
      "          1       0.96      0.90      0.93        51\n",
      "\n",
      "avg / total       0.93      0.93      0.93        99\n",
      "\n"
     ]
    },
    {
     "data": {
      "image/png": "[encoded data removed]",
      "text/plain": [
       "<matplotlib.figure.Figure at 0x11647b208>"
      ]
     },
     "metadata": {},
     "output_type": "display_data"
    }
   ],
   "source": [
    "X_train, X_test, y_train, y_test = train_test_split(playoff_adv_east_features, playoff_adv_east['PLAYOFFS'], test_size=0.30, random_state=19)\n",
    "print(\"Logistic Model East Adv Stats \")\n",
    "logistic_model = LogisticRegression()\n",
    "logistic_model.fit(X_train, y_train)\n",
    "predictions = logistic_model.predict(X_test)\n",
    "print(classification_report(y_test,predictions))\n",
    "\n",
    "print(\"Random Forest East Adv Stats \")\n",
    "regular_rf = RandomForestClassifier(n_estimators=100)\n",
    "regular_rf.fit(X_train,y_train)\n",
    "predictions = regular_rf.predict(X_test)\n",
    "print(classification_report(y_test,predictions))\n",
    "feature_weights = regular_rf.feature_importances_\n",
    "bar_plot = sns.barplot(x=a_features,y=feature_weights)\n",
    "ticks = plt.xticks(rotation=60)"
   ]
  },
  {
   "cell_type": "code",
   "execution_count": 46,
   "metadata": {},
   "outputs": [
    {
     "name": "stdout",
     "output_type": "stream",
     "text": [
      "Logistic Model West Adv Stats \n",
      "             precision    recall  f1-score   support\n",
      "\n",
      "          0       0.95      0.84      0.89        44\n",
      "          1       0.88      0.96      0.92        54\n",
      "\n",
      "avg / total       0.91      0.91      0.91        98\n",
      "\n",
      "Random Forest West Adv Stats \n",
      "             precision    recall  f1-score   support\n",
      "\n",
      "          0       0.95      0.86      0.90        44\n",
      "          1       0.90      0.96      0.93        54\n",
      "\n",
      "avg / total       0.92      0.92      0.92        98\n",
      "\n"
     ]
    },
    {
     "data": {
      "image/png": "[encoded data removed]",
      "text/plain": [
       "<matplotlib.figure.Figure at 0x1169e6748>"
      ]
     },
     "metadata": {},
     "output_type": "display_data"
    }
   ],
   "source": [
    "X_train, X_test, y_train, y_test = train_test_split(playoff_adv_west_features, playoff_adv_west['PLAYOFFS'], test_size=0.30, random_state=19)\n",
    "print(\"Logistic Model West Adv Stats \")\n",
    "logistic_model = LogisticRegression()\n",
    "logistic_model.fit(X_train, y_train)\n",
    "predictions = logistic_model.predict(X_test)\n",
    "print(classification_report(y_test,predictions))\n",
    "\n",
    "print(\"Random Forest West Adv Stats \")\n",
    "regular_rf = RandomForestClassifier(n_estimators=100)\n",
    "regular_rf.fit(X_train,y_train)\n",
    "predictions = regular_rf.predict(X_test)\n",
    "print(classification_report(y_test,predictions))\n",
    "\n",
    "feature_weights = regular_rf.feature_importances_\n",
    "bar_plot = sns.barplot(x=a_features,y=feature_weights)\n",
    "ticks = plt.xticks(rotation=60)"
   ]
  },
  {
   "cell_type": "code",
   "execution_count": 53,
   "metadata": {},
   "outputs": [
    {
     "name": "stdout",
     "output_type": "stream",
     "text": [
      "Random Forest Model East Regular Stats \n",
      "             precision    recall  f1-score   support\n",
      "\n",
      "          0       0.73      0.73      0.73        48\n",
      "          1       0.75      0.75      0.75        51\n",
      "\n",
      "avg / total       0.74      0.74      0.74        99\n",
      "\n"
     ]
    },
    {
     "data": {
      "image/png": "[encoded data removed]",
      "text/plain": [
       "<matplotlib.figure.Figure at 0x11647b2e8>"
      ]
     },
     "metadata": {},
     "output_type": "display_data"
    }
   ],
   "source": [
    "playoff_reg_east_features = playoff_reg_east[r_features_no_plusminus]\n",
    "\n",
    "X_train, X_test, y_train, y_test = train_test_split(playoff_reg_east_features, playoff_reg_east['PLAYOFFS'], test_size=0.30, random_state=19)\n",
    "print(\"Random Forest Model East Regular Stats \")\n",
    "regular_rf = RandomForestClassifier(n_estimators=100)\n",
    "regular_rf.fit(X_train,y_train)\n",
    "predictions = regular_rf.predict(X_test)\n",
    "print(classification_report(y_test,predictions))\n",
    "feature_weights = regular_rf.feature_importances_\n",
    "bar_plot = sns.barplot(x=r_features_no_plusminus,y=feature_weights)\n",
    "ticks = plt.xticks(rotation=60)"
   ]
  },
  {
   "cell_type": "code",
   "execution_count": null,
   "metadata": {
    "collapsed": true
   },
   "outputs": [],
   "source": []
  }
 ],
 "metadata": {
  "kernelspec": {
   "display_name": "Python 3",
   "language": "python",
   "name": "python3"
  },
  "language_info": {
   "codemirror_mode": {
    "name": "ipython",
    "version": 3
   },
   "file_extension": ".py",
   "mimetype": "text/x-python",
   "name": "python",
   "nbconvert_exporter": "python",
   "pygments_lexer": "ipython3",
   "version": "3.6.2"
  }
 },
 "nbformat": 4,
 "nbformat_minor": 2
}
