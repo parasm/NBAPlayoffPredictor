{
 "cells": [
  {
   "cell_type": "code",
   "execution_count": 1,
   "metadata": {
    "collapsed": true
   },
   "outputs": [],
   "source": [
    "import numpy as np\n",
    "import pandas as pd\n",
    "from matplotlib import pyplot as plt\n",
    "import seaborn as sns\n",
    "import time\n",
    "%matplotlib inline"
   ]
  },
  {
   "cell_type": "code",
   "execution_count": 3,
   "metadata": {},
   "outputs": [
    {
     "data": {
      "text/html": [
       "<div>\n",
       "<style>\n",
       "    .dataframe thead tr:only-child th {\n",
       "        text-align: right;\n",
       "    }\n",
       "\n",
       "    .dataframe thead th {\n",
       "        text-align: left;\n",
       "    }\n",
       "\n",
       "    .dataframe tbody tr th {\n",
       "        vertical-align: top;\n",
       "    }\n",
       "</style>\n",
       "<table border=\"1\" class=\"dataframe\">\n",
       "  <thead>\n",
       "    <tr style=\"text-align: right;\">\n",
       "      <th></th>\n",
       "      <th>Unnamed: 0</th>\n",
       "      <th>Restricted Area</th>\n",
       "      <th>In The Paint (Non-RA)</th>\n",
       "      <th>Mid-Range</th>\n",
       "      <th>Left Corner 3</th>\n",
       "      <th>Right Corner 3</th>\n",
       "      <th>Above the Break 3</th>\n",
       "      <th>PPG</th>\n",
       "    </tr>\n",
       "  </thead>\n",
       "  <tbody>\n",
       "    <tr>\n",
       "      <th>0</th>\n",
       "      <td>EFG_PCT</td>\n",
       "      <td>0.598</td>\n",
       "      <td>0.361</td>\n",
       "      <td>0.412</td>\n",
       "      <td>0.613</td>\n",
       "      <td>0.738</td>\n",
       "      <td>0.509</td>\n",
       "      <td>103.6</td>\n",
       "    </tr>\n",
       "    <tr>\n",
       "      <th>1</th>\n",
       "      <td>EFG_PCT</td>\n",
       "      <td>0.589</td>\n",
       "      <td>0.390</td>\n",
       "      <td>0.439</td>\n",
       "      <td>0.638</td>\n",
       "      <td>0.588</td>\n",
       "      <td>0.552</td>\n",
       "      <td>104.7</td>\n",
       "    </tr>\n",
       "    <tr>\n",
       "      <th>2</th>\n",
       "      <td>EFG_PCT</td>\n",
       "      <td>0.693</td>\n",
       "      <td>0.360</td>\n",
       "      <td>0.394</td>\n",
       "      <td>0.603</td>\n",
       "      <td>0.605</td>\n",
       "      <td>0.539</td>\n",
       "      <td>110.3</td>\n",
       "    </tr>\n",
       "    <tr>\n",
       "      <th>3</th>\n",
       "      <td>EFG_PCT</td>\n",
       "      <td>0.647</td>\n",
       "      <td>0.448</td>\n",
       "      <td>0.410</td>\n",
       "      <td>0.600</td>\n",
       "      <td>0.613</td>\n",
       "      <td>0.530</td>\n",
       "      <td>112.1</td>\n",
       "    </tr>\n",
       "    <tr>\n",
       "      <th>4</th>\n",
       "      <td>EFG_PCT</td>\n",
       "      <td>0.594</td>\n",
       "      <td>0.409</td>\n",
       "      <td>0.382</td>\n",
       "      <td>0.569</td>\n",
       "      <td>0.581</td>\n",
       "      <td>0.530</td>\n",
       "      <td>103.5</td>\n",
       "    </tr>\n",
       "  </tbody>\n",
       "</table>\n",
       "</div>"
      ],
      "text/plain": [
       "  Unnamed: 0  Restricted Area  In The Paint (Non-RA)  Mid-Range  \\\n",
       "0    EFG_PCT            0.598                  0.361      0.412   \n",
       "1    EFG_PCT            0.589                  0.390      0.439   \n",
       "2    EFG_PCT            0.693                  0.360      0.394   \n",
       "3    EFG_PCT            0.647                  0.448      0.410   \n",
       "4    EFG_PCT            0.594                  0.409      0.382   \n",
       "\n",
       "   Left Corner 3  Right Corner 3  Above the Break 3    PPG  \n",
       "0          0.613           0.738              0.509  103.6  \n",
       "1          0.638           0.588              0.552  104.7  \n",
       "2          0.603           0.605              0.539  110.3  \n",
       "3          0.600           0.613              0.530  112.1  \n",
       "4          0.569           0.581              0.530  103.5  "
      ]
     },
     "execution_count": 3,
     "metadata": {},
     "output_type": "execute_result"
    }
   ],
   "source": [
    "all_teams_shooting = pd.read_csv('team_shooting.csv')\n",
    "all_teams_shooting.head(5)"
   ]
  },
  {
   "cell_type": "code",
   "execution_count": 4,
   "metadata": {},
   "outputs": [
    {
     "name": "stderr",
     "output_type": "stream",
     "text": [
      "/Library/Frameworks/Python.framework/Versions/3.6/lib/python3.6/site-packages/scipy/linalg/basic.py:1018: RuntimeWarning: internal gelsd driver lwork query error, required iwork dimension not returned. This is likely the result of LAPACK bug 0038, fixed in LAPACK 3.2.2 (released July 21, 2010). Falling back to 'gelss' driver.\n",
      "  warnings.warn(mesg, RuntimeWarning)\n"
     ]
    }
   ],
   "source": [
    "from sklearn.model_selection import train_test_split\n",
    "from sklearn.linear_model import LinearRegression\n",
    "X = all_teams_shooting[['Restricted Area','In The Paint (Non-RA)','Mid-Range','Left Corner 3','Right Corner 3',\n",
    " 'Above the Break 3']]\n",
    "y = all_teams_shooting[['PPG']]\n",
    "X_train, X_test, y_train, y_test = train_test_split(X, y, test_size=0.3, random_state=69)\n",
    "lm = LinearRegression()\n",
    "lm.fit(X_train,y_train)\n",
    "predictions = lm.predict(X_test)"
   ]
  },
  {
   "cell_type": "code",
   "execution_count": 5,
   "metadata": {},
   "outputs": [
    {
     "name": "stdout",
     "output_type": "stream",
     "text": [
      "MAE: 3.90508707145\n",
      "MSE: 19.7214300872\n",
      "RMSE: 4.44088167904\n"
     ]
    }
   ],
   "source": [
    "from sklearn import metrics\n",
    "print('MAE:', metrics.mean_absolute_error(y_test, predictions))\n",
    "print('MSE:', metrics.mean_squared_error(y_test, predictions))\n",
    "print('RMSE:', np.sqrt(metrics.mean_squared_error(y_test, predictions)))"
   ]
  },
  {
   "cell_type": "code",
   "execution_count": null,
   "metadata": {
    "collapsed": true
   },
   "outputs": [],
   "source": []
  }
 ],
 "metadata": {
  "kernelspec": {
   "display_name": "Python 3",
   "language": "python",
   "name": "python3"
  },
  "language_info": {
   "codemirror_mode": {
    "name": "ipython",
    "version": 3
   },
   "file_extension": ".py",
   "mimetype": "text/x-python",
   "name": "python",
   "nbconvert_exporter": "python",
   "pygments_lexer": "ipython3",
   "version": "3.6.2"
  }
 },
 "nbformat": 4,
 "nbformat_minor": 2
}
