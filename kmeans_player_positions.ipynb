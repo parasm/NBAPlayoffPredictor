{
 "cells": [
  {
   "cell_type": "code",
   "execution_count": 1,
   "metadata": {
    "collapsed": true
   },
   "outputs": [],
   "source": [
    "import numpy\n",
    "import pandas"
   ]
  },
  {
   "cell_type": "code",
   "execution_count": 2,
   "metadata": {
    "collapsed": true
   },
   "outputs": [],
   "source": [
    "from nba_py.player import *\n",
    "from nba_py.team import *"
   ]
  },
  {
   "cell_type": "code",
   "execution_count": 3,
   "metadata": {
    "collapsed": false
   },
   "outputs": [
    {
     "name": "stdout",
     "output_type": "stream",
     "text": [
      "<class 'pandas.core.frame.DataFrame'>\n",
      "RangeIndex: 103 entries, 0 to 102\n",
      "Data columns (total 13 columns):\n",
      "PERSON_ID                   103 non-null int64\n",
      "DISPLAY_LAST_COMMA_FIRST    103 non-null object\n",
      "DISPLAY_FIRST_LAST          103 non-null object\n",
      "ROSTERSTATUS                103 non-null int64\n",
      "FROM_YEAR                   103 non-null object\n",
      "TO_YEAR                     103 non-null object\n",
      "PLAYERCODE                  103 non-null object\n",
      "TEAM_ID                     103 non-null int64\n",
      "TEAM_CITY                   103 non-null object\n",
      "TEAM_NAME                   103 non-null object\n",
      "TEAM_ABBREVIATION           103 non-null object\n",
      "TEAM_CODE                   103 non-null object\n",
      "GAMES_PLAYED_FLAG           103 non-null object\n",
      "dtypes: int64(3), object(10)\n",
      "memory usage: 6.5+ KB\n"
     ]
    }
   ],
   "source": [
    "PlayerList(season='2015-16').info().info()"
   ]
  },
  {
   "cell_type": "code",
   "execution_count": 4,
   "metadata": {
    "collapsed": true
   },
   "outputs": [],
   "source": [
    "last_season = \"2007-08\"\n",
    "warriors = \"1610612744\"\n",
    "cavs = \"1610612739\"\n",
    "thunder = \"1610612760\"\n",
    "raps = \"1610612761\"\n",
    "player = 2544\n",
    "first_game = \"1610612744\"\n",
    "adv = 'Advanced'\n",
    "permode = 'Per100Possessions'"
   ]
  },
  {
   "cell_type": "code",
   "execution_count": 5,
   "metadata": {
    "collapsed": true
   },
   "outputs": [],
   "source": [
    "import time"
   ]
  },
  {
   "cell_type": "code",
   "execution_count": 6,
   "metadata": {
    "collapsed": true
   },
   "outputs": [],
   "source": [
    "import matplotlib.pyplot as plt\n",
    "%matplotlib inline\n",
    "import seaborn as sns"
   ]
  },
  {
   "cell_type": "code",
   "execution_count": 7,
   "metadata": {
    "collapsed": true
   },
   "outputs": [],
   "source": [
    "teams = TeamList().info().head(30)"
   ]
  },
  {
   "cell_type": "code",
   "execution_count": 8,
   "metadata": {
    "collapsed": false
   },
   "outputs": [
    {
     "data": {
      "text/html": [
       "<div>\n",
       "<table border=\"1\" class=\"dataframe\">\n",
       "  <thead>\n",
       "    <tr style=\"text-align: right;\">\n",
       "      <th></th>\n",
       "      <th>LEAGUE_ID</th>\n",
       "      <th>TEAM_ID</th>\n",
       "      <th>MIN_YEAR</th>\n",
       "      <th>MAX_YEAR</th>\n",
       "      <th>ABBREVIATION</th>\n",
       "    </tr>\n",
       "  </thead>\n",
       "  <tbody>\n",
       "    <tr>\n",
       "      <th>0</th>\n",
       "      <td>00</td>\n",
       "      <td>1610612737</td>\n",
       "      <td>1949</td>\n",
       "      <td>2017</td>\n",
       "      <td>ATL</td>\n",
       "    </tr>\n",
       "    <tr>\n",
       "      <th>1</th>\n",
       "      <td>00</td>\n",
       "      <td>1610612738</td>\n",
       "      <td>1946</td>\n",
       "      <td>2017</td>\n",
       "      <td>BOS</td>\n",
       "    </tr>\n",
       "    <tr>\n",
       "      <th>2</th>\n",
       "      <td>00</td>\n",
       "      <td>1610612739</td>\n",
       "      <td>1970</td>\n",
       "      <td>2017</td>\n",
       "      <td>CLE</td>\n",
       "    </tr>\n",
       "    <tr>\n",
       "      <th>3</th>\n",
       "      <td>00</td>\n",
       "      <td>1610612740</td>\n",
       "      <td>2002</td>\n",
       "      <td>2017</td>\n",
       "      <td>NOP</td>\n",
       "    </tr>\n",
       "    <tr>\n",
       "      <th>4</th>\n",
       "      <td>00</td>\n",
       "      <td>1610612741</td>\n",
       "      <td>1966</td>\n",
       "      <td>2017</td>\n",
       "      <td>CHI</td>\n",
       "    </tr>\n",
       "  </tbody>\n",
       "</table>\n",
       "</div>"
      ],
      "text/plain": [
       "  LEAGUE_ID     TEAM_ID MIN_YEAR MAX_YEAR ABBREVIATION\n",
       "0        00  1610612737     1949     2017          ATL\n",
       "1        00  1610612738     1946     2017          BOS\n",
       "2        00  1610612739     1970     2017          CLE\n",
       "3        00  1610612740     2002     2017          NOP\n",
       "4        00  1610612741     1966     2017          CHI"
      ]
     },
     "execution_count": 8,
     "metadata": {},
     "output_type": "execute_result"
    }
   ],
   "source": [
    "teams.head()"
   ]
  },
  {
   "cell_type": "code",
   "execution_count": 9,
   "metadata": {
    "collapsed": false
   },
   "outputs": [],
   "source": [
    "team_ids = teams['TEAM_ID']"
   ]
  },
  {
   "cell_type": "code",
   "execution_count": 10,
   "metadata": {
    "collapsed": false
   },
   "outputs": [],
   "source": [
    "rosters = []\n",
    "for team in teams['TEAM_ID']:\n",
    "    rosters.append(TeamCommonRoster(team, season=last_season).roster().drop(['SCHOOL', 'LeagueID','BIRTH_DATE'], axis=1))\n",
    "    "
   ]
  },
  {
   "cell_type": "code",
   "execution_count": null,
   "metadata": {
    "collapsed": false
   },
   "outputs": [],
   "source": [
    "team_abrv = []\n",
    "abbrvs = teams['ABBREVIATION']"
   ]
  },
  {
   "cell_type": "code",
   "execution_count": null,
   "metadata": {
    "collapsed": false
   },
   "outputs": [],
   "source": [
    "for i in range(0,30):\n",
    "    team_abrv.append(abbrvs.iloc[i])"
   ]
  },
  {
   "cell_type": "code",
   "execution_count": null,
   "metadata": {
    "collapsed": false
   },
   "outputs": [],
   "source": [
    "team_abrv[28]"
   ]
  },
  {
   "cell_type": "code",
   "execution_count": null,
   "metadata": {
    "collapsed": true
   },
   "outputs": [],
   "source": [
    "def compute_stats(player_id, season):\n",
    "    stats = PlayerGeneralSplits(player_id,measure_type= adv, per_mode = permode, season = season)\n"
   ]
  },
  {
   "cell_type": "code",
   "execution_count": 15,
   "metadata": {
    "collapsed": true
   },
   "outputs": [],
   "source": [
    "def save_team(roster):\n",
    "    stats = roster['PLAYER_ID'].apply(lambda player: compute_stats(player, last_season))\n",
    "    pandas.concat([roster, stats], axis=1).to_csv('team.csv')"
   ]
  },
  {
   "cell_type": "code",
   "execution_count": 16,
   "metadata": {
    "collapsed": false
   },
   "outputs": [
    {
     "data": {
      "text/html": [
       "<div>\n",
       "<table border=\"1\" class=\"dataframe\">\n",
       "  <thead>\n",
       "    <tr style=\"text-align: right;\">\n",
       "      <th></th>\n",
       "      <th>TeamID</th>\n",
       "      <th>SEASON</th>\n",
       "      <th>PLAYER</th>\n",
       "      <th>NUM</th>\n",
       "      <th>POSITION</th>\n",
       "      <th>HEIGHT</th>\n",
       "      <th>WEIGHT</th>\n",
       "      <th>AGE</th>\n",
       "      <th>EXP</th>\n",
       "      <th>PLAYER_ID</th>\n",
       "    </tr>\n",
       "  </thead>\n",
       "  <tbody>\n",
       "    <tr>\n",
       "      <th>0</th>\n",
       "      <td>1610612766</td>\n",
       "      <td>2007</td>\n",
       "      <td>Derek Anderson</td>\n",
       "      <td>1</td>\n",
       "      <td>G</td>\n",
       "      <td>6-5</td>\n",
       "      <td>195</td>\n",
       "      <td>33.0</td>\n",
       "      <td>10</td>\n",
       "      <td>1507</td>\n",
       "    </tr>\n",
       "    <tr>\n",
       "      <th>1</th>\n",
       "      <td>1610612766</td>\n",
       "      <td>2007</td>\n",
       "      <td>Gerald Wallace</td>\n",
       "      <td>3</td>\n",
       "      <td>F</td>\n",
       "      <td>6-7</td>\n",
       "      <td>220</td>\n",
       "      <td>25.0</td>\n",
       "      <td>6</td>\n",
       "      <td>2222</td>\n",
       "    </tr>\n",
       "    <tr>\n",
       "      <th>2</th>\n",
       "      <td>1610612766</td>\n",
       "      <td>2007</td>\n",
       "      <td>Jared Dudley</td>\n",
       "      <td>4</td>\n",
       "      <td>F</td>\n",
       "      <td>6-7</td>\n",
       "      <td>225</td>\n",
       "      <td>22.0</td>\n",
       "      <td>R</td>\n",
       "      <td>201162</td>\n",
       "    </tr>\n",
       "    <tr>\n",
       "      <th>3</th>\n",
       "      <td>1610612766</td>\n",
       "      <td>2007</td>\n",
       "      <td>Nazr Mohammed</td>\n",
       "      <td>6</td>\n",
       "      <td>C</td>\n",
       "      <td>6-10</td>\n",
       "      <td>250</td>\n",
       "      <td>30.0</td>\n",
       "      <td>9</td>\n",
       "      <td>1737</td>\n",
       "    </tr>\n",
       "    <tr>\n",
       "      <th>4</th>\n",
       "      <td>1610612766</td>\n",
       "      <td>2007</td>\n",
       "      <td>Earl Boykins</td>\n",
       "      <td>11</td>\n",
       "      <td>G</td>\n",
       "      <td>5-5</td>\n",
       "      <td>133</td>\n",
       "      <td>32.0</td>\n",
       "      <td>9</td>\n",
       "      <td>1863</td>\n",
       "    </tr>\n",
       "  </tbody>\n",
       "</table>\n",
       "</div>"
      ],
      "text/plain": [
       "       TeamID SEASON          PLAYER NUM POSITION HEIGHT WEIGHT   AGE EXP  \\\n",
       "0  1610612766   2007  Derek Anderson   1        G    6-5    195  33.0  10   \n",
       "1  1610612766   2007  Gerald Wallace   3        F    6-7    220  25.0   6   \n",
       "2  1610612766   2007    Jared Dudley   4        F    6-7    225  22.0   R   \n",
       "3  1610612766   2007   Nazr Mohammed   6        C   6-10    250  30.0   9   \n",
       "4  1610612766   2007    Earl Boykins  11        G    5-5    133  32.0   9   \n",
       "\n",
       "   PLAYER_ID  \n",
       "0       1507  \n",
       "1       2222  \n",
       "2     201162  \n",
       "3       1737  \n",
       "4       1863  "
      ]
     },
     "execution_count": 16,
     "metadata": {},
     "output_type": "execute_result"
    }
   ],
   "source": [
    "rosters[29].head()"
   ]
  },
  {
   "cell_type": "code",
   "execution_count": null,
   "metadata": {
    "collapsed": true
   },
   "outputs": [],
   "source": [
    "all_teams = []\n",
    "for i in range(0,30):\n",
    "    time.sleep(5)\n",
    "    stats = rosters[i]['PLAYER_ID'].apply(lambda player: compute_stats(player, last_season))\n",
    "    all_teams.append(pandas.concat([rosters[i], stats], axis=1))"
   ]
  },
  {
   "cell_type": "code",
   "execution_count": 20,
   "metadata": {
    "collapsed": false
   },
   "outputs": [
    {
     "data": {
      "text/html": [
       "<div>\n",
       "<table border=\"1\" class=\"dataframe\">\n",
       "  <thead>\n",
       "    <tr style=\"text-align: right;\">\n",
       "      <th></th>\n",
       "      <th>AGE</th>\n",
       "      <th>AST</th>\n",
       "      <th>BLK</th>\n",
       "      <th>DREB</th>\n",
       "      <th>EXP</th>\n",
       "      <th>FG3A</th>\n",
       "      <th>FG3M</th>\n",
       "      <th>FG3_PCT</th>\n",
       "      <th>FGA</th>\n",
       "      <th>FGM</th>\n",
       "      <th>...</th>\n",
       "      <th>POSITION</th>\n",
       "      <th>PTS</th>\n",
       "      <th>REB</th>\n",
       "      <th>SEASON</th>\n",
       "      <th>STL</th>\n",
       "      <th>TOV</th>\n",
       "      <th>TeamID</th>\n",
       "      <th>WEIGHT</th>\n",
       "      <th>WINS</th>\n",
       "      <th>WL</th>\n",
       "    </tr>\n",
       "  </thead>\n",
       "  <tbody>\n",
       "    <tr>\n",
       "      <th>0</th>\n",
       "      <td>25.0</td>\n",
       "      <td>1.539474</td>\n",
       "      <td>0.565789</td>\n",
       "      <td>2.618421</td>\n",
       "      <td>3</td>\n",
       "      <td>0.789474</td>\n",
       "      <td>0.289474</td>\n",
       "      <td>0.192987</td>\n",
       "      <td>7.539474</td>\n",
       "      <td>4.302632</td>\n",
       "      <td>...</td>\n",
       "      <td>G-F</td>\n",
       "      <td>11.815789</td>\n",
       "      <td>4.907895</td>\n",
       "      <td>2007</td>\n",
       "      <td>0.934211</td>\n",
       "      <td>1.289474</td>\n",
       "      <td>1610612737</td>\n",
       "      <td>210</td>\n",
       "      <td>33.0</td>\n",
       "      <td>NaN</td>\n",
       "    </tr>\n",
       "    <tr>\n",
       "      <th>1</th>\n",
       "      <td>27.0</td>\n",
       "      <td>5.780488</td>\n",
       "      <td>0.219512</td>\n",
       "      <td>3.463415</td>\n",
       "      <td>6</td>\n",
       "      <td>5.414634</td>\n",
       "      <td>2.060976</td>\n",
       "      <td>0.358744</td>\n",
       "      <td>18.256098</td>\n",
       "      <td>7.890244</td>\n",
       "      <td>...</td>\n",
       "      <td>G</td>\n",
       "      <td>21.695122</td>\n",
       "      <td>4.475610</td>\n",
       "      <td>2007</td>\n",
       "      <td>1.024390</td>\n",
       "      <td>2.719512</td>\n",
       "      <td>1610612737</td>\n",
       "      <td>235</td>\n",
       "      <td>37.0</td>\n",
       "      <td>NaN</td>\n",
       "    </tr>\n",
       "    <tr>\n",
       "      <th>2</th>\n",
       "      <td>23.0</td>\n",
       "      <td>2.017857</td>\n",
       "      <td>0.000000</td>\n",
       "      <td>0.803571</td>\n",
       "      <td>R</td>\n",
       "      <td>0.607143</td>\n",
       "      <td>0.125000</td>\n",
       "      <td>0.083321</td>\n",
       "      <td>4.232143</td>\n",
       "      <td>1.696429</td>\n",
       "      <td>...</td>\n",
       "      <td>G</td>\n",
       "      <td>4.196429</td>\n",
       "      <td>1.017857</td>\n",
       "      <td>2007</td>\n",
       "      <td>0.517857</td>\n",
       "      <td>1.000000</td>\n",
       "      <td>1610612737</td>\n",
       "      <td>195</td>\n",
       "      <td>25.0</td>\n",
       "      <td>NaN</td>\n",
       "    </tr>\n",
       "    <tr>\n",
       "      <th>3</th>\n",
       "      <td>22.0</td>\n",
       "      <td>3.358025</td>\n",
       "      <td>2.802469</td>\n",
       "      <td>6.246914</td>\n",
       "      <td>3</td>\n",
       "      <td>1.222222</td>\n",
       "      <td>0.308642</td>\n",
       "      <td>0.161506</td>\n",
       "      <td>13.987654</td>\n",
       "      <td>6.395062</td>\n",
       "      <td>...</td>\n",
       "      <td>F</td>\n",
       "      <td>17.209877</td>\n",
       "      <td>8.234568</td>\n",
       "      <td>2007</td>\n",
       "      <td>1.518519</td>\n",
       "      <td>3.024691</td>\n",
       "      <td>1610612737</td>\n",
       "      <td>235</td>\n",
       "      <td>37.0</td>\n",
       "      <td>NaN</td>\n",
       "    </tr>\n",
       "    <tr>\n",
       "      <th>4</th>\n",
       "      <td>24.0</td>\n",
       "      <td>0.203125</td>\n",
       "      <td>0.062500</td>\n",
       "      <td>0.343750</td>\n",
       "      <td>R</td>\n",
       "      <td>0.062500</td>\n",
       "      <td>0.000000</td>\n",
       "      <td>0.000000</td>\n",
       "      <td>0.765625</td>\n",
       "      <td>0.328125</td>\n",
       "      <td>...</td>\n",
       "      <td>G</td>\n",
       "      <td>0.921875</td>\n",
       "      <td>0.750000</td>\n",
       "      <td>2007</td>\n",
       "      <td>0.187500</td>\n",
       "      <td>0.140625</td>\n",
       "      <td>1610612737</td>\n",
       "      <td>210</td>\n",
       "      <td>31.0</td>\n",
       "      <td>NaN</td>\n",
       "    </tr>\n",
       "    <tr>\n",
       "      <th>5</th>\n",
       "      <td>30.0</td>\n",
       "      <td>6.041667</td>\n",
       "      <td>0.083333</td>\n",
       "      <td>3.000000</td>\n",
       "      <td>9</td>\n",
       "      <td>5.166667</td>\n",
       "      <td>1.937500</td>\n",
       "      <td>0.349000</td>\n",
       "      <td>12.562500</td>\n",
       "      <td>5.166667</td>\n",
       "      <td>...</td>\n",
       "      <td>G</td>\n",
       "      <td>13.895833</td>\n",
       "      <td>3.333333</td>\n",
       "      <td>2007</td>\n",
       "      <td>1.125000</td>\n",
       "      <td>2.479167</td>\n",
       "      <td>1610612737</td>\n",
       "      <td>190</td>\n",
       "      <td>24.0</td>\n",
       "      <td>NaN</td>\n",
       "    </tr>\n",
       "    <tr>\n",
       "      <th>6</th>\n",
       "      <td>30.0</td>\n",
       "      <td>NaN</td>\n",
       "      <td>NaN</td>\n",
       "      <td>NaN</td>\n",
       "      <td>6</td>\n",
       "      <td>NaN</td>\n",
       "      <td>NaN</td>\n",
       "      <td>NaN</td>\n",
       "      <td>NaN</td>\n",
       "      <td>NaN</td>\n",
       "      <td>...</td>\n",
       "      <td>G</td>\n",
       "      <td>NaN</td>\n",
       "      <td>NaN</td>\n",
       "      <td>2007</td>\n",
       "      <td>NaN</td>\n",
       "      <td>NaN</td>\n",
       "      <td>1610612737</td>\n",
       "      <td>170</td>\n",
       "      <td>0.0</td>\n",
       "      <td>NaN</td>\n",
       "    </tr>\n",
       "    <tr>\n",
       "      <th>7</th>\n",
       "      <td>22.0</td>\n",
       "      <td>1.530864</td>\n",
       "      <td>0.938272</td>\n",
       "      <td>6.629630</td>\n",
       "      <td>R</td>\n",
       "      <td>0.061728</td>\n",
       "      <td>0.000000</td>\n",
       "      <td>0.000000</td>\n",
       "      <td>8.246914</td>\n",
       "      <td>4.111111</td>\n",
       "      <td>...</td>\n",
       "      <td>C-F</td>\n",
       "      <td>10.135802</td>\n",
       "      <td>9.691358</td>\n",
       "      <td>2007</td>\n",
       "      <td>0.740741</td>\n",
       "      <td>1.691358</td>\n",
       "      <td>1610612737</td>\n",
       "      <td>245</td>\n",
       "      <td>37.0</td>\n",
       "      <td>NaN</td>\n",
       "    </tr>\n",
       "    <tr>\n",
       "      <th>8</th>\n",
       "      <td>25.0</td>\n",
       "      <td>0.800000</td>\n",
       "      <td>0.142857</td>\n",
       "      <td>0.571429</td>\n",
       "      <td>2</td>\n",
       "      <td>2.428571</td>\n",
       "      <td>0.828571</td>\n",
       "      <td>0.250714</td>\n",
       "      <td>5.142857</td>\n",
       "      <td>1.857143</td>\n",
       "      <td>...</td>\n",
       "      <td>G</td>\n",
       "      <td>5.714286</td>\n",
       "      <td>0.685714</td>\n",
       "      <td>2007</td>\n",
       "      <td>0.200000</td>\n",
       "      <td>0.600000</td>\n",
       "      <td>1610612737</td>\n",
       "      <td>175</td>\n",
       "      <td>12.0</td>\n",
       "      <td>NaN</td>\n",
       "    </tr>\n",
       "    <tr>\n",
       "      <th>9</th>\n",
       "      <td>22.0</td>\n",
       "      <td>1.712500</td>\n",
       "      <td>0.412500</td>\n",
       "      <td>4.225000</td>\n",
       "      <td>2</td>\n",
       "      <td>0.125000</td>\n",
       "      <td>0.012500</td>\n",
       "      <td>0.012500</td>\n",
       "      <td>11.475000</td>\n",
       "      <td>5.300000</td>\n",
       "      <td>...</td>\n",
       "      <td>F</td>\n",
       "      <td>14.812500</td>\n",
       "      <td>5.712500</td>\n",
       "      <td>2007</td>\n",
       "      <td>1.012500</td>\n",
       "      <td>1.587500</td>\n",
       "      <td>1610612737</td>\n",
       "      <td>230</td>\n",
       "      <td>35.0</td>\n",
       "      <td>NaN</td>\n",
       "    </tr>\n",
       "    <tr>\n",
       "      <th>10</th>\n",
       "      <td>24.0</td>\n",
       "      <td>0.580645</td>\n",
       "      <td>0.209677</td>\n",
       "      <td>2.564516</td>\n",
       "      <td>4</td>\n",
       "      <td>0.048387</td>\n",
       "      <td>0.000000</td>\n",
       "      <td>0.000000</td>\n",
       "      <td>3.951613</td>\n",
       "      <td>1.725806</td>\n",
       "      <td>...</td>\n",
       "      <td>C</td>\n",
       "      <td>5.193548</td>\n",
       "      <td>4.000000</td>\n",
       "      <td>2007</td>\n",
       "      <td>0.387097</td>\n",
       "      <td>1.112903</td>\n",
       "      <td>1610612737</td>\n",
       "      <td>280</td>\n",
       "      <td>28.0</td>\n",
       "      <td>NaN</td>\n",
       "    </tr>\n",
       "    <tr>\n",
       "      <th>11</th>\n",
       "      <td>24.0</td>\n",
       "      <td>0.074074</td>\n",
       "      <td>0.000000</td>\n",
       "      <td>0.296296</td>\n",
       "      <td>1</td>\n",
       "      <td>0.703704</td>\n",
       "      <td>0.259259</td>\n",
       "      <td>0.160481</td>\n",
       "      <td>1.629630</td>\n",
       "      <td>0.592593</td>\n",
       "      <td>...</td>\n",
       "      <td>G-F</td>\n",
       "      <td>1.518519</td>\n",
       "      <td>0.333333</td>\n",
       "      <td>2007</td>\n",
       "      <td>0.111111</td>\n",
       "      <td>0.222222</td>\n",
       "      <td>1610612737</td>\n",
       "      <td>195</td>\n",
       "      <td>12.0</td>\n",
       "      <td>NaN</td>\n",
       "    </tr>\n",
       "    <tr>\n",
       "      <th>12</th>\n",
       "      <td>23.0</td>\n",
       "      <td>0.000000</td>\n",
       "      <td>0.142857</td>\n",
       "      <td>0.657143</td>\n",
       "      <td>1</td>\n",
       "      <td>0.057143</td>\n",
       "      <td>0.000000</td>\n",
       "      <td>0.000000</td>\n",
       "      <td>0.857143</td>\n",
       "      <td>0.342857</td>\n",
       "      <td>...</td>\n",
       "      <td>F</td>\n",
       "      <td>1.000000</td>\n",
       "      <td>1.200000</td>\n",
       "      <td>2007</td>\n",
       "      <td>0.085714</td>\n",
       "      <td>0.314286</td>\n",
       "      <td>1610612737</td>\n",
       "      <td>230</td>\n",
       "      <td>13.0</td>\n",
       "      <td>NaN</td>\n",
       "    </tr>\n",
       "    <tr>\n",
       "      <th>0</th>\n",
       "      <td>24.0</td>\n",
       "      <td>0.267857</td>\n",
       "      <td>0.285714</td>\n",
       "      <td>2.357143</td>\n",
       "      <td>1</td>\n",
       "      <td>0.017857</td>\n",
       "      <td>0.000000</td>\n",
       "      <td>0.000000</td>\n",
       "      <td>4.803571</td>\n",
       "      <td>2.750000</td>\n",
       "      <td>...</td>\n",
       "      <td>F</td>\n",
       "      <td>7.946429</td>\n",
       "      <td>4.053571</td>\n",
       "      <td>2007</td>\n",
       "      <td>0.267857</td>\n",
       "      <td>0.767857</td>\n",
       "      <td>1610612738</td>\n",
       "      <td>240</td>\n",
       "      <td>46.0</td>\n",
       "      <td>NaN</td>\n",
       "    </tr>\n",
       "    <tr>\n",
       "      <th>1</th>\n",
       "      <td>32.0</td>\n",
       "      <td>3.436620</td>\n",
       "      <td>1.253521</td>\n",
       "      <td>7.323944</td>\n",
       "      <td>12</td>\n",
       "      <td>0.154930</td>\n",
       "      <td>0.000000</td>\n",
       "      <td>0.000000</td>\n",
       "      <td>13.943662</td>\n",
       "      <td>7.521127</td>\n",
       "      <td>...</td>\n",
       "      <td>F</td>\n",
       "      <td>18.830986</td>\n",
       "      <td>9.225352</td>\n",
       "      <td>2007</td>\n",
       "      <td>1.408451</td>\n",
       "      <td>1.943662</td>\n",
       "      <td>1610612738</td>\n",
       "      <td>220</td>\n",
       "      <td>57.0</td>\n",
       "      <td>NaN</td>\n",
       "    </tr>\n",
       "    <tr>\n",
       "      <th>2</th>\n",
       "      <td>22.0</td>\n",
       "      <td>5.103896</td>\n",
       "      <td>0.168831</td>\n",
       "      <td>3.168831</td>\n",
       "      <td>1</td>\n",
       "      <td>0.246753</td>\n",
       "      <td>0.064935</td>\n",
       "      <td>0.051948</td>\n",
       "      <td>9.259740</td>\n",
       "      <td>4.558442</td>\n",
       "      <td>...</td>\n",
       "      <td>G</td>\n",
       "      <td>10.571429</td>\n",
       "      <td>4.181818</td>\n",
       "      <td>2007</td>\n",
       "      <td>1.675325</td>\n",
       "      <td>1.909091</td>\n",
       "      <td>1610612738</td>\n",
       "      <td>171</td>\n",
       "      <td>62.0</td>\n",
       "      <td>NaN</td>\n",
       "    </tr>\n",
       "    <tr>\n",
       "      <th>3</th>\n",
       "      <td>22.0</td>\n",
       "      <td>0.405797</td>\n",
       "      <td>0.289855</td>\n",
       "      <td>1.637681</td>\n",
       "      <td>R</td>\n",
       "      <td>0.000000</td>\n",
       "      <td>0.000000</td>\n",
       "      <td>0.000000</td>\n",
       "      <td>3.202899</td>\n",
       "      <td>1.550725</td>\n",
       "      <td>...</td>\n",
       "      <td>F</td>\n",
       "      <td>4.536232</td>\n",
       "      <td>3.014493</td>\n",
       "      <td>2007</td>\n",
       "      <td>0.449275</td>\n",
       "      <td>0.942029</td>\n",
       "      <td>1610612738</td>\n",
       "      <td>289</td>\n",
       "      <td>56.0</td>\n",
       "      <td>NaN</td>\n",
       "    </tr>\n",
       "    <tr>\n",
       "      <th>4</th>\n",
       "      <td>22.0</td>\n",
       "      <td>0.866667</td>\n",
       "      <td>0.000000</td>\n",
       "      <td>0.466667</td>\n",
       "      <td>R</td>\n",
       "      <td>0.800000</td>\n",
       "      <td>0.200000</td>\n",
       "      <td>0.166667</td>\n",
       "      <td>2.600000</td>\n",
       "      <td>0.933333</td>\n",
       "      <td>...</td>\n",
       "      <td>G</td>\n",
       "      <td>2.133333</td>\n",
       "      <td>0.533333</td>\n",
       "      <td>2007</td>\n",
       "      <td>0.333333</td>\n",
       "      <td>0.333333</td>\n",
       "      <td>1610612738</td>\n",
       "      <td>170</td>\n",
       "      <td>13.0</td>\n",
       "      <td>NaN</td>\n",
       "    </tr>\n",
       "    <tr>\n",
       "      <th>5</th>\n",
       "      <td>32.0</td>\n",
       "      <td>3.082192</td>\n",
       "      <td>0.219178</td>\n",
       "      <td>2.643836</td>\n",
       "      <td>11</td>\n",
       "      <td>6.191781</td>\n",
       "      <td>2.465753</td>\n",
       "      <td>0.395027</td>\n",
       "      <td>13.506849</td>\n",
       "      <td>6.013699</td>\n",
       "      <td>...</td>\n",
       "      <td>G</td>\n",
       "      <td>17.438356</td>\n",
       "      <td>3.671233</td>\n",
       "      <td>2007</td>\n",
       "      <td>0.890411</td>\n",
       "      <td>1.739726</td>\n",
       "      <td>1610612738</td>\n",
       "      <td>205</td>\n",
       "      <td>58.0</td>\n",
       "      <td>NaN</td>\n",
       "    </tr>\n",
       "    <tr>\n",
       "      <th>6</th>\n",
       "      <td>38.0</td>\n",
       "      <td>3.890909</td>\n",
       "      <td>0.109091</td>\n",
       "      <td>2.163636</td>\n",
       "      <td>14</td>\n",
       "      <td>1.381818</td>\n",
       "      <td>0.418182</td>\n",
       "      <td>0.155455</td>\n",
       "      <td>9.672727</td>\n",
       "      <td>4.236364</td>\n",
       "      <td>...</td>\n",
       "      <td>G</td>\n",
       "      <td>11.200000</td>\n",
       "      <td>2.472727</td>\n",
       "      <td>2007</td>\n",
       "      <td>0.672727</td>\n",
       "      <td>1.763636</td>\n",
       "      <td>1610612738</td>\n",
       "      <td>185</td>\n",
       "      <td>29.0</td>\n",
       "      <td>NaN</td>\n",
       "    </tr>\n",
       "    <tr>\n",
       "      <th>7</th>\n",
       "      <td>30.0</td>\n",
       "      <td>4.537500</td>\n",
       "      <td>0.450000</td>\n",
       "      <td>4.475000</td>\n",
       "      <td>9</td>\n",
       "      <td>4.562500</td>\n",
       "      <td>1.787500</td>\n",
       "      <td>0.354038</td>\n",
       "      <td>13.725000</td>\n",
       "      <td>6.362500</td>\n",
       "      <td>...</td>\n",
       "      <td>F</td>\n",
       "      <td>19.625000</td>\n",
       "      <td>5.137500</td>\n",
       "      <td>2007</td>\n",
       "      <td>1.262500</td>\n",
       "      <td>2.762500</td>\n",
       "      <td>1610612738</td>\n",
       "      <td>235</td>\n",
       "      <td>64.0</td>\n",
       "      <td>NaN</td>\n",
       "    </tr>\n",
       "    <tr>\n",
       "      <th>8</th>\n",
       "      <td>31.0</td>\n",
       "      <td>1.540541</td>\n",
       "      <td>0.256757</td>\n",
       "      <td>3.945946</td>\n",
       "      <td>8</td>\n",
       "      <td>3.770270</td>\n",
       "      <td>1.432432</td>\n",
       "      <td>0.318919</td>\n",
       "      <td>5.594595</td>\n",
       "      <td>2.337838</td>\n",
       "      <td>...</td>\n",
       "      <td>F</td>\n",
       "      <td>7.364865</td>\n",
       "      <td>4.351351</td>\n",
       "      <td>2007</td>\n",
       "      <td>0.972973</td>\n",
       "      <td>0.878378</td>\n",
       "      <td>1610612738</td>\n",
       "      <td>217</td>\n",
       "      <td>60.0</td>\n",
       "      <td>NaN</td>\n",
       "    </tr>\n",
       "    <tr>\n",
       "      <th>9</th>\n",
       "      <td>26.0</td>\n",
       "      <td>1.520000</td>\n",
       "      <td>0.280000</td>\n",
       "      <td>1.786667</td>\n",
       "      <td>3</td>\n",
       "      <td>0.760000</td>\n",
       "      <td>0.240000</td>\n",
       "      <td>0.126667</td>\n",
       "      <td>5.186667</td>\n",
       "      <td>2.253333</td>\n",
       "      <td>...</td>\n",
       "      <td>G</td>\n",
       "      <td>6.586667</td>\n",
       "      <td>2.240000</td>\n",
       "      <td>2007</td>\n",
       "      <td>0.826667</td>\n",
       "      <td>1.453333</td>\n",
       "      <td>1610612738</td>\n",
       "      <td>213</td>\n",
       "      <td>61.0</td>\n",
       "      <td>NaN</td>\n",
       "    </tr>\n",
       "    <tr>\n",
       "      <th>10</th>\n",
       "      <td>23.0</td>\n",
       "      <td>1.076923</td>\n",
       "      <td>1.461538</td>\n",
       "      <td>4.217949</td>\n",
       "      <td>4</td>\n",
       "      <td>0.012821</td>\n",
       "      <td>0.000000</td>\n",
       "      <td>0.000000</td>\n",
       "      <td>4.461538</td>\n",
       "      <td>2.743590</td>\n",
       "      <td>...</td>\n",
       "      <td>C</td>\n",
       "      <td>6.948718</td>\n",
       "      <td>6.076923</td>\n",
       "      <td>2007</td>\n",
       "      <td>0.397436</td>\n",
       "      <td>1.602564</td>\n",
       "      <td>1610612738</td>\n",
       "      <td>264</td>\n",
       "      <td>62.0</td>\n",
       "      <td>NaN</td>\n",
       "    </tr>\n",
       "    <tr>\n",
       "      <th>11</th>\n",
       "      <td>30.0</td>\n",
       "      <td>0.833333</td>\n",
       "      <td>0.166667</td>\n",
       "      <td>1.187500</td>\n",
       "      <td>6</td>\n",
       "      <td>0.958333</td>\n",
       "      <td>0.312500</td>\n",
       "      <td>0.179167</td>\n",
       "      <td>1.958333</td>\n",
       "      <td>0.604167</td>\n",
       "      <td>...</td>\n",
       "      <td>F-C</td>\n",
       "      <td>1.833333</td>\n",
       "      <td>1.645833</td>\n",
       "      <td>2007</td>\n",
       "      <td>0.187500</td>\n",
       "      <td>0.541667</td>\n",
       "      <td>1610612738</td>\n",
       "      <td>235</td>\n",
       "      <td>40.0</td>\n",
       "      <td>NaN</td>\n",
       "    </tr>\n",
       "    <tr>\n",
       "      <th>12</th>\n",
       "      <td>30.0</td>\n",
       "      <td>1.948718</td>\n",
       "      <td>0.128205</td>\n",
       "      <td>1.897436</td>\n",
       "      <td>7</td>\n",
       "      <td>3.820513</td>\n",
       "      <td>1.500000</td>\n",
       "      <td>0.379936</td>\n",
       "      <td>6.807692</td>\n",
       "      <td>2.782051</td>\n",
       "      <td>...</td>\n",
       "      <td>G</td>\n",
       "      <td>7.487179</td>\n",
       "      <td>2.141026</td>\n",
       "      <td>2007</td>\n",
       "      <td>0.756410</td>\n",
       "      <td>0.974359</td>\n",
       "      <td>1610612738</td>\n",
       "      <td>175</td>\n",
       "      <td>62.0</td>\n",
       "      <td>NaN</td>\n",
       "    </tr>\n",
       "    <tr>\n",
       "      <th>13</th>\n",
       "      <td>33.0</td>\n",
       "      <td>0.136364</td>\n",
       "      <td>0.272727</td>\n",
       "      <td>1.045455</td>\n",
       "      <td>10</td>\n",
       "      <td>0.000000</td>\n",
       "      <td>0.000000</td>\n",
       "      <td>0.000000</td>\n",
       "      <td>1.045455</td>\n",
       "      <td>0.545455</td>\n",
       "      <td>...</td>\n",
       "      <td>C-F</td>\n",
       "      <td>1.772727</td>\n",
       "      <td>1.681818</td>\n",
       "      <td>2007</td>\n",
       "      <td>0.136364</td>\n",
       "      <td>0.227273</td>\n",
       "      <td>1610612738</td>\n",
       "      <td>278</td>\n",
       "      <td>17.0</td>\n",
       "      <td>NaN</td>\n",
       "    </tr>\n",
       "    <tr>\n",
       "      <th>14</th>\n",
       "      <td>38.0</td>\n",
       "      <td>0.555556</td>\n",
       "      <td>0.444444</td>\n",
       "      <td>2.166667</td>\n",
       "      <td>14</td>\n",
       "      <td>0.055556</td>\n",
       "      <td>0.000000</td>\n",
       "      <td>0.000000</td>\n",
       "      <td>2.277778</td>\n",
       "      <td>0.777778</td>\n",
       "      <td>...</td>\n",
       "      <td>F-C</td>\n",
       "      <td>2.166667</td>\n",
       "      <td>3.777778</td>\n",
       "      <td>2007</td>\n",
       "      <td>0.277778</td>\n",
       "      <td>0.555556</td>\n",
       "      <td>1610612738</td>\n",
       "      <td>239</td>\n",
       "      <td>16.0</td>\n",
       "      <td>NaN</td>\n",
       "    </tr>\n",
       "    <tr>\n",
       "      <th>0</th>\n",
       "      <td>22.0</td>\n",
       "      <td>2.500000</td>\n",
       "      <td>0.241379</td>\n",
       "      <td>1.793103</td>\n",
       "      <td>1</td>\n",
       "      <td>4.620690</td>\n",
       "      <td>2.034483</td>\n",
       "      <td>0.413017</td>\n",
       "      <td>8.017241</td>\n",
       "      <td>3.465517</td>\n",
       "      <td>...</td>\n",
       "      <td>G</td>\n",
       "      <td>10.431034</td>\n",
       "      <td>2.310345</td>\n",
       "      <td>2007</td>\n",
       "      <td>0.810345</td>\n",
       "      <td>1.310345</td>\n",
       "      <td>1610612739</td>\n",
       "      <td>194</td>\n",
       "      <td>32.0</td>\n",
       "      <td>NaN</td>\n",
       "    </tr>\n",
       "    <tr>\n",
       "      <th>1</th>\n",
       "      <td>24.0</td>\n",
       "      <td>1.607843</td>\n",
       "      <td>0.117647</td>\n",
       "      <td>1.823529</td>\n",
       "      <td>4</td>\n",
       "      <td>2.235294</td>\n",
       "      <td>0.666667</td>\n",
       "      <td>0.237608</td>\n",
       "      <td>7.901961</td>\n",
       "      <td>2.862745</td>\n",
       "      <td>...</td>\n",
       "      <td>G-F</td>\n",
       "      <td>7.431373</td>\n",
       "      <td>2.509804</td>\n",
       "      <td>2007</td>\n",
       "      <td>0.568627</td>\n",
       "      <td>1.078431</td>\n",
       "      <td>1610612739</td>\n",
       "      <td>239</td>\n",
       "      <td>28.0</td>\n",
       "      <td>NaN</td>\n",
       "    </tr>\n",
       "  </tbody>\n",
       "</table>\n",
       "<p>30 rows × 34 columns</p>\n",
       "</div>"
      ],
      "text/plain": [
       "     AGE       AST       BLK      DREB EXP      FG3A      FG3M   FG3_PCT  \\\n",
       "0   25.0  1.539474  0.565789  2.618421   3  0.789474  0.289474  0.192987   \n",
       "1   27.0  5.780488  0.219512  3.463415   6  5.414634  2.060976  0.358744   \n",
       "2   23.0  2.017857  0.000000  0.803571   R  0.607143  0.125000  0.083321   \n",
       "3   22.0  3.358025  2.802469  6.246914   3  1.222222  0.308642  0.161506   \n",
       "4   24.0  0.203125  0.062500  0.343750   R  0.062500  0.000000  0.000000   \n",
       "5   30.0  6.041667  0.083333  3.000000   9  5.166667  1.937500  0.349000   \n",
       "6   30.0       NaN       NaN       NaN   6       NaN       NaN       NaN   \n",
       "7   22.0  1.530864  0.938272  6.629630   R  0.061728  0.000000  0.000000   \n",
       "8   25.0  0.800000  0.142857  0.571429   2  2.428571  0.828571  0.250714   \n",
       "9   22.0  1.712500  0.412500  4.225000   2  0.125000  0.012500  0.012500   \n",
       "10  24.0  0.580645  0.209677  2.564516   4  0.048387  0.000000  0.000000   \n",
       "11  24.0  0.074074  0.000000  0.296296   1  0.703704  0.259259  0.160481   \n",
       "12  23.0  0.000000  0.142857  0.657143   1  0.057143  0.000000  0.000000   \n",
       "0   24.0  0.267857  0.285714  2.357143   1  0.017857  0.000000  0.000000   \n",
       "1   32.0  3.436620  1.253521  7.323944  12  0.154930  0.000000  0.000000   \n",
       "2   22.0  5.103896  0.168831  3.168831   1  0.246753  0.064935  0.051948   \n",
       "3   22.0  0.405797  0.289855  1.637681   R  0.000000  0.000000  0.000000   \n",
       "4   22.0  0.866667  0.000000  0.466667   R  0.800000  0.200000  0.166667   \n",
       "5   32.0  3.082192  0.219178  2.643836  11  6.191781  2.465753  0.395027   \n",
       "6   38.0  3.890909  0.109091  2.163636  14  1.381818  0.418182  0.155455   \n",
       "7   30.0  4.537500  0.450000  4.475000   9  4.562500  1.787500  0.354038   \n",
       "8   31.0  1.540541  0.256757  3.945946   8  3.770270  1.432432  0.318919   \n",
       "9   26.0  1.520000  0.280000  1.786667   3  0.760000  0.240000  0.126667   \n",
       "10  23.0  1.076923  1.461538  4.217949   4  0.012821  0.000000  0.000000   \n",
       "11  30.0  0.833333  0.166667  1.187500   6  0.958333  0.312500  0.179167   \n",
       "12  30.0  1.948718  0.128205  1.897436   7  3.820513  1.500000  0.379936   \n",
       "13  33.0  0.136364  0.272727  1.045455  10  0.000000  0.000000  0.000000   \n",
       "14  38.0  0.555556  0.444444  2.166667  14  0.055556  0.000000  0.000000   \n",
       "0   22.0  2.500000  0.241379  1.793103   1  4.620690  2.034483  0.413017   \n",
       "1   24.0  1.607843  0.117647  1.823529   4  2.235294  0.666667  0.237608   \n",
       "\n",
       "          FGA       FGM ...  POSITION        PTS       REB  SEASON       STL  \\\n",
       "0    7.539474  4.302632 ...       G-F  11.815789  4.907895    2007  0.934211   \n",
       "1   18.256098  7.890244 ...         G  21.695122  4.475610    2007  1.024390   \n",
       "2    4.232143  1.696429 ...         G   4.196429  1.017857    2007  0.517857   \n",
       "3   13.987654  6.395062 ...         F  17.209877  8.234568    2007  1.518519   \n",
       "4    0.765625  0.328125 ...         G   0.921875  0.750000    2007  0.187500   \n",
       "5   12.562500  5.166667 ...         G  13.895833  3.333333    2007  1.125000   \n",
       "6         NaN       NaN ...         G        NaN       NaN    2007       NaN   \n",
       "7    8.246914  4.111111 ...       C-F  10.135802  9.691358    2007  0.740741   \n",
       "8    5.142857  1.857143 ...         G   5.714286  0.685714    2007  0.200000   \n",
       "9   11.475000  5.300000 ...         F  14.812500  5.712500    2007  1.012500   \n",
       "10   3.951613  1.725806 ...         C   5.193548  4.000000    2007  0.387097   \n",
       "11   1.629630  0.592593 ...       G-F   1.518519  0.333333    2007  0.111111   \n",
       "12   0.857143  0.342857 ...         F   1.000000  1.200000    2007  0.085714   \n",
       "0    4.803571  2.750000 ...         F   7.946429  4.053571    2007  0.267857   \n",
       "1   13.943662  7.521127 ...         F  18.830986  9.225352    2007  1.408451   \n",
       "2    9.259740  4.558442 ...         G  10.571429  4.181818    2007  1.675325   \n",
       "3    3.202899  1.550725 ...         F   4.536232  3.014493    2007  0.449275   \n",
       "4    2.600000  0.933333 ...         G   2.133333  0.533333    2007  0.333333   \n",
       "5   13.506849  6.013699 ...         G  17.438356  3.671233    2007  0.890411   \n",
       "6    9.672727  4.236364 ...         G  11.200000  2.472727    2007  0.672727   \n",
       "7   13.725000  6.362500 ...         F  19.625000  5.137500    2007  1.262500   \n",
       "8    5.594595  2.337838 ...         F   7.364865  4.351351    2007  0.972973   \n",
       "9    5.186667  2.253333 ...         G   6.586667  2.240000    2007  0.826667   \n",
       "10   4.461538  2.743590 ...         C   6.948718  6.076923    2007  0.397436   \n",
       "11   1.958333  0.604167 ...       F-C   1.833333  1.645833    2007  0.187500   \n",
       "12   6.807692  2.782051 ...         G   7.487179  2.141026    2007  0.756410   \n",
       "13   1.045455  0.545455 ...       C-F   1.772727  1.681818    2007  0.136364   \n",
       "14   2.277778  0.777778 ...       F-C   2.166667  3.777778    2007  0.277778   \n",
       "0    8.017241  3.465517 ...         G  10.431034  2.310345    2007  0.810345   \n",
       "1    7.901961  2.862745 ...       G-F   7.431373  2.509804    2007  0.568627   \n",
       "\n",
       "         TOV      TeamID  WEIGHT  WINS  WL  \n",
       "0   1.289474  1610612737     210  33.0 NaN  \n",
       "1   2.719512  1610612737     235  37.0 NaN  \n",
       "2   1.000000  1610612737     195  25.0 NaN  \n",
       "3   3.024691  1610612737     235  37.0 NaN  \n",
       "4   0.140625  1610612737     210  31.0 NaN  \n",
       "5   2.479167  1610612737     190  24.0 NaN  \n",
       "6        NaN  1610612737     170   0.0 NaN  \n",
       "7   1.691358  1610612737     245  37.0 NaN  \n",
       "8   0.600000  1610612737     175  12.0 NaN  \n",
       "9   1.587500  1610612737     230  35.0 NaN  \n",
       "10  1.112903  1610612737     280  28.0 NaN  \n",
       "11  0.222222  1610612737     195  12.0 NaN  \n",
       "12  0.314286  1610612737     230  13.0 NaN  \n",
       "0   0.767857  1610612738     240  46.0 NaN  \n",
       "1   1.943662  1610612738     220  57.0 NaN  \n",
       "2   1.909091  1610612738     171  62.0 NaN  \n",
       "3   0.942029  1610612738     289  56.0 NaN  \n",
       "4   0.333333  1610612738     170  13.0 NaN  \n",
       "5   1.739726  1610612738     205  58.0 NaN  \n",
       "6   1.763636  1610612738     185  29.0 NaN  \n",
       "7   2.762500  1610612738     235  64.0 NaN  \n",
       "8   0.878378  1610612738     217  60.0 NaN  \n",
       "9   1.453333  1610612738     213  61.0 NaN  \n",
       "10  1.602564  1610612738     264  62.0 NaN  \n",
       "11  0.541667  1610612738     235  40.0 NaN  \n",
       "12  0.974359  1610612738     175  62.0 NaN  \n",
       "13  0.227273  1610612738     278  17.0 NaN  \n",
       "14  0.555556  1610612738     239  16.0 NaN  \n",
       "0   1.310345  1610612739     194  32.0 NaN  \n",
       "1   1.078431  1610612739     239  28.0 NaN  \n",
       "\n",
       "[30 rows x 34 columns]"
      ]
     },
     "execution_count": 20,
     "metadata": {},
     "output_type": "execute_result"
    }
   ],
   "source": [
    "totalPlayers.head(30)"
   ]
  },
  {
   "cell_type": "code",
   "execution_count": 19,
   "metadata": {
    "collapsed": true
   },
   "outputs": [],
   "source": [
    "totalPlayers = pandas.concat(all_teams)"
   ]
  },
  {
   "cell_type": "code",
   "execution_count": 21,
   "metadata": {
    "collapsed": true
   },
   "outputs": [],
   "source": [
    "totalPlayers.to_csv('players_0708.csv')"
   ]
  },
  {
   "cell_type": "code",
   "execution_count": 22,
   "metadata": {
    "collapsed": false
   },
   "outputs": [],
   "source": [
    "significantPlayers = totalPlayers[totalPlayers['MIN'] > 10.0]"
   ]
  },
  {
   "cell_type": "code",
   "execution_count": 23,
   "metadata": {
    "collapsed": false
   },
   "outputs": [],
   "source": [
    "significantPlayers = significantPlayers[significantPlayers['GP'] > 40]"
   ]
  },
  {
   "cell_type": "code",
   "execution_count": 24,
   "metadata": {
    "collapsed": false
   },
   "outputs": [],
   "source": [
    "significantPlayers['FG3_PCT_ADJ'] = significantPlayers['FG3_PCT'].apply(lambda x: x if x > 0.0 else numpy.nan)"
   ]
  },
  {
   "cell_type": "code",
   "execution_count": 25,
   "metadata": {
    "collapsed": true
   },
   "outputs": [],
   "source": [
    "significantPlayers.to_csv('sig_players_0708.csv')"
   ]
  },
  {
   "cell_type": "code",
   "execution_count": 26,
   "metadata": {
    "collapsed": true
   },
   "outputs": [],
   "source": [
    "all_players = []\n",
    "players_0708 = pandas.read_csv('players_0708.csv')\n",
    "all_players.append(players_0708)\n",
    "\n",
    "players_0809 = pandas.read_csv('players_0809.csv')\n",
    "all_players.append(players_0809)\n",
    "\n",
    "players_0910 = pandas.read_csv('players_0910.csv')\n",
    "all_players.append(players_0910)\n",
    "\n",
    "players_1011 = pandas.read_csv('players_1011.csv')\n",
    "all_players.append(players_1011)\n",
    "\n",
    "players_1112 = pandas.read_csv('players_1112.csv')\n",
    "all_players.append(players_1112)\n",
    "\n",
    "players_1213 = pandas.read_csv('players_1213.csv')\n",
    "all_players.append(players_1213)\n",
    "\n",
    "players_1314 = pandas.read_csv('players_1314.csv')\n",
    "all_players.append(players_1314)\n",
    "\n",
    "players_1415 = pandas.read_csv('players_1415.csv')\n",
    "all_players.append(players_1415)\n",
    "\n",
    "players_1516 = pandas.read_csv('players_1516.csv')\n",
    "all_players.append(players_1516)\n",
    "\n",
    "players_1617 = pandas.read_csv('players_1617.csv')\n",
    "all_players.append(players_1617)\n",
    "\n",
    "\n",
    "\n"
   ]
  },
  {
   "cell_type": "code",
   "execution_count": 27,
   "metadata": {
    "collapsed": true
   },
   "outputs": [],
   "source": [
    "all_players_df = pandas.concat(all_players)"
   ]
  },
  {
   "cell_type": "code",
   "execution_count": 13,
   "metadata": {
    "collapsed": false
   },
   "outputs": [],
   "source": [
    "all_players_df = pandas.read_csv('all_players_0717')"
   ]
  },
  {
   "cell_type": "code",
   "execution_count": 14,
   "metadata": {
    "collapsed": false
   },
   "outputs": [
    {
     "name": "stdout",
     "output_type": "stream",
     "text": [
      "<class 'pandas.core.frame.DataFrame'>\n",
      "RangeIndex: 4422 entries, 0 to 4421\n",
      "Data columns (total 37 columns):\n",
      "Unnamed: 0        4422 non-null int64\n",
      "AGE               4422 non-null float64\n",
      "AST               4345 non-null float64\n",
      "BLK               4345 non-null float64\n",
      "DREB              4345 non-null float64\n",
      "EXP               4422 non-null object\n",
      "FG3A              4345 non-null float64\n",
      "FG3M              4345 non-null float64\n",
      "FG3_PCT           4345 non-null float64\n",
      "FGA               4345 non-null float64\n",
      "FGM               4345 non-null float64\n",
      "FG_PCT            4345 non-null float64\n",
      "FTA               4345 non-null float64\n",
      "FTM               4345 non-null float64\n",
      "FT_PCT            4345 non-null float64\n",
      "GP                4422 non-null float64\n",
      "HEIGHT            4422 non-null object\n",
      "LOSES             4422 non-null float64\n",
      "MIN               4345 non-null float64\n",
      "NUM               4411 non-null float64\n",
      "OREB              4345 non-null float64\n",
      "PF                4345 non-null float64\n",
      "PLAYER            4422 non-null object\n",
      "PLAYER_ID         4422 non-null int64\n",
      "PLUS_MINUS        4345 non-null float64\n",
      "POSITION          4422 non-null object\n",
      "PTS               4345 non-null float64\n",
      "REB               4345 non-null float64\n",
      "SEASON            4422 non-null int64\n",
      "STL               4345 non-null float64\n",
      "TOV               4345 non-null float64\n",
      "TeamID            4422 non-null int64\n",
      "Unnamed: 0.1      4422 non-null int64\n",
      "Unnamed: 0.1.1    451 non-null float64\n",
      "WEIGHT            4422 non-null int64\n",
      "WINS              4422 non-null float64\n",
      "WL                0 non-null float64\n",
      "dtypes: float64(27), int64(6), object(4)\n",
      "memory usage: 1.2+ MB\n"
     ]
    }
   ],
   "source": [
    "all_players_df.info()"
   ]
  },
  {
   "cell_type": "code",
   "execution_count": 15,
   "metadata": {
    "collapsed": true
   },
   "outputs": [],
   "source": [
    "columns = ['Unnamed: 0', 'Unnamed: 0.1', 'WL']\n",
    "all_players_df.drop(columns, inplace=True, axis=1)"
   ]
  },
  {
   "cell_type": "code",
   "execution_count": 16,
   "metadata": {
    "collapsed": false
   },
   "outputs": [
    {
     "name": "stdout",
     "output_type": "stream",
     "text": [
      "<class 'pandas.core.frame.DataFrame'>\n",
      "Int64Index: 446 entries, 3971 to 4421\n",
      "Data columns (total 34 columns):\n",
      "AGE               446 non-null float64\n",
      "AST               446 non-null float64\n",
      "BLK               446 non-null float64\n",
      "DREB              446 non-null float64\n",
      "EXP               446 non-null object\n",
      "FG3A              446 non-null float64\n",
      "FG3M              446 non-null float64\n",
      "FG3_PCT           446 non-null float64\n",
      "FGA               446 non-null float64\n",
      "FGM               446 non-null float64\n",
      "FG_PCT            446 non-null float64\n",
      "FTA               446 non-null float64\n",
      "FTM               446 non-null float64\n",
      "FT_PCT            446 non-null float64\n",
      "GP                446 non-null float64\n",
      "HEIGHT            446 non-null object\n",
      "LOSES             446 non-null float64\n",
      "MIN               446 non-null float64\n",
      "NUM               446 non-null float64\n",
      "OREB              446 non-null float64\n",
      "PF                446 non-null float64\n",
      "PLAYER            446 non-null object\n",
      "PLAYER_ID         446 non-null int64\n",
      "PLUS_MINUS        446 non-null float64\n",
      "POSITION          446 non-null object\n",
      "PTS               446 non-null float64\n",
      "REB               446 non-null float64\n",
      "SEASON            446 non-null int64\n",
      "STL               446 non-null float64\n",
      "TOV               446 non-null float64\n",
      "TeamID            446 non-null int64\n",
      "Unnamed: 0.1.1    446 non-null float64\n",
      "WEIGHT            446 non-null int64\n",
      "WINS              446 non-null float64\n",
      "dtypes: float64(26), int64(4), object(4)\n",
      "memory usage: 115.0+ KB\n"
     ]
    }
   ],
   "source": [
    "all_players_df = all_players_df.dropna()\n",
    "all_players_df.info()"
   ]
  },
  {
   "cell_type": "code",
   "execution_count": 17,
   "metadata": {
    "collapsed": false
   },
   "outputs": [],
   "source": [
    "sigplayers = all_players_df[all_players_df['MIN'] > 25.0]"
   ]
  },
  {
   "cell_type": "code",
   "execution_count": 18,
   "metadata": {
    "collapsed": true
   },
   "outputs": [],
   "source": [
    "sigplayers = all_players_df[all_players_df['GP'] > 30]"
   ]
  },
  {
   "cell_type": "code",
   "execution_count": 19,
   "metadata": {
    "collapsed": true
   },
   "outputs": [],
   "source": [
    "sigplayers.to_csv('sig_players_0717')"
   ]
  },
  {
   "cell_type": "code",
   "execution_count": 20,
   "metadata": {
    "collapsed": false
   },
   "outputs": [
    {
     "name": "stdout",
     "output_type": "stream",
     "text": [
      "<class 'pandas.core.frame.DataFrame'>\n",
      "Int64Index: 375 entries, 3971 to 4421\n",
      "Data columns (total 34 columns):\n",
      "AGE               375 non-null float64\n",
      "AST               375 non-null float64\n",
      "BLK               375 non-null float64\n",
      "DREB              375 non-null float64\n",
      "EXP               375 non-null object\n",
      "FG3A              375 non-null float64\n",
      "FG3M              375 non-null float64\n",
      "FG3_PCT           375 non-null float64\n",
      "FGA               375 non-null float64\n",
      "FGM               375 non-null float64\n",
      "FG_PCT            375 non-null float64\n",
      "FTA               375 non-null float64\n",
      "FTM               375 non-null float64\n",
      "FT_PCT            375 non-null float64\n",
      "GP                375 non-null float64\n",
      "HEIGHT            375 non-null object\n",
      "LOSES             375 non-null float64\n",
      "MIN               375 non-null float64\n",
      "NUM               375 non-null float64\n",
      "OREB              375 non-null float64\n",
      "PF                375 non-null float64\n",
      "PLAYER            375 non-null object\n",
      "PLAYER_ID         375 non-null int64\n",
      "PLUS_MINUS        375 non-null float64\n",
      "POSITION          375 non-null object\n",
      "PTS               375 non-null float64\n",
      "REB               375 non-null float64\n",
      "SEASON            375 non-null int64\n",
      "STL               375 non-null float64\n",
      "TOV               375 non-null float64\n",
      "TeamID            375 non-null int64\n",
      "Unnamed: 0.1.1    375 non-null float64\n",
      "WEIGHT            375 non-null int64\n",
      "WINS              375 non-null float64\n",
      "dtypes: float64(26), int64(4), object(4)\n",
      "memory usage: 96.7+ KB\n"
     ]
    }
   ],
   "source": [
    "sigplayers.info()"
   ]
  },
  {
   "cell_type": "code",
   "execution_count": 21,
   "metadata": {
    "collapsed": false
   },
   "outputs": [
    {
     "name": "stderr",
     "output_type": "stream",
     "text": [
      "C:\\Users\\tkauk\\Anaconda3\\lib\\site-packages\\ipykernel\\__main__.py:1: SettingWithCopyWarning: \n",
      "A value is trying to be set on a copy of a slice from a DataFrame.\n",
      "Try using .loc[row_indexer,col_indexer] = value instead\n",
      "\n",
      "See the caveats in the documentation: http://pandas.pydata.org/pandas-docs/stable/indexing.html#indexing-view-versus-copy\n",
      "  if __name__ == '__main__':\n"
     ]
    }
   ],
   "source": [
    "sigplayers['AST_PER_MIN'] = sigplayers['AST']/sigplayers['MIN']"
   ]
  },
  {
   "cell_type": "code",
   "execution_count": 22,
   "metadata": {
    "collapsed": false
   },
   "outputs": [
    {
     "name": "stderr",
     "output_type": "stream",
     "text": [
      "C:\\Users\\tkauk\\Anaconda3\\lib\\site-packages\\ipykernel\\__main__.py:1: SettingWithCopyWarning: \n",
      "A value is trying to be set on a copy of a slice from a DataFrame.\n",
      "Try using .loc[row_indexer,col_indexer] = value instead\n",
      "\n",
      "See the caveats in the documentation: http://pandas.pydata.org/pandas-docs/stable/indexing.html#indexing-view-versus-copy\n",
      "  if __name__ == '__main__':\n"
     ]
    }
   ],
   "source": [
    "sigplayers['BLK_PER_MIN'] = sigplayers['BLK']/sigplayers['MIN']"
   ]
  },
  {
   "cell_type": "code",
   "execution_count": 23,
   "metadata": {
    "collapsed": false
   },
   "outputs": [
    {
     "name": "stderr",
     "output_type": "stream",
     "text": [
      "C:\\Users\\tkauk\\Anaconda3\\lib\\site-packages\\ipykernel\\__main__.py:1: SettingWithCopyWarning: \n",
      "A value is trying to be set on a copy of a slice from a DataFrame.\n",
      "Try using .loc[row_indexer,col_indexer] = value instead\n",
      "\n",
      "See the caveats in the documentation: http://pandas.pydata.org/pandas-docs/stable/indexing.html#indexing-view-versus-copy\n",
      "  if __name__ == '__main__':\n"
     ]
    }
   ],
   "source": [
    "sigplayers['PTS_PER_MIN'] = sigplayers['PTS']/sigplayers['MIN']"
   ]
  },
  {
   "cell_type": "code",
   "execution_count": 24,
   "metadata": {
    "collapsed": false
   },
   "outputs": [
    {
     "name": "stderr",
     "output_type": "stream",
     "text": [
      "C:\\Users\\tkauk\\Anaconda3\\lib\\site-packages\\ipykernel\\__main__.py:1: SettingWithCopyWarning: \n",
      "A value is trying to be set on a copy of a slice from a DataFrame.\n",
      "Try using .loc[row_indexer,col_indexer] = value instead\n",
      "\n",
      "See the caveats in the documentation: http://pandas.pydata.org/pandas-docs/stable/indexing.html#indexing-view-versus-copy\n",
      "  if __name__ == '__main__':\n"
     ]
    }
   ],
   "source": [
    "sigplayers['STL_PER_MIN'] = sigplayers['STL']/sigplayers['MIN']"
   ]
  },
  {
   "cell_type": "code",
   "execution_count": 25,
   "metadata": {
    "collapsed": false
   },
   "outputs": [
    {
     "name": "stderr",
     "output_type": "stream",
     "text": [
      "C:\\Users\\tkauk\\Anaconda3\\lib\\site-packages\\ipykernel\\__main__.py:1: SettingWithCopyWarning: \n",
      "A value is trying to be set on a copy of a slice from a DataFrame.\n",
      "Try using .loc[row_indexer,col_indexer] = value instead\n",
      "\n",
      "See the caveats in the documentation: http://pandas.pydata.org/pandas-docs/stable/indexing.html#indexing-view-versus-copy\n",
      "  if __name__ == '__main__':\n"
     ]
    }
   ],
   "source": [
    "sigplayers['TOV_PER_MIN'] = sigplayers['TOV']/sigplayers['MIN']"
   ]
  },
  {
   "cell_type": "code",
   "execution_count": 26,
   "metadata": {
    "collapsed": false
   },
   "outputs": [
    {
     "name": "stderr",
     "output_type": "stream",
     "text": [
      "C:\\Users\\tkauk\\Anaconda3\\lib\\site-packages\\ipykernel\\__main__.py:1: SettingWithCopyWarning: \n",
      "A value is trying to be set on a copy of a slice from a DataFrame.\n",
      "Try using .loc[row_indexer,col_indexer] = value instead\n",
      "\n",
      "See the caveats in the documentation: http://pandas.pydata.org/pandas-docs/stable/indexing.html#indexing-view-versus-copy\n",
      "  if __name__ == '__main__':\n"
     ]
    }
   ],
   "source": [
    "sigplayers['FGA_PER_MIN'] = sigplayers['FGA']/sigplayers['MIN']"
   ]
  },
  {
   "cell_type": "code",
   "execution_count": 27,
   "metadata": {
    "collapsed": false
   },
   "outputs": [
    {
     "name": "stderr",
     "output_type": "stream",
     "text": [
      "C:\\Users\\tkauk\\Anaconda3\\lib\\site-packages\\ipykernel\\__main__.py:1: SettingWithCopyWarning: \n",
      "A value is trying to be set on a copy of a slice from a DataFrame.\n",
      "Try using .loc[row_indexer,col_indexer] = value instead\n",
      "\n",
      "See the caveats in the documentation: http://pandas.pydata.org/pandas-docs/stable/indexing.html#indexing-view-versus-copy\n",
      "  if __name__ == '__main__':\n"
     ]
    }
   ],
   "source": [
    "sigplayers['FG3A_PER_MIN'] = sigplayers['FG3A']/sigplayers['MIN']"
   ]
  },
  {
   "cell_type": "code",
   "execution_count": 28,
   "metadata": {
    "collapsed": false
   },
   "outputs": [
    {
     "name": "stderr",
     "output_type": "stream",
     "text": [
      "C:\\Users\\tkauk\\Anaconda3\\lib\\site-packages\\ipykernel\\__main__.py:1: SettingWithCopyWarning: \n",
      "A value is trying to be set on a copy of a slice from a DataFrame.\n",
      "Try using .loc[row_indexer,col_indexer] = value instead\n",
      "\n",
      "See the caveats in the documentation: http://pandas.pydata.org/pandas-docs/stable/indexing.html#indexing-view-versus-copy\n",
      "  if __name__ == '__main__':\n"
     ]
    }
   ],
   "source": [
    "sigplayers['FTA_PER_MIN'] = sigplayers['FTA']/sigplayers['MIN']"
   ]
  },
  {
   "cell_type": "code",
   "execution_count": 29,
   "metadata": {
    "collapsed": false
   },
   "outputs": [
    {
     "name": "stderr",
     "output_type": "stream",
     "text": [
      "C:\\Users\\tkauk\\Anaconda3\\lib\\site-packages\\ipykernel\\__main__.py:1: SettingWithCopyWarning: \n",
      "A value is trying to be set on a copy of a slice from a DataFrame.\n",
      "Try using .loc[row_indexer,col_indexer] = value instead\n",
      "\n",
      "See the caveats in the documentation: http://pandas.pydata.org/pandas-docs/stable/indexing.html#indexing-view-versus-copy\n",
      "  if __name__ == '__main__':\n"
     ]
    }
   ],
   "source": [
    "sigplayers['REB_PER_MIN'] = sigplayers['REB']/sigplayers['MIN']"
   ]
  },
  {
   "cell_type": "code",
   "execution_count": 30,
   "metadata": {
    "collapsed": false
   },
   "outputs": [],
   "source": [
    "bigmen_list = []\n",
    "bigmen_list.append(sigplayers[sigplayers['POSITION'] == 'F'])\n",
    "bigmen_list.append(sigplayers[sigplayers['POSITION'] == 'F-C'])\n",
    "bigmen_list.append(sigplayers[sigplayers['POSITION'] == 'C-F'])\n",
    "bigmen_list.append(sigplayers[sigplayers['POSITION'] == 'C'])\n",
    "\n",
    "sig_bigmen = pandas.concat(bigmen_list)"
   ]
  },
  {
   "cell_type": "code",
   "execution_count": 31,
   "metadata": {
    "collapsed": false
   },
   "outputs": [
    {
     "ename": "NameError",
     "evalue": "name 'sig_guards' is not defined",
     "output_type": "error",
     "traceback": [
      "\u001b[0;31m---------------------------------------------------------------------------\u001b[0m",
      "\u001b[0;31mNameError\u001b[0m                                 Traceback (most recent call last)",
      "\u001b[0;32m<ipython-input-31-84e55bc4b38e>\u001b[0m in \u001b[0;36m<module>\u001b[0;34m()\u001b[0m\n\u001b[0;32m----> 1\u001b[0;31m \u001b[0msig_guards\u001b[0m\u001b[1;33m.\u001b[0m\u001b[0minfo\u001b[0m\u001b[1;33m(\u001b[0m\u001b[1;33m)\u001b[0m\u001b[1;33m\u001b[0m\u001b[0m\n\u001b[0m",
      "\u001b[0;31mNameError\u001b[0m: name 'sig_guards' is not defined"
     ]
    }
   ],
   "source": [
    "sig_guards.info()"
   ]
  },
  {
   "cell_type": "code",
   "execution_count": 301,
   "metadata": {
    "collapsed": false
   },
   "outputs": [],
   "source": [
    "sig_guards['TALL'] = sig_guards['HEIGHT'].apply(lambda x:True if (x.split('-')[0] == '6' and x.split('-')[1] >= '4') else False)"
   ]
  },
  {
   "cell_type": "code",
   "execution_count": null,
   "metadata": {
    "collapsed": true
   },
   "outputs": [],
   "source": []
  },
  {
   "cell_type": "code",
   "execution_count": 185,
   "metadata": {
    "collapsed": false
   },
   "outputs": [
    {
     "name": "stdout",
     "output_type": "stream",
     "text": [
      "<class 'pandas.core.frame.DataFrame'>\n",
      "Int64Index: 2327 entries, 0 to 450\n",
      "Data columns (total 41 columns):\n",
      "AGE             2327 non-null float64\n",
      "AST             2327 non-null float64\n",
      "BLK             2327 non-null float64\n",
      "DREB            2327 non-null float64\n",
      "EXP             2327 non-null object\n",
      "FG3A            2327 non-null float64\n",
      "FG3M            2327 non-null float64\n",
      "FG3_PCT         2327 non-null float64\n",
      "FGA             2327 non-null float64\n",
      "FGM             2327 non-null float64\n",
      "FG_PCT          2327 non-null float64\n",
      "FTA             2327 non-null float64\n",
      "FTM             2327 non-null float64\n",
      "FT_PCT          2327 non-null float64\n",
      "GP              2327 non-null float64\n",
      "HEIGHT          2327 non-null object\n",
      "LOSES           2327 non-null float64\n",
      "MIN             2327 non-null float64\n",
      "NUM             2327 non-null float64\n",
      "OREB            2327 non-null float64\n",
      "PF              2327 non-null float64\n",
      "PLAYER          2327 non-null object\n",
      "PLAYER_ID       2327 non-null int64\n",
      "PLUS_MINUS      2327 non-null float64\n",
      "POSITION        2327 non-null object\n",
      "PTS             2327 non-null float64\n",
      "REB             2327 non-null float64\n",
      "SEASON          2327 non-null int64\n",
      "STL             2327 non-null float64\n",
      "TOV             2327 non-null float64\n",
      "TeamID          2327 non-null int64\n",
      "WEIGHT          2327 non-null int64\n",
      "WINS            2327 non-null float64\n",
      "BLK_PER_MIN     2327 non-null float64\n",
      "PTS_PER_MIN     2327 non-null float64\n",
      "STL_PER_MIN     2327 non-null float64\n",
      "TOV_PER_MIN     2327 non-null float64\n",
      "FGA_PER_MIN     2327 non-null float64\n",
      "FG3A_PER_MIN    2327 non-null float64\n",
      "FTA_PER_MIN     2327 non-null float64\n",
      "REB_PER_MIN     2327 non-null float64\n",
      "dtypes: float64(33), int64(4), object(4)\n",
      "memory usage: 727.2+ KB\n"
     ]
    }
   ],
   "source": [
    "sigplayers.info()"
   ]
  },
  {
   "cell_type": "code",
   "execution_count": 32,
   "metadata": {
    "collapsed": false
   },
   "outputs": [
    {
     "data": {
      "text/plain": [
       "<seaborn.axisgrid.FacetGrid at 0xd086df0>"
      ]
     },
     "execution_count": 32,
     "metadata": {},
     "output_type": "execute_result"
    },
    {
     "data": {
      "image/png": "[encoded data removed]",
      "text/plain": [
       "<matplotlib.figure.Figure at 0xd0ac250>"
      ]
     },
     "metadata": {},
     "output_type": "display_data"
    }
   ],
   "source": [
    "sns.set_style('whitegrid')\n",
    "sns.lmplot('AST_PER_MIN','REB_PER_MIN',data=sigplayers, hue='POSITION',\n",
    "           size=6,aspect=1,fit_reg=False)"
   ]
  },
  {
   "cell_type": "code",
   "execution_count": 33,
   "metadata": {
    "collapsed": false
   },
   "outputs": [
    {
     "name": "stderr",
     "output_type": "stream",
     "text": [
      "C:\\Users\\tkauk\\Anaconda3\\lib\\site-packages\\ipykernel\\__main__.py:1: SettingWithCopyWarning: \n",
      "A value is trying to be set on a copy of a slice from a DataFrame.\n",
      "Try using .loc[row_indexer,col_indexer] = value instead\n",
      "\n",
      "See the caveats in the documentation: http://pandas.pydata.org/pandas-docs/stable/indexing.html#indexing-view-versus-copy\n",
      "  if __name__ == '__main__':\n"
     ]
    }
   ],
   "source": [
    "sigplayers['POSITION'] = sigplayers['POSITION'].apply(lambda x: 'G' if (x == 'G-F') else x)"
   ]
  },
  {
   "cell_type": "code",
   "execution_count": 34,
   "metadata": {
    "collapsed": false
   },
   "outputs": [
    {
     "name": "stderr",
     "output_type": "stream",
     "text": [
      "C:\\Users\\tkauk\\Anaconda3\\lib\\site-packages\\ipykernel\\__main__.py:1: SettingWithCopyWarning: \n",
      "A value is trying to be set on a copy of a slice from a DataFrame.\n",
      "Try using .loc[row_indexer,col_indexer] = value instead\n",
      "\n",
      "See the caveats in the documentation: http://pandas.pydata.org/pandas-docs/stable/indexing.html#indexing-view-versus-copy\n",
      "  if __name__ == '__main__':\n"
     ]
    }
   ],
   "source": [
    "sigplayers['POSITION'] = sigplayers['POSITION'].apply(lambda x: 'C' if (x == 'C-F') else x)"
   ]
  },
  {
   "cell_type": "code",
   "execution_count": 35,
   "metadata": {
    "collapsed": true
   },
   "outputs": [],
   "source": [
    "from sklearn.cluster import KMeans"
   ]
  },
  {
   "cell_type": "code",
   "execution_count": 36,
   "metadata": {
    "collapsed": false
   },
   "outputs": [
    {
     "name": "stderr",
     "output_type": "stream",
     "text": [
      "C:\\Users\\tkauk\\Anaconda3\\lib\\site-packages\\ipykernel\\__main__.py:1: SettingWithCopyWarning: \n",
      "A value is trying to be set on a copy of a slice from a DataFrame.\n",
      "Try using .loc[row_indexer,col_indexer] = value instead\n",
      "\n",
      "See the caveats in the documentation: http://pandas.pydata.org/pandas-docs/stable/indexing.html#indexing-view-versus-copy\n",
      "  if __name__ == '__main__':\n"
     ]
    }
   ],
   "source": [
    "sigplayers['POSITION'] = sigplayers['POSITION'].apply(lambda x: 'F' if (x == 'F-C') else x)"
   ]
  },
  {
   "cell_type": "code",
   "execution_count": 37,
   "metadata": {
    "collapsed": false
   },
   "outputs": [
    {
     "name": "stderr",
     "output_type": "stream",
     "text": [
      "C:\\Users\\tkauk\\Anaconda3\\lib\\site-packages\\ipykernel\\__main__.py:1: SettingWithCopyWarning: \n",
      "A value is trying to be set on a copy of a slice from a DataFrame.\n",
      "Try using .loc[row_indexer,col_indexer] = value instead\n",
      "\n",
      "See the caveats in the documentation: http://pandas.pydata.org/pandas-docs/stable/indexing.html#indexing-view-versus-copy\n",
      "  if __name__ == '__main__':\n"
     ]
    }
   ],
   "source": [
    "sigplayers['POSITION'] = sigplayers['POSITION'].apply(lambda x: 'F' if (x == 'F-G') else x)"
   ]
  },
  {
   "cell_type": "code",
   "execution_count": 39,
   "metadata": {
    "collapsed": true
   },
   "outputs": [],
   "source": [
    "kmeans = KMeans(n_clusters=5)"
   ]
  },
  {
   "cell_type": "code",
   "execution_count": 40,
   "metadata": {
    "collapsed": false
   },
   "outputs": [],
   "source": [
    "cols = ['LOSES','PLAYER','PLAYER_ID','POSITION','SEASON','TeamID','WINS','HEIGHT','EXP','WEIGHT','AGE']\n",
    "sig_players= sigplayers.drop(labels = cols, axis = 1)"
   ]
  },
  {
   "cell_type": "code",
   "execution_count": 42,
   "metadata": {
    "collapsed": false
   },
   "outputs": [],
   "source": [
    "import pandas as pd\n",
    "from sklearn import preprocessing\n",
    "\n",
    "\n",
    "min_max_scaler = preprocessing.MinMaxScaler()\n",
    "np_scaled = min_max_scaler.fit_transform(sig_players)\n",
    "df_normalized = pd.DataFrame(np_scaled)\n"
   ]
  },
  {
   "cell_type": "code",
   "execution_count": 43,
   "metadata": {
    "collapsed": false
   },
   "outputs": [
    {
     "data": {
      "text/plain": [
       "KMeans(algorithm='auto', copy_x=True, init='k-means++', max_iter=300,\n",
       "    n_clusters=5, n_init=10, n_jobs=1, precompute_distances='auto',\n",
       "    random_state=None, tol=0.0001, verbose=0)"
      ]
     },
     "execution_count": 43,
     "metadata": {},
     "output_type": "execute_result"
    }
   ],
   "source": [
    "kmeans.fit(sig_players)"
   ]
  },
  {
   "cell_type": "code",
   "execution_count": 44,
   "metadata": {
    "collapsed": false
   },
   "outputs": [
    {
     "data": {
      "text/plain": [
       "array([[  3.92414691e+00,   6.02231848e-01,   4.64404260e+00,\n",
       "          4.52686263e+00,   1.67601452e+00,   3.06325902e-01,\n",
       "          1.44800697e+01,   6.72383958e+00,   4.62834178e-01,\n",
       "          4.52289746e+00,   3.63162459e+00,   6.71973706e-01,\n",
       "          7.25789474e+01,   3.27235824e+01,   1.02105263e+01,\n",
       "          1.25914929e+00,   2.26816438e+00,   1.48351173e+00,\n",
       "          1.87553183e+01,   5.90341119e+00,   1.11032939e+00,\n",
       "          2.18429860e+00,   4.92105263e+00,   1.18599943e-01,\n",
       "          1.84572159e-02,   5.69091677e-01,   3.38475535e-02,\n",
       "          6.62496679e-02,   4.40422728e-01,   1.38074737e-01,\n",
       "          1.36292147e-01,   1.80775488e-01],\n",
       "       [  1.86670393e+00,   4.10293858e-01,   2.89962105e+00,\n",
       "          2.19243237e+00,   7.74245570e-01,   2.30571040e-01,\n",
       "          6.68523868e+00,   3.02018139e+00,   4.31204880e-01,\n",
       "          1.55903030e+00,   1.15678989e+00,   3.81314252e-01,\n",
       "          7.39925926e+01,   2.20328977e+01,   1.01111111e+01,\n",
       "          9.25956763e-01,   1.91367131e+00,  -2.20840772e-01,\n",
       "          7.97139824e+00,   3.82557781e+00,   6.99889250e-01,\n",
       "          1.08484716e+00,   5.28888889e+00,   8.38280471e-02,\n",
       "          1.90940325e-02,   3.62663601e-01,   3.16425291e-02,\n",
       "          4.94238333e-02,   3.04514844e-01,   9.93068775e-02,\n",
       "          7.08509548e-02,   1.74955331e-01],\n",
       "       [  1.37384702e+00,   3.16662918e-01,   2.09265004e+00,\n",
       "          1.60482154e+00,   5.53813063e-01,   1.79107772e-01,\n",
       "          5.20527930e+00,   2.27791925e+00,   3.78595477e-01,\n",
       "          1.35250186e+00,   9.95968582e-01,   3.14165324e-01,\n",
       "          4.40243902e+01,   1.59177262e+01,   1.12073171e+01,\n",
       "          6.78669366e-01,   1.48586814e+00,  -9.85314030e-01,\n",
       "          6.10562014e+00,   2.77131941e+00,   5.05059390e-01,\n",
       "          8.98948461e-01,   5.48780488e+00,   8.26401028e-02,\n",
       "          2.00796908e-02,   3.69777896e-01,   3.18497580e-02,\n",
       "          5.45431640e-02,   3.19729989e-01,   9.97823131e-02,\n",
       "          8.05892867e-02,   1.71866440e-01],\n",
       "       [  1.22950750e+00,   4.77514029e-01,   2.68848124e+00,\n",
       "          1.93929970e+00,   6.74869658e-01,   1.96325761e-01,\n",
       "          5.09202616e+00,   2.44175024e+00,   4.33956384e-01,\n",
       "          1.26309983e+00,   9.10006155e-01,   3.08177705e-01,\n",
       "          6.42857143e+01,   1.83954979e+01,   9.02857143e+01,\n",
       "          9.35050741e-01,   1.79235160e+00,   1.11887501e+00,\n",
       "          6.46837630e+00,   3.62353198e+00,   5.96170567e-01,\n",
       "          8.22767656e-01,   1.38571429e+01,   6.75533991e-02,\n",
       "          2.53120708e-02,   3.41860662e-01,   3.13929986e-02,\n",
       "          4.63047416e-02,   2.78462645e-01,   9.75265903e-02,\n",
       "          6.45653502e-02,   1.96051708e-01],\n",
       "       [  1.58002569e+00,   4.78943803e-01,   3.08721228e+00,\n",
       "          2.11264374e+00,   7.45652866e-01,   2.08563374e-01,\n",
       "          6.90550750e+00,   3.20142159e+00,   4.32362016e-01,\n",
       "          1.72367467e+00,   1.32941238e+00,   3.95593501e-01,\n",
       "          6.42800000e+01,   2.08620014e+01,   3.66400000e+01,\n",
       "          9.44979976e-01,   1.81732435e+00,  -3.40198060e-01,\n",
       "          8.47790843e+00,   4.03219225e+00,   6.04774035e-01,\n",
       "          1.01344228e+00,   1.22933333e+01,   6.98794646e-02,\n",
       "          2.41422895e-02,   3.89546426e-01,   2.86476884e-02,\n",
       "          4.76066596e-02,   3.18802318e-01,   9.55142019e-02,\n",
       "          7.91335998e-02,   1.99068444e-01]])"
      ]
     },
     "execution_count": 44,
     "metadata": {},
     "output_type": "execute_result"
    }
   ],
   "source": [
    "kmeans.cluster_centers_"
   ]
  },
  {
   "cell_type": "code",
   "execution_count": 46,
   "metadata": {
    "collapsed": false
   },
   "outputs": [],
   "source": [
    "labels = kmeans.predict(sig_players)"
   ]
  },
  {
   "cell_type": "code",
   "execution_count": 47,
   "metadata": {
    "collapsed": true
   },
   "outputs": [],
   "source": [
    "centroids = kmeans.cluster_centers_"
   ]
  },
  {
   "cell_type": "code",
   "execution_count": 51,
   "metadata": {
    "collapsed": false
   },
   "outputs": [
    {
     "data": {
      "image/png": "[encoded data removed]",
      "text/plain": [
       "<matplotlib.figure.Figure at 0xf7987b0>"
      ]
     },
     "metadata": {},
     "output_type": "display_data"
    }
   ],
   "source": [
    "f, (ax1, ax2) = plt.subplots(1, 2, sharey=True,figsize=(10,6))\n",
    "ax1.set_title('K Means')\n",
    "ax1.scatter(sigplayers['FG3A_PER_MIN'],sigplayers['BLK_PER_MIN'],c=kmeans.labels_,cmap='rainbow')\n",
    "ax2.set_title(\"Original\")\n",
    "ax2.scatter(sigplayers['FG3A_PER_MIN'],sigplayers['BLK_PER_MIN'],cmap=sigplayers['POSITION'])\n",
    "plt.savefig('K_means_graph.png')\n"
   ]
  },
  {
   "cell_type": "code",
   "execution_count": 52,
   "metadata": {
    "collapsed": false
   },
   "outputs": [
    {
     "name": "stderr",
     "output_type": "stream",
     "text": [
      "C:\\Users\\tkauk\\Anaconda3\\lib\\site-packages\\ipykernel\\__main__.py:1: SettingWithCopyWarning: \n",
      "A value is trying to be set on a copy of a slice from a DataFrame.\n",
      "Try using .loc[row_indexer,col_indexer] = value instead\n",
      "\n",
      "See the caveats in the documentation: http://pandas.pydata.org/pandas-docs/stable/indexing.html#indexing-view-versus-copy\n",
      "  if __name__ == '__main__':\n"
     ]
    }
   ],
   "source": [
    "sigplayers['REAL_POSITION'] = labels"
   ]
  },
  {
   "cell_type": "code",
   "execution_count": 54,
   "metadata": {
    "collapsed": false
   },
   "outputs": [
    {
     "data": {
      "text/plain": [
       "1    135\n",
       "2     82\n",
       "0     76\n",
       "4     75\n",
       "3      7\n",
       "Name: REAL_POSITION, dtype: int64"
      ]
     },
     "execution_count": 54,
     "metadata": {},
     "output_type": "execute_result"
    }
   ],
   "source": [
    "sigplayers['REAL_POSITION'].value_counts()"
   ]
  },
  {
   "cell_type": "code",
   "execution_count": 56,
   "metadata": {
    "collapsed": false
   },
   "outputs": [],
   "source": [
    "sig_players_name = sigplayers[['PLAYER','POSITION','REAL_POSITION']]"
   ]
  },
  {
   "cell_type": "code",
   "execution_count": 298,
   "metadata": {
    "collapsed": false
   },
   "outputs": [
    {
     "data": {
      "text/html": [
       "<div>\n",
       "<table border=\"1\" class=\"dataframe\">\n",
       "  <thead>\n",
       "    <tr style=\"text-align: right;\">\n",
       "      <th></th>\n",
       "      <th>PLAYER</th>\n",
       "      <th>TRUE_POS</th>\n",
       "      <th>REAL_POSITION</th>\n",
       "    </tr>\n",
       "  </thead>\n",
       "  <tbody>\n",
       "    <tr>\n",
       "      <th>3</th>\n",
       "      <td>Josh Smith</td>\n",
       "      <td>F</td>\n",
       "      <td>1</td>\n",
       "    </tr>\n",
       "    <tr>\n",
       "      <th>9</th>\n",
       "      <td>Marvin Williams</td>\n",
       "      <td>F</td>\n",
       "      <td>1</td>\n",
       "    </tr>\n",
       "    <tr>\n",
       "      <th>12</th>\n",
       "      <td>Solomon Jones</td>\n",
       "      <td>C</td>\n",
       "      <td>0</td>\n",
       "    </tr>\n",
       "    <tr>\n",
       "      <th>13</th>\n",
       "      <td>Leon Powe</td>\n",
       "      <td>C</td>\n",
       "      <td>0</td>\n",
       "    </tr>\n",
       "    <tr>\n",
       "      <th>14</th>\n",
       "      <td>Kevin Garnett</td>\n",
       "      <td>F</td>\n",
       "      <td>1</td>\n",
       "    </tr>\n",
       "    <tr>\n",
       "      <th>16</th>\n",
       "      <td>Glen Davis</td>\n",
       "      <td>F</td>\n",
       "      <td>1</td>\n",
       "    </tr>\n",
       "    <tr>\n",
       "      <th>20</th>\n",
       "      <td>Paul Pierce</td>\n",
       "      <td>F</td>\n",
       "      <td>1</td>\n",
       "    </tr>\n",
       "    <tr>\n",
       "      <th>21</th>\n",
       "      <td>James Posey</td>\n",
       "      <td>F</td>\n",
       "      <td>1</td>\n",
       "    </tr>\n",
       "    <tr>\n",
       "      <th>31</th>\n",
       "      <td>Wally Szczerbiak</td>\n",
       "      <td>F</td>\n",
       "      <td>1</td>\n",
       "    </tr>\n",
       "    <tr>\n",
       "      <th>38</th>\n",
       "      <td>LeBron James</td>\n",
       "      <td>F</td>\n",
       "      <td>1</td>\n",
       "    </tr>\n",
       "    <tr>\n",
       "      <th>50</th>\n",
       "      <td>Peja Stojakovic</td>\n",
       "      <td>F</td>\n",
       "      <td>1</td>\n",
       "    </tr>\n",
       "    <tr>\n",
       "      <th>52</th>\n",
       "      <td>David West</td>\n",
       "      <td>F</td>\n",
       "      <td>1</td>\n",
       "    </tr>\n",
       "    <tr>\n",
       "      <th>53</th>\n",
       "      <td>Julian Wright</td>\n",
       "      <td>C</td>\n",
       "      <td>0</td>\n",
       "    </tr>\n",
       "    <tr>\n",
       "      <th>55</th>\n",
       "      <td>Ryan Bowen</td>\n",
       "      <td>C</td>\n",
       "      <td>0</td>\n",
       "    </tr>\n",
       "    <tr>\n",
       "      <th>58</th>\n",
       "      <td>Andres Nocioni</td>\n",
       "      <td>F</td>\n",
       "      <td>1</td>\n",
       "    </tr>\n",
       "    <tr>\n",
       "      <th>61</th>\n",
       "      <td>Luol Deng</td>\n",
       "      <td>F</td>\n",
       "      <td>1</td>\n",
       "    </tr>\n",
       "    <tr>\n",
       "      <th>67</th>\n",
       "      <td>Tyrus Thomas</td>\n",
       "      <td>F</td>\n",
       "      <td>1</td>\n",
       "    </tr>\n",
       "    <tr>\n",
       "      <th>71</th>\n",
       "      <td>Drew Gooden</td>\n",
       "      <td>C</td>\n",
       "      <td>0</td>\n",
       "    </tr>\n",
       "    <tr>\n",
       "      <th>80</th>\n",
       "      <td>Malik Allen</td>\n",
       "      <td>F</td>\n",
       "      <td>1</td>\n",
       "    </tr>\n",
       "    <tr>\n",
       "      <th>82</th>\n",
       "      <td>Brandon Bass</td>\n",
       "      <td>F</td>\n",
       "      <td>1</td>\n",
       "    </tr>\n",
       "    <tr>\n",
       "      <th>84</th>\n",
       "      <td>Dirk Nowitzki</td>\n",
       "      <td>F</td>\n",
       "      <td>1</td>\n",
       "    </tr>\n",
       "    <tr>\n",
       "      <th>86</th>\n",
       "      <td>Juwan Howard</td>\n",
       "      <td>C</td>\n",
       "      <td>0</td>\n",
       "    </tr>\n",
       "    <tr>\n",
       "      <th>90</th>\n",
       "      <td>Kenyon Martin</td>\n",
       "      <td>F</td>\n",
       "      <td>1</td>\n",
       "    </tr>\n",
       "    <tr>\n",
       "      <th>92</th>\n",
       "      <td>Bobby Jones</td>\n",
       "      <td>C</td>\n",
       "      <td>0</td>\n",
       "    </tr>\n",
       "    <tr>\n",
       "      <th>94</th>\n",
       "      <td>Carmelo Anthony</td>\n",
       "      <td>F</td>\n",
       "      <td>1</td>\n",
       "    </tr>\n",
       "    <tr>\n",
       "      <th>95</th>\n",
       "      <td>Eduardo Najera</td>\n",
       "      <td>F</td>\n",
       "      <td>1</td>\n",
       "    </tr>\n",
       "    <tr>\n",
       "      <th>101</th>\n",
       "      <td>Stephen Jackson</td>\n",
       "      <td>F</td>\n",
       "      <td>1</td>\n",
       "    </tr>\n",
       "    <tr>\n",
       "      <th>102</th>\n",
       "      <td>Mickael Pietrus</td>\n",
       "      <td>F</td>\n",
       "      <td>1</td>\n",
       "    </tr>\n",
       "    <tr>\n",
       "      <th>110</th>\n",
       "      <td>Matt Barnes</td>\n",
       "      <td>F</td>\n",
       "      <td>1</td>\n",
       "    </tr>\n",
       "    <tr>\n",
       "      <th>113</th>\n",
       "      <td>Brandan Wright</td>\n",
       "      <td>C</td>\n",
       "      <td>0</td>\n",
       "    </tr>\n",
       "    <tr>\n",
       "      <th>...</th>\n",
       "      <td>...</td>\n",
       "      <td>...</td>\n",
       "      <td>...</td>\n",
       "    </tr>\n",
       "    <tr>\n",
       "      <th>272</th>\n",
       "      <td>Reggie Evans</td>\n",
       "      <td>F</td>\n",
       "      <td>1</td>\n",
       "    </tr>\n",
       "    <tr>\n",
       "      <th>296</th>\n",
       "      <td>Raef LaFrentz</td>\n",
       "      <td>C</td>\n",
       "      <td>0</td>\n",
       "    </tr>\n",
       "    <tr>\n",
       "      <th>301</th>\n",
       "      <td>Travis Outlaw</td>\n",
       "      <td>F</td>\n",
       "      <td>1</td>\n",
       "    </tr>\n",
       "    <tr>\n",
       "      <th>302</th>\n",
       "      <td>James Jones</td>\n",
       "      <td>C</td>\n",
       "      <td>0</td>\n",
       "    </tr>\n",
       "    <tr>\n",
       "      <th>318</th>\n",
       "      <td>Metta World Peace</td>\n",
       "      <td>C</td>\n",
       "      <td>0</td>\n",
       "    </tr>\n",
       "    <tr>\n",
       "      <th>322</th>\n",
       "      <td>Ime Udoka</td>\n",
       "      <td>F</td>\n",
       "      <td>1</td>\n",
       "    </tr>\n",
       "    <tr>\n",
       "      <th>326</th>\n",
       "      <td>Bruce Bowen</td>\n",
       "      <td>F</td>\n",
       "      <td>1</td>\n",
       "    </tr>\n",
       "    <tr>\n",
       "      <th>337</th>\n",
       "      <td>Mickael Gelabale</td>\n",
       "      <td>C</td>\n",
       "      <td>0</td>\n",
       "    </tr>\n",
       "    <tr>\n",
       "      <th>341</th>\n",
       "      <td>Jeff Green</td>\n",
       "      <td>F</td>\n",
       "      <td>1</td>\n",
       "    </tr>\n",
       "    <tr>\n",
       "      <th>348</th>\n",
       "      <td>Chris Wilcox</td>\n",
       "      <td>C</td>\n",
       "      <td>0</td>\n",
       "    </tr>\n",
       "    <tr>\n",
       "      <th>350</th>\n",
       "      <td>Chris Bosh</td>\n",
       "      <td>F</td>\n",
       "      <td>1</td>\n",
       "    </tr>\n",
       "    <tr>\n",
       "      <th>356</th>\n",
       "      <td>Joey Graham</td>\n",
       "      <td>C</td>\n",
       "      <td>0</td>\n",
       "    </tr>\n",
       "    <tr>\n",
       "      <th>359</th>\n",
       "      <td>Jason Kapono</td>\n",
       "      <td>F</td>\n",
       "      <td>1</td>\n",
       "    </tr>\n",
       "    <tr>\n",
       "      <th>360</th>\n",
       "      <td>Jamario Moon</td>\n",
       "      <td>F</td>\n",
       "      <td>1</td>\n",
       "    </tr>\n",
       "    <tr>\n",
       "      <th>361</th>\n",
       "      <td>Kris Humphries</td>\n",
       "      <td>C</td>\n",
       "      <td>0</td>\n",
       "    </tr>\n",
       "    <tr>\n",
       "      <th>363</th>\n",
       "      <td>Carlos Boozer</td>\n",
       "      <td>F</td>\n",
       "      <td>1</td>\n",
       "    </tr>\n",
       "    <tr>\n",
       "      <th>367</th>\n",
       "      <td>Matt Harpring</td>\n",
       "      <td>F</td>\n",
       "      <td>1</td>\n",
       "    </tr>\n",
       "    <tr>\n",
       "      <th>375</th>\n",
       "      <td>Andrei Kirilenko</td>\n",
       "      <td>F</td>\n",
       "      <td>1</td>\n",
       "    </tr>\n",
       "    <tr>\n",
       "      <th>379</th>\n",
       "      <td>Hakim Warrick</td>\n",
       "      <td>F</td>\n",
       "      <td>1</td>\n",
       "    </tr>\n",
       "    <tr>\n",
       "      <th>380</th>\n",
       "      <td>Rudy Gay</td>\n",
       "      <td>F</td>\n",
       "      <td>1</td>\n",
       "    </tr>\n",
       "    <tr>\n",
       "      <th>385</th>\n",
       "      <td>Brian Cardinal</td>\n",
       "      <td>C</td>\n",
       "      <td>0</td>\n",
       "    </tr>\n",
       "    <tr>\n",
       "      <th>386</th>\n",
       "      <td>Andre Brown</td>\n",
       "      <td>C</td>\n",
       "      <td>0</td>\n",
       "    </tr>\n",
       "    <tr>\n",
       "      <th>391</th>\n",
       "      <td>Caron Butler</td>\n",
       "      <td>F</td>\n",
       "      <td>1</td>\n",
       "    </tr>\n",
       "    <tr>\n",
       "      <th>392</th>\n",
       "      <td>Antawn Jamison</td>\n",
       "      <td>F</td>\n",
       "      <td>1</td>\n",
       "    </tr>\n",
       "    <tr>\n",
       "      <th>393</th>\n",
       "      <td>Dominic McGuire</td>\n",
       "      <td>F</td>\n",
       "      <td>1</td>\n",
       "    </tr>\n",
       "    <tr>\n",
       "      <th>396</th>\n",
       "      <td>Darius Songaila</td>\n",
       "      <td>F</td>\n",
       "      <td>1</td>\n",
       "    </tr>\n",
       "    <tr>\n",
       "      <th>398</th>\n",
       "      <td>Andray Blatche</td>\n",
       "      <td>F</td>\n",
       "      <td>1</td>\n",
       "    </tr>\n",
       "    <tr>\n",
       "      <th>403</th>\n",
       "      <td>Walter Herrmann</td>\n",
       "      <td>C</td>\n",
       "      <td>0</td>\n",
       "    </tr>\n",
       "    <tr>\n",
       "      <th>405</th>\n",
       "      <td>Jarvis Hayes</td>\n",
       "      <td>F</td>\n",
       "      <td>1</td>\n",
       "    </tr>\n",
       "    <tr>\n",
       "      <th>407</th>\n",
       "      <td>Tayshaun Prince</td>\n",
       "      <td>F</td>\n",
       "      <td>1</td>\n",
       "    </tr>\n",
       "  </tbody>\n",
       "</table>\n",
       "<p>100 rows × 3 columns</p>\n",
       "</div>"
      ],
      "text/plain": [
       "                PLAYER TRUE_POS  REAL_POSITION\n",
       "3           Josh Smith        F              1\n",
       "9      Marvin Williams        F              1\n",
       "12       Solomon Jones        C              0\n",
       "13           Leon Powe        C              0\n",
       "14       Kevin Garnett        F              1\n",
       "16          Glen Davis        F              1\n",
       "20         Paul Pierce        F              1\n",
       "21         James Posey        F              1\n",
       "31    Wally Szczerbiak        F              1\n",
       "38        LeBron James        F              1\n",
       "50     Peja Stojakovic        F              1\n",
       "52          David West        F              1\n",
       "53       Julian Wright        C              0\n",
       "55          Ryan Bowen        C              0\n",
       "58      Andres Nocioni        F              1\n",
       "61           Luol Deng        F              1\n",
       "67        Tyrus Thomas        F              1\n",
       "71         Drew Gooden        C              0\n",
       "80         Malik Allen        F              1\n",
       "82        Brandon Bass        F              1\n",
       "84       Dirk Nowitzki        F              1\n",
       "86        Juwan Howard        C              0\n",
       "90       Kenyon Martin        F              1\n",
       "92         Bobby Jones        C              0\n",
       "94     Carmelo Anthony        F              1\n",
       "95      Eduardo Najera        F              1\n",
       "101    Stephen Jackson        F              1\n",
       "102    Mickael Pietrus        F              1\n",
       "110        Matt Barnes        F              1\n",
       "113     Brandan Wright        C              0\n",
       "..                 ...      ...            ...\n",
       "272       Reggie Evans        F              1\n",
       "296      Raef LaFrentz        C              0\n",
       "301      Travis Outlaw        F              1\n",
       "302        James Jones        C              0\n",
       "318  Metta World Peace        C              0\n",
       "322          Ime Udoka        F              1\n",
       "326        Bruce Bowen        F              1\n",
       "337   Mickael Gelabale        C              0\n",
       "341         Jeff Green        F              1\n",
       "348       Chris Wilcox        C              0\n",
       "350         Chris Bosh        F              1\n",
       "356        Joey Graham        C              0\n",
       "359       Jason Kapono        F              1\n",
       "360       Jamario Moon        F              1\n",
       "361     Kris Humphries        C              0\n",
       "363      Carlos Boozer        F              1\n",
       "367      Matt Harpring        F              1\n",
       "375   Andrei Kirilenko        F              1\n",
       "379      Hakim Warrick        F              1\n",
       "380           Rudy Gay        F              1\n",
       "385     Brian Cardinal        C              0\n",
       "386        Andre Brown        C              0\n",
       "391       Caron Butler        F              1\n",
       "392     Antawn Jamison        F              1\n",
       "393    Dominic McGuire        F              1\n",
       "396    Darius Songaila        F              1\n",
       "398     Andray Blatche        F              1\n",
       "403    Walter Herrmann        C              0\n",
       "405       Jarvis Hayes        F              1\n",
       "407    Tayshaun Prince        F              1\n",
       "\n",
       "[100 rows x 3 columns]"
      ]
     },
     "execution_count": 298,
     "metadata": {},
     "output_type": "execute_result"
    }
   ],
   "source": [
    "sig_bigmen_name.head(100)"
   ]
  }
 ],
 "metadata": {
  "kernelspec": {
   "display_name": "Python 3",
   "language": "python",
   "name": "python3"
  },
  "language_info": {
   "codemirror_mode": {
    "name": "ipython",
    "version": 3
   },
   "file_extension": ".py",
   "mimetype": "text/x-python",
   "name": "python",
   "nbconvert_exporter": "python",
   "pygments_lexer": "ipython3",
   "version": "3.6.0"
  }
 },
 "nbformat": 4,
 "nbformat_minor": 2
}
