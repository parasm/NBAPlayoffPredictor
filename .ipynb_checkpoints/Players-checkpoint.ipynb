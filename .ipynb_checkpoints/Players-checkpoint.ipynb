{
 "cells": [
  {
   "cell_type": "code",
   "execution_count": 1,
   "metadata": {
    "collapsed": true
   },
   "outputs": [],
   "source": [
    "import numpy\n",
    "import pandas"
   ]
  },
  {
   "cell_type": "code",
   "execution_count": 47,
   "metadata": {
    "collapsed": true
   },
   "outputs": [],
   "source": [
    "from nba_py.player import PlayerGeneralSplits, PlayerGameLogs, PlayerProfile, PlayerList\n",
    "from nba_py.team import TeamList, TeamCommonRoster,TeamShootingSplits"
   ]
  },
  {
   "cell_type": "code",
   "execution_count": 3,
   "metadata": {
    "collapsed": false
   },
   "outputs": [
    {
     "name": "stdout",
     "output_type": "stream",
     "text": [
      "<class 'pandas.core.frame.DataFrame'>\n",
      "RangeIndex: 132 entries, 0 to 131\n",
      "Data columns (total 13 columns):\n",
      "PERSON_ID                   132 non-null int64\n",
      "DISPLAY_LAST_COMMA_FIRST    132 non-null object\n",
      "DISPLAY_FIRST_LAST          132 non-null object\n",
      "ROSTERSTATUS                132 non-null int64\n",
      "FROM_YEAR                   132 non-null object\n",
      "TO_YEAR                     132 non-null object\n",
      "PLAYERCODE                  132 non-null object\n",
      "TEAM_ID                     132 non-null int64\n",
      "TEAM_CITY                   132 non-null object\n",
      "TEAM_NAME                   132 non-null object\n",
      "TEAM_ABBREVIATION           132 non-null object\n",
      "TEAM_CODE                   132 non-null object\n",
      "GAMES_PLAYED_FLAG           132 non-null object\n",
      "dtypes: int64(3), object(10)\n",
      "memory usage: 8.3+ KB\n"
     ]
    }
   ],
   "source": [
    "PlayerList(season='2016-17').info().info()"
   ]
  },
  {
   "cell_type": "code",
   "execution_count": 5,
   "metadata": {
    "collapsed": true
   },
   "outputs": [],
   "source": [
    "last_season = \"2016-17\"\n",
    "warriors = \"1610612744\"\n",
    "cavs = \"1610612739\"\n",
    "thunder = \"1610612760\"\n",
    "raps = \"1610612761\"\n",
    "player = 2544\n",
    "first_game = \"1610612744\""
   ]
  },
  {
   "cell_type": "code",
   "execution_count": 4,
   "metadata": {
    "collapsed": true
   },
   "outputs": [],
   "source": [
    "import time"
   ]
  },
  {
   "cell_type": "code",
   "execution_count": 6,
   "metadata": {
    "collapsed": true
   },
   "outputs": [],
   "source": [
    "teams = TeamList().info().head(30)"
   ]
  },
  {
   "cell_type": "code",
   "execution_count": 50,
   "metadata": {
    "collapsed": false
   },
   "outputs": [],
   "source": [
    "team_shooting = TeamShootingSplits('1610612766')"
   ]
  },
  {
   "cell_type": "code",
   "execution_count": 57,
   "metadata": {
    "collapsed": false
   },
   "outputs": [
    {
     "data": {
      "text/html": [
       "<div>\n",
       "<table border=\"1\" class=\"dataframe\">\n",
       "  <thead>\n",
       "    <tr style=\"text-align: right;\">\n",
       "      <th></th>\n",
       "      <th>GROUP_SET</th>\n",
       "      <th>GROUP_VALUE</th>\n",
       "      <th>FGM</th>\n",
       "      <th>FGA</th>\n",
       "      <th>FG_PCT</th>\n",
       "      <th>FG3M</th>\n",
       "      <th>FG3A</th>\n",
       "      <th>FG3_PCT</th>\n",
       "      <th>EFG_PCT</th>\n",
       "      <th>BLKA</th>\n",
       "      <th>...</th>\n",
       "      <th>EFG_PCT_RANK</th>\n",
       "      <th>BLKA_RANK</th>\n",
       "      <th>PCT_AST_2PM_RANK</th>\n",
       "      <th>PCT_UAST_2PM_RANK</th>\n",
       "      <th>PCT_AST_3PM_RANK</th>\n",
       "      <th>PCT_UAST_3PM_RANK</th>\n",
       "      <th>PCT_AST_FGM_RANK</th>\n",
       "      <th>PCT_UAST_FGM_RANK</th>\n",
       "      <th>CFID</th>\n",
       "      <th>CFPARAMS</th>\n",
       "    </tr>\n",
       "  </thead>\n",
       "  <tbody>\n",
       "    <tr>\n",
       "      <th>0</th>\n",
       "      <td>Overall</td>\n",
       "      <td>2016-17</td>\n",
       "      <td>3093</td>\n",
       "      <td>7000</td>\n",
       "      <td>0.442</td>\n",
       "      <td>824</td>\n",
       "      <td>2347</td>\n",
       "      <td>0.351</td>\n",
       "      <td>0.501</td>\n",
       "      <td>450</td>\n",
       "      <td>...</td>\n",
       "      <td>1</td>\n",
       "      <td>1</td>\n",
       "      <td>1</td>\n",
       "      <td>1</td>\n",
       "      <td>1</td>\n",
       "      <td>1</td>\n",
       "      <td>1</td>\n",
       "      <td>1</td>\n",
       "      <td>170</td>\n",
       "      <td>2016-17</td>\n",
       "    </tr>\n",
       "  </tbody>\n",
       "</table>\n",
       "<p>1 rows × 32 columns</p>\n",
       "</div>"
      ],
      "text/plain": [
       "  GROUP_SET GROUP_VALUE   FGM   FGA  FG_PCT  FG3M  FG3A  FG3_PCT  EFG_PCT  \\\n",
       "0   Overall     2016-17  3093  7000   0.442   824  2347    0.351    0.501   \n",
       "\n",
       "   BLKA    ...     EFG_PCT_RANK  BLKA_RANK  PCT_AST_2PM_RANK  \\\n",
       "0   450    ...                1          1                 1   \n",
       "\n",
       "   PCT_UAST_2PM_RANK  PCT_AST_3PM_RANK  PCT_UAST_3PM_RANK  PCT_AST_FGM_RANK  \\\n",
       "0                  1                 1                  1                 1   \n",
       "\n",
       "   PCT_UAST_FGM_RANK  CFID  CFPARAMS  \n",
       "0                  1   170   2016-17  \n",
       "\n",
       "[1 rows x 32 columns]"
      ]
     },
     "execution_count": 57,
     "metadata": {},
     "output_type": "execute_result"
    }
   ],
   "source": [
    "team_shooting.overall()"
   ]
  },
  {
   "cell_type": "code",
   "execution_count": 52,
   "metadata": {
    "collapsed": false
   },
   "outputs": [
    {
     "data": {
      "text/html": [
       "<div>\n",
       "<table border=\"1\" class=\"dataframe\">\n",
       "  <thead>\n",
       "    <tr style=\"text-align: right;\">\n",
       "      <th></th>\n",
       "      <th>GROUP_SET</th>\n",
       "      <th>GROUP_VALUE</th>\n",
       "      <th>FGM</th>\n",
       "      <th>FGA</th>\n",
       "      <th>FG_PCT</th>\n",
       "      <th>FG3M</th>\n",
       "      <th>FG3A</th>\n",
       "      <th>FG3_PCT</th>\n",
       "      <th>EFG_PCT</th>\n",
       "      <th>BLKA</th>\n",
       "      <th>...</th>\n",
       "      <th>EFG_PCT_RANK</th>\n",
       "      <th>BLKA_RANK</th>\n",
       "      <th>PCT_AST_2PM_RANK</th>\n",
       "      <th>PCT_UAST_2PM_RANK</th>\n",
       "      <th>PCT_AST_3PM_RANK</th>\n",
       "      <th>PCT_UAST_3PM_RANK</th>\n",
       "      <th>PCT_AST_FGM_RANK</th>\n",
       "      <th>PCT_UAST_FGM_RANK</th>\n",
       "      <th>CFID</th>\n",
       "      <th>CFPARAMS</th>\n",
       "    </tr>\n",
       "  </thead>\n",
       "  <tbody>\n",
       "    <tr>\n",
       "      <th>0</th>\n",
       "      <td>Overall</td>\n",
       "      <td>2016-17</td>\n",
       "      <td>3093</td>\n",
       "      <td>7000</td>\n",
       "      <td>0.442</td>\n",
       "      <td>824</td>\n",
       "      <td>2347</td>\n",
       "      <td>0.351</td>\n",
       "      <td>0.501</td>\n",
       "      <td>450</td>\n",
       "      <td>...</td>\n",
       "      <td>1</td>\n",
       "      <td>1</td>\n",
       "      <td>1</td>\n",
       "      <td>1</td>\n",
       "      <td>1</td>\n",
       "      <td>1</td>\n",
       "      <td>1</td>\n",
       "      <td>1</td>\n",
       "      <td>170</td>\n",
       "      <td>2016-17</td>\n",
       "    </tr>\n",
       "  </tbody>\n",
       "</table>\n",
       "<p>1 rows × 32 columns</p>\n",
       "</div>"
      ],
      "text/plain": [
       "  GROUP_SET GROUP_VALUE   FGM   FGA  FG_PCT  FG3M  FG3A  FG3_PCT  EFG_PCT  \\\n",
       "0   Overall     2016-17  3093  7000   0.442   824  2347    0.351    0.501   \n",
       "\n",
       "   BLKA    ...     EFG_PCT_RANK  BLKA_RANK  PCT_AST_2PM_RANK  \\\n",
       "0   450    ...                1          1                 1   \n",
       "\n",
       "   PCT_UAST_2PM_RANK  PCT_AST_3PM_RANK  PCT_UAST_3PM_RANK  PCT_AST_FGM_RANK  \\\n",
       "0                  1                 1                  1                 1   \n",
       "\n",
       "   PCT_UAST_FGM_RANK  CFID  CFPARAMS  \n",
       "0                  1   170   2016-17  \n",
       "\n",
       "[1 rows x 32 columns]"
      ]
     },
     "execution_count": 52,
     "metadata": {},
     "output_type": "execute_result"
    }
   ],
   "source": [
    "team_shooting.overall().head()"
   ]
  },
  {
   "cell_type": "code",
   "execution_count": 53,
   "metadata": {
    "collapsed": true
   },
   "outputs": [],
   "source": [
    "team_ids = teams['TEAM_ID']"
   ]
  },
  {
   "cell_type": "code",
   "execution_count": null,
   "metadata": {
    "collapsed": true
   },
   "outputs": [],
   "source": [
    "team_shooting_ovr = []\n",
    "for i in range (0,30):\n",
    "    team_shooting_ovr.append(TeamShootingSplits(team_ids[i]).overall())"
   ]
  },
  {
   "cell_type": "code",
   "execution_count": 55,
   "metadata": {
    "collapsed": false
   },
   "outputs": [
    {
     "ename": "TypeError",
     "evalue": "cannot concatenate a non-NDFrame object",
     "output_type": "error",
     "traceback": [
      "\u001b[0;31m---------------------------------------------------------------------------\u001b[0m",
      "\u001b[0;31mTypeError\u001b[0m                                 Traceback (most recent call last)",
      "\u001b[0;32m<ipython-input-55-5ae9d1b0a276>\u001b[0m in \u001b[0;36m<module>\u001b[0;34m()\u001b[0m\n\u001b[0;32m----> 1\u001b[0;31m \u001b[0mteam_shooting_df\u001b[0m \u001b[1;33m=\u001b[0m \u001b[0mpandas\u001b[0m\u001b[1;33m.\u001b[0m\u001b[0mconcat\u001b[0m\u001b[1;33m(\u001b[0m\u001b[0mteam_shooting_ovr\u001b[0m\u001b[1;33m)\u001b[0m\u001b[1;33m\u001b[0m\u001b[0m\n\u001b[0m",
      "\u001b[0;32mC:\\Users\\tkauk\\Anaconda3\\lib\\site-packages\\pandas\\tools\\merge.py\u001b[0m in \u001b[0;36mconcat\u001b[0;34m(objs, axis, join, join_axes, ignore_index, keys, levels, names, verify_integrity, copy)\u001b[0m\n\u001b[1;32m   1449\u001b[0m                        \u001b[0mkeys\u001b[0m\u001b[1;33m=\u001b[0m\u001b[0mkeys\u001b[0m\u001b[1;33m,\u001b[0m \u001b[0mlevels\u001b[0m\u001b[1;33m=\u001b[0m\u001b[0mlevels\u001b[0m\u001b[1;33m,\u001b[0m \u001b[0mnames\u001b[0m\u001b[1;33m=\u001b[0m\u001b[0mnames\u001b[0m\u001b[1;33m,\u001b[0m\u001b[1;33m\u001b[0m\u001b[0m\n\u001b[1;32m   1450\u001b[0m                        \u001b[0mverify_integrity\u001b[0m\u001b[1;33m=\u001b[0m\u001b[0mverify_integrity\u001b[0m\u001b[1;33m,\u001b[0m\u001b[1;33m\u001b[0m\u001b[0m\n\u001b[0;32m-> 1451\u001b[0;31m                        copy=copy)\n\u001b[0m\u001b[1;32m   1452\u001b[0m     \u001b[1;32mreturn\u001b[0m \u001b[0mop\u001b[0m\u001b[1;33m.\u001b[0m\u001b[0mget_result\u001b[0m\u001b[1;33m(\u001b[0m\u001b[1;33m)\u001b[0m\u001b[1;33m\u001b[0m\u001b[0m\n\u001b[1;32m   1453\u001b[0m \u001b[1;33m\u001b[0m\u001b[0m\n",
      "\u001b[0;32mC:\\Users\\tkauk\\Anaconda3\\lib\\site-packages\\pandas\\tools\\merge.py\u001b[0m in \u001b[0;36m__init__\u001b[0;34m(self, objs, axis, join, join_axes, keys, levels, names, ignore_index, verify_integrity, copy)\u001b[0m\n\u001b[1;32m   1506\u001b[0m         \u001b[1;32mfor\u001b[0m \u001b[0mobj\u001b[0m \u001b[1;32min\u001b[0m \u001b[0mobjs\u001b[0m\u001b[1;33m:\u001b[0m\u001b[1;33m\u001b[0m\u001b[0m\n\u001b[1;32m   1507\u001b[0m             \u001b[1;32mif\u001b[0m \u001b[1;32mnot\u001b[0m \u001b[0misinstance\u001b[0m\u001b[1;33m(\u001b[0m\u001b[0mobj\u001b[0m\u001b[1;33m,\u001b[0m \u001b[0mNDFrame\u001b[0m\u001b[1;33m)\u001b[0m\u001b[1;33m:\u001b[0m\u001b[1;33m\u001b[0m\u001b[0m\n\u001b[0;32m-> 1508\u001b[0;31m                 \u001b[1;32mraise\u001b[0m \u001b[0mTypeError\u001b[0m\u001b[1;33m(\u001b[0m\u001b[1;34m\"cannot concatenate a non-NDFrame object\"\u001b[0m\u001b[1;33m)\u001b[0m\u001b[1;33m\u001b[0m\u001b[0m\n\u001b[0m\u001b[1;32m   1509\u001b[0m \u001b[1;33m\u001b[0m\u001b[0m\n\u001b[1;32m   1510\u001b[0m             \u001b[1;31m# consolidate\u001b[0m\u001b[1;33m\u001b[0m\u001b[1;33m\u001b[0m\u001b[0m\n",
      "\u001b[0;31mTypeError\u001b[0m: cannot concatenate a non-NDFrame object"
     ]
    }
   ],
   "source": [
    "team_shooting_df = pandas.concat(team_shooting_ovr)"
   ]
  },
  {
   "cell_type": "code",
   "execution_count": 7,
   "metadata": {
    "collapsed": true
   },
   "outputs": [],
   "source": [
    "rosters = []\n",
    "for team in teams['TEAM_ID']:\n",
    "    rosters.append(TeamCommonRoster(team, season=last_season).roster().drop(['SCHOOL', 'LeagueID','BIRTH_DATE'], axis=1))\n",
    "    "
   ]
  },
  {
   "cell_type": "code",
   "execution_count": 8,
   "metadata": {
    "collapsed": false
   },
   "outputs": [],
   "source": [
    "team_abrv = []\n",
    "abbrvs = teams['ABBREVIATION']"
   ]
  },
  {
   "cell_type": "code",
   "execution_count": 9,
   "metadata": {
    "collapsed": false
   },
   "outputs": [],
   "source": [
    "for i in range(0,30):\n",
    "    team_abrv.append(abbrvs.iloc[i])"
   ]
  },
  {
   "cell_type": "code",
   "execution_count": 11,
   "metadata": {
    "collapsed": false
   },
   "outputs": [
    {
     "data": {
      "text/plain": [
       "'DET'"
      ]
     },
     "execution_count": 11,
     "metadata": {},
     "output_type": "execute_result"
    }
   ],
   "source": [
    "team_abrv[28]"
   ]
  },
  {
   "cell_type": "code",
   "execution_count": 12,
   "metadata": {
    "collapsed": true
   },
   "outputs": [],
   "source": [
    "def compute_stats(player_id, season):\n",
    "    stats = PlayerGameLogs(player_id, season=season).info().drop(['SEASON_ID','Player_ID','Game_ID','GAME_DATE','MATCHUP','VIDEO_AVAILABLE'], axis=1)\n",
    "    wins_lose = stats['WL'].value_counts()\n",
    "    #print(wins_lose.get('W'))\n",
    "    games = stats.shape[0]\n",
    "    stat = stats.drop(['WL'], axis = 1)\n",
    "    avgs = stats.mean()\n",
    "    if wins_lose.get('W'):\n",
    "        avgs['WINS'] = wins_lose.get('W')\n",
    "    else:\n",
    "        avgs['WINS'] = 0\n",
    "    if wins_lose.get('L'):\n",
    "        avgs['LOSES'] = wins_lose.get('L')\n",
    "    else:\n",
    "        avgs['LOSES'] = 0\n",
    "    avgs['GP'] = games\n",
    "    return avgs"
   ]
  },
  {
   "cell_type": "code",
   "execution_count": 13,
   "metadata": {
    "collapsed": true
   },
   "outputs": [],
   "source": [
    "def save_team(roster):\n",
    "    stats = roster['PLAYER_ID'].apply(lambda player: compute_stats(player, last_season))\n",
    "    pandas.concat([roster, stats], axis=1).to_csv('team.csv')"
   ]
  },
  {
   "cell_type": "code",
   "execution_count": 18,
   "metadata": {
    "collapsed": false
   },
   "outputs": [
    {
     "data": {
      "text/html": [
       "<div>\n",
       "<table border=\"1\" class=\"dataframe\">\n",
       "  <thead>\n",
       "    <tr style=\"text-align: right;\">\n",
       "      <th></th>\n",
       "      <th>TeamID</th>\n",
       "      <th>SEASON</th>\n",
       "      <th>PLAYER</th>\n",
       "      <th>NUM</th>\n",
       "      <th>POSITION</th>\n",
       "      <th>HEIGHT</th>\n",
       "      <th>WEIGHT</th>\n",
       "      <th>AGE</th>\n",
       "      <th>EXP</th>\n",
       "      <th>PLAYER_ID</th>\n",
       "    </tr>\n",
       "  </thead>\n",
       "  <tbody>\n",
       "    <tr>\n",
       "      <th>0</th>\n",
       "      <td>1610612766</td>\n",
       "      <td>2016</td>\n",
       "      <td>Briante Weber</td>\n",
       "      <td>0</td>\n",
       "      <td>G</td>\n",
       "      <td>6-2</td>\n",
       "      <td>165</td>\n",
       "      <td>24.0</td>\n",
       "      <td>1</td>\n",
       "      <td>1627362</td>\n",
       "    </tr>\n",
       "    <tr>\n",
       "      <th>1</th>\n",
       "      <td>1610612766</td>\n",
       "      <td>2016</td>\n",
       "      <td>Marvin Williams</td>\n",
       "      <td>2</td>\n",
       "      <td>F</td>\n",
       "      <td>6-9</td>\n",
       "      <td>237</td>\n",
       "      <td>31.0</td>\n",
       "      <td>11</td>\n",
       "      <td>101107</td>\n",
       "    </tr>\n",
       "    <tr>\n",
       "      <th>2</th>\n",
       "      <td>1610612766</td>\n",
       "      <td>2016</td>\n",
       "      <td>Jeremy Lamb</td>\n",
       "      <td>3</td>\n",
       "      <td>G</td>\n",
       "      <td>6-5</td>\n",
       "      <td>185</td>\n",
       "      <td>25.0</td>\n",
       "      <td>4</td>\n",
       "      <td>203087</td>\n",
       "    </tr>\n",
       "    <tr>\n",
       "      <th>3</th>\n",
       "      <td>1610612766</td>\n",
       "      <td>2016</td>\n",
       "      <td>Nicolas Batum</td>\n",
       "      <td>5</td>\n",
       "      <td>G</td>\n",
       "      <td>6-8</td>\n",
       "      <td>200</td>\n",
       "      <td>28.0</td>\n",
       "      <td>8</td>\n",
       "      <td>201587</td>\n",
       "    </tr>\n",
       "    <tr>\n",
       "      <th>4</th>\n",
       "      <td>1610612766</td>\n",
       "      <td>2016</td>\n",
       "      <td>Ramon Sessions</td>\n",
       "      <td>7</td>\n",
       "      <td>G</td>\n",
       "      <td>6-3</td>\n",
       "      <td>190</td>\n",
       "      <td>31.0</td>\n",
       "      <td>9</td>\n",
       "      <td>201196</td>\n",
       "    </tr>\n",
       "  </tbody>\n",
       "</table>\n",
       "</div>"
      ],
      "text/plain": [
       "       TeamID SEASON           PLAYER NUM POSITION HEIGHT WEIGHT   AGE EXP  \\\n",
       "0  1610612766   2016    Briante Weber   0        G    6-2    165  24.0   1   \n",
       "1  1610612766   2016  Marvin Williams   2        F    6-9    237  31.0  11   \n",
       "2  1610612766   2016      Jeremy Lamb   3        G    6-5    185  25.0   4   \n",
       "3  1610612766   2016    Nicolas Batum   5        G    6-8    200  28.0   8   \n",
       "4  1610612766   2016   Ramon Sessions   7        G    6-3    190  31.0   9   \n",
       "\n",
       "   PLAYER_ID  \n",
       "0    1627362  \n",
       "1     101107  \n",
       "2     203087  \n",
       "3     201587  \n",
       "4     201196  "
      ]
     },
     "execution_count": 18,
     "metadata": {},
     "output_type": "execute_result"
    }
   ],
   "source": [
    "rosters[29].head()"
   ]
  },
  {
   "cell_type": "code",
   "execution_count": 19,
   "metadata": {
    "collapsed": true
   },
   "outputs": [],
   "source": [
    "save_team(rosters[3])"
   ]
  },
  {
   "cell_type": "code",
   "execution_count": 14,
   "metadata": {
    "collapsed": true
   },
   "outputs": [],
   "source": [
    "for i in range(2,5):\n",
    "    time.sleep(10)\n",
    "    stats = rosters[i]['PLAYER_ID'].apply(lambda player: compute_stats(player, last_season))\n",
    "    pandas.concat([rosters[i], stats], axis=1).to_csv(team_abrv[i]+'.csv')"
   ]
  },
  {
   "cell_type": "code",
   "execution_count": 15,
   "metadata": {
    "collapsed": false
   },
   "outputs": [],
   "source": [
    "for i in range(5,8):\n",
    "    time.sleep(10)\n",
    "    stats = rosters[i]['PLAYER_ID'].apply(lambda player: compute_stats(player, last_season))\n",
    "    pandas.concat([rosters[i], stats], axis=1).to_csv(team_abrv[i]+'.csv')"
   ]
  },
  {
   "cell_type": "code",
   "execution_count": 16,
   "metadata": {
    "collapsed": true
   },
   "outputs": [],
   "source": [
    "for i in range(8,11):\n",
    "    time.sleep(10)\n",
    "    stats = rosters[i]['PLAYER_ID'].apply(lambda player: compute_stats(player, last_season))\n",
    "    pandas.concat([rosters[i], stats], axis=1).to_csv(team_abrv[i]+'.csv')"
   ]
  },
  {
   "cell_type": "code",
   "execution_count": 17,
   "metadata": {
    "collapsed": true
   },
   "outputs": [],
   "source": [
    "for i in range(11,14):\n",
    "    time.sleep(10)\n",
    "    stats = rosters[i]['PLAYER_ID'].apply(lambda player: compute_stats(player, last_season))\n",
    "    pandas.concat([rosters[i], stats], axis=1).to_csv(team_abrv[i]+'.csv')"
   ]
  },
  {
   "cell_type": "code",
   "execution_count": 18,
   "metadata": {
    "collapsed": true
   },
   "outputs": [],
   "source": [
    "for i in range(14,17):\n",
    "    time.sleep(5)\n",
    "    stats = rosters[i]['PLAYER_ID'].apply(lambda player: compute_stats(player, last_season))\n",
    "    pandas.concat([rosters[i], stats], axis=1).to_csv(team_abrv[i]+'.csv')"
   ]
  },
  {
   "cell_type": "code",
   "execution_count": 19,
   "metadata": {
    "collapsed": true
   },
   "outputs": [],
   "source": [
    "for i in range(17,22):\n",
    "    time.sleep(5)\n",
    "    stats = rosters[i]['PLAYER_ID'].apply(lambda player: compute_stats(player, last_season))\n",
    "    pandas.concat([rosters[i], stats], axis=1).to_csv(team_abrv[i]+'.csv')"
   ]
  },
  {
   "cell_type": "code",
   "execution_count": 20,
   "metadata": {
    "collapsed": true
   },
   "outputs": [],
   "source": [
    "for i in range(22,27):\n",
    "    time.sleep(5)\n",
    "    stats = rosters[i]['PLAYER_ID'].apply(lambda player: compute_stats(player, last_season))\n",
    "    pandas.concat([rosters[i], stats], axis=1).to_csv(team_abrv[i]+'.csv')"
   ]
  },
  {
   "cell_type": "code",
   "execution_count": 21,
   "metadata": {
    "collapsed": true
   },
   "outputs": [],
   "source": [
    "for i in range(27,30):\n",
    "    time.sleep(5)\n",
    "    stats = rosters[i]['PLAYER_ID'].apply(lambda player: compute_stats(player, last_season))\n",
    "    pandas.concat([rosters[i], stats], axis=1).to_csv(team_abrv[i]+'.csv')"
   ]
  },
  {
   "cell_type": "code",
   "execution_count": 22,
   "metadata": {
    "collapsed": true
   },
   "outputs": [],
   "source": [
    "all_teams = []\n",
    "for i in range(0,30):\n",
    "    all_teams.append(pandas.read_csv(team_abrv[i]+'.csv'))"
   ]
  },
  {
   "cell_type": "code",
   "execution_count": 23,
   "metadata": {
    "collapsed": true
   },
   "outputs": [],
   "source": [
    "totalPlayers = pandas.concat(all_teams)"
   ]
  },
  {
   "cell_type": "code",
   "execution_count": 32,
   "metadata": {
    "collapsed": false
   },
   "outputs": [
    {
     "data": {
      "text/plain": [
       "0     33.956522\n",
       "1     17.082192\n",
       "2     26.134146\n",
       "3     29.662162\n",
       "4     27.215190\n",
       "5     16.644068\n",
       "6     13.146341\n",
       "7     31.493671\n",
       "8     26.890411\n",
       "9     25.725806\n",
       "10     6.937500\n",
       "11    17.671429\n",
       "12    15.943396\n",
       "13    12.303571\n",
       "14     9.736842\n",
       "Name: MIN, dtype: float64"
      ]
     },
     "execution_count": 32,
     "metadata": {},
     "output_type": "execute_result"
    }
   ],
   "source": [
    "all_teams[0]['MIN']"
   ]
  },
  {
   "cell_type": "code",
   "execution_count": 30,
   "metadata": {
    "collapsed": false
   },
   "outputs": [
    {
     "data": {
      "text/html": [
       "<div>\n",
       "<table border=\"1\" class=\"dataframe\">\n",
       "  <thead>\n",
       "    <tr style=\"text-align: right;\">\n",
       "      <th></th>\n",
       "      <th>AGE</th>\n",
       "      <th>AST</th>\n",
       "      <th>BLK</th>\n",
       "      <th>DREB</th>\n",
       "      <th>EXP</th>\n",
       "      <th>FG3A</th>\n",
       "      <th>FG3M</th>\n",
       "      <th>FG3_PCT</th>\n",
       "      <th>FGA</th>\n",
       "      <th>FGM</th>\n",
       "      <th>...</th>\n",
       "      <th>PTS</th>\n",
       "      <th>REB</th>\n",
       "      <th>SEASON</th>\n",
       "      <th>STL</th>\n",
       "      <th>TOV</th>\n",
       "      <th>TeamID</th>\n",
       "      <th>Unnamed: 0</th>\n",
       "      <th>WEIGHT</th>\n",
       "      <th>WINS</th>\n",
       "      <th>WL</th>\n",
       "    </tr>\n",
       "  </thead>\n",
       "  <tbody>\n",
       "    <tr>\n",
       "      <th>0</th>\n",
       "      <td>32.0</td>\n",
       "      <td>3.652174</td>\n",
       "      <td>0.898551</td>\n",
       "      <td>6.115942</td>\n",
       "      <td>10</td>\n",
       "      <td>3.492754</td>\n",
       "      <td>1.086957</td>\n",
       "      <td>0.280072</td>\n",
       "      <td>14.086957</td>\n",
       "      <td>6.231884</td>\n",
       "      <td>...</td>\n",
       "      <td>18.057971</td>\n",
       "      <td>7.724638</td>\n",
       "      <td>2016</td>\n",
       "      <td>1.304348</td>\n",
       "      <td>2.289855</td>\n",
       "      <td>1610612737</td>\n",
       "      <td>0</td>\n",
       "      <td>246</td>\n",
       "      <td>40.0</td>\n",
       "      <td>NaN</td>\n",
       "    </tr>\n",
       "    <tr>\n",
       "      <th>1</th>\n",
       "      <td>28.0</td>\n",
       "      <td>2.643836</td>\n",
       "      <td>0.013699</td>\n",
       "      <td>1.547945</td>\n",
       "      <td>R</td>\n",
       "      <td>1.506849</td>\n",
       "      <td>0.356164</td>\n",
       "      <td>0.151822</td>\n",
       "      <td>5.315068</td>\n",
       "      <td>1.986301</td>\n",
       "      <td>...</td>\n",
       "      <td>5.356164</td>\n",
       "      <td>1.684932</td>\n",
       "      <td>2016</td>\n",
       "      <td>0.534247</td>\n",
       "      <td>1.301370</td>\n",
       "      <td>1610612737</td>\n",
       "      <td>1</td>\n",
       "      <td>190</td>\n",
       "      <td>37.0</td>\n",
       "      <td>NaN</td>\n",
       "    </tr>\n",
       "    <tr>\n",
       "      <th>2</th>\n",
       "      <td>30.0</td>\n",
       "      <td>1.719512</td>\n",
       "      <td>0.280488</td>\n",
       "      <td>4.463415</td>\n",
       "      <td>8</td>\n",
       "      <td>4.902439</td>\n",
       "      <td>1.731707</td>\n",
       "      <td>0.357598</td>\n",
       "      <td>10.853659</td>\n",
       "      <td>4.682927</td>\n",
       "      <td>...</td>\n",
       "      <td>13.060976</td>\n",
       "      <td>5.865854</td>\n",
       "      <td>2016</td>\n",
       "      <td>0.707317</td>\n",
       "      <td>1.414634</td>\n",
       "      <td>1610612737</td>\n",
       "      <td>2</td>\n",
       "      <td>235</td>\n",
       "      <td>35.0</td>\n",
       "      <td>NaN</td>\n",
       "    </tr>\n",
       "    <tr>\n",
       "      <th>3</th>\n",
       "      <td>31.0</td>\n",
       "      <td>1.405405</td>\n",
       "      <td>1.243243</td>\n",
       "      <td>8.702703</td>\n",
       "      <td>12</td>\n",
       "      <td>0.027027</td>\n",
       "      <td>0.000000</td>\n",
       "      <td>0.000000</td>\n",
       "      <td>8.283784</td>\n",
       "      <td>5.243243</td>\n",
       "      <td>...</td>\n",
       "      <td>13.540541</td>\n",
       "      <td>12.702703</td>\n",
       "      <td>2016</td>\n",
       "      <td>0.864865</td>\n",
       "      <td>2.297297</td>\n",
       "      <td>1610612737</td>\n",
       "      <td>3</td>\n",
       "      <td>265</td>\n",
       "      <td>37.0</td>\n",
       "      <td>NaN</td>\n",
       "    </tr>\n",
       "    <tr>\n",
       "      <th>4</th>\n",
       "      <td>25.0</td>\n",
       "      <td>2.303797</td>\n",
       "      <td>0.189873</td>\n",
       "      <td>2.392405</td>\n",
       "      <td>3</td>\n",
       "      <td>5.278481</td>\n",
       "      <td>1.886076</td>\n",
       "      <td>0.332190</td>\n",
       "      <td>11.544304</td>\n",
       "      <td>5.253165</td>\n",
       "      <td>...</td>\n",
       "      <td>14.468354</td>\n",
       "      <td>2.835443</td>\n",
       "      <td>2016</td>\n",
       "      <td>0.696203</td>\n",
       "      <td>1.341772</td>\n",
       "      <td>1610612737</td>\n",
       "      <td>4</td>\n",
       "      <td>205</td>\n",
       "      <td>42.0</td>\n",
       "      <td>NaN</td>\n",
       "    </tr>\n",
       "  </tbody>\n",
       "</table>\n",
       "<p>5 rows × 35 columns</p>\n",
       "</div>"
      ],
      "text/plain": [
       "    AGE       AST       BLK      DREB EXP      FG3A      FG3M   FG3_PCT  \\\n",
       "0  32.0  3.652174  0.898551  6.115942  10  3.492754  1.086957  0.280072   \n",
       "1  28.0  2.643836  0.013699  1.547945   R  1.506849  0.356164  0.151822   \n",
       "2  30.0  1.719512  0.280488  4.463415   8  4.902439  1.731707  0.357598   \n",
       "3  31.0  1.405405  1.243243  8.702703  12  0.027027  0.000000  0.000000   \n",
       "4  25.0  2.303797  0.189873  2.392405   3  5.278481  1.886076  0.332190   \n",
       "\n",
       "         FGA       FGM ...        PTS        REB  SEASON       STL       TOV  \\\n",
       "0  14.086957  6.231884 ...  18.057971   7.724638    2016  1.304348  2.289855   \n",
       "1   5.315068  1.986301 ...   5.356164   1.684932    2016  0.534247  1.301370   \n",
       "2  10.853659  4.682927 ...  13.060976   5.865854    2016  0.707317  1.414634   \n",
       "3   8.283784  5.243243 ...  13.540541  12.702703    2016  0.864865  2.297297   \n",
       "4  11.544304  5.253165 ...  14.468354   2.835443    2016  0.696203  1.341772   \n",
       "\n",
       "       TeamID  Unnamed: 0  WEIGHT  WINS  WL  \n",
       "0  1610612737           0     246  40.0 NaN  \n",
       "1  1610612737           1     190  37.0 NaN  \n",
       "2  1610612737           2     235  35.0 NaN  \n",
       "3  1610612737           3     265  37.0 NaN  \n",
       "4  1610612737           4     205  42.0 NaN  \n",
       "\n",
       "[5 rows x 35 columns]"
      ]
     },
     "execution_count": 30,
     "metadata": {},
     "output_type": "execute_result"
    }
   ],
   "source": [
    "totalPlayers.head()"
   ]
  },
  {
   "cell_type": "code",
   "execution_count": 35,
   "metadata": {
    "collapsed": false
   },
   "outputs": [],
   "source": [
    "significantPlayers = totalPlayers[totalPlayers['MIN'] > 10.0]"
   ]
  },
  {
   "cell_type": "code",
   "execution_count": 37,
   "metadata": {
    "collapsed": false
   },
   "outputs": [],
   "source": [
    "significantPlayers = significantPlayers[significantPlayers['GP'] > 40]"
   ]
  },
  {
   "cell_type": "code",
   "execution_count": 45,
   "metadata": {
    "collapsed": false
   },
   "outputs": [],
   "source": [
    "significantPlayers['FG3_PCT_ADJ'] = significantPlayers['FG3_PCT'].apply(lambda x: x if x > 0.0 else numpy.nan)"
   ]
  },
  {
   "cell_type": "code",
   "execution_count": 46,
   "metadata": {
    "collapsed": false
   },
   "outputs": [
    {
     "data": {
      "text/plain": [
       "0.2732365305780366"
      ]
     },
     "execution_count": 46,
     "metadata": {},
     "output_type": "execute_result"
    }
   ],
   "source": [
    "significantPlayers['FG3_PCT_ADJ'].mean()"
   ]
  },
  {
   "cell_type": "code",
   "execution_count": null,
   "metadata": {
    "collapsed": true
   },
   "outputs": [],
   "source": [
    "team."
   ]
  },
  {
   "cell_type": "code",
   "execution_count": null,
   "metadata": {
    "collapsed": false
   },
   "outputs": [],
   "source": [
    "cavs_lineup.iloc[1]['GROUP_NAME']"
   ]
  },
  {
   "cell_type": "code",
   "execution_count": null,
   "metadata": {
    "collapsed": false
   },
   "outputs": [],
   "source": [
    "war_lineup = TeamLineups(raps, season=last_season).lineups().sort_values('GP', ascending=False)\n",
    "war_lineup"
   ]
  },
  {
   "cell_type": "code",
   "execution_count": null,
   "metadata": {
    "collapsed": false
   },
   "outputs": [],
   "source": [
    "TeamGameLogs(warriors, season=last_season).info()"
   ]
  },
  {
   "cell_type": "code",
   "execution_count": null,
   "metadata": {
    "collapsed": false
   },
   "outputs": [],
   "source": [
    "from nba_py.game import BoxscoreMisc\n",
    "BoxscoreMisc(\"0021700842\").sql_players_misc()"
   ]
  },
  {
   "cell_type": "code",
   "execution_count": null,
   "metadata": {
    "collapsed": false
   },
   "outputs": [],
   "source": [
    "PlayerGameLogs(player, season=last_season).info()['AST'].mean()"
   ]
  },
  {
   "cell_type": "code",
   "execution_count": null,
   "metadata": {
    "collapsed": false
   },
   "outputs": [],
   "source": [
    "PlayerGeneralSplits(\"101112\", season=last_season).starting_position()"
   ]
  },
  {
   "cell_type": "code",
   "execution_count": null,
   "metadata": {
    "collapsed": true
   },
   "outputs": [],
   "source": []
  },
  {
   "cell_type": "code",
   "execution_count": null,
   "metadata": {
    "collapsed": true
   },
   "outputs": [],
   "source": []
  }
 ],
 "metadata": {
  "kernelspec": {
   "display_name": "Python 3",
   "language": "python",
   "name": "python3"
  },
  "language_info": {
   "codemirror_mode": {
    "name": "ipython",
    "version": 3
   },
   "file_extension": ".py",
   "mimetype": "text/x-python",
   "name": "python",
   "nbconvert_exporter": "python",
   "pygments_lexer": "ipython3",
   "version": "3.6.0"
  }
 },
 "nbformat": 4,
 "nbformat_minor": 2
}
